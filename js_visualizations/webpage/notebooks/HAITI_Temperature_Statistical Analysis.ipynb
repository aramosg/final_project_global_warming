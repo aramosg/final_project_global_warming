{
 "cells": [
  {
   "cell_type": "code",
   "execution_count": 1,
   "id": "57d769c0",
   "metadata": {},
   "outputs": [],
   "source": [
    "# Initial imports\n",
    "import pandas as pd\n",
    "import numpy as np\n",
    "import matplotlib.pyplot as plt"
   ]
  },
  {
   "cell_type": "code",
   "execution_count": 2,
   "id": "4835bdc1",
   "metadata": {},
   "outputs": [
    {
     "data": {
      "text/html": [
       "<div>\n",
       "<style scoped>\n",
       "    .dataframe tbody tr th:only-of-type {\n",
       "        vertical-align: middle;\n",
       "    }\n",
       "\n",
       "    .dataframe tbody tr th {\n",
       "        vertical-align: top;\n",
       "    }\n",
       "\n",
       "    .dataframe thead th {\n",
       "        text-align: right;\n",
       "    }\n",
       "</style>\n",
       "<table border=\"1\" class=\"dataframe\">\n",
       "  <thead>\n",
       "    <tr style=\"text-align: right;\">\n",
       "      <th></th>\n",
       "      <th>country_code_alpha_three</th>\n",
       "      <th>year</th>\n",
       "      <th>temp_change_celsius</th>\n",
       "    </tr>\n",
       "  </thead>\n",
       "  <tbody>\n",
       "    <tr>\n",
       "      <th>0</th>\n",
       "      <td>AFG</td>\n",
       "      <td>1970</td>\n",
       "      <td>0.898</td>\n",
       "    </tr>\n",
       "    <tr>\n",
       "      <th>1</th>\n",
       "      <td>AFG</td>\n",
       "      <td>1971</td>\n",
       "      <td>0.652</td>\n",
       "    </tr>\n",
       "    <tr>\n",
       "      <th>2</th>\n",
       "      <td>AFG</td>\n",
       "      <td>1972</td>\n",
       "      <td>-1.089</td>\n",
       "    </tr>\n",
       "    <tr>\n",
       "      <th>3</th>\n",
       "      <td>AFG</td>\n",
       "      <td>1973</td>\n",
       "      <td>0.262</td>\n",
       "    </tr>\n",
       "    <tr>\n",
       "      <th>4</th>\n",
       "      <td>AFG</td>\n",
       "      <td>1974</td>\n",
       "      <td>-0.470</td>\n",
       "    </tr>\n",
       "  </tbody>\n",
       "</table>\n",
       "</div>"
      ],
      "text/plain": [
       "  country_code_alpha_three  year  temp_change_celsius\n",
       "0                      AFG  1970                0.898\n",
       "1                      AFG  1971                0.652\n",
       "2                      AFG  1972               -1.089\n",
       "3                      AFG  1973                0.262\n",
       "4                      AFG  1974               -0.470"
      ]
     },
     "execution_count": 2,
     "metadata": {},
     "output_type": "execute_result"
    }
   ],
   "source": [
    "file_path = \"resources_2/final_temperature_change.csv\"\n",
    "temp_anom_df = pd.read_csv(file_path)\n",
    "temp_anom_df.head()"
   ]
  },
  {
   "cell_type": "code",
   "execution_count": 5,
   "id": "47cb441c",
   "metadata": {},
   "outputs": [
    {
     "data": {
      "text/html": [
       "<div>\n",
       "<style scoped>\n",
       "    .dataframe tbody tr th:only-of-type {\n",
       "        vertical-align: middle;\n",
       "    }\n",
       "\n",
       "    .dataframe tbody tr th {\n",
       "        vertical-align: top;\n",
       "    }\n",
       "\n",
       "    .dataframe thead th {\n",
       "        text-align: right;\n",
       "    }\n",
       "</style>\n",
       "<table border=\"1\" class=\"dataframe\">\n",
       "  <thead>\n",
       "    <tr style=\"text-align: right;\">\n",
       "      <th></th>\n",
       "      <th>country_code_alpha_three</th>\n",
       "      <th>year</th>\n",
       "      <th>temp_change_celsius</th>\n",
       "    </tr>\n",
       "  </thead>\n",
       "  <tbody>\n",
       "    <tr>\n",
       "      <th>4617</th>\n",
       "      <td>HTI</td>\n",
       "      <td>1970</td>\n",
       "      <td>-0.061</td>\n",
       "    </tr>\n",
       "    <tr>\n",
       "      <th>4618</th>\n",
       "      <td>HTI</td>\n",
       "      <td>1971</td>\n",
       "      <td>0.255</td>\n",
       "    </tr>\n",
       "    <tr>\n",
       "      <th>4619</th>\n",
       "      <td>HTI</td>\n",
       "      <td>1972</td>\n",
       "      <td>0.324</td>\n",
       "    </tr>\n",
       "    <tr>\n",
       "      <th>4620</th>\n",
       "      <td>HTI</td>\n",
       "      <td>1973</td>\n",
       "      <td>0.442</td>\n",
       "    </tr>\n",
       "    <tr>\n",
       "      <th>4621</th>\n",
       "      <td>HTI</td>\n",
       "      <td>1974</td>\n",
       "      <td>-0.189</td>\n",
       "    </tr>\n",
       "  </tbody>\n",
       "</table>\n",
       "</div>"
      ],
      "text/plain": [
       "     country_code_alpha_three  year  temp_change_celsius\n",
       "4617                      HTI  1970               -0.061\n",
       "4618                      HTI  1971                0.255\n",
       "4619                      HTI  1972                0.324\n",
       "4620                      HTI  1973                0.442\n",
       "4621                      HTI  1974               -0.189"
      ]
     },
     "execution_count": 5,
     "metadata": {},
     "output_type": "execute_result"
    }
   ],
   "source": [
    "hti_temp_anom_df= temp_anom_df[(temp_anom_df['country_code_alpha_three'] == 'HTI')]\n",
    "hti_temp_anom_df.head()"
   ]
  },
  {
   "cell_type": "code",
   "execution_count": 6,
   "id": "01c0dcdd",
   "metadata": {},
   "outputs": [
    {
     "name": "stdout",
     "output_type": "stream",
     "text": [
      "<class 'pandas.core.frame.DataFrame'>\n",
      "Int64Index: 51 entries, 4617 to 4667\n",
      "Data columns (total 2 columns):\n",
      " #   Column               Non-Null Count  Dtype  \n",
      "---  ------               --------------  -----  \n",
      " 0   year                 51 non-null     int64  \n",
      " 1   temp_change_celsius  51 non-null     float64\n",
      "dtypes: float64(1), int64(1)\n",
      "memory usage: 1.2 KB\n"
     ]
    }
   ],
   "source": [
    "hti_temp_anom_df= hti_temp_anom_df.drop(['country_code_alpha_three'], axis=1)\n",
    "hti_temp_anom_df.info()"
   ]
  },
  {
   "cell_type": "code",
   "execution_count": 7,
   "id": "b00bed42",
   "metadata": {},
   "outputs": [],
   "source": [
    "hti_temp_anom_df = hti_temp_anom_df.dropna( )"
   ]
  },
  {
   "cell_type": "code",
   "execution_count": 8,
   "id": "3bc93c42",
   "metadata": {},
   "outputs": [
    {
     "data": {
      "text/html": [
       "<div>\n",
       "<style scoped>\n",
       "    .dataframe tbody tr th:only-of-type {\n",
       "        vertical-align: middle;\n",
       "    }\n",
       "\n",
       "    .dataframe tbody tr th {\n",
       "        vertical-align: top;\n",
       "    }\n",
       "\n",
       "    .dataframe thead th {\n",
       "        text-align: right;\n",
       "    }\n",
       "</style>\n",
       "<table border=\"1\" class=\"dataframe\">\n",
       "  <thead>\n",
       "    <tr style=\"text-align: right;\">\n",
       "      <th></th>\n",
       "      <th>year</th>\n",
       "      <th>temp_change_celsius</th>\n",
       "    </tr>\n",
       "  </thead>\n",
       "  <tbody>\n",
       "    <tr>\n",
       "      <th>4617</th>\n",
       "      <td>1970</td>\n",
       "      <td>-0.061</td>\n",
       "    </tr>\n",
       "    <tr>\n",
       "      <th>4618</th>\n",
       "      <td>1971</td>\n",
       "      <td>0.255</td>\n",
       "    </tr>\n",
       "    <tr>\n",
       "      <th>4619</th>\n",
       "      <td>1972</td>\n",
       "      <td>0.324</td>\n",
       "    </tr>\n",
       "    <tr>\n",
       "      <th>4620</th>\n",
       "      <td>1973</td>\n",
       "      <td>0.442</td>\n",
       "    </tr>\n",
       "    <tr>\n",
       "      <th>4621</th>\n",
       "      <td>1974</td>\n",
       "      <td>-0.189</td>\n",
       "    </tr>\n",
       "  </tbody>\n",
       "</table>\n",
       "</div>"
      ],
      "text/plain": [
       "      year  temp_change_celsius\n",
       "4617  1970               -0.061\n",
       "4618  1971                0.255\n",
       "4619  1972                0.324\n",
       "4620  1973                0.442\n",
       "4621  1974               -0.189"
      ]
     },
     "execution_count": 8,
     "metadata": {},
     "output_type": "execute_result"
    }
   ],
   "source": [
    "hti_temp_anom_df.head()"
   ]
  },
  {
   "cell_type": "code",
   "execution_count": 9,
   "id": "dfbdf657",
   "metadata": {},
   "outputs": [
    {
     "data": {
      "text/html": [
       "<div>\n",
       "<style scoped>\n",
       "    .dataframe tbody tr th:only-of-type {\n",
       "        vertical-align: middle;\n",
       "    }\n",
       "\n",
       "    .dataframe tbody tr th {\n",
       "        vertical-align: top;\n",
       "    }\n",
       "\n",
       "    .dataframe thead th {\n",
       "        text-align: right;\n",
       "    }\n",
       "</style>\n",
       "<table border=\"1\" class=\"dataframe\">\n",
       "  <thead>\n",
       "    <tr style=\"text-align: right;\">\n",
       "      <th></th>\n",
       "      <th>temp_change_celsius</th>\n",
       "    </tr>\n",
       "    <tr>\n",
       "      <th>year</th>\n",
       "      <th></th>\n",
       "    </tr>\n",
       "  </thead>\n",
       "  <tbody>\n",
       "    <tr>\n",
       "      <th>1970</th>\n",
       "      <td>-0.061</td>\n",
       "    </tr>\n",
       "    <tr>\n",
       "      <th>1971</th>\n",
       "      <td>0.255</td>\n",
       "    </tr>\n",
       "    <tr>\n",
       "      <th>1972</th>\n",
       "      <td>0.324</td>\n",
       "    </tr>\n",
       "    <tr>\n",
       "      <th>1973</th>\n",
       "      <td>0.442</td>\n",
       "    </tr>\n",
       "    <tr>\n",
       "      <th>1974</th>\n",
       "      <td>-0.189</td>\n",
       "    </tr>\n",
       "  </tbody>\n",
       "</table>\n",
       "</div>"
      ],
      "text/plain": [
       "      temp_change_celsius\n",
       "year                     \n",
       "1970               -0.061\n",
       "1971                0.255\n",
       "1972                0.324\n",
       "1973                0.442\n",
       "1974               -0.189"
      ]
     },
     "execution_count": 9,
     "metadata": {},
     "output_type": "execute_result"
    }
   ],
   "source": [
    "hti_temp_anom_df.set_index('year',inplace = True)\n",
    "hti_temp_anom_df.head()"
   ]
  },
  {
   "cell_type": "code",
   "execution_count": 10,
   "id": "810a9175",
   "metadata": {},
   "outputs": [
    {
     "name": "stdout",
     "output_type": "stream",
     "text": [
      "AxesSubplot(0.125,0.125;0.775x0.755)\n"
     ]
    },
    {
     "data": {
      "image/png": "[encoded data removed]",
      "text/plain": [
       "<Figure size 432x288 with 1 Axes>"
      ]
     },
     "metadata": {
      "needs_background": "light"
     },
     "output_type": "display_data"
    }
   ],
   "source": [
    "axis = hti_temp_anom_df.plot.line(y='temp_change_celsius',rot=0)\n",
    "print(axis)\n",
    "plt.show()"
   ]
  },
  {
   "cell_type": "code",
   "execution_count": 11,
   "id": "753af203",
   "metadata": {},
   "outputs": [
    {
     "data": {
      "text/html": [
       "<div>\n",
       "<style scoped>\n",
       "    .dataframe tbody tr th:only-of-type {\n",
       "        vertical-align: middle;\n",
       "    }\n",
       "\n",
       "    .dataframe tbody tr th {\n",
       "        vertical-align: top;\n",
       "    }\n",
       "\n",
       "    .dataframe thead th {\n",
       "        text-align: right;\n",
       "    }\n",
       "</style>\n",
       "<table border=\"1\" class=\"dataframe\">\n",
       "  <thead>\n",
       "    <tr style=\"text-align: right;\">\n",
       "      <th></th>\n",
       "      <th>temp_change_celsius</th>\n",
       "    </tr>\n",
       "    <tr>\n",
       "      <th>year</th>\n",
       "      <th></th>\n",
       "    </tr>\n",
       "  </thead>\n",
       "  <tbody>\n",
       "    <tr>\n",
       "      <th>2019</th>\n",
       "      <td>1.716</td>\n",
       "    </tr>\n",
       "    <tr>\n",
       "      <th>2020</th>\n",
       "      <td>1.708</td>\n",
       "    </tr>\n",
       "    <tr>\n",
       "      <th>2015</th>\n",
       "      <td>1.521</td>\n",
       "    </tr>\n",
       "    <tr>\n",
       "      <th>2018</th>\n",
       "      <td>1.488</td>\n",
       "    </tr>\n",
       "    <tr>\n",
       "      <th>2014</th>\n",
       "      <td>1.450</td>\n",
       "    </tr>\n",
       "    <tr>\n",
       "      <th>2016</th>\n",
       "      <td>1.428</td>\n",
       "    </tr>\n",
       "    <tr>\n",
       "      <th>2017</th>\n",
       "      <td>1.302</td>\n",
       "    </tr>\n",
       "    <tr>\n",
       "      <th>2010</th>\n",
       "      <td>1.277</td>\n",
       "    </tr>\n",
       "    <tr>\n",
       "      <th>1999</th>\n",
       "      <td>1.258</td>\n",
       "    </tr>\n",
       "    <tr>\n",
       "      <th>1998</th>\n",
       "      <td>1.208</td>\n",
       "    </tr>\n",
       "  </tbody>\n",
       "</table>\n",
       "</div>"
      ],
      "text/plain": [
       "      temp_change_celsius\n",
       "year                     \n",
       "2019                1.716\n",
       "2020                1.708\n",
       "2015                1.521\n",
       "2018                1.488\n",
       "2014                1.450\n",
       "2016                1.428\n",
       "2017                1.302\n",
       "2010                1.277\n",
       "1999                1.258\n",
       "1998                1.208"
      ]
     },
     "execution_count": 11,
     "metadata": {},
     "output_type": "execute_result"
    }
   ],
   "source": [
    "hti_temp_anom_df= hti_temp_anom_df.sort_values('temp_change_celsius',ascending=False)\n",
    "hti_temp_anom_df.head(10)"
   ]
  },
  {
   "cell_type": "code",
   "execution_count": 12,
   "id": "9c7b62c3",
   "metadata": {},
   "outputs": [
    {
     "data": {
      "text/html": [
       "<div>\n",
       "<style scoped>\n",
       "    .dataframe tbody tr th:only-of-type {\n",
       "        vertical-align: middle;\n",
       "    }\n",
       "\n",
       "    .dataframe tbody tr th {\n",
       "        vertical-align: top;\n",
       "    }\n",
       "\n",
       "    .dataframe thead th {\n",
       "        text-align: right;\n",
       "    }\n",
       "</style>\n",
       "<table border=\"1\" class=\"dataframe\">\n",
       "  <thead>\n",
       "    <tr style=\"text-align: right;\">\n",
       "      <th></th>\n",
       "      <th>temp_change_celsius</th>\n",
       "    </tr>\n",
       "  </thead>\n",
       "  <tbody>\n",
       "    <tr>\n",
       "      <th>count</th>\n",
       "      <td>51.000000</td>\n",
       "    </tr>\n",
       "    <tr>\n",
       "      <th>mean</th>\n",
       "      <td>0.773765</td>\n",
       "    </tr>\n",
       "    <tr>\n",
       "      <th>std</th>\n",
       "      <td>0.477760</td>\n",
       "    </tr>\n",
       "    <tr>\n",
       "      <th>min</th>\n",
       "      <td>-0.356000</td>\n",
       "    </tr>\n",
       "    <tr>\n",
       "      <th>25%</th>\n",
       "      <td>0.416000</td>\n",
       "    </tr>\n",
       "    <tr>\n",
       "      <th>50%</th>\n",
       "      <td>0.826000</td>\n",
       "    </tr>\n",
       "    <tr>\n",
       "      <th>75%</th>\n",
       "      <td>1.149000</td>\n",
       "    </tr>\n",
       "    <tr>\n",
       "      <th>max</th>\n",
       "      <td>1.716000</td>\n",
       "    </tr>\n",
       "  </tbody>\n",
       "</table>\n",
       "</div>"
      ],
      "text/plain": [
       "       temp_change_celsius\n",
       "count            51.000000\n",
       "mean              0.773765\n",
       "std               0.477760\n",
       "min              -0.356000\n",
       "25%               0.416000\n",
       "50%               0.826000\n",
       "75%               1.149000\n",
       "max               1.716000"
      ]
     },
     "execution_count": 12,
     "metadata": {},
     "output_type": "execute_result"
    }
   ],
   "source": [
    "hti_temp_anom_df.describe()"
   ]
  },
  {
   "cell_type": "code",
   "execution_count": 13,
   "id": "9a8d5d5a",
   "metadata": {},
   "outputs": [
    {
     "data": {
      "image/png": "[encoded data removed]",
      "text/plain": [
       "<Figure size 360x360 with 1 Axes>"
      ]
     },
     "metadata": {
      "needs_background": "light"
     },
     "output_type": "display_data"
    }
   ],
   "source": [
    "import seaborn as sb\n",
    "\n",
    "# Extract feature we're interested in\n",
    "data = hti_temp_anom_df['temp_change_celsius']\n",
    "\n",
    "# Generate histogram/distribution plot\n",
    "sb.displot(data, stat=\"density\")\n",
    "\n",
    "plt.show()"
   ]
  },
  {
   "cell_type": "code",
   "execution_count": 14,
   "id": "0213ab70",
   "metadata": {},
   "outputs": [
    {
     "data": {
      "image/png": "[encoded data removed]",
      "text/plain": [
       "<Figure size 360x360 with 1 Axes>"
      ]
     },
     "metadata": {
      "needs_background": "light"
     },
     "output_type": "display_data"
    }
   ],
   "source": [
    "sb.displot(data, discrete = True, kde = True)\n",
    "plt.show()"
   ]
  },
  {
   "cell_type": "code",
   "execution_count": 15,
   "id": "c7c8354c",
   "metadata": {},
   "outputs": [
    {
     "data": {
      "image/png": "[encoded data removed]",
      "text/plain": [
       "<Figure size 504x288 with 1 Axes>"
      ]
     },
     "metadata": {
      "needs_background": "light"
     },
     "output_type": "display_data"
    }
   ],
   "source": [
    "# Histogram\n",
    "# ==============================================================================\n",
    "import statsmodels.api as sm\n",
    "from scipy import stats\n",
    "\n",
    "# Valores de la media (mu) y desviación típica (sigma) de los datos\n",
    "mu, sigma = stats.norm.fit(data)\n",
    "\n",
    "# Valores teóricos de la normal en el rango observado\n",
    "x_hat = np.linspace(min(data), max(data), num=100)\n",
    "y_hat = stats.norm.pdf(x_hat, mu, sigma)\n",
    "\n",
    "# Gráfico\n",
    "fig, ax = plt.subplots(figsize=(7,4))\n",
    "ax.plot(x_hat, y_hat, linewidth=2, label='normal')\n",
    "ax.hist(x=data, density=True, bins=30, color=\"#3182bd\", alpha=0.5)\n",
    "ax.plot(data, np.full_like(data, -0.01), '|k', markeredgewidth=1)\n",
    "ax.set_title('HAITI Anomalies in Temperature Distribution')\n",
    "ax.set_xlabel('HAITI Anomalies in Temperature')\n",
    "ax.set_ylabel('Probability Density')\n",
    "ax.legend();"
   ]
  },
  {
   "cell_type": "code",
   "execution_count": 16,
   "id": "66c12453",
   "metadata": {},
   "outputs": [
    {
     "data": {
      "image/png": "[encoded data removed]",
      "text/plain": [
       "<Figure size 504x288 with 1 Axes>"
      ]
     },
     "metadata": {
      "needs_background": "light"
     },
     "output_type": "display_data"
    }
   ],
   "source": [
    "# Gráfico Q-Q\n",
    "# ==============================================================================\n",
    "fig, ax = plt.subplots(figsize=(7,4))\n",
    "sm.qqplot(\n",
    "    data,\n",
    "    fit   = True,\n",
    "    line  = 'q',\n",
    "    alpha = 0.4,\n",
    "    lw    = 2,\n",
    "    ax    = ax\n",
    ")\n",
    "ax.set_title('Temperature Q-Q Plot', fontsize = 15,\n",
    "             fontweight = \"bold\")\n",
    "ax.tick_params(labelsize = 7)"
   ]
  },
  {
   "cell_type": "code",
   "execution_count": 17,
   "id": "0bf81fce",
   "metadata": {},
   "outputs": [
    {
     "data": {
      "text/plain": [
       "{'whiskers': [<matplotlib.lines.Line2D at 0x17f22e5aa88>,\n",
       "  <matplotlib.lines.Line2D at 0x17f22e5f308>],\n",
       " 'caps': [<matplotlib.lines.Line2D at 0x17f22e5f3c8>,\n",
       "  <matplotlib.lines.Line2D at 0x17f22e5fc48>],\n",
       " 'boxes': [<matplotlib.lines.Line2D at 0x17f22e5a848>],\n",
       " 'medians': [<matplotlib.lines.Line2D at 0x17f22e690c8>],\n",
       " 'fliers': [<matplotlib.lines.Line2D at 0x17f22e5fd08>],\n",
       " 'means': []}"
      ]
     },
     "execution_count": 17,
     "metadata": {},
     "output_type": "execute_result"
    },
    {
     "data": {
      "image/png": "[encoded data removed]",
      "text/plain": [
       "<Figure size 432x288 with 1 Axes>"
      ]
     },
     "metadata": {
      "needs_background": "light"
     },
     "output_type": "display_data"
    }
   ],
   "source": [
    "plt.boxplot(data)"
   ]
  },
  {
   "cell_type": "code",
   "execution_count": 18,
   "id": "fa1243b5",
   "metadata": {},
   "outputs": [
    {
     "name": "stdout",
     "output_type": "stream",
     "text": [
      "Kursotis: -0.47281226999074644\n",
      "Skewness: -0.06690578480476582\n"
     ]
    }
   ],
   "source": [
    "print('Kursotis:', stats.kurtosis(data))\n",
    "print('Skewness:', stats.skew(data))"
   ]
  },
  {
   "cell_type": "code",
   "execution_count": 19,
   "id": "f6852c47",
   "metadata": {},
   "outputs": [
    {
     "data": {
      "text/plain": [
       "ShapiroResult(statistic=0.9847860932350159, pvalue=0.7522085309028625)"
      ]
     },
     "execution_count": 19,
     "metadata": {},
     "output_type": "execute_result"
    }
   ],
   "source": [
    "# Shapiro-Wilk test\n",
    "# ==============================================================================\n",
    "shapiro_test = stats.shapiro(data)\n",
    "shapiro_test"
   ]
  },
  {
   "cell_type": "code",
   "execution_count": 20,
   "id": "6bf9419f",
   "metadata": {},
   "outputs": [
    {
     "name": "stdout",
     "output_type": "stream",
     "text": [
      "Estadístico = 0.33691005705918126, p-value = 0.8449692620746685\n"
     ]
    }
   ],
   "source": [
    "# D'Agostino's K-squared test\n",
    "# ==============================================================================\n",
    "k2, p_value = stats.normaltest(data)\n",
    "print(f\"Estadístico = {k2}, p-value = {p_value}\")"
   ]
  },
  {
   "cell_type": "code",
   "execution_count": null,
   "id": "071d9506",
   "metadata": {},
   "outputs": [],
   "source": []
  }
 ],
 "metadata": {
  "kernelspec": {
   "display_name": "mlenv",
   "language": "python",
   "name": "mlenv"
  },
  "language_info": {
   "codemirror_mode": {
    "name": "ipython",
    "version": 3
   },
   "file_extension": ".py",
   "mimetype": "text/x-python",
   "name": "python",
   "nbconvert_exporter": "python",
   "pygments_lexer": "ipython3",
   "version": "3.7.13"
  }
 },
 "nbformat": 4,
 "nbformat_minor": 5
}
