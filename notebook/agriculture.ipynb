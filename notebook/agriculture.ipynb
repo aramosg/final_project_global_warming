{
  "cells": [
    {
      "cell_type": "code",
      "execution_count": null,
      "id": "08e4c944-dd20-4afa-991d-21c38b15889f",
      "metadata": {
        "id": "08e4c944-dd20-4afa-991d-21c38b15889f"
      },
      "outputs": [],
      "source": [
        "#Dependencies #Cielo\n",
        "import pandas as pd\n",
        "import matplotlib.pyplot as plt"
      ]
    },
    {
      "cell_type": "code",
      "execution_count": null,
      "id": "9208bfbd-fce8-4f69-8f30-6e0908e849c9",
      "metadata": {
        "id": "9208bfbd-fce8-4f69-8f30-6e0908e849c9"
      },
      "outputs": [],
      "source": [
        "# Importing files\n",
        "agr = 'GitHub_Lau/Resources/API_NV.AGR.TOTL.KD_DS2_es_csv_v2_4363686.csv'\n",
        "agr_df = pd.read_csv(agr, skiprows=3)\n",
        "agr_pib = 'GitHub_Lau/Resources/API_NV.AGR.TOTL.ZS_DS2_es_csv_v2_4350941.csv'\n",
        "agr_pib_df = pd.read_csv(agr_pib, skiprows=3)"
      ]
    },
    {
      "cell_type": "markdown",
      "id": "604b2c13-757a-49a1-ae34-595bb07d6357",
      "metadata": {
        "id": "604b2c13-757a-49a1-ae34-595bb07d6357"
      },
      "source": [
        "## Agriculture Value Added (US$ at constant 2010 prices)"
      ]
    },
    {
      "cell_type": "code",
      "execution_count": null,
      "id": "399b4508-73c7-491f-abe5-727066fd8f0a",
      "metadata": {
        "id": "399b4508-73c7-491f-abe5-727066fd8f0a",
        "outputId": "4e30f4c9-a800-449e-899a-9a665b8d7ec6"
      },
      "outputs": [
        {
          "data": {
            "text/html": [
              "<div>\n",
              "<style scoped>\n",
              "    .dataframe tbody tr th:only-of-type {\n",
              "        vertical-align: middle;\n",
              "    }\n",
              "\n",
              "    .dataframe tbody tr th {\n",
              "        vertical-align: top;\n",
              "    }\n",
              "\n",
              "    .dataframe thead th {\n",
              "        text-align: right;\n",
              "    }\n",
              "</style>\n",
              "<table border=\"1\" class=\"dataframe\">\n",
              "  <thead>\n",
              "    <tr style=\"text-align: right;\">\n",
              "      <th></th>\n",
              "      <th>Country Name</th>\n",
              "      <th>Country Code</th>\n",
              "      <th>Indicator Name</th>\n",
              "      <th>Indicator Code</th>\n",
              "      <th>1960</th>\n",
              "      <th>1961</th>\n",
              "      <th>1962</th>\n",
              "      <th>1963</th>\n",
              "      <th>1964</th>\n",
              "      <th>1965</th>\n",
              "      <th>...</th>\n",
              "      <th>2013</th>\n",
              "      <th>2014</th>\n",
              "      <th>2015</th>\n",
              "      <th>2016</th>\n",
              "      <th>2017</th>\n",
              "      <th>2018</th>\n",
              "      <th>2019</th>\n",
              "      <th>2020</th>\n",
              "      <th>2021</th>\n",
              "      <th>Unnamed: 66</th>\n",
              "    </tr>\n",
              "  </thead>\n",
              "  <tbody>\n",
              "    <tr>\n",
              "      <th>0</th>\n",
              "      <td>Aruba</td>\n",
              "      <td>ABW</td>\n",
              "      <td>Agricultura, valor agregado (US$ a precios con...</td>\n",
              "      <td>NV.AGR.TOTL.KD</td>\n",
              "      <td>NaN</td>\n",
              "      <td>NaN</td>\n",
              "      <td>NaN</td>\n",
              "      <td>NaN</td>\n",
              "      <td>NaN</td>\n",
              "      <td>NaN</td>\n",
              "      <td>...</td>\n",
              "      <td>NaN</td>\n",
              "      <td>NaN</td>\n",
              "      <td>NaN</td>\n",
              "      <td>NaN</td>\n",
              "      <td>NaN</td>\n",
              "      <td>NaN</td>\n",
              "      <td>NaN</td>\n",
              "      <td>NaN</td>\n",
              "      <td>NaN</td>\n",
              "      <td>NaN</td>\n",
              "    </tr>\n",
              "    <tr>\n",
              "      <th>1</th>\n",
              "      <td>NaN</td>\n",
              "      <td>AFE</td>\n",
              "      <td>Agricultura, valor agregado (US$ a precios con...</td>\n",
              "      <td>NV.AGR.TOTL.KD</td>\n",
              "      <td>NaN</td>\n",
              "      <td>NaN</td>\n",
              "      <td>NaN</td>\n",
              "      <td>NaN</td>\n",
              "      <td>NaN</td>\n",
              "      <td>NaN</td>\n",
              "      <td>...</td>\n",
              "      <td>1.150614e+11</td>\n",
              "      <td>1.210840e+11</td>\n",
              "      <td>1.253312e+11</td>\n",
              "      <td>1.285914e+11</td>\n",
              "      <td>1.335113e+11</td>\n",
              "      <td>1.363151e+11</td>\n",
              "      <td>1.382294e+11</td>\n",
              "      <td>1.426608e+11</td>\n",
              "      <td>1.490749e+11</td>\n",
              "      <td>NaN</td>\n",
              "    </tr>\n",
              "    <tr>\n",
              "      <th>2</th>\n",
              "      <td>Afganistán</td>\n",
              "      <td>AFG</td>\n",
              "      <td>Agricultura, valor agregado (US$ a precios con...</td>\n",
              "      <td>NV.AGR.TOTL.KD</td>\n",
              "      <td>NaN</td>\n",
              "      <td>NaN</td>\n",
              "      <td>NaN</td>\n",
              "      <td>NaN</td>\n",
              "      <td>NaN</td>\n",
              "      <td>NaN</td>\n",
              "      <td>...</td>\n",
              "      <td>4.189186e+09</td>\n",
              "      <td>4.184968e+09</td>\n",
              "      <td>3.948215e+09</td>\n",
              "      <td>4.183993e+09</td>\n",
              "      <td>4.452231e+09</td>\n",
              "      <td>4.255651e+09</td>\n",
              "      <td>4.998680e+09</td>\n",
              "      <td>5.295719e+09</td>\n",
              "      <td>NaN</td>\n",
              "      <td>NaN</td>\n",
              "    </tr>\n",
              "  </tbody>\n",
              "</table>\n",
              "<p>3 rows × 67 columns</p>\n",
              "</div>"
            ],
            "text/plain": [
              "  Country Name Country Code  \\\n",
              "0        Aruba          ABW   \n",
              "1          NaN          AFE   \n",
              "2   Afganistán          AFG   \n",
              "\n",
              "                                      Indicator Name  Indicator Code  1960  \\\n",
              "0  Agricultura, valor agregado (US$ a precios con...  NV.AGR.TOTL.KD   NaN   \n",
              "1  Agricultura, valor agregado (US$ a precios con...  NV.AGR.TOTL.KD   NaN   \n",
              "2  Agricultura, valor agregado (US$ a precios con...  NV.AGR.TOTL.KD   NaN   \n",
              "\n",
              "   1961  1962  1963  1964  1965  ...          2013          2014  \\\n",
              "0   NaN   NaN   NaN   NaN   NaN  ...           NaN           NaN   \n",
              "1   NaN   NaN   NaN   NaN   NaN  ...  1.150614e+11  1.210840e+11   \n",
              "2   NaN   NaN   NaN   NaN   NaN  ...  4.189186e+09  4.184968e+09   \n",
              "\n",
              "           2015          2016          2017          2018          2019  \\\n",
              "0           NaN           NaN           NaN           NaN           NaN   \n",
              "1  1.253312e+11  1.285914e+11  1.335113e+11  1.363151e+11  1.382294e+11   \n",
              "2  3.948215e+09  4.183993e+09  4.452231e+09  4.255651e+09  4.998680e+09   \n",
              "\n",
              "           2020          2021  Unnamed: 66  \n",
              "0           NaN           NaN          NaN  \n",
              "1  1.426608e+11  1.490749e+11          NaN  \n",
              "2  5.295719e+09           NaN          NaN  \n",
              "\n",
              "[3 rows x 67 columns]"
            ]
          },
          "execution_count": 3,
          "metadata": {},
          "output_type": "execute_result"
        }
      ],
      "source": [
        "agr_df.head(3)"
      ]
    },
    {
      "cell_type": "code",
      "execution_count": null,
      "id": "ea474ec0-7d97-4122-ab5f-65219b53e503",
      "metadata": {
        "id": "ea474ec0-7d97-4122-ab5f-65219b53e503",
        "outputId": "8177169d-142a-4e8e-906c-3c7f3f593216"
      },
      "outputs": [
        {
          "data": {
            "text/html": [
              "<div>\n",
              "<style scoped>\n",
              "    .dataframe tbody tr th:only-of-type {\n",
              "        vertical-align: middle;\n",
              "    }\n",
              "\n",
              "    .dataframe tbody tr th {\n",
              "        vertical-align: top;\n",
              "    }\n",
              "\n",
              "    .dataframe thead th {\n",
              "        text-align: right;\n",
              "    }\n",
              "</style>\n",
              "<table border=\"1\" class=\"dataframe\">\n",
              "  <thead>\n",
              "    <tr style=\"text-align: right;\">\n",
              "      <th></th>\n",
              "      <th>Country Name</th>\n",
              "      <th>Country Code</th>\n",
              "      <th>Indicator Name</th>\n",
              "      <th>Indicator Code</th>\n",
              "      <th>Year</th>\n",
              "      <th>Value added (US$ at constant 2010 prices)</th>\n",
              "    </tr>\n",
              "  </thead>\n",
              "  <tbody>\n",
              "    <tr>\n",
              "      <th>0</th>\n",
              "      <td>Aruba</td>\n",
              "      <td>ABW</td>\n",
              "      <td>Agricultura, valor agregado (US$ a precios con...</td>\n",
              "      <td>NV.AGR.TOTL.KD</td>\n",
              "      <td>1960</td>\n",
              "      <td>NaN</td>\n",
              "    </tr>\n",
              "    <tr>\n",
              "      <th>1</th>\n",
              "      <td>NaN</td>\n",
              "      <td>AFE</td>\n",
              "      <td>Agricultura, valor agregado (US$ a precios con...</td>\n",
              "      <td>NV.AGR.TOTL.KD</td>\n",
              "      <td>1960</td>\n",
              "      <td>NaN</td>\n",
              "    </tr>\n",
              "    <tr>\n",
              "      <th>2</th>\n",
              "      <td>Afganistán</td>\n",
              "      <td>AFG</td>\n",
              "      <td>Agricultura, valor agregado (US$ a precios con...</td>\n",
              "      <td>NV.AGR.TOTL.KD</td>\n",
              "      <td>1960</td>\n",
              "      <td>NaN</td>\n",
              "    </tr>\n",
              "  </tbody>\n",
              "</table>\n",
              "</div>"
            ],
            "text/plain": [
              "  Country Name Country Code  \\\n",
              "0        Aruba          ABW   \n",
              "1          NaN          AFE   \n",
              "2   Afganistán          AFG   \n",
              "\n",
              "                                      Indicator Name  Indicator Code  Year  \\\n",
              "0  Agricultura, valor agregado (US$ a precios con...  NV.AGR.TOTL.KD  1960   \n",
              "1  Agricultura, valor agregado (US$ a precios con...  NV.AGR.TOTL.KD  1960   \n",
              "2  Agricultura, valor agregado (US$ a precios con...  NV.AGR.TOTL.KD  1960   \n",
              "\n",
              "   Value added (US$ at constant 2010 prices)  \n",
              "0                                        NaN  \n",
              "1                                        NaN  \n",
              "2                                        NaN  "
            ]
          },
          "execution_count": 4,
          "metadata": {},
          "output_type": "execute_result"
        }
      ],
      "source": [
        "# Transforming year columns to Year as column and validating by viewing the first 3 rows\n",
        "agr_df = agr_df.melt(id_vars=['Country Name', 'Country Code', 'Indicator Name', 'Indicator Code'],\n",
        "                    var_name='Year', value_name= \"Value added (US$ at constant 2010 prices)\")\n",
        "agr_df.head(3)"
      ]
    },
    {
      "cell_type": "code",
      "execution_count": null,
      "id": "a663e5bd-ea93-40ce-8041-8ac4656cda4d",
      "metadata": {
        "id": "a663e5bd-ea93-40ce-8041-8ac4656cda4d",
        "outputId": "291157ce-a7fa-4ca6-f37f-b03308d1b15d"
      },
      "outputs": [
        {
          "name": "stdout",
          "output_type": "stream",
          "text": [
            "<class 'pandas.core.frame.DataFrame'>\n",
            "RangeIndex: 16758 entries, 0 to 16757\n",
            "Data columns (total 4 columns):\n",
            " #   Column                                     Non-Null Count  Dtype  \n",
            "---  ------                                     --------------  -----  \n",
            " 0   Country Name                               16632 non-null  object \n",
            " 1   Country Code                               16758 non-null  object \n",
            " 2   Year                                       16758 non-null  object \n",
            " 3   Value added (US$ at constant 2010 prices)  9579 non-null   float64\n",
            "dtypes: float64(1), object(3)\n",
            "memory usage: 523.8+ KB\n"
          ]
        }
      ],
      "source": [
        "#Dropping columns that are not required\n",
        "agr_df_c = agr_df.drop(['Indicator Name', 'Indicator Code'], axis=1)\n",
        "agr_df_c.info()"
      ]
    },
    {
      "cell_type": "code",
      "execution_count": null,
      "id": "b0e7e603-39e3-4965-8dd7-db528eee7b35",
      "metadata": {
        "id": "b0e7e603-39e3-4965-8dd7-db528eee7b35"
      },
      "outputs": [],
      "source": [
        "# Filtering for Year between 1970 and 2020\n",
        "agr_df_c = agr_df_c[(agr_df_c['Year']>= '1970') & (agr_df_c['Year'] <= '2020')]"
      ]
    },
    {
      "cell_type": "code",
      "execution_count": null,
      "id": "e6b3859c-757c-4583-b660-da9ffe001d97",
      "metadata": {
        "id": "e6b3859c-757c-4583-b660-da9ffe001d97",
        "outputId": "9059d36a-bd8b-4dfc-a755-ecb0f9b9c1c2"
      },
      "outputs": [
        {
          "data": {
            "text/plain": [
              "Country Name                                  object\n",
              "Country Code                                  object\n",
              "Year                                           int64\n",
              "Value added (US$ at constant 2010 prices)    float64\n",
              "dtype: object"
            ]
          },
          "execution_count": 7,
          "metadata": {},
          "output_type": "execute_result"
        }
      ],
      "source": [
        "# Modifying Year type from string to int\n",
        "agr_df_c = agr_df_c.astype({'Year': 'int64'})\n",
        "agr_df_c.dtypes"
      ]
    },
    {
      "cell_type": "code",
      "execution_count": null,
      "id": "1978dcc6-92a5-4c38-8f9f-336ffa121d0c",
      "metadata": {
        "id": "1978dcc6-92a5-4c38-8f9f-336ffa121d0c",
        "outputId": "6b5a555f-5a46-4cea-e1c2-130f8056bd4c"
      },
      "outputs": [
        {
          "data": {
            "text/plain": [
              "Country Name                                  102\n",
              "Country Code                                    0\n",
              "Year                                            0\n",
              "Value added (US$ at constant 2010 prices)    4728\n",
              "dtype: int64"
            ]
          },
          "execution_count": 8,
          "metadata": {},
          "output_type": "execute_result"
        }
      ],
      "source": [
        "agr_df_c.isna().sum()"
      ]
    },
    {
      "cell_type": "code",
      "execution_count": null,
      "id": "1f8737a0-e56f-4b28-853c-8dfcde7ad2ae",
      "metadata": {
        "id": "1f8737a0-e56f-4b28-853c-8dfcde7ad2ae",
        "outputId": "211b2df1-3dbd-4b62-d640-5505a53f6810"
      },
      "outputs": [
        {
          "data": {
            "text/plain": [
              "['AFE', 'AFW']"
            ]
          },
          "execution_count": 9,
          "metadata": {},
          "output_type": "execute_result"
        }
      ],
      "source": [
        "# List of entity names with missing Code\n",
        "missing_country_nm = agr_df_c[agr_df_c['Country Name'].isna()]\n",
        "#missing_country_nm\n",
        "list_missing = missing_country_nm['Country Code'].unique().tolist()\n",
        "list_missing\n",
        "# AFE and AFW will be dropped since it is a cluster of countries and we are using only countries\n",
        "# AFE = Africa Eastern and Southern\n",
        "# AFW = Africa Western and Central"
      ]
    },
    {
      "cell_type": "code",
      "execution_count": null,
      "id": "82813c7d-96d0-4da7-b41d-74040b073f63",
      "metadata": {
        "id": "82813c7d-96d0-4da7-b41d-74040b073f63",
        "outputId": "0bfdddbb-2425-44cc-f665-36fc0352efa3"
      },
      "outputs": [
        {
          "name": "stdout",
          "output_type": "stream",
          "text": [
            "<class 'pandas.core.frame.DataFrame'>\n",
            "Int64Index: 13464 entries, 2660 to 16225\n",
            "Data columns (total 4 columns):\n",
            " #   Column                                     Non-Null Count  Dtype  \n",
            "---  ------                                     --------------  -----  \n",
            " 0   Country Name                               13464 non-null  object \n",
            " 1   Country Code                               13464 non-null  object \n",
            " 2   Year                                       13464 non-null  int64  \n",
            " 3   Value added (US$ at constant 2010 prices)  8758 non-null   float64\n",
            "dtypes: float64(1), int64(1), object(2)\n",
            "memory usage: 525.9+ KB\n"
          ]
        }
      ],
      "source": [
        "# Removing rows with null in Country Name that represent AFE and AFW\n",
        "agr_df_c = agr_df_c.dropna(subset=['Country Name'])\n",
        "agr_df_c.info()"
      ]
    },
    {
      "cell_type": "code",
      "execution_count": null,
      "id": "68c94606-a34e-4d3f-abcb-5f29cdcc5752",
      "metadata": {
        "id": "68c94606-a34e-4d3f-abcb-5f29cdcc5752",
        "outputId": "2f26d88d-dab6-47dc-8e94-34458fb92ed3"
      },
      "outputs": [
        {
          "data": {
            "text/plain": [
              "Country Name                                 179\n",
              "Country Code                                 179\n",
              "Year                                          51\n",
              "Value added (US$ at constant 2010 prices)      0\n",
              "dtype: int64"
            ]
          },
          "execution_count": 11,
          "metadata": {},
          "output_type": "execute_result"
        }
      ],
      "source": [
        "# DF of missing values for Country Name and Country Code\n",
        "missing_value_agr = agr_df_c[agr_df_c[\"Value added (US$ at constant 2010 prices)\"].isna()]\n",
        "missing_value_agr.nunique()\n",
        "# missing_value_name_code = missing_value[['Country Name', 'Country Code']]\n",
        "# missing_value_name_code = missing_value_name_code.drop_duplicates()\n",
        "# missing_value_name_code.to_dict('records')"
      ]
    },
    {
      "cell_type": "markdown",
      "id": "bab95ce7-4721-47e0-99c8-d8f61ec9ba0e",
      "metadata": {
        "id": "bab95ce7-4721-47e0-99c8-d8f61ec9ba0e"
      },
      "source": [
        "## Agriculture Value Added (% of GDP)"
      ]
    },
    {
      "cell_type": "code",
      "execution_count": null,
      "id": "4c3289e8-80c9-4dc0-8a4d-6d13eef28fe9",
      "metadata": {
        "id": "4c3289e8-80c9-4dc0-8a4d-6d13eef28fe9",
        "outputId": "3fe626da-ba47-4a53-fb5d-9693af728139"
      },
      "outputs": [
        {
          "data": {
            "text/html": [
              "<div>\n",
              "<style scoped>\n",
              "    .dataframe tbody tr th:only-of-type {\n",
              "        vertical-align: middle;\n",
              "    }\n",
              "\n",
              "    .dataframe tbody tr th {\n",
              "        vertical-align: top;\n",
              "    }\n",
              "\n",
              "    .dataframe thead th {\n",
              "        text-align: right;\n",
              "    }\n",
              "</style>\n",
              "<table border=\"1\" class=\"dataframe\">\n",
              "  <thead>\n",
              "    <tr style=\"text-align: right;\">\n",
              "      <th></th>\n",
              "      <th>Country Name</th>\n",
              "      <th>Country Code</th>\n",
              "      <th>Indicator Name</th>\n",
              "      <th>Indicator Code</th>\n",
              "      <th>1960</th>\n",
              "      <th>1961</th>\n",
              "      <th>1962</th>\n",
              "      <th>1963</th>\n",
              "      <th>1964</th>\n",
              "      <th>1965</th>\n",
              "      <th>...</th>\n",
              "      <th>2013</th>\n",
              "      <th>2014</th>\n",
              "      <th>2015</th>\n",
              "      <th>2016</th>\n",
              "      <th>2017</th>\n",
              "      <th>2018</th>\n",
              "      <th>2019</th>\n",
              "      <th>2020</th>\n",
              "      <th>2021</th>\n",
              "      <th>Unnamed: 66</th>\n",
              "    </tr>\n",
              "  </thead>\n",
              "  <tbody>\n",
              "    <tr>\n",
              "      <th>0</th>\n",
              "      <td>Aruba</td>\n",
              "      <td>ABW</td>\n",
              "      <td>Agricultura, valor agregado (% del PIB)</td>\n",
              "      <td>NV.AGR.TOTL.ZS</td>\n",
              "      <td>NaN</td>\n",
              "      <td>NaN</td>\n",
              "      <td>NaN</td>\n",
              "      <td>NaN</td>\n",
              "      <td>NaN</td>\n",
              "      <td>NaN</td>\n",
              "      <td>...</td>\n",
              "      <td>NaN</td>\n",
              "      <td>NaN</td>\n",
              "      <td>NaN</td>\n",
              "      <td>NaN</td>\n",
              "      <td>NaN</td>\n",
              "      <td>NaN</td>\n",
              "      <td>NaN</td>\n",
              "      <td>NaN</td>\n",
              "      <td>NaN</td>\n",
              "      <td>NaN</td>\n",
              "    </tr>\n",
              "    <tr>\n",
              "      <th>1</th>\n",
              "      <td>NaN</td>\n",
              "      <td>AFE</td>\n",
              "      <td>Agricultura, valor agregado (% del PIB)</td>\n",
              "      <td>NV.AGR.TOTL.ZS</td>\n",
              "      <td>NaN</td>\n",
              "      <td>NaN</td>\n",
              "      <td>NaN</td>\n",
              "      <td>NaN</td>\n",
              "      <td>NaN</td>\n",
              "      <td>NaN</td>\n",
              "      <td>...</td>\n",
              "      <td>11.593275</td>\n",
              "      <td>12.522407</td>\n",
              "      <td>13.560281</td>\n",
              "      <td>13.720887</td>\n",
              "      <td>13.441330</td>\n",
              "      <td>12.086055</td>\n",
              "      <td>12.708430</td>\n",
              "      <td>14.660148</td>\n",
              "      <td>13.28224</td>\n",
              "      <td>NaN</td>\n",
              "    </tr>\n",
              "    <tr>\n",
              "      <th>2</th>\n",
              "      <td>Afganistán</td>\n",
              "      <td>AFG</td>\n",
              "      <td>Agricultura, valor agregado (% del PIB)</td>\n",
              "      <td>NV.AGR.TOTL.ZS</td>\n",
              "      <td>NaN</td>\n",
              "      <td>NaN</td>\n",
              "      <td>NaN</td>\n",
              "      <td>NaN</td>\n",
              "      <td>NaN</td>\n",
              "      <td>NaN</td>\n",
              "      <td>...</td>\n",
              "      <td>22.810663</td>\n",
              "      <td>22.137041</td>\n",
              "      <td>20.634323</td>\n",
              "      <td>25.740314</td>\n",
              "      <td>26.420199</td>\n",
              "      <td>22.042897</td>\n",
              "      <td>25.773971</td>\n",
              "      <td>26.820600</td>\n",
              "      <td>NaN</td>\n",
              "      <td>NaN</td>\n",
              "    </tr>\n",
              "  </tbody>\n",
              "</table>\n",
              "<p>3 rows × 67 columns</p>\n",
              "</div>"
            ],
            "text/plain": [
              "  Country Name Country Code                           Indicator Name  \\\n",
              "0        Aruba          ABW  Agricultura, valor agregado (% del PIB)   \n",
              "1          NaN          AFE  Agricultura, valor agregado (% del PIB)   \n",
              "2   Afganistán          AFG  Agricultura, valor agregado (% del PIB)   \n",
              "\n",
              "   Indicator Code  1960  1961  1962  1963  1964  1965  ...       2013  \\\n",
              "0  NV.AGR.TOTL.ZS   NaN   NaN   NaN   NaN   NaN   NaN  ...        NaN   \n",
              "1  NV.AGR.TOTL.ZS   NaN   NaN   NaN   NaN   NaN   NaN  ...  11.593275   \n",
              "2  NV.AGR.TOTL.ZS   NaN   NaN   NaN   NaN   NaN   NaN  ...  22.810663   \n",
              "\n",
              "        2014       2015       2016       2017       2018       2019  \\\n",
              "0        NaN        NaN        NaN        NaN        NaN        NaN   \n",
              "1  12.522407  13.560281  13.720887  13.441330  12.086055  12.708430   \n",
              "2  22.137041  20.634323  25.740314  26.420199  22.042897  25.773971   \n",
              "\n",
              "        2020      2021  Unnamed: 66  \n",
              "0        NaN       NaN          NaN  \n",
              "1  14.660148  13.28224          NaN  \n",
              "2  26.820600       NaN          NaN  \n",
              "\n",
              "[3 rows x 67 columns]"
            ]
          },
          "execution_count": 12,
          "metadata": {},
          "output_type": "execute_result"
        }
      ],
      "source": [
        "agr_pib_df.head(3)"
      ]
    },
    {
      "cell_type": "code",
      "execution_count": null,
      "id": "0c214ea2-f148-46b8-97c9-12c4be2bdb6c",
      "metadata": {
        "id": "0c214ea2-f148-46b8-97c9-12c4be2bdb6c"
      },
      "outputs": [],
      "source": [
        "# Columns by year melted to one single Column\n",
        "agr_pib_df = agr_pib_df.melt(id_vars=['Country Name', 'Country Code', 'Indicator Name', 'Indicator Code'],\n",
        "                    var_name='Year', value_name=\"Value added (% of GDP)\")"
      ]
    },
    {
      "cell_type": "code",
      "execution_count": null,
      "id": "55a209e2-2f2a-4f49-9609-1581ea49febf",
      "metadata": {
        "id": "55a209e2-2f2a-4f49-9609-1581ea49febf",
        "outputId": "074ea957-c728-4f24-8a49-854d216eada9"
      },
      "outputs": [
        {
          "name": "stdout",
          "output_type": "stream",
          "text": [
            "<class 'pandas.core.frame.DataFrame'>\n",
            "RangeIndex: 16758 entries, 0 to 16757\n",
            "Data columns (total 4 columns):\n",
            " #   Column                  Non-Null Count  Dtype  \n",
            "---  ------                  --------------  -----  \n",
            " 0   Country Name            16632 non-null  object \n",
            " 1   Country Code            16758 non-null  object \n",
            " 2   Year                    16758 non-null  object \n",
            " 3   Value added (% of GDP)  10277 non-null  float64\n",
            "dtypes: float64(1), object(3)\n",
            "memory usage: 523.8+ KB\n"
          ]
        }
      ],
      "source": [
        "# Removing the two columns that are not required\n",
        "agr_pib_df_c = agr_pib_df.drop(['Indicator Name', 'Indicator Code'], axis=1)\n",
        "agr_pib_df_c.info()"
      ]
    },
    {
      "cell_type": "code",
      "execution_count": null,
      "id": "f671d877-44ec-4a14-b9bd-b02d551d6021",
      "metadata": {
        "id": "f671d877-44ec-4a14-b9bd-b02d551d6021",
        "outputId": "b867286c-e81f-48a7-c5f9-ca797dff4563"
      },
      "outputs": [
        {
          "name": "stdout",
          "output_type": "stream",
          "text": [
            "<class 'pandas.core.frame.DataFrame'>\n",
            "Int64Index: 13566 entries, 2660 to 16225\n",
            "Data columns (total 4 columns):\n",
            " #   Column                  Non-Null Count  Dtype  \n",
            "---  ------                  --------------  -----  \n",
            " 0   Country Name            13464 non-null  object \n",
            " 1   Country Code            13566 non-null  object \n",
            " 2   Year                    13566 non-null  object \n",
            " 3   Value added (% of GDP)  9396 non-null   float64\n",
            "dtypes: float64(1), object(3)\n",
            "memory usage: 529.9+ KB\n"
          ]
        }
      ],
      "source": [
        "# Filtering for Year between 1970 and 2020\n",
        "agr_pib_df_c = agr_pib_df_c[(agr_pib_df_c['Year']>= '1970') & (agr_pib_df_c['Year'] <= '2020')]\n",
        "agr_pib_df_c.info()"
      ]
    },
    {
      "cell_type": "code",
      "execution_count": null,
      "id": "e9be3847-a602-4508-9e55-f1527676ee73",
      "metadata": {
        "id": "e9be3847-a602-4508-9e55-f1527676ee73",
        "outputId": "e3731791-927d-4af5-9d4b-3fe9206c1e92"
      },
      "outputs": [
        {
          "data": {
            "text/plain": [
              "['AFE', 'AFW']"
            ]
          },
          "execution_count": 16,
          "metadata": {},
          "output_type": "execute_result"
        }
      ],
      "source": [
        "# List of entity names with missing Code\n",
        "missing_country_nm = agr_pib_df_c[agr_pib_df_c['Country Name'].isna()]\n",
        "#missing_country_nm\n",
        "list_missing = missing_country_nm['Country Code'].unique().tolist()\n",
        "list_missing\n",
        "# AFE and AFW will be dropped since it is a cluster of countries and we are using only countries\n",
        "# AFE = Africa Eastern and Southern\n",
        "# AFW = Africa Western and Central"
      ]
    },
    {
      "cell_type": "code",
      "execution_count": null,
      "id": "1ef9117e-80fe-4077-9493-3feecb46d240",
      "metadata": {
        "id": "1ef9117e-80fe-4077-9493-3feecb46d240",
        "outputId": "b9e0fb1f-3cb1-459c-e572-509837feea80"
      },
      "outputs": [
        {
          "name": "stdout",
          "output_type": "stream",
          "text": [
            "<class 'pandas.core.frame.DataFrame'>\n",
            "Int64Index: 13464 entries, 2660 to 16225\n",
            "Data columns (total 4 columns):\n",
            " #   Column                  Non-Null Count  Dtype  \n",
            "---  ------                  --------------  -----  \n",
            " 0   Country Name            13464 non-null  object \n",
            " 1   Country Code            13464 non-null  object \n",
            " 2   Year                    13464 non-null  object \n",
            " 3   Value added (% of GDP)  9316 non-null   float64\n",
            "dtypes: float64(1), object(3)\n",
            "memory usage: 525.9+ KB\n"
          ]
        }
      ],
      "source": [
        "# Removing rows with null in Country Name that represent AFE and AFW\n",
        "agr_pib_df_c = agr_pib_df_c.dropna(subset=['Country Name'])\n",
        "agr_pib_df_c.info()"
      ]
    },
    {
      "cell_type": "code",
      "execution_count": null,
      "id": "af5682b2-0088-4f77-abca-3539ee5f7924",
      "metadata": {
        "id": "af5682b2-0088-4f77-abca-3539ee5f7924",
        "outputId": "691bba78-7ae7-4a2d-e291-ea52c4bfc68b"
      },
      "outputs": [
        {
          "name": "stdout",
          "output_type": "stream",
          "text": [
            "<class 'pandas.core.frame.DataFrame'>\n",
            "Int64Index: 13464 entries, 2660 to 16225\n",
            "Data columns (total 4 columns):\n",
            " #   Column                  Non-Null Count  Dtype  \n",
            "---  ------                  --------------  -----  \n",
            " 0   Country Name            13464 non-null  object \n",
            " 1   Country Code            13464 non-null  object \n",
            " 2   Year                    13464 non-null  int64  \n",
            " 3   Value added (% of GDP)  9316 non-null   float64\n",
            "dtypes: float64(1), int64(1), object(2)\n",
            "memory usage: 525.9+ KB\n"
          ]
        }
      ],
      "source": [
        "# Modifying Year type from string to int\n",
        "agr_pib_df_c = agr_pib_df_c.astype({'Year': 'int64'})\n",
        "agr_pib_df_c.info()"
      ]
    },
    {
      "cell_type": "code",
      "execution_count": null,
      "id": "f9712187-3bdc-4dee-bcd9-7171aaf31225",
      "metadata": {
        "id": "f9712187-3bdc-4dee-bcd9-7171aaf31225",
        "outputId": "eccf820b-8ddf-4dbd-ddaf-290f90ea50ed"
      },
      "outputs": [
        {
          "data": {
            "text/plain": [
              "Country Name              175\n",
              "Country Code              175\n",
              "Year                       51\n",
              "Value added (% of GDP)      0\n",
              "dtype: int64"
            ]
          },
          "execution_count": 19,
          "metadata": {},
          "output_type": "execute_result"
        }
      ],
      "source": [
        "# DF of missing values for Country Name and Country Code\n",
        "missing_value_agr_pib = agr_pib_df_c[agr_pib_df_c[\"Value added (% of GDP)\"].isna()]\n",
        "missing_value_agr_pib.nunique()"
      ]
    },
    {
      "cell_type": "markdown",
      "id": "402cf01d-d6ba-4954-b8e8-c0d17d4d1bfd",
      "metadata": {
        "id": "402cf01d-d6ba-4954-b8e8-c0d17d4d1bfd"
      },
      "source": [
        "### Joining both agriculture values"
      ]
    },
    {
      "cell_type": "code",
      "execution_count": null,
      "id": "0ca0c8cd-3dc5-4e47-88e8-ddca8668563b",
      "metadata": {
        "id": "0ca0c8cd-3dc5-4e47-88e8-ddca8668563b",
        "outputId": "e0053157-8387-47fd-af41-f9a70e0d8cb0"
      },
      "outputs": [
        {
          "name": "stdout",
          "output_type": "stream",
          "text": [
            "<class 'pandas.core.frame.DataFrame'>\n",
            "Int64Index: 13464 entries, 0 to 13463\n",
            "Data columns (total 5 columns):\n",
            " #   Column                                     Non-Null Count  Dtype  \n",
            "---  ------                                     --------------  -----  \n",
            " 0   Country Name                               13464 non-null  object \n",
            " 1   Country Code                               13464 non-null  object \n",
            " 2   Year                                       13464 non-null  int64  \n",
            " 3   Value added (US$ at constant 2010 prices)  8758 non-null   float64\n",
            " 4   Value added (% of GDP)                     9316 non-null   float64\n",
            "dtypes: float64(2), int64(1), object(2)\n",
            "memory usage: 631.1+ KB\n"
          ]
        }
      ],
      "source": [
        "# Outer join to include all rows from both tables\n",
        "agr_c = agr_df_c.merge(agr_pib_df_c, on =['Country Name', 'Country Code', 'Year'], how= 'outer')\n",
        "agr_c.info()"
      ]
    },
    {
      "cell_type": "code",
      "execution_count": null,
      "id": "6154a9e4-5866-4e74-b38a-fe41a7c6646d",
      "metadata": {
        "id": "6154a9e4-5866-4e74-b38a-fe41a7c6646d",
        "outputId": "28a16d60-78a4-4d7a-ada7-80180a75ab80"
      },
      "outputs": [
        {
          "data": {
            "image/png": "[encoded data removed]",
            "text/plain": [
              "<Figure size 432x288 with 1 Axes>"
            ]
          },
          "metadata": {
            "needs_background": "light"
          },
          "output_type": "display_data"
        }
      ],
      "source": [
        "agr_c.isna().sum().plot(kind='bar')\n",
        "plt.show()"
      ]
    },
    {
      "cell_type": "code",
      "execution_count": null,
      "id": "100ba928-2c5f-4101-b3f1-f5f049ac5872",
      "metadata": {
        "id": "100ba928-2c5f-4101-b3f1-f5f049ac5872",
        "outputId": "e5d67d31-45bc-4945-db6f-0e3fbf2ba573"
      },
      "outputs": [
        {
          "data": {
            "text/html": [
              "<div>\n",
              "<style scoped>\n",
              "    .dataframe tbody tr th:only-of-type {\n",
              "        vertical-align: middle;\n",
              "    }\n",
              "\n",
              "    .dataframe tbody tr th {\n",
              "        vertical-align: top;\n",
              "    }\n",
              "\n",
              "    .dataframe thead th {\n",
              "        text-align: right;\n",
              "    }\n",
              "</style>\n",
              "<table border=\"1\" class=\"dataframe\">\n",
              "  <thead>\n",
              "    <tr style=\"text-align: right;\">\n",
              "      <th></th>\n",
              "      <th>Country Name</th>\n",
              "      <th>Country Code</th>\n",
              "      <th>Year</th>\n",
              "      <th>Value added (US$ at constant 2010 prices)</th>\n",
              "      <th>Value added (% of GDP)</th>\n",
              "    </tr>\n",
              "  </thead>\n",
              "  <tbody>\n",
              "    <tr>\n",
              "      <th>0</th>\n",
              "      <td>Aruba</td>\n",
              "      <td>ABW</td>\n",
              "      <td>1970</td>\n",
              "      <td>NaN</td>\n",
              "      <td>NaN</td>\n",
              "    </tr>\n",
              "    <tr>\n",
              "      <th>1</th>\n",
              "      <td>Afganistán</td>\n",
              "      <td>AFG</td>\n",
              "      <td>1970</td>\n",
              "      <td>NaN</td>\n",
              "      <td>NaN</td>\n",
              "    </tr>\n",
              "    <tr>\n",
              "      <th>2</th>\n",
              "      <td>Angola</td>\n",
              "      <td>AGO</td>\n",
              "      <td>1970</td>\n",
              "      <td>NaN</td>\n",
              "      <td>NaN</td>\n",
              "    </tr>\n",
              "  </tbody>\n",
              "</table>\n",
              "</div>"
            ],
            "text/plain": [
              "  Country Name Country Code  Year  Value added (US$ at constant 2010 prices)  \\\n",
              "0        Aruba          ABW  1970                                        NaN   \n",
              "1   Afganistán          AFG  1970                                        NaN   \n",
              "2       Angola          AGO  1970                                        NaN   \n",
              "\n",
              "   Value added (% of GDP)  \n",
              "0                     NaN  \n",
              "1                     NaN  \n",
              "2                     NaN  "
            ]
          },
          "execution_count": 22,
          "metadata": {},
          "output_type": "execute_result"
        }
      ],
      "source": [
        "agr_c.head(3)"
      ]
    },
    {
      "cell_type": "code",
      "execution_count": null,
      "id": "19f0a598-f6d6-4739-8f27-f40492e7c6aa",
      "metadata": {
        "id": "19f0a598-f6d6-4739-8f27-f40492e7c6aa"
      },
      "outputs": [],
      "source": [
        "#agr_c.to_csv('agriculture.csv')"
      ]
    }
  ],
  "metadata": {
    "kernelspec": {
      "display_name": "mlenv",
      "language": "python",
      "name": "mlenv"
    },
    "language_info": {
      "codemirror_mode": {
        "name": "ipython",
        "version": 3
      },
      "file_extension": ".py",
      "mimetype": "text/x-python",
      "name": "python",
      "nbconvert_exporter": "python",
      "pygments_lexer": "ipython3",
      "version": "3.7.13"
    },
    "colab": {
      "name": "agriculture.ipynb",
      "provenance": []
    }
  },
  "nbformat": 4,
  "nbformat_minor": 5
}