{
 "cells": [
  {
   "cell_type": "code",
   "execution_count": 28,
   "id": "ce0f2439-f47a-488a-a2d5-05809e043d57",
   "metadata": {},
   "outputs": [],
   "source": [
    "# Dependencies #Selene\n",
    "import pandas as pd\n",
    "import matplotlib.pyplot as plt"
   ]
  },
  {
   "cell_type": "code",
   "execution_count": 29,
   "id": "572fea32-a760-473d-8206-a6cadb38c1f2",
   "metadata": {},
   "outputs": [],
   "source": [
    "# Importing files\n",
    "pop_growth = '../resources/API_SP.POP.GROW_DS2_en_csv_v2_4353236.csv'\n",
    "pop_growth_df = pd.read_csv(pop_growth, skiprows=3)\n",
    "pop = '../resources/API_SP.POP.TOTL_DS2_en_csv_v2_4335082.csv'\n",
    "pop_df = pd.read_csv(pop, skiprows=3)"
   ]
  },
  {
   "cell_type": "markdown",
   "id": "248db9f2-8e47-4404-b851-5d7eeae0c2b2",
   "metadata": {},
   "source": [
    "## Population Growth"
   ]
  },
  {
   "cell_type": "code",
   "execution_count": 30,
   "id": "ea4741c9-d777-435c-b029-2d547655e656",
   "metadata": {},
   "outputs": [
    {
     "data": {
      "text/html": [
       "<div>\n",
       "<style scoped>\n",
       "    .dataframe tbody tr th:only-of-type {\n",
       "        vertical-align: middle;\n",
       "    }\n",
       "\n",
       "    .dataframe tbody tr th {\n",
       "        vertical-align: top;\n",
       "    }\n",
       "\n",
       "    .dataframe thead th {\n",
       "        text-align: right;\n",
       "    }\n",
       "</style>\n",
       "<table border=\"1\" class=\"dataframe\">\n",
       "  <thead>\n",
       "    <tr style=\"text-align: right;\">\n",
       "      <th></th>\n",
       "      <th>Unnamed: 0</th>\n",
       "      <th>Unnamed: 1</th>\n",
       "      <th>Unnamed: 2</th>\n",
       "      <th>Unnamed: 3</th>\n",
       "      <th>Unnamed: 4</th>\n",
       "      <th>Unnamed: 5</th>\n",
       "      <th>Unnamed: 6</th>\n",
       "      <th>Unnamed: 7</th>\n",
       "      <th>Unnamed: 8</th>\n",
       "      <th>Unnamed: 9</th>\n",
       "      <th>...</th>\n",
       "      <th>Unnamed: 56</th>\n",
       "      <th>Unnamed: 57</th>\n",
       "      <th>Unnamed: 58</th>\n",
       "      <th>Unnamed: 59</th>\n",
       "      <th>Unnamed: 60</th>\n",
       "      <th>Unnamed: 61</th>\n",
       "      <th>Unnamed: 62</th>\n",
       "      <th>Unnamed: 63</th>\n",
       "      <th>Unnamed: 64</th>\n",
       "      <th>Unnamed: 65</th>\n",
       "    </tr>\n",
       "  </thead>\n",
       "  <tbody>\n",
       "    <tr>\n",
       "      <th>0</th>\n",
       "      <td>Country Name</td>\n",
       "      <td>Country Code</td>\n",
       "      <td>Indicator Name</td>\n",
       "      <td>Indicator Code</td>\n",
       "      <td>1960.0</td>\n",
       "      <td>1961.000000</td>\n",
       "      <td>1962.000000</td>\n",
       "      <td>1963.000000</td>\n",
       "      <td>1964.000000</td>\n",
       "      <td>1965.000000</td>\n",
       "      <td>...</td>\n",
       "      <td>2012.000000</td>\n",
       "      <td>2013.000000</td>\n",
       "      <td>2014.000000</td>\n",
       "      <td>2015.000000</td>\n",
       "      <td>2016.000000</td>\n",
       "      <td>2017.000000</td>\n",
       "      <td>2018.000000</td>\n",
       "      <td>2019.000000</td>\n",
       "      <td>2020.000000</td>\n",
       "      <td>2021.000000</td>\n",
       "    </tr>\n",
       "    <tr>\n",
       "      <th>1</th>\n",
       "      <td>Aruba</td>\n",
       "      <td>ABW</td>\n",
       "      <td>Population growth (annual %)</td>\n",
       "      <td>SP.POP.GROW</td>\n",
       "      <td>NaN</td>\n",
       "      <td>2.236462</td>\n",
       "      <td>1.432843</td>\n",
       "      <td>0.823502</td>\n",
       "      <td>0.580334</td>\n",
       "      <td>0.573498</td>\n",
       "      <td>...</td>\n",
       "      <td>0.503385</td>\n",
       "      <td>0.583290</td>\n",
       "      <td>0.590508</td>\n",
       "      <td>0.541048</td>\n",
       "      <td>0.502860</td>\n",
       "      <td>0.471874</td>\n",
       "      <td>0.459266</td>\n",
       "      <td>0.437415</td>\n",
       "      <td>0.428017</td>\n",
       "      <td>0.401008</td>\n",
       "    </tr>\n",
       "    <tr>\n",
       "      <th>2</th>\n",
       "      <td>Africa Eastern and Southern</td>\n",
       "      <td>AFE</td>\n",
       "      <td>Population growth (annual %)</td>\n",
       "      <td>SP.POP.GROW</td>\n",
       "      <td>NaN</td>\n",
       "      <td>2.539822</td>\n",
       "      <td>2.575182</td>\n",
       "      <td>2.606839</td>\n",
       "      <td>2.633213</td>\n",
       "      <td>2.656488</td>\n",
       "      <td>...</td>\n",
       "      <td>2.763426</td>\n",
       "      <td>2.761496</td>\n",
       "      <td>2.750400</td>\n",
       "      <td>2.732598</td>\n",
       "      <td>2.712218</td>\n",
       "      <td>2.690902</td>\n",
       "      <td>2.665620</td>\n",
       "      <td>2.636666</td>\n",
       "      <td>2.605427</td>\n",
       "      <td>2.572461</td>\n",
       "    </tr>\n",
       "    <tr>\n",
       "      <th>3</th>\n",
       "      <td>Afghanistan</td>\n",
       "      <td>AFG</td>\n",
       "      <td>Population growth (annual %)</td>\n",
       "      <td>SP.POP.GROW</td>\n",
       "      <td>NaN</td>\n",
       "      <td>1.898499</td>\n",
       "      <td>1.965805</td>\n",
       "      <td>2.029830</td>\n",
       "      <td>2.090208</td>\n",
       "      <td>2.147639</td>\n",
       "      <td>...</td>\n",
       "      <td>3.407600</td>\n",
       "      <td>3.494592</td>\n",
       "      <td>3.355602</td>\n",
       "      <td>3.077054</td>\n",
       "      <td>2.778035</td>\n",
       "      <td>2.547833</td>\n",
       "      <td>2.384309</td>\n",
       "      <td>2.313073</td>\n",
       "      <td>2.303812</td>\n",
       "      <td>2.303412</td>\n",
       "    </tr>\n",
       "    <tr>\n",
       "      <th>4</th>\n",
       "      <td>Africa Western and Central</td>\n",
       "      <td>AFW</td>\n",
       "      <td>Population growth (annual %)</td>\n",
       "      <td>SP.POP.GROW</td>\n",
       "      <td>NaN</td>\n",
       "      <td>2.085972</td>\n",
       "      <td>2.133725</td>\n",
       "      <td>2.173361</td>\n",
       "      <td>2.202845</td>\n",
       "      <td>2.226134</td>\n",
       "      <td>...</td>\n",
       "      <td>2.763803</td>\n",
       "      <td>2.753564</td>\n",
       "      <td>2.745542</td>\n",
       "      <td>2.738332</td>\n",
       "      <td>2.730332</td>\n",
       "      <td>2.719330</td>\n",
       "      <td>2.704168</td>\n",
       "      <td>2.684152</td>\n",
       "      <td>2.660902</td>\n",
       "      <td>2.636291</td>\n",
       "    </tr>\n",
       "  </tbody>\n",
       "</table>\n",
       "<p>5 rows × 66 columns</p>\n",
       "</div>"
      ],
      "text/plain": [
       "                    Unnamed: 0    Unnamed: 1                    Unnamed: 2  \\\n",
       "0                 Country Name  Country Code                Indicator Name   \n",
       "1                        Aruba           ABW  Population growth (annual %)   \n",
       "2  Africa Eastern and Southern           AFE  Population growth (annual %)   \n",
       "3                  Afghanistan           AFG  Population growth (annual %)   \n",
       "4   Africa Western and Central           AFW  Population growth (annual %)   \n",
       "\n",
       "       Unnamed: 3  Unnamed: 4   Unnamed: 5   Unnamed: 6   Unnamed: 7  \\\n",
       "0  Indicator Code      1960.0  1961.000000  1962.000000  1963.000000   \n",
       "1     SP.POP.GROW         NaN     2.236462     1.432843     0.823502   \n",
       "2     SP.POP.GROW         NaN     2.539822     2.575182     2.606839   \n",
       "3     SP.POP.GROW         NaN     1.898499     1.965805     2.029830   \n",
       "4     SP.POP.GROW         NaN     2.085972     2.133725     2.173361   \n",
       "\n",
       "    Unnamed: 8   Unnamed: 9  ...  Unnamed: 56  Unnamed: 57  Unnamed: 58  \\\n",
       "0  1964.000000  1965.000000  ...  2012.000000  2013.000000  2014.000000   \n",
       "1     0.580334     0.573498  ...     0.503385     0.583290     0.590508   \n",
       "2     2.633213     2.656488  ...     2.763426     2.761496     2.750400   \n",
       "3     2.090208     2.147639  ...     3.407600     3.494592     3.355602   \n",
       "4     2.202845     2.226134  ...     2.763803     2.753564     2.745542   \n",
       "\n",
       "   Unnamed: 59  Unnamed: 60  Unnamed: 61  Unnamed: 62  Unnamed: 63  \\\n",
       "0  2015.000000  2016.000000  2017.000000  2018.000000  2019.000000   \n",
       "1     0.541048     0.502860     0.471874     0.459266     0.437415   \n",
       "2     2.732598     2.712218     2.690902     2.665620     2.636666   \n",
       "3     3.077054     2.778035     2.547833     2.384309     2.313073   \n",
       "4     2.738332     2.730332     2.719330     2.704168     2.684152   \n",
       "\n",
       "   Unnamed: 64  Unnamed: 65  \n",
       "0  2020.000000  2021.000000  \n",
       "1     0.428017     0.401008  \n",
       "2     2.605427     2.572461  \n",
       "3     2.303812     2.303412  \n",
       "4     2.660902     2.636291  \n",
       "\n",
       "[5 rows x 66 columns]"
      ]
     },
     "execution_count": 30,
     "metadata": {},
     "output_type": "execute_result"
    }
   ],
   "source": [
    "# Viewing DF structure \n",
    "pop_growth_df.head(5)"
   ]
  },
  {
   "cell_type": "code",
   "execution_count": 31,
   "id": "7009ab38-3cdc-42dc-8ba0-16c8a84a37a2",
   "metadata": {},
   "outputs": [],
   "source": [
    "# Setting index 0 row as header\n",
    "pop_growth_df = pop_growth_df.rename(columns=pop_growth_df.iloc[0]).drop(pop_growth_df.index[0])"
   ]
  },
  {
   "cell_type": "code",
   "execution_count": 32,
   "id": "f208dbad-26ae-4d72-9f18-6cdd7200a5e7",
   "metadata": {},
   "outputs": [],
   "source": [
    "# Setting year columns into one column Year\n",
    "pop_growth_df = pop_growth_df.melt(id_vars=['Country Name', 'Country Code', 'Indicator Name', 'Indicator Code'],\n",
    "                    var_name='Year', value_name=\"Population Growth_annual_%\")"
   ]
  },
  {
   "cell_type": "code",
   "execution_count": 33,
   "id": "e1c4ec56-98cd-4cf1-b53f-ef222b2f7d94",
   "metadata": {
    "scrolled": true
   },
   "outputs": [
    {
     "name": "stdout",
     "output_type": "stream",
     "text": [
      "<class 'pandas.core.frame.DataFrame'>\n",
      "RangeIndex: 16492 entries, 0 to 16491\n",
      "Data columns (total 4 columns):\n",
      " #   Column                      Non-Null Count  Dtype  \n",
      "---  ------                      --------------  -----  \n",
      " 0   Country Name                16492 non-null  object \n",
      " 1   Country Code                16492 non-null  object \n",
      " 2   Year                        16492 non-null  object \n",
      " 3   Population Growth_annual_%  16120 non-null  float64\n",
      "dtypes: float64(1), object(3)\n",
      "memory usage: 515.5+ KB\n"
     ]
    }
   ],
   "source": [
    "# Removing unecessary columns for the analysis\n",
    "pop_growth_df_c = pop_growth_df.drop(['Indicator Name', 'Indicator Code'], axis=1)\n",
    "pop_growth_df_c.info()"
   ]
  },
  {
   "cell_type": "code",
   "execution_count": 34,
   "id": "9411fecd-045a-48a7-bbe4-81fada2e3a00",
   "metadata": {},
   "outputs": [],
   "source": [
    "# Year data type from string to int64\n",
    "pop_growth_df_c = pop_growth_df_c.astype({'Year': 'int64'})"
   ]
  },
  {
   "cell_type": "markdown",
   "id": "ac36bc37",
   "metadata": {},
   "source": [
    "### Year filter"
   ]
  },
  {
   "cell_type": "code",
   "execution_count": 35,
   "id": "fd171dcc-693d-432b-a6e1-f97815071a72",
   "metadata": {},
   "outputs": [
    {
     "name": "stdout",
     "output_type": "stream",
     "text": [
      "<class 'pandas.core.frame.DataFrame'>\n",
      "Int64Index: 13566 entries, 2660 to 16225\n",
      "Data columns (total 4 columns):\n",
      " #   Column                      Non-Null Count  Dtype  \n",
      "---  ------                      --------------  -----  \n",
      " 0   Country Name                13566 non-null  object \n",
      " 1   Country Code                13566 non-null  object \n",
      " 2   Year                        13566 non-null  int64  \n",
      " 3   Population Growth_annual_%  13480 non-null  float64\n",
      "dtypes: float64(1), int64(1), object(2)\n",
      "memory usage: 529.9+ KB\n"
     ]
    }
   ],
   "source": [
    "#Filtering data from 1970 to 2020\n",
    "pop_growth_df_c = pop_growth_df_c[(pop_growth_df_c['Year'] >= 1970) & (pop_growth_df_c['Year'] <= 2020)]\n",
    "pop_growth_df_c.info()"
   ]
  },
  {
   "cell_type": "markdown",
   "id": "53ff1184",
   "metadata": {},
   "source": [
    "### Dropping unnecesary clusters"
   ]
  },
  {
   "cell_type": "code",
   "execution_count": 36,
   "id": "6bb3b280-1994-481c-91d5-c66ea3695066",
   "metadata": {},
   "outputs": [],
   "source": [
    "# AFE (Africa Eastern and Southern) and AFW (Africa Western and Central) will be dropped since it is a cluster of countries and we are using only countries\n",
    "pop_growth_df_c = pop_growth_df_c[pop_growth_df_c['Country Code'].str.contains('AFE|AFW')==False]"
   ]
  },
  {
   "cell_type": "code",
   "execution_count": 37,
   "id": "f642dcef-dfdf-4ddf-a1e3-d615a41e7235",
   "metadata": {},
   "outputs": [
    {
     "name": "stdout",
     "output_type": "stream",
     "text": [
      "<class 'pandas.core.frame.DataFrame'>\n",
      "Int64Index: 13464 entries, 2660 to 16225\n",
      "Data columns (total 4 columns):\n",
      " #   Column                      Non-Null Count  Dtype  \n",
      "---  ------                      --------------  -----  \n",
      " 0   Country Name                13464 non-null  object \n",
      " 1   Country Code                13464 non-null  object \n",
      " 2   Year                        13464 non-null  int64  \n",
      " 3   Population Growth_annual_%  13378 non-null  float64\n",
      "dtypes: float64(1), int64(1), object(2)\n",
      "memory usage: 525.9+ KB\n"
     ]
    }
   ],
   "source": [
    "# checking variables type\n",
    "pop_growth_df_c.info()"
   ]
  },
  {
   "cell_type": "markdown",
   "id": "3b6f7f4a-252e-4587-9889-2d8166810f64",
   "metadata": {},
   "source": [
    "## Population Aboslute Values"
   ]
  },
  {
   "cell_type": "code",
   "execution_count": 38,
   "id": "b0d7b1d8-2cad-4b46-a904-fc8f2bcfde18",
   "metadata": {
    "scrolled": true
   },
   "outputs": [
    {
     "data": {
      "text/html": [
       "<div>\n",
       "<style scoped>\n",
       "    .dataframe tbody tr th:only-of-type {\n",
       "        vertical-align: middle;\n",
       "    }\n",
       "\n",
       "    .dataframe tbody tr th {\n",
       "        vertical-align: top;\n",
       "    }\n",
       "\n",
       "    .dataframe thead th {\n",
       "        text-align: right;\n",
       "    }\n",
       "</style>\n",
       "<table border=\"1\" class=\"dataframe\">\n",
       "  <thead>\n",
       "    <tr style=\"text-align: right;\">\n",
       "      <th></th>\n",
       "      <th>Country Name</th>\n",
       "      <th>Country Code</th>\n",
       "      <th>Indicator Name</th>\n",
       "      <th>Indicator Code</th>\n",
       "      <th>1960</th>\n",
       "      <th>1961</th>\n",
       "      <th>1962</th>\n",
       "      <th>1963</th>\n",
       "      <th>1964</th>\n",
       "      <th>1965</th>\n",
       "      <th>...</th>\n",
       "      <th>2013</th>\n",
       "      <th>2014</th>\n",
       "      <th>2015</th>\n",
       "      <th>2016</th>\n",
       "      <th>2017</th>\n",
       "      <th>2018</th>\n",
       "      <th>2019</th>\n",
       "      <th>2020</th>\n",
       "      <th>2021</th>\n",
       "      <th>Unnamed: 66</th>\n",
       "    </tr>\n",
       "  </thead>\n",
       "  <tbody>\n",
       "    <tr>\n",
       "      <th>0</th>\n",
       "      <td>Aruba</td>\n",
       "      <td>ABW</td>\n",
       "      <td>Population, total</td>\n",
       "      <td>SP.POP.TOTL</td>\n",
       "      <td>54208.0</td>\n",
       "      <td>55434.0</td>\n",
       "      <td>56234.0</td>\n",
       "      <td>56699.0</td>\n",
       "      <td>57029.0</td>\n",
       "      <td>57357.0</td>\n",
       "      <td>...</td>\n",
       "      <td>103165.0</td>\n",
       "      <td>103776.0</td>\n",
       "      <td>104339.0</td>\n",
       "      <td>104865.0</td>\n",
       "      <td>105361.0</td>\n",
       "      <td>105846.0</td>\n",
       "      <td>106310.0</td>\n",
       "      <td>106766.0</td>\n",
       "      <td>107195.0</td>\n",
       "      <td>NaN</td>\n",
       "    </tr>\n",
       "    <tr>\n",
       "      <th>1</th>\n",
       "      <td>Africa Eastern and Southern</td>\n",
       "      <td>AFE</td>\n",
       "      <td>Population, total</td>\n",
       "      <td>SP.POP.TOTL</td>\n",
       "      <td>130836765.0</td>\n",
       "      <td>134159786.0</td>\n",
       "      <td>137614644.0</td>\n",
       "      <td>141202036.0</td>\n",
       "      <td>144920186.0</td>\n",
       "      <td>148769974.0</td>\n",
       "      <td>...</td>\n",
       "      <td>562601578.0</td>\n",
       "      <td>578075373.0</td>\n",
       "      <td>593871847.0</td>\n",
       "      <td>609978946.0</td>\n",
       "      <td>626392880.0</td>\n",
       "      <td>643090131.0</td>\n",
       "      <td>660046272.0</td>\n",
       "      <td>677243299.0</td>\n",
       "      <td>694665117.0</td>\n",
       "      <td>NaN</td>\n",
       "    </tr>\n",
       "    <tr>\n",
       "      <th>2</th>\n",
       "      <td>Afghanistan</td>\n",
       "      <td>AFG</td>\n",
       "      <td>Population, total</td>\n",
       "      <td>SP.POP.TOTL</td>\n",
       "      <td>8996967.0</td>\n",
       "      <td>9169406.0</td>\n",
       "      <td>9351442.0</td>\n",
       "      <td>9543200.0</td>\n",
       "      <td>9744772.0</td>\n",
       "      <td>9956318.0</td>\n",
       "      <td>...</td>\n",
       "      <td>32269592.0</td>\n",
       "      <td>33370804.0</td>\n",
       "      <td>34413603.0</td>\n",
       "      <td>35383028.0</td>\n",
       "      <td>36296111.0</td>\n",
       "      <td>37171922.0</td>\n",
       "      <td>38041757.0</td>\n",
       "      <td>38928341.0</td>\n",
       "      <td>39835428.0</td>\n",
       "      <td>NaN</td>\n",
       "    </tr>\n",
       "    <tr>\n",
       "      <th>3</th>\n",
       "      <td>Africa Western and Central</td>\n",
       "      <td>AFW</td>\n",
       "      <td>Population, total</td>\n",
       "      <td>SP.POP.TOTL</td>\n",
       "      <td>96396419.0</td>\n",
       "      <td>98407221.0</td>\n",
       "      <td>100506960.0</td>\n",
       "      <td>102691339.0</td>\n",
       "      <td>104953470.0</td>\n",
       "      <td>107289875.0</td>\n",
       "      <td>...</td>\n",
       "      <td>380437896.0</td>\n",
       "      <td>390882979.0</td>\n",
       "      <td>401586651.0</td>\n",
       "      <td>412551299.0</td>\n",
       "      <td>423769930.0</td>\n",
       "      <td>435229381.0</td>\n",
       "      <td>446911598.0</td>\n",
       "      <td>458803476.0</td>\n",
       "      <td>470898870.0</td>\n",
       "      <td>NaN</td>\n",
       "    </tr>\n",
       "    <tr>\n",
       "      <th>4</th>\n",
       "      <td>Angola</td>\n",
       "      <td>AGO</td>\n",
       "      <td>Population, total</td>\n",
       "      <td>SP.POP.TOTL</td>\n",
       "      <td>5454938.0</td>\n",
       "      <td>5531451.0</td>\n",
       "      <td>5608499.0</td>\n",
       "      <td>5679409.0</td>\n",
       "      <td>5734995.0</td>\n",
       "      <td>5770573.0</td>\n",
       "      <td>...</td>\n",
       "      <td>26015786.0</td>\n",
       "      <td>26941773.0</td>\n",
       "      <td>27884380.0</td>\n",
       "      <td>28842482.0</td>\n",
       "      <td>29816769.0</td>\n",
       "      <td>30809787.0</td>\n",
       "      <td>31825299.0</td>\n",
       "      <td>32866268.0</td>\n",
       "      <td>33933611.0</td>\n",
       "      <td>NaN</td>\n",
       "    </tr>\n",
       "  </tbody>\n",
       "</table>\n",
       "<p>5 rows × 67 columns</p>\n",
       "</div>"
      ],
      "text/plain": [
       "                  Country Name Country Code     Indicator Name Indicator Code  \\\n",
       "0                        Aruba          ABW  Population, total    SP.POP.TOTL   \n",
       "1  Africa Eastern and Southern          AFE  Population, total    SP.POP.TOTL   \n",
       "2                  Afghanistan          AFG  Population, total    SP.POP.TOTL   \n",
       "3   Africa Western and Central          AFW  Population, total    SP.POP.TOTL   \n",
       "4                       Angola          AGO  Population, total    SP.POP.TOTL   \n",
       "\n",
       "          1960         1961         1962         1963         1964  \\\n",
       "0      54208.0      55434.0      56234.0      56699.0      57029.0   \n",
       "1  130836765.0  134159786.0  137614644.0  141202036.0  144920186.0   \n",
       "2    8996967.0    9169406.0    9351442.0    9543200.0    9744772.0   \n",
       "3   96396419.0   98407221.0  100506960.0  102691339.0  104953470.0   \n",
       "4    5454938.0    5531451.0    5608499.0    5679409.0    5734995.0   \n",
       "\n",
       "          1965  ...         2013         2014         2015         2016  \\\n",
       "0      57357.0  ...     103165.0     103776.0     104339.0     104865.0   \n",
       "1  148769974.0  ...  562601578.0  578075373.0  593871847.0  609978946.0   \n",
       "2    9956318.0  ...   32269592.0   33370804.0   34413603.0   35383028.0   \n",
       "3  107289875.0  ...  380437896.0  390882979.0  401586651.0  412551299.0   \n",
       "4    5770573.0  ...   26015786.0   26941773.0   27884380.0   28842482.0   \n",
       "\n",
       "          2017         2018         2019         2020         2021  \\\n",
       "0     105361.0     105846.0     106310.0     106766.0     107195.0   \n",
       "1  626392880.0  643090131.0  660046272.0  677243299.0  694665117.0   \n",
       "2   36296111.0   37171922.0   38041757.0   38928341.0   39835428.0   \n",
       "3  423769930.0  435229381.0  446911598.0  458803476.0  470898870.0   \n",
       "4   29816769.0   30809787.0   31825299.0   32866268.0   33933611.0   \n",
       "\n",
       "   Unnamed: 66  \n",
       "0          NaN  \n",
       "1          NaN  \n",
       "2          NaN  \n",
       "3          NaN  \n",
       "4          NaN  \n",
       "\n",
       "[5 rows x 67 columns]"
      ]
     },
     "execution_count": 38,
     "metadata": {},
     "output_type": "execute_result"
    }
   ],
   "source": [
    "# Viewing DF structure\n",
    "pop_df.head(5)"
   ]
  },
  {
   "cell_type": "code",
   "execution_count": 39,
   "id": "0b6de0b6-99af-42a7-a35c-35bc240081d1",
   "metadata": {},
   "outputs": [],
   "source": [
    "# Setting year columns into one column Year\n",
    "pop_df = pop_df.melt(id_vars=['Country Name', 'Country Code', 'Indicator Name', 'Indicator Code'],\n",
    "                    var_name='Year', value_name=\"Population Total\")"
   ]
  },
  {
   "cell_type": "code",
   "execution_count": 40,
   "id": "aba298a9-ef8f-4fd0-86d5-dbead2eea22c",
   "metadata": {},
   "outputs": [
    {
     "name": "stdout",
     "output_type": "stream",
     "text": [
      "<class 'pandas.core.frame.DataFrame'>\n",
      "RangeIndex: 16758 entries, 0 to 16757\n",
      "Data columns (total 4 columns):\n",
      " #   Column            Non-Null Count  Dtype  \n",
      "---  ------            --------------  -----  \n",
      " 0   Country Name      16758 non-null  object \n",
      " 1   Country Code      16758 non-null  object \n",
      " 2   Year              16758 non-null  object \n",
      " 3   Population Total  16387 non-null  float64\n",
      "dtypes: float64(1), object(3)\n",
      "memory usage: 523.8+ KB\n"
     ]
    }
   ],
   "source": [
    "# Removing unecessary columns (indicators)\n",
    "pop_df_c = pop_df.drop(['Indicator Name', 'Indicator Code'], axis=1)\n",
    "pop_df_c.info()"
   ]
  },
  {
   "cell_type": "code",
   "execution_count": 41,
   "id": "e0e83b19-8ab6-4173-94b6-ed0502016913",
   "metadata": {},
   "outputs": [
    {
     "name": "stdout",
     "output_type": "stream",
     "text": [
      "<class 'pandas.core.frame.DataFrame'>\n",
      "Int64Index: 13566 entries, 2660 to 16225\n",
      "Data columns (total 4 columns):\n",
      " #   Column            Non-Null Count  Dtype  \n",
      "---  ------            --------------  -----  \n",
      " 0   Country Name      13566 non-null  object \n",
      " 1   Country Code      13566 non-null  object \n",
      " 2   Year              13566 non-null  object \n",
      " 3   Population Total  13483 non-null  float64\n",
      "dtypes: float64(1), object(3)\n",
      "memory usage: 529.9+ KB\n"
     ]
    }
   ],
   "source": [
    "#Filtering data from 1970 to 2020\n",
    "pop_df_c = pop_df_c[(pop_df_c['Year'] >= '1970') & (pop_df_c['Year'] <= '2020')]\n",
    "pop_df_c.info()"
   ]
  },
  {
   "cell_type": "code",
   "execution_count": 42,
   "id": "1015cb15-82a9-474e-91f8-57e69c92bdf6",
   "metadata": {},
   "outputs": [],
   "source": [
    "# Changing date type variables.Year data type from string to int64\n",
    "pop_df_c = pop_df_c.astype({'Year': 'int64'})"
   ]
  },
  {
   "cell_type": "code",
   "execution_count": 43,
   "id": "7ac38baf-b6a8-4bcc-8745-8f81c8138def",
   "metadata": {},
   "outputs": [
    {
     "name": "stdout",
     "output_type": "stream",
     "text": [
      "<class 'pandas.core.frame.DataFrame'>\n",
      "Int64Index: 13464 entries, 2660 to 16225\n",
      "Data columns (total 4 columns):\n",
      " #   Column            Non-Null Count  Dtype  \n",
      "---  ------            --------------  -----  \n",
      " 0   Country Name      13464 non-null  object \n",
      " 1   Country Code      13464 non-null  object \n",
      " 2   Year              13464 non-null  int64  \n",
      " 3   Population Total  13381 non-null  float64\n",
      "dtypes: float64(1), int64(1), object(2)\n",
      "memory usage: 525.9+ KB\n"
     ]
    }
   ],
   "source": [
    "# AFE (Africa Eastern and Southern) and AFW (Africa Western and Central) will be dropped since it is a cluster of countries and we are using only countries\n",
    "pop_df_c = pop_df_c[pop_df_c['Country Code'].str.contains('AFE|AFW')==False]\n",
    "pop_df_c.info()"
   ]
  },
  {
   "cell_type": "markdown",
   "id": "8ad4c323-f21a-41a1-bf16-eb3b188e7dbe",
   "metadata": {},
   "source": [
    "## Merging both dataframes"
   ]
  },
  {
   "cell_type": "code",
   "execution_count": 44,
   "id": "44aacda6-2620-4c23-b067-5428fdf1f8d3",
   "metadata": {},
   "outputs": [
    {
     "name": "stdout",
     "output_type": "stream",
     "text": [
      "<class 'pandas.core.frame.DataFrame'>\n",
      "Int64Index: 13464 entries, 0 to 13463\n",
      "Data columns (total 5 columns):\n",
      " #   Column                      Non-Null Count  Dtype  \n",
      "---  ------                      --------------  -----  \n",
      " 0   Country Name                13464 non-null  object \n",
      " 1   Country Code                13464 non-null  object \n",
      " 2   Year                        13464 non-null  int64  \n",
      " 3   Population Growth_annual_%  13378 non-null  float64\n",
      " 4   Population Total            13381 non-null  float64\n",
      "dtypes: float64(2), int64(1), object(2)\n",
      "memory usage: 631.1+ KB\n"
     ]
    }
   ],
   "source": [
    "# Outer join to include all rows from both tables\n",
    "population = pop_growth_df_c.merge(pop_df_c, on =['Country Name', 'Country Code', 'Year'], how= 'outer')\n",
    "population.info()"
   ]
  },
  {
   "cell_type": "code",
   "execution_count": 45,
   "id": "a70e6610-704a-4d35-8f4b-3182677a4876",
   "metadata": {},
   "outputs": [
    {
     "data": {
      "image/png": "[encoded data removed]",
      "text/plain": [
       "<Figure size 432x288 with 1 Axes>"
      ]
     },
     "metadata": {
      "needs_background": "light"
     },
     "output_type": "display_data"
    }
   ],
   "source": [
    "population.isna().sum().plot(kind='bar')\n",
    "plt.show()"
   ]
  },
  {
   "cell_type": "code",
   "execution_count": 46,
   "id": "3393a550-75c6-4004-a8a3-b358243a3845",
   "metadata": {},
   "outputs": [
    {
     "data": {
      "text/html": [
       "<div>\n",
       "<style scoped>\n",
       "    .dataframe tbody tr th:only-of-type {\n",
       "        vertical-align: middle;\n",
       "    }\n",
       "\n",
       "    .dataframe tbody tr th {\n",
       "        vertical-align: top;\n",
       "    }\n",
       "\n",
       "    .dataframe thead th {\n",
       "        text-align: right;\n",
       "    }\n",
       "</style>\n",
       "<table border=\"1\" class=\"dataframe\">\n",
       "  <thead>\n",
       "    <tr style=\"text-align: right;\">\n",
       "      <th></th>\n",
       "      <th>Country Name</th>\n",
       "      <th>Country Code</th>\n",
       "      <th>Year</th>\n",
       "      <th>Population Growth_annual_%</th>\n",
       "      <th>Population Total</th>\n",
       "    </tr>\n",
       "  </thead>\n",
       "  <tbody>\n",
       "    <tr>\n",
       "      <th>0</th>\n",
       "      <td>Aruba</td>\n",
       "      <td>ABW</td>\n",
       "      <td>1970</td>\n",
       "      <td>0.570441</td>\n",
       "      <td>59070.0</td>\n",
       "    </tr>\n",
       "    <tr>\n",
       "      <th>1</th>\n",
       "      <td>Afghanistan</td>\n",
       "      <td>AFG</td>\n",
       "      <td>1970</td>\n",
       "      <td>2.536744</td>\n",
       "      <td>11173654.0</td>\n",
       "    </tr>\n",
       "    <tr>\n",
       "      <th>2</th>\n",
       "      <td>Angola</td>\n",
       "      <td>AGO</td>\n",
       "      <td>1970</td>\n",
       "      <td>1.482543</td>\n",
       "      <td>5890360.0</td>\n",
       "    </tr>\n",
       "  </tbody>\n",
       "</table>\n",
       "</div>"
      ],
      "text/plain": [
       "  Country Name Country Code  Year  Population Growth_annual_%  \\\n",
       "0        Aruba          ABW  1970                    0.570441   \n",
       "1  Afghanistan          AFG  1970                    2.536744   \n",
       "2       Angola          AGO  1970                    1.482543   \n",
       "\n",
       "   Population Total  \n",
       "0           59070.0  \n",
       "1        11173654.0  \n",
       "2         5890360.0  "
      ]
     },
     "execution_count": 46,
     "metadata": {},
     "output_type": "execute_result"
    }
   ],
   "source": [
    "population.head(3)"
   ]
  },
  {
   "cell_type": "code",
   "execution_count": 47,
   "id": "4cfa564d-1faa-4ce3-9105-d34c966409a4",
   "metadata": {},
   "outputs": [],
   "source": [
    "#Export dataframe to csv clean file \n",
    "#population.to_csv('population.csv')"
   ]
  },
  {
   "cell_type": "code",
   "execution_count": null,
   "id": "d09626dd",
   "metadata": {},
   "outputs": [],
   "source": []
  }
 ],
 "metadata": {
  "kernelspec": {
   "display_name": "Python 3 (ipykernel)",
   "language": "python",
   "name": "python3"
  },
  "language_info": {
   "codemirror_mode": {
    "name": "ipython",
    "version": 3
   },
   "file_extension": ".py",
   "mimetype": "text/x-python",
   "name": "python",
   "nbconvert_exporter": "python",
   "pygments_lexer": "ipython3",
   "version": "3.9.7"
  }
 },
 "nbformat": 4,
 "nbformat_minor": 5
}
