{
 "cells": [
  {
   "cell_type": "markdown",
   "id": "326c0e90",
   "metadata": {},
   "source": [
    "Temperature change\n",
    "\n",
    "The FAOSTAT Temperature Change domain disseminates statistics of mean surface temperature change by country, with annual updates. The current dissemination covers the period 1961–2020. Statistics are available for monthly, seasonal and annual mean temperature anomalies, i.e., temperature change with respect to a baseline climatology, corresponding to the period 1951–1980. Data are based on the publicly available GISTEMP data, the Global Surface Temperature Change data distributed by the National Aeronautics and Space Administration Goddard Institute for Space Studies (NASA-GISS)"
   ]
  },
  {
   "cell_type": "code",
   "execution_count": null,
   "id": "9ede8cd7",
   "metadata": {},
   "outputs": [],
   "source": [
    "#Dependencies\n",
    "import pandas as pd\n",
    "import matplotlib.pyplot as plt"
   ]
  },
  {
   "cell_type": "code",
   "execution_count": null,
   "id": "d1f6a9df",
   "metadata": {},
   "outputs": [],
   "source": [
    "#Importing file\n",
    "temp_chng = '../resources/FAOSTAT_data_en_8-14-2022.csv'\n",
    "temp_chng_df = pd.read_csv(temp_chng)"
   ]
  },
  {
   "cell_type": "code",
   "execution_count": null,
   "id": "9623b456",
   "metadata": {},
   "outputs": [],
   "source": [
    "temp_chng_df.info()"
   ]
  },
  {
   "cell_type": "code",
   "execution_count": null,
   "id": "e8037bc7",
   "metadata": {},
   "outputs": [],
   "source": [
    "temp_chng_df.head()"
   ]
  },
  {
   "cell_type": "code",
   "execution_count": null,
   "id": "7c36b896",
   "metadata": {},
   "outputs": [],
   "source": [
    "# Checking Columns to drop\n",
    "col_drop = temp_chng_df[['Domain Code','Domain', 'Element Code', 'Element', 'Months Code', 'Months']].drop_duplicates()\n",
    "col_drop.to_dict('records')"
   ]
  },
  {
   "cell_type": "code",
   "execution_count": null,
   "id": "102c00a1",
   "metadata": {},
   "outputs": [],
   "source": [
    "# Difference between Flags\n",
    "flag_f_desc = temp_chng_df[['Flag', 'Flag Description']].drop_duplicates()\n",
    "flag_f_desc.to_dict('records')"
   ]
  },
  {
   "cell_type": "code",
   "execution_count": null,
   "id": "ca91bccf",
   "metadata": {},
   "outputs": [],
   "source": [
    "# Validating if Year Code and Year column are the same\n",
    "temp_chng_df['Year Code'].equals(temp_chng_df['Year'])"
   ]
  },
  {
   "cell_type": "code",
   "execution_count": null,
   "id": "84451855",
   "metadata": {},
   "outputs": [],
   "source": [
    "# Rename columns\n",
    "temp_chng_df = temp_chng_df.rename(columns= {'Value': 'Temp Change (°C)'})\n",
    "#Removing unecessary columns\n",
    "temp_chng_df_c = temp_chng_df.drop(['Domain Code', 'Domain', 'Element Code', 'Element', 'Months Code', 'Months', 'Year Code'], axis=1)\n",
    "temp_chng_df_c.info()"
   ]
  },
  {
   "cell_type": "code",
   "execution_count": null,
   "id": "0067c58f",
   "metadata": {},
   "outputs": [],
   "source": [
    "#Filter years from 1970 to 2020\n",
    "temp_chng_df_c = temp_chng_df_c[(temp_chng_df_c['Year']>= 1970) & (temp_chng_df_c['Year']<= 2020)]\n",
    "temp_chng_df_c.info()"
   ]
  },
  {
   "cell_type": "code",
   "execution_count": null,
   "id": "cee249a2",
   "metadata": {},
   "outputs": [],
   "source": [
    "temp_chng_df_c.head(3)"
   ]
  },
  {
   "cell_type": "code",
   "execution_count": null,
   "id": "8c2f6fe8",
   "metadata": {},
   "outputs": [],
   "source": [
    "in_1970 = temp_chng_df_c['Year'] == 1970\n",
    "in_1980 = temp_chng_df_c['Year'] == 1980\n",
    "in_1990 = temp_chng_df_c['Year'] == 1990\n",
    "#in_1970.head()\n",
    "\n",
    "temp_ch_1970 = temp_chng_df_c[in_1970]\n",
    "temp_ch_1980 = temp_chng_df_c[in_1980]\n",
    "temp_ch_1990 = temp_chng_df_c[in_1990]\n",
    "\n",
    "temp_ch_1990.head()"
   ]
  },
  {
   "cell_type": "code",
   "execution_count": null,
   "id": "14e0a653",
   "metadata": {},
   "outputs": [],
   "source": [
    "import plotly.express as px\n",
    "fig = px.bar(temp_ch_1990, x=\"Area\", y=\"Temp Change (°C)\", title='Temp Change (°C)')\n",
    "fig.show()"
   ]
  },
  {
   "cell_type": "code",
   "execution_count": null,
   "id": "1c736511",
   "metadata": {},
   "outputs": [],
   "source": [
    "in_Mexico = temp_chng_df_c['Area'] == 'Mexico'\n",
    "temp_ch_mex = temp_chng_df_c[in_Mexico]"
   ]
  },
  {
   "cell_type": "code",
   "execution_count": null,
   "id": "b7e907c9",
   "metadata": {},
   "outputs": [],
   "source": []
  }
 ],
 "metadata": {
  "kernelspec": {
   "display_name": "mlenv",
   "language": "python",
   "name": "mlenv"
  },
  "language_info": {
   "codemirror_mode": {
    "name": "ipython",
    "version": 3
   },
   "file_extension": ".py",
   "mimetype": "text/x-python",
   "name": "python",
   "nbconvert_exporter": "python",
   "pygments_lexer": "ipython3",
   "version": "3.7.13"
  }
 },
 "nbformat": 4,
 "nbformat_minor": 5
}
