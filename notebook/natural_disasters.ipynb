{
 "cells": [
  {
   "cell_type": "code",
   "execution_count": 1,
   "id": "a61298ac-f1e8-4023-9e9f-2767abf81220",
   "metadata": {},
   "outputs": [],
   "source": [
    "# Dependencies\n",
    "import pandas as pd\n",
    "import numpy as np"
   ]
  },
  {
   "cell_type": "code",
   "execution_count": 2,
   "id": "9490e5b0-9a17-49d3-bbad-4cb7d375e898",
   "metadata": {},
   "outputs": [],
   "source": [
    "#File name into variable\n",
    "nat_disasters= '../resources/natural-disasters.csv'\n"
   ]
  },
  {
   "cell_type": "code",
   "execution_count": 3,
   "id": "80ea651e-1fb6-4e58-8e1b-7778553994a0",
   "metadata": {},
   "outputs": [],
   "source": [
    "# Reading csv to DF\n",
    "nat_disasters_df = pd.read_csv(nat_disasters)"
   ]
  },
  {
   "cell_type": "code",
   "execution_count": 4,
   "id": "b25e65fb-47b9-4ab5-8426-fd9d8a9bdae3",
   "metadata": {},
   "outputs": [
    {
     "data": {
      "text/html": [
       "<div>\n",
       "<style scoped>\n",
       "    .dataframe tbody tr th:only-of-type {\n",
       "        vertical-align: middle;\n",
       "    }\n",
       "\n",
       "    .dataframe tbody tr th {\n",
       "        vertical-align: top;\n",
       "    }\n",
       "\n",
       "    .dataframe thead th {\n",
       "        text-align: right;\n",
       "    }\n",
       "</style>\n",
       "<table border=\"1\" class=\"dataframe\">\n",
       "  <thead>\n",
       "    <tr style=\"text-align: right;\">\n",
       "      <th></th>\n",
       "      <th>Number of deaths from drought</th>\n",
       "      <th>Number of people injured from drought</th>\n",
       "      <th>Number of people affected from drought</th>\n",
       "      <th>Number of people left homeless from drought</th>\n",
       "      <th>Number of total people affected by drought</th>\n",
       "      <th>Reconstruction costs from drought</th>\n",
       "      <th>Insured damages against drought</th>\n",
       "      <th>Total economic damages from drought</th>\n",
       "      <th>Death rates from drought</th>\n",
       "      <th>Injury rates from drought</th>\n",
       "      <th>...</th>\n",
       "      <th>Total economic damages from extreme temperatures as a share of GDP</th>\n",
       "      <th>Total economic damages from floods as a share of GDP</th>\n",
       "      <th>Total economic damages from landslides as a share of GDP</th>\n",
       "      <th>Total economic damages from mass movements as a share of GDP</th>\n",
       "      <th>Total economic damages from storms as a share of GDP</th>\n",
       "      <th>Total economic damages from volcanic activity as a share of GDP</th>\n",
       "      <th>Total economic damages from volcanic activity as a share of GDP.1</th>\n",
       "      <th>Entity</th>\n",
       "      <th>Year</th>\n",
       "      <th>total_damages_pct_gdp_glacial_lake</th>\n",
       "    </tr>\n",
       "  </thead>\n",
       "  <tbody>\n",
       "    <tr>\n",
       "      <th>0</th>\n",
       "      <td>NaN</td>\n",
       "      <td>NaN</td>\n",
       "      <td>NaN</td>\n",
       "      <td>NaN</td>\n",
       "      <td>NaN</td>\n",
       "      <td>NaN</td>\n",
       "      <td>NaN</td>\n",
       "      <td>NaN</td>\n",
       "      <td>NaN</td>\n",
       "      <td>NaN</td>\n",
       "      <td>...</td>\n",
       "      <td>NaN</td>\n",
       "      <td>NaN</td>\n",
       "      <td>NaN</td>\n",
       "      <td>NaN</td>\n",
       "      <td>NaN</td>\n",
       "      <td>NaN</td>\n",
       "      <td>NaN</td>\n",
       "      <td>Afghanistan</td>\n",
       "      <td>1954</td>\n",
       "      <td>NaN</td>\n",
       "    </tr>\n",
       "    <tr>\n",
       "      <th>1</th>\n",
       "      <td>NaN</td>\n",
       "      <td>NaN</td>\n",
       "      <td>NaN</td>\n",
       "      <td>NaN</td>\n",
       "      <td>NaN</td>\n",
       "      <td>NaN</td>\n",
       "      <td>NaN</td>\n",
       "      <td>NaN</td>\n",
       "      <td>NaN</td>\n",
       "      <td>NaN</td>\n",
       "      <td>...</td>\n",
       "      <td>NaN</td>\n",
       "      <td>NaN</td>\n",
       "      <td>NaN</td>\n",
       "      <td>NaN</td>\n",
       "      <td>NaN</td>\n",
       "      <td>NaN</td>\n",
       "      <td>NaN</td>\n",
       "      <td>Afghanistan</td>\n",
       "      <td>1956</td>\n",
       "      <td>NaN</td>\n",
       "    </tr>\n",
       "    <tr>\n",
       "      <th>2</th>\n",
       "      <td>NaN</td>\n",
       "      <td>NaN</td>\n",
       "      <td>NaN</td>\n",
       "      <td>NaN</td>\n",
       "      <td>NaN</td>\n",
       "      <td>NaN</td>\n",
       "      <td>NaN</td>\n",
       "      <td>NaN</td>\n",
       "      <td>NaN</td>\n",
       "      <td>NaN</td>\n",
       "      <td>...</td>\n",
       "      <td>NaN</td>\n",
       "      <td>0.0</td>\n",
       "      <td>NaN</td>\n",
       "      <td>NaN</td>\n",
       "      <td>NaN</td>\n",
       "      <td>NaN</td>\n",
       "      <td>NaN</td>\n",
       "      <td>Afghanistan</td>\n",
       "      <td>1963</td>\n",
       "      <td>NaN</td>\n",
       "    </tr>\n",
       "  </tbody>\n",
       "</table>\n",
       "<p>3 rows × 169 columns</p>\n",
       "</div>"
      ],
      "text/plain": [
       "   Number of deaths from drought  Number of people injured from drought  \\\n",
       "0                            NaN                                    NaN   \n",
       "1                            NaN                                    NaN   \n",
       "2                            NaN                                    NaN   \n",
       "\n",
       "   Number of people affected from drought  \\\n",
       "0                                     NaN   \n",
       "1                                     NaN   \n",
       "2                                     NaN   \n",
       "\n",
       "   Number of people left homeless from drought  \\\n",
       "0                                          NaN   \n",
       "1                                          NaN   \n",
       "2                                          NaN   \n",
       "\n",
       "   Number of total people affected by drought  \\\n",
       "0                                         NaN   \n",
       "1                                         NaN   \n",
       "2                                         NaN   \n",
       "\n",
       "   Reconstruction costs from drought  Insured damages against drought  \\\n",
       "0                                NaN                              NaN   \n",
       "1                                NaN                              NaN   \n",
       "2                                NaN                              NaN   \n",
       "\n",
       "   Total economic damages from drought  Death rates from drought  \\\n",
       "0                                  NaN                       NaN   \n",
       "1                                  NaN                       NaN   \n",
       "2                                  NaN                       NaN   \n",
       "\n",
       "   Injury rates from drought  ...  \\\n",
       "0                        NaN  ...   \n",
       "1                        NaN  ...   \n",
       "2                        NaN  ...   \n",
       "\n",
       "   Total economic damages from extreme temperatures as a share of GDP  \\\n",
       "0                                                NaN                    \n",
       "1                                                NaN                    \n",
       "2                                                NaN                    \n",
       "\n",
       "   Total economic damages from floods as a share of GDP  \\\n",
       "0                                                NaN      \n",
       "1                                                NaN      \n",
       "2                                                0.0      \n",
       "\n",
       "   Total economic damages from landslides as a share of GDP  \\\n",
       "0                                                NaN          \n",
       "1                                                NaN          \n",
       "2                                                NaN          \n",
       "\n",
       "   Total economic damages from mass movements as a share of GDP  \\\n",
       "0                                                NaN              \n",
       "1                                                NaN              \n",
       "2                                                NaN              \n",
       "\n",
       "   Total economic damages from storms as a share of GDP  \\\n",
       "0                                                NaN      \n",
       "1                                                NaN      \n",
       "2                                                NaN      \n",
       "\n",
       "   Total economic damages from volcanic activity as a share of GDP  \\\n",
       "0                                                NaN                 \n",
       "1                                                NaN                 \n",
       "2                                                NaN                 \n",
       "\n",
       "   Total economic damages from volcanic activity as a share of GDP.1  \\\n",
       "0                                                NaN                   \n",
       "1                                                NaN                   \n",
       "2                                                NaN                   \n",
       "\n",
       "        Entity  Year  total_damages_pct_gdp_glacial_lake  \n",
       "0  Afghanistan  1954                                 NaN  \n",
       "1  Afghanistan  1956                                 NaN  \n",
       "2  Afghanistan  1963                                 NaN  \n",
       "\n",
       "[3 rows x 169 columns]"
      ]
     },
     "execution_count": 4,
     "metadata": {},
     "output_type": "execute_result"
    }
   ],
   "source": [
    "# Viewing data frame\n",
    "nat_disasters_df.head(3)"
   ]
  },
  {
   "cell_type": "code",
   "execution_count": 5,
   "id": "cca7ed74-367d-429a-9b7a-3baaf729fb8c",
   "metadata": {},
   "outputs": [
    {
     "data": {
      "text/plain": [
       "(5569, 169)"
      ]
     },
     "execution_count": 5,
     "metadata": {},
     "output_type": "execute_result"
    }
   ],
   "source": [
    "# Shape of DF\n",
    "nat_disasters_df.shape"
   ]
  },
  {
   "cell_type": "code",
   "execution_count": 6,
   "id": "40e140f0-9bf4-4e6c-92ec-230b3ff55b13",
   "metadata": {},
   "outputs": [],
   "source": [
    "# Filter data for Year between 1970 and 2020\n",
    "nat_disasters_df_c = nat_disasters_df[(nat_disasters_df['Year'] >= 1970) & (nat_disasters_df['Year'] <= 2020)]"
   ]
  },
  {
   "cell_type": "code",
   "execution_count": 7,
   "id": "32c3c7e8-91b1-471b-9271-327d84993258",
   "metadata": {},
   "outputs": [
    {
     "data": {
      "text/plain": [
       "(4540, 169)"
      ]
     },
     "execution_count": 7,
     "metadata": {},
     "output_type": "execute_result"
    }
   ],
   "source": [
    "#Checking shape after year filter\n",
    "nat_disasters_df_c.shape"
   ]
  },
  {
   "cell_type": "code",
   "execution_count": 8,
   "id": "e8a87f51-3995-47d6-8a49-ccd83b5ed204",
   "metadata": {},
   "outputs": [
    {
     "data": {
      "text/plain": [
       "False"
      ]
     },
     "execution_count": 8,
     "metadata": {},
     "output_type": "execute_result"
    }
   ],
   "source": [
    "# Check if Total economic damages from volcanic activity as a share of GDP and Total economic damages from volcanic activity as a share of GDP.1 are equal\n",
    "nat_disasters_df['Total economic damages from volcanic activity as a share of GDP'].equals(nat_disasters_df['Total economic damages from volcanic activity as a share of GDP.1'])"
   ]
  },
  {
   "cell_type": "code",
   "execution_count": 9,
   "id": "c70acf88-b93d-4ab0-9b89-fb9fc73caf2b",
   "metadata": {},
   "outputs": [
    {
     "data": {
      "text/plain": [
       "count    228.000000\n",
       "mean       0.061460\n",
       "std        0.313755\n",
       "min        0.000000\n",
       "25%        0.000000\n",
       "50%        0.000000\n",
       "75%        0.000862\n",
       "max        2.865788\n",
       "Name: Total economic damages from volcanic activity as a share of GDP, dtype: float64"
      ]
     },
     "execution_count": 9,
     "metadata": {},
     "output_type": "execute_result"
    }
   ],
   "source": [
    "# Statistics of GDP column\n",
    "nat_disasters_df['Total economic damages from volcanic activity as a share of GDP'].describe()"
   ]
  },
  {
   "cell_type": "code",
   "execution_count": 10,
   "id": "44512fef-dd0a-433a-affe-7a4ebc53427b",
   "metadata": {},
   "outputs": [
    {
     "data": {
      "text/plain": [
       "count    377.000000\n",
       "mean       0.486609\n",
       "std        6.719902\n",
       "min        0.000000\n",
       "25%        0.000000\n",
       "50%        0.000000\n",
       "75%        0.014476\n",
       "max      127.277641\n",
       "Name: Total economic damages from volcanic activity as a share of GDP.1, dtype: float64"
      ]
     },
     "execution_count": 10,
     "metadata": {},
     "output_type": "execute_result"
    }
   ],
   "source": [
    "# Statistics of GDP.1 column\n",
    "nat_disasters_df['Total economic damages from volcanic activity as a share of GDP.1'].describe()"
   ]
  },
  {
   "cell_type": "code",
   "execution_count": 11,
   "id": "afe954c7-4b80-40e3-a7d8-52db7a0a4241",
   "metadata": {},
   "outputs": [
    {
     "data": {
      "text/plain": [
       "['Number of deaths from drought',\n",
       " 'Number of people injured from drought',\n",
       " 'Number of people affected from drought',\n",
       " 'Number of people left homeless from drought',\n",
       " 'Number of total people affected by drought',\n",
       " 'Reconstruction costs from drought',\n",
       " 'Insured damages against drought',\n",
       " 'Total economic damages from drought',\n",
       " 'Death rates from drought',\n",
       " 'Injury rates from drought',\n",
       " 'Number of people affected by drought per 100,000',\n",
       " 'Homelessness rate from drought',\n",
       " 'Total number of people affected by drought per 100,000',\n",
       " 'Number of deaths from earthquakes',\n",
       " 'Number of people injured from earthquakes',\n",
       " 'Number of people affected by earthquakes',\n",
       " 'Number of people left homeless from earthquakes',\n",
       " 'Number of total people affected by earthquakes',\n",
       " 'Reconstruction costs from earthquakes',\n",
       " 'Insured damages against earthquakes',\n",
       " 'Total economic damages from earthquakes',\n",
       " 'Death rates from earthquakes',\n",
       " 'Injury rates from earthquakes',\n",
       " 'Number of people affected by earthquakes per 100,000',\n",
       " 'Homelessness rate from earthquakes',\n",
       " 'Total number of people affected by earthquakes per 100,000',\n",
       " 'Number of deaths from disasters',\n",
       " 'Number of people injured from disasters',\n",
       " 'Number of people affected by disasters',\n",
       " 'Number of people left homeless from disasters',\n",
       " 'Number of total people affected by disasters',\n",
       " 'Reconstruction costs from disasters',\n",
       " 'Insured damages against disasters',\n",
       " 'Total economic damages from disasters',\n",
       " 'Death rates from disasters',\n",
       " 'Injury rates from disasters',\n",
       " 'Number of people affected by disasters per 100,000',\n",
       " 'Homelessness rate from disasters',\n",
       " 'Total number of people affected by disasters per 100,000',\n",
       " 'Number of deaths from volcanic activity',\n",
       " 'Number of people injured from volcanic activity',\n",
       " 'Number of people affected by volcanic activity',\n",
       " 'Number of people left homeless from volcanic activity',\n",
       " 'Number of total people affected by volcanic activity',\n",
       " 'Reconstruction costs from volcanic activity',\n",
       " 'Insured damages against volcanic activity',\n",
       " 'Total economic damages from volcanic activity',\n",
       " 'Death rates from volcanic activity',\n",
       " 'Injury rates from volcanic activity',\n",
       " 'Number of people affected by volcanic activity per 100,000',\n",
       " 'Homelessness rate from volcanic activity',\n",
       " 'Total number of people affected by volcanic activity per 100,000',\n",
       " 'Number of deaths from floods',\n",
       " 'Number of people injured from floods',\n",
       " 'Number of people affected by floods',\n",
       " 'Number of people left homeless from floods',\n",
       " 'Number of total people affected by floods',\n",
       " 'Reconstruction costs from floods',\n",
       " 'Insured damages against floods',\n",
       " 'Total economic damages from floods',\n",
       " 'Death rates from floods',\n",
       " 'Injury rates from floods',\n",
       " 'Number of people affected by floods per 100,000',\n",
       " 'Homelessness rate from floods',\n",
       " 'Total number of people affected by floods per 100,000',\n",
       " 'Number of deaths from mass movements',\n",
       " 'Number of people injured from mass movements',\n",
       " 'Number of people affected by mass movements',\n",
       " 'Number of people left homeless from mass movements',\n",
       " 'Number of total people affected by mass movements',\n",
       " 'Reconstruction costs from mass movements',\n",
       " 'Insured damages against mass movements',\n",
       " 'Total economic damages from mass movements',\n",
       " 'Death rates from mass movements',\n",
       " 'Injury rates from mass movements',\n",
       " 'Number of people affected by mass movements per 100,000',\n",
       " 'Homelessness rate from mass movements',\n",
       " 'Total number of people affected by mass movements per 100,000',\n",
       " 'Number of deaths from storms',\n",
       " 'Number of people injured from storms',\n",
       " 'Number of people affected by storms',\n",
       " 'Number of people left homeless from storms',\n",
       " 'Number of total people affected by storms',\n",
       " 'Reconstruction costs from storms',\n",
       " 'Insured damages against storms',\n",
       " 'Total economic damages from storms',\n",
       " 'Death rates from storms',\n",
       " 'Injury rates from storms',\n",
       " 'Number of people affected by storms per 100,000',\n",
       " 'Homelessness rate from storms',\n",
       " 'Total number of people affected by storms per 100,000',\n",
       " 'Number of deaths from landslides',\n",
       " 'Number of people injured from landslides',\n",
       " 'Number of people affected by landslides',\n",
       " 'Number of people left homeless from landslides',\n",
       " 'Number of total people affected by landslides',\n",
       " 'Reconstruction costs from landslides',\n",
       " 'Insured damages against landslides',\n",
       " 'Total economic damages from landslides',\n",
       " 'Death rates from landslides',\n",
       " 'Injury rates from landslides',\n",
       " 'Number of people affected by landslides per 100,000',\n",
       " 'Homelessness rate from landslides',\n",
       " 'Total number of people affected by landslides per 100,000',\n",
       " 'Number of deaths from fog',\n",
       " 'Number of people injured from fog',\n",
       " 'Number of people affected by fog',\n",
       " 'Number of people left homeless from fog',\n",
       " 'Number of total people affected by fog',\n",
       " 'Reconstruction costs from fog',\n",
       " 'Insured damages against fog',\n",
       " 'Total economic damages from fog',\n",
       " 'Death rates from fog',\n",
       " 'Injury rates from fog',\n",
       " 'Number of people affected by fog per 100,000',\n",
       " 'Homelessness rate from fog',\n",
       " 'Total number of people affected by fog per 100,000',\n",
       " 'Number of deaths from wildfires',\n",
       " 'Number of people injured from wildfires',\n",
       " 'Number of people affected by wildfires',\n",
       " 'Number of people left homeless from wildfires',\n",
       " 'Number of total people affected by wildfires',\n",
       " 'Reconstruction costs from wildfires',\n",
       " 'Insured damages against wildfires',\n",
       " 'Total economic damages from wildfires',\n",
       " 'Death rates from wildfires',\n",
       " 'Injury rates from wildfires',\n",
       " 'Number of people affected by wildfires per 100,000',\n",
       " 'Homelessness rate from wildfires',\n",
       " 'Total number of people affected by wildfires per 100,000',\n",
       " 'Number of deaths from extreme temperatures',\n",
       " 'Number of people injured from extreme temperatures',\n",
       " 'Number of people affected by extreme temperatures',\n",
       " 'Number of people left homeless from extreme temperatures',\n",
       " 'Number of total people affected by extreme temperatures',\n",
       " 'Reconstruction costs from extreme temperatures',\n",
       " 'Insured damages against extreme temperatures',\n",
       " 'Total economic damages from extreme temperatures',\n",
       " 'Death rates from extreme temperatures',\n",
       " 'Injury rates from extreme temperatures',\n",
       " 'Number of people affected by extreme temperatures per 100,000',\n",
       " 'Homelessness rate from extreme temperatures',\n",
       " 'Total number of people affected by extreme temperatures per 100,000',\n",
       " 'Number of deaths from glacial lake outbursts',\n",
       " 'Number of people injured from glacial lake outbursts',\n",
       " 'Number of people affected by glacial lake outbursts',\n",
       " 'Number of people left homeless from glacial lake outbursts',\n",
       " 'Number of total people affected by glacial lake outbursts',\n",
       " 'Reconstruction costs from glacial lake outbursts',\n",
       " 'Insured damages against glacial lake outbursts',\n",
       " 'Total economic damages from glacial lake outbursts',\n",
       " 'Death rates from glacial lake outbursts',\n",
       " 'Injury rates from glacial lake outbursts',\n",
       " 'Number of people affected by glacial lake outbursts per 100,000',\n",
       " 'Homelessness rate from glacial lake outbursts',\n",
       " 'Total number of people affected by glacial lake outbursts per 100,000',\n",
       " 'Total economic damages from disasters as a share of GDP',\n",
       " 'Total economic damages from drought as a share of GDP',\n",
       " 'Total economic damages from earthquakes as a share of GDP',\n",
       " 'Total economic damages from extreme temperatures as a share of GDP',\n",
       " 'Total economic damages from floods as a share of GDP',\n",
       " 'Total economic damages from landslides as a share of GDP',\n",
       " 'Total economic damages from mass movements as a share of GDP',\n",
       " 'Total economic damages from storms as a share of GDP',\n",
       " 'Total economic damages from volcanic activity as a share of GDP',\n",
       " 'Total economic damages from volcanic activity as a share of GDP.1',\n",
       " 'Entity',\n",
       " 'Year',\n",
       " 'total_damages_pct_gdp_glacial_lake']"
      ]
     },
     "execution_count": 11,
     "metadata": {},
     "output_type": "execute_result"
    }
   ],
   "source": [
    "#Viewing the column names to create columns to summarize\n",
    "nat_disasters_df_c.columns.tolist()"
   ]
  },
  {
   "cell_type": "code",
   "execution_count": 12,
   "id": "4e6d9fb8-6797-4dfe-9d62-aa6befc14652",
   "metadata": {},
   "outputs": [],
   "source": [
    "nat_disasters_df_c\n",
    "nat_disasters_df_c = nat_disasters_df_c.rename(columns= {'total_damages_pct_gdp_glacial_lake': 'Total Damages percent GDP glacial lake outbursts'})"
   ]
  },
  {
   "cell_type": "code",
   "execution_count": 13,
   "id": "0e6b0dc1-8d1d-4835-8cdb-2b2db2e14f62",
   "metadata": {},
   "outputs": [
    {
     "data": {
      "text/html": [
       "<div>\n",
       "<style scoped>\n",
       "    .dataframe tbody tr th:only-of-type {\n",
       "        vertical-align: middle;\n",
       "    }\n",
       "\n",
       "    .dataframe tbody tr th {\n",
       "        vertical-align: top;\n",
       "    }\n",
       "\n",
       "    .dataframe thead th {\n",
       "        text-align: right;\n",
       "    }\n",
       "</style>\n",
       "<table border=\"1\" class=\"dataframe\">\n",
       "  <thead>\n",
       "    <tr style=\"text-align: right;\">\n",
       "      <th></th>\n",
       "      <th>Entity</th>\n",
       "      <th>Year</th>\n",
       "      <th>Type</th>\n",
       "      <th>Data</th>\n",
       "    </tr>\n",
       "  </thead>\n",
       "  <tbody>\n",
       "    <tr>\n",
       "      <th>0</th>\n",
       "      <td>Afghanistan</td>\n",
       "      <td>1971</td>\n",
       "      <td>Number of deaths from drought</td>\n",
       "      <td>0.0</td>\n",
       "    </tr>\n",
       "    <tr>\n",
       "      <th>1</th>\n",
       "      <td>Afghanistan</td>\n",
       "      <td>1972</td>\n",
       "      <td>Number of deaths from drought</td>\n",
       "      <td>NaN</td>\n",
       "    </tr>\n",
       "    <tr>\n",
       "      <th>2</th>\n",
       "      <td>Afghanistan</td>\n",
       "      <td>1976</td>\n",
       "      <td>Number of deaths from drought</td>\n",
       "      <td>NaN</td>\n",
       "    </tr>\n",
       "  </tbody>\n",
       "</table>\n",
       "</div>"
      ],
      "text/plain": [
       "        Entity  Year                           Type  Data\n",
       "0  Afghanistan  1971  Number of deaths from drought   0.0\n",
       "1  Afghanistan  1972  Number of deaths from drought   NaN\n",
       "2  Afghanistan  1976  Number of deaths from drought   NaN"
      ]
     },
     "execution_count": 13,
     "metadata": {},
     "output_type": "execute_result"
    }
   ],
   "source": [
    "nat_disasters_df_t = nat_disasters_df_c.melt(id_vars=['Entity', 'Year'],\n",
    "                    var_name='Type', value_name=\"Data\")\n",
    "nat_disasters_df_t.head(3)"
   ]
  },
  {
   "cell_type": "code",
   "execution_count": 14,
   "id": "89556f35-7591-4836-98e2-e40d01cacfbe",
   "metadata": {},
   "outputs": [],
   "source": [
    "# Map Type with summary column\n",
    "values= ['disasters', 'drought', 'earthquakes', 'extreme temperatures', 'floods', 'fog', 'glacial lake outbursts', 'landslide', 'mass movements', 'storms', 'volcanic', 'wildfires']\n",
    "conditions = list(map(nat_disasters_df_t['Type'].str.contains, values))\n",
    "nat_disasters_df_t['Natural Disaster'] = np.select(conditions, values, 'other')"
   ]
  },
  {
   "cell_type": "code",
   "execution_count": 15,
   "id": "332e55f2-5280-42af-aff4-a0ef712587d6",
   "metadata": {},
   "outputs": [],
   "source": [
    "# Map Type with Type_summary column\n",
    "values= ['Death rates', 'Homelessness rate', 'Injury rates', 'Insured damages', 'Number of deaths', 'Number of people affected', 'Total number of people affected by drought per 100,000','Total number of people affected by earthquakes per 100,000','Total number of people affected by disasters per 100,000','Total number of people affected by volcanic activity per 100,000','Total number of people affected by floods per 100,000','Total number of people affected by mass movements per 100,000','Total number of people affected by storms per 100,000','Total number of people affected by landslides per 100,000','Total number of people affected by fog per 100,000','Total number of people affected by wildfires per 100,000','Total number of people affected by extreme temperatures per 100,000','Total number of people affected by glacial lake outbursts per 100,000','Total Damages percent GDP'\n",
    ", 'Number of people injured', 'Number of people left homeless', 'Number of total people affected', 'Reconstruction costs', 'Total economic damages', 'Total economic damages as a share of GDP', 'Total economic damages as a share of GDP.1', 'Total number of people affected per 100000'\n",
    "]\n",
    "conditions = list(map(nat_disasters_df_t['Type'].str.contains, values))\n",
    "nat_disasters_df_t['Type Summary'] = np.select(conditions, values, 'other')"
   ]
  },
  {
   "cell_type": "code",
   "execution_count": 16,
   "id": "f8197270-05ac-4501-8d00-6d45a61401a2",
   "metadata": {},
   "outputs": [
    {
     "data": {
      "text/html": [
       "<div>\n",
       "<style scoped>\n",
       "    .dataframe tbody tr th:only-of-type {\n",
       "        vertical-align: middle;\n",
       "    }\n",
       "\n",
       "    .dataframe tbody tr th {\n",
       "        vertical-align: top;\n",
       "    }\n",
       "\n",
       "    .dataframe thead th {\n",
       "        text-align: right;\n",
       "    }\n",
       "</style>\n",
       "<table border=\"1\" class=\"dataframe\">\n",
       "  <thead>\n",
       "    <tr style=\"text-align: right;\">\n",
       "      <th></th>\n",
       "      <th>Entity</th>\n",
       "      <th>Year</th>\n",
       "      <th>Type</th>\n",
       "      <th>Data</th>\n",
       "      <th>Natural Disaster</th>\n",
       "      <th>Type Summary</th>\n",
       "    </tr>\n",
       "  </thead>\n",
       "  <tbody>\n",
       "    <tr>\n",
       "      <th>0</th>\n",
       "      <td>Afghanistan</td>\n",
       "      <td>1971</td>\n",
       "      <td>Number of deaths from drought</td>\n",
       "      <td>0.0</td>\n",
       "      <td>drought</td>\n",
       "      <td>Number of deaths</td>\n",
       "    </tr>\n",
       "    <tr>\n",
       "      <th>1</th>\n",
       "      <td>Afghanistan</td>\n",
       "      <td>1972</td>\n",
       "      <td>Number of deaths from drought</td>\n",
       "      <td>NaN</td>\n",
       "      <td>drought</td>\n",
       "      <td>Number of deaths</td>\n",
       "    </tr>\n",
       "    <tr>\n",
       "      <th>2</th>\n",
       "      <td>Afghanistan</td>\n",
       "      <td>1976</td>\n",
       "      <td>Number of deaths from drought</td>\n",
       "      <td>NaN</td>\n",
       "      <td>drought</td>\n",
       "      <td>Number of deaths</td>\n",
       "    </tr>\n",
       "  </tbody>\n",
       "</table>\n",
       "</div>"
      ],
      "text/plain": [
       "        Entity  Year                           Type  Data Natural Disaster  \\\n",
       "0  Afghanistan  1971  Number of deaths from drought   0.0          drought   \n",
       "1  Afghanistan  1972  Number of deaths from drought   NaN          drought   \n",
       "2  Afghanistan  1976  Number of deaths from drought   NaN          drought   \n",
       "\n",
       "       Type Summary  \n",
       "0  Number of deaths  \n",
       "1  Number of deaths  \n",
       "2  Number of deaths  "
      ]
     },
     "execution_count": 16,
     "metadata": {},
     "output_type": "execute_result"
    }
   ],
   "source": [
    "nat_disasters_df_t.head(3)"
   ]
  },
  {
   "cell_type": "code",
   "execution_count": 17,
   "id": "125ef118-519c-4783-8ee3-9d785a390888",
   "metadata": {},
   "outputs": [
    {
     "data": {
      "text/plain": [
       "array(['drought', 'earthquakes', 'disasters', 'volcanic', 'floods',\n",
       "       'mass movements', 'storms', 'landslide', 'fog', 'wildfires',\n",
       "       'extreme temperatures', 'glacial lake outbursts'], dtype=object)"
      ]
     },
     "execution_count": 17,
     "metadata": {},
     "output_type": "execute_result"
    }
   ],
   "source": [
    "# Validate if there are 'other' in new column Natural Disaster\n",
    "nat_disasters_df_t['Natural Disaster'].unique()"
   ]
  },
  {
   "cell_type": "code",
   "execution_count": 18,
   "id": "6ae1ff57-391e-43f8-bcf8-8ef6bf5723b7",
   "metadata": {},
   "outputs": [
    {
     "data": {
      "text/plain": [
       "array(['Number of deaths', 'Number of people injured',\n",
       "       'Number of people affected', 'Number of people left homeless',\n",
       "       'Number of total people affected', 'Reconstruction costs',\n",
       "       'Insured damages', 'Total economic damages', 'Death rates',\n",
       "       'Injury rates', 'Homelessness rate',\n",
       "       'Total number of people affected by drought per 100,000',\n",
       "       'Total number of people affected by earthquakes per 100,000',\n",
       "       'Total number of people affected by disasters per 100,000',\n",
       "       'Total number of people affected by volcanic activity per 100,000',\n",
       "       'Total number of people affected by floods per 100,000',\n",
       "       'Total number of people affected by mass movements per 100,000',\n",
       "       'Total number of people affected by storms per 100,000',\n",
       "       'Total number of people affected by landslides per 100,000',\n",
       "       'Total number of people affected by fog per 100,000',\n",
       "       'Total number of people affected by wildfires per 100,000',\n",
       "       'Total number of people affected by extreme temperatures per 100,000',\n",
       "       'Total number of people affected by glacial lake outbursts per 100,000',\n",
       "       'Total Damages percent GDP'], dtype=object)"
      ]
     },
     "execution_count": 18,
     "metadata": {},
     "output_type": "execute_result"
    }
   ],
   "source": [
    "# Validate if there are 'other' in new column Natural Disaster\n",
    "nat_disasters_df_t['Type Summary'].unique()"
   ]
  },
  {
   "cell_type": "code",
   "execution_count": 19,
   "id": "d3e178f2-9355-4391-b6ed-0185fc0b0fe2",
   "metadata": {},
   "outputs": [
    {
     "data": {
      "text/plain": [
       "array(['Number of deaths', 'Number of people injured',\n",
       "       'Number of people affected', 'Number of people left homeless',\n",
       "       'Number of total people affected', 'Reconstruction costs',\n",
       "       'Insured damages', 'Total economic damages', 'Death rates',\n",
       "       'Injury rates', 'Homelessness rate',\n",
       "       'Total number of people affected per 100,000',\n",
       "       'Total Damages percent GDP'], dtype=object)"
      ]
     },
     "execution_count": 19,
     "metadata": {},
     "output_type": "execute_result"
    }
   ],
   "source": [
    "# Standardizing to Total number of people affected per 100K\n",
    "nat_disasters_df_t['Type Summary'] = nat_disasters_df_t['Type Summary'].str.replace('Total number of people affected by drought per 100,000|Total number of people affected by earthquakes per 100,000|Total number of people affected by disasters per 100,000|Total number of people affected by volcanic activity per 100,000|Total number of people affected by floods per 100,000|Total number of people affected by floods per 100,000|Total number of people affected by mass movements per 100,000|Total number of people affected by storms per 100,000|Total number of people affected by landslides per 100,000|Total number of people affected by fog per 100,000|Total number of people affected by wildfires per 100,000|Total number of people affected by extreme temperatures per 100,000|Total number of people affected by glacial lake outbursts per 100,000','Total number of people affected per 100,000', regex=True)\n",
    "nat_disasters_df_t['Type Summary'].unique()"
   ]
  },
  {
   "cell_type": "code",
   "execution_count": 20,
   "id": "e79098af-731a-4e53-aada-3cf84319da6e",
   "metadata": {},
   "outputs": [
    {
     "data": {
      "text/html": [
       "<div>\n",
       "<style scoped>\n",
       "    .dataframe tbody tr th:only-of-type {\n",
       "        vertical-align: middle;\n",
       "    }\n",
       "\n",
       "    .dataframe tbody tr th {\n",
       "        vertical-align: top;\n",
       "    }\n",
       "\n",
       "    .dataframe thead th {\n",
       "        text-align: right;\n",
       "    }\n",
       "</style>\n",
       "<table border=\"1\" class=\"dataframe\">\n",
       "  <thead>\n",
       "    <tr style=\"text-align: right;\">\n",
       "      <th></th>\n",
       "      <th>Entity</th>\n",
       "      <th>Year</th>\n",
       "      <th>Natural Disaster</th>\n",
       "      <th>Type Summary</th>\n",
       "      <th>Type</th>\n",
       "      <th>Data</th>\n",
       "    </tr>\n",
       "  </thead>\n",
       "  <tbody>\n",
       "    <tr>\n",
       "      <th>0</th>\n",
       "      <td>Afghanistan</td>\n",
       "      <td>1971</td>\n",
       "      <td>drought</td>\n",
       "      <td>Number of deaths</td>\n",
       "      <td>Number of deaths from drought</td>\n",
       "      <td>0.0</td>\n",
       "    </tr>\n",
       "    <tr>\n",
       "      <th>1</th>\n",
       "      <td>Afghanistan</td>\n",
       "      <td>1972</td>\n",
       "      <td>drought</td>\n",
       "      <td>Number of deaths</td>\n",
       "      <td>Number of deaths from drought</td>\n",
       "      <td>NaN</td>\n",
       "    </tr>\n",
       "    <tr>\n",
       "      <th>2</th>\n",
       "      <td>Afghanistan</td>\n",
       "      <td>1976</td>\n",
       "      <td>drought</td>\n",
       "      <td>Number of deaths</td>\n",
       "      <td>Number of deaths from drought</td>\n",
       "      <td>NaN</td>\n",
       "    </tr>\n",
       "  </tbody>\n",
       "</table>\n",
       "</div>"
      ],
      "text/plain": [
       "        Entity  Year Natural Disaster      Type Summary  \\\n",
       "0  Afghanistan  1971          drought  Number of deaths   \n",
       "1  Afghanistan  1972          drought  Number of deaths   \n",
       "2  Afghanistan  1976          drought  Number of deaths   \n",
       "\n",
       "                            Type  Data  \n",
       "0  Number of deaths from drought   0.0  \n",
       "1  Number of deaths from drought   NaN  \n",
       "2  Number of deaths from drought   NaN  "
      ]
     },
     "execution_count": 20,
     "metadata": {},
     "output_type": "execute_result"
    }
   ],
   "source": [
    "nat_disasters_df_f = nat_disasters_df_t[['Entity', 'Year', 'Natural Disaster', 'Type Summary', 'Type', 'Data']]\n",
    "nat_disasters_df_f.head(3)"
   ]
  },
  {
   "cell_type": "code",
   "execution_count": 21,
   "id": "08d6253f-1a07-4916-b355-8f40535e1c76",
   "metadata": {},
   "outputs": [],
   "source": [
    "nat_disasters_df_f.to_csv('../csv/natural_disasters.csv', index = False)"
   ]
  }
 ],
 "metadata": {
  "kernelspec": {
   "display_name": "mlenv",
   "language": "python",
   "name": "mlenv"
  },
  "language_info": {
   "codemirror_mode": {
    "name": "ipython",
    "version": 3
   },
   "file_extension": ".py",
   "mimetype": "text/x-python",
   "name": "python",
   "nbconvert_exporter": "python",
   "pygments_lexer": "ipython3",
   "version": "3.7.13"
  }
 },
 "nbformat": 4,
 "nbformat_minor": 5
}
