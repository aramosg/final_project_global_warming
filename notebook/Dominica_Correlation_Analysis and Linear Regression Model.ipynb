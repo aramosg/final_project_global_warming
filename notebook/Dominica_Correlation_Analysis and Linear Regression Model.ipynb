{
 "cells": [
  {
   "cell_type": "code",
   "execution_count": 1,
   "id": "2ecd124d",
   "metadata": {},
   "outputs": [],
   "source": [
    "# Import libraries\n",
    "## Basic libs\n",
    "import pandas as pd\n",
    "import numpy as np\n",
    "import warnings\n",
    "## Building Model\n",
    "from sklearn import linear_model\n",
    "from scipy import stats\n",
    "import statsmodels\n",
    "import statsmodels.api as sm\n",
    "import statsmodels.formula.api as smf\n",
    "import statsmodels.stats.api as sms\n",
    "from statsmodels.compat import lzip\n",
    "## Data Visualization\n",
    "import seaborn as sb\n",
    "import matplotlib.pyplot as plt\n",
    "from mpl_toolkits.mplot3d import Axes3D\n",
    "import matplotlib.ticker as ticker\n"
   ]
  },
  {
   "cell_type": "code",
   "execution_count": 2,
   "id": "d53a654f",
   "metadata": {},
   "outputs": [
    {
     "data": {
      "text/html": [
       "<div>\n",
       "<style scoped>\n",
       "    .dataframe tbody tr th:only-of-type {\n",
       "        vertical-align: middle;\n",
       "    }\n",
       "\n",
       "    .dataframe tbody tr th {\n",
       "        vertical-align: top;\n",
       "    }\n",
       "\n",
       "    .dataframe thead th {\n",
       "        text-align: right;\n",
       "    }\n",
       "</style>\n",
       "<table border=\"1\" class=\"dataframe\">\n",
       "  <thead>\n",
       "    <tr style=\"text-align: right;\">\n",
       "      <th></th>\n",
       "      <th>country_code</th>\n",
       "      <th>country_name</th>\n",
       "      <th>year</th>\n",
       "      <th>agriculture_value_added_constants</th>\n",
       "      <th>agriculture_value_added_percentage_gdp</th>\n",
       "      <th>annual_co2_emissions_tons</th>\n",
       "      <th>inflation_inflation_gdp_deflation</th>\n",
       "      <th>deaths_from_drought</th>\n",
       "      <th>deaths_from_extreme_temps</th>\n",
       "      <th>deaths_from_floods</th>\n",
       "      <th>...</th>\n",
       "      <th>economic_damages_from_storms_as_a_share_of_gdp</th>\n",
       "      <th>economic_damages_from_wildfires</th>\n",
       "      <th>economic_damages_as_a_share_of_gdp</th>\n",
       "      <th>economic_damages</th>\n",
       "      <th>economic_damages_thousands</th>\n",
       "      <th>people_affected_per_100k</th>\n",
       "      <th>number_of_deaths</th>\n",
       "      <th>population_population_growth_annual_percentage</th>\n",
       "      <th>population_population_total</th>\n",
       "      <th>temperature_change_temp_change_celsius</th>\n",
       "    </tr>\n",
       "  </thead>\n",
       "  <tbody>\n",
       "    <tr>\n",
       "      <th>0</th>\n",
       "      <td>AFG</td>\n",
       "      <td>Afghanistan</td>\n",
       "      <td>1971</td>\n",
       "      <td>NaN</td>\n",
       "      <td>NaN</td>\n",
       "      <td>1893554</td>\n",
       "      <td>NaN</td>\n",
       "      <td>0.0</td>\n",
       "      <td>0.0</td>\n",
       "      <td>0.0</td>\n",
       "      <td>...</td>\n",
       "      <td>0.0</td>\n",
       "      <td>0.0</td>\n",
       "      <td>0.000000</td>\n",
       "      <td>0.0</td>\n",
       "      <td>0.0</td>\n",
       "      <td>0.000000</td>\n",
       "      <td>0.0</td>\n",
       "      <td>2.665129</td>\n",
       "      <td>11475450</td>\n",
       "      <td>0.652</td>\n",
       "    </tr>\n",
       "    <tr>\n",
       "      <th>1</th>\n",
       "      <td>AFG</td>\n",
       "      <td>Afghanistan</td>\n",
       "      <td>1972</td>\n",
       "      <td>NaN</td>\n",
       "      <td>NaN</td>\n",
       "      <td>1530347</td>\n",
       "      <td>NaN</td>\n",
       "      <td>0.0</td>\n",
       "      <td>0.0</td>\n",
       "      <td>150.0</td>\n",
       "      <td>...</td>\n",
       "      <td>0.0</td>\n",
       "      <td>0.0</td>\n",
       "      <td>0.000000</td>\n",
       "      <td>0.0</td>\n",
       "      <td>0.0</td>\n",
       "      <td>2120.261216</td>\n",
       "      <td>150.0</td>\n",
       "      <td>2.714539</td>\n",
       "      <td>11791222</td>\n",
       "      <td>-1.089</td>\n",
       "    </tr>\n",
       "    <tr>\n",
       "      <th>2</th>\n",
       "      <td>AFG</td>\n",
       "      <td>Afghanistan</td>\n",
       "      <td>1976</td>\n",
       "      <td>NaN</td>\n",
       "      <td>NaN</td>\n",
       "      <td>1980859</td>\n",
       "      <td>NaN</td>\n",
       "      <td>0.0</td>\n",
       "      <td>0.0</td>\n",
       "      <td>51.0</td>\n",
       "      <td>...</td>\n",
       "      <td>0.0</td>\n",
       "      <td>0.0</td>\n",
       "      <td>0.000000</td>\n",
       "      <td>0.0</td>\n",
       "      <td>0.0</td>\n",
       "      <td>618.094723</td>\n",
       "      <td>51.0</td>\n",
       "      <td>1.981389</td>\n",
       "      <td>12943093</td>\n",
       "      <td>-0.295</td>\n",
       "    </tr>\n",
       "    <tr>\n",
       "      <th>3</th>\n",
       "      <td>AFG</td>\n",
       "      <td>Afghanistan</td>\n",
       "      <td>1978</td>\n",
       "      <td>NaN</td>\n",
       "      <td>NaN</td>\n",
       "      <td>2153300</td>\n",
       "      <td>NaN</td>\n",
       "      <td>0.0</td>\n",
       "      <td>0.0</td>\n",
       "      <td>120.0</td>\n",
       "      <td>...</td>\n",
       "      <td>0.0</td>\n",
       "      <td>0.0</td>\n",
       "      <td>0.393939</td>\n",
       "      <td>52000.0</td>\n",
       "      <td>52000.0</td>\n",
       "      <td>1979.191965</td>\n",
       "      <td>120.0</td>\n",
       "      <td>1.281715</td>\n",
       "      <td>13341199</td>\n",
       "      <td>0.105</td>\n",
       "    </tr>\n",
       "    <tr>\n",
       "      <th>4</th>\n",
       "      <td>AFG</td>\n",
       "      <td>Afghanistan</td>\n",
       "      <td>1980</td>\n",
       "      <td>NaN</td>\n",
       "      <td>NaN</td>\n",
       "      <td>1756302</td>\n",
       "      <td>NaN</td>\n",
       "      <td>0.0</td>\n",
       "      <td>0.0</td>\n",
       "      <td>0.0</td>\n",
       "      <td>...</td>\n",
       "      <td>0.0</td>\n",
       "      <td>0.0</td>\n",
       "      <td>0.000000</td>\n",
       "      <td>0.0</td>\n",
       "      <td>0.0</td>\n",
       "      <td>224.601333</td>\n",
       "      <td>0.0</td>\n",
       "      <td>-0.407658</td>\n",
       "      <td>13356500</td>\n",
       "      <td>0.690</td>\n",
       "    </tr>\n",
       "  </tbody>\n",
       "</table>\n",
       "<p>5 rows × 34 columns</p>\n",
       "</div>"
      ],
      "text/plain": [
       "  country_code country_name  year  agriculture_value_added_constants  \\\n",
       "0          AFG  Afghanistan  1971                                NaN   \n",
       "1          AFG  Afghanistan  1972                                NaN   \n",
       "2          AFG  Afghanistan  1976                                NaN   \n",
       "3          AFG  Afghanistan  1978                                NaN   \n",
       "4          AFG  Afghanistan  1980                                NaN   \n",
       "\n",
       "   agriculture_value_added_percentage_gdp  annual_co2_emissions_tons  \\\n",
       "0                                     NaN                    1893554   \n",
       "1                                     NaN                    1530347   \n",
       "2                                     NaN                    1980859   \n",
       "3                                     NaN                    2153300   \n",
       "4                                     NaN                    1756302   \n",
       "\n",
       "   inflation_inflation_gdp_deflation  deaths_from_drought  \\\n",
       "0                                NaN                  0.0   \n",
       "1                                NaN                  0.0   \n",
       "2                                NaN                  0.0   \n",
       "3                                NaN                  0.0   \n",
       "4                                NaN                  0.0   \n",
       "\n",
       "   deaths_from_extreme_temps  deaths_from_floods  ...  \\\n",
       "0                        0.0                 0.0  ...   \n",
       "1                        0.0               150.0  ...   \n",
       "2                        0.0                51.0  ...   \n",
       "3                        0.0               120.0  ...   \n",
       "4                        0.0                 0.0  ...   \n",
       "\n",
       "   economic_damages_from_storms_as_a_share_of_gdp  \\\n",
       "0                                             0.0   \n",
       "1                                             0.0   \n",
       "2                                             0.0   \n",
       "3                                             0.0   \n",
       "4                                             0.0   \n",
       "\n",
       "   economic_damages_from_wildfires  economic_damages_as_a_share_of_gdp  \\\n",
       "0                              0.0                            0.000000   \n",
       "1                              0.0                            0.000000   \n",
       "2                              0.0                            0.000000   \n",
       "3                              0.0                            0.393939   \n",
       "4                              0.0                            0.000000   \n",
       "\n",
       "   economic_damages  economic_damages_thousands  people_affected_per_100k  \\\n",
       "0               0.0                         0.0                  0.000000   \n",
       "1               0.0                         0.0               2120.261216   \n",
       "2               0.0                         0.0                618.094723   \n",
       "3           52000.0                     52000.0               1979.191965   \n",
       "4               0.0                         0.0                224.601333   \n",
       "\n",
       "   number_of_deaths  population_population_growth_annual_percentage  \\\n",
       "0               0.0                                        2.665129   \n",
       "1             150.0                                        2.714539   \n",
       "2              51.0                                        1.981389   \n",
       "3             120.0                                        1.281715   \n",
       "4               0.0                                       -0.407658   \n",
       "\n",
       "   population_population_total  temperature_change_temp_change_celsius  \n",
       "0                     11475450                                   0.652  \n",
       "1                     11791222                                  -1.089  \n",
       "2                     12943093                                  -0.295  \n",
       "3                     13341199                                   0.105  \n",
       "4                     13356500                                   0.690  \n",
       "\n",
       "[5 rows x 34 columns]"
      ]
     },
     "execution_count": 2,
     "metadata": {},
     "output_type": "execute_result"
    }
   ],
   "source": [
    "file_path = \"../Resources.2/general_dataset.csv\"\n",
    "df= pd.read_csv(file_path)\n",
    "df.head()"
   ]
  },
  {
   "cell_type": "code",
   "execution_count": 3,
   "id": "1db83bf6",
   "metadata": {},
   "outputs": [
    {
     "data": {
      "text/html": [
       "<div>\n",
       "<style scoped>\n",
       "    .dataframe tbody tr th:only-of-type {\n",
       "        vertical-align: middle;\n",
       "    }\n",
       "\n",
       "    .dataframe tbody tr th {\n",
       "        vertical-align: top;\n",
       "    }\n",
       "\n",
       "    .dataframe thead th {\n",
       "        text-align: right;\n",
       "    }\n",
       "</style>\n",
       "<table border=\"1\" class=\"dataframe\">\n",
       "  <thead>\n",
       "    <tr style=\"text-align: right;\">\n",
       "      <th></th>\n",
       "      <th>country_code</th>\n",
       "      <th>country_name</th>\n",
       "      <th>year</th>\n",
       "      <th>agriculture_value_added_constants</th>\n",
       "      <th>agriculture_value_added_percentage_gdp</th>\n",
       "      <th>annual_co2_emissions_tons</th>\n",
       "      <th>inflation_inflation_gdp_deflation</th>\n",
       "      <th>deaths_from_drought</th>\n",
       "      <th>deaths_from_extreme_temps</th>\n",
       "      <th>deaths_from_floods</th>\n",
       "      <th>...</th>\n",
       "      <th>economic_damages_from_storms_as_a_share_of_gdp</th>\n",
       "      <th>economic_damages_from_wildfires</th>\n",
       "      <th>economic_damages_as_a_share_of_gdp</th>\n",
       "      <th>economic_damages</th>\n",
       "      <th>economic_damages_thousands</th>\n",
       "      <th>people_affected_per_100k</th>\n",
       "      <th>number_of_deaths</th>\n",
       "      <th>population_population_growth_annual_percentage</th>\n",
       "      <th>population_population_total</th>\n",
       "      <th>temperature_change_temp_change_celsius</th>\n",
       "    </tr>\n",
       "  </thead>\n",
       "  <tbody>\n",
       "    <tr>\n",
       "      <th>1315</th>\n",
       "      <td>DMA</td>\n",
       "      <td>Dominica</td>\n",
       "      <td>1970</td>\n",
       "      <td>NaN</td>\n",
       "      <td>NaN</td>\n",
       "      <td>25648</td>\n",
       "      <td>NaN</td>\n",
       "      <td>0.0</td>\n",
       "      <td>0.0</td>\n",
       "      <td>0.0</td>\n",
       "      <td>...</td>\n",
       "      <td>0.000000</td>\n",
       "      <td>0.0</td>\n",
       "      <td>0.000000</td>\n",
       "      <td>0.0</td>\n",
       "      <td>0.0</td>\n",
       "      <td>0.000000</td>\n",
       "      <td>0.0</td>\n",
       "      <td>1.231455</td>\n",
       "      <td>71084</td>\n",
       "      <td>0.139</td>\n",
       "    </tr>\n",
       "    <tr>\n",
       "      <th>1316</th>\n",
       "      <td>DMA</td>\n",
       "      <td>Dominica</td>\n",
       "      <td>1979</td>\n",
       "      <td>61293846.85</td>\n",
       "      <td>22.566193</td>\n",
       "      <td>32976</td>\n",
       "      <td>17.958770</td>\n",
       "      <td>0.0</td>\n",
       "      <td>0.0</td>\n",
       "      <td>0.0</td>\n",
       "      <td>...</td>\n",
       "      <td>81.155614</td>\n",
       "      <td>0.0</td>\n",
       "      <td>20.288903</td>\n",
       "      <td>44650.0</td>\n",
       "      <td>44650.0</td>\n",
       "      <td>93333.333333</td>\n",
       "      <td>40.0</td>\n",
       "      <td>0.911290</td>\n",
       "      <td>74960</td>\n",
       "      <td>0.192</td>\n",
       "    </tr>\n",
       "    <tr>\n",
       "      <th>1317</th>\n",
       "      <td>DMA</td>\n",
       "      <td>Dominica</td>\n",
       "      <td>1980</td>\n",
       "      <td>60030298.62</td>\n",
       "      <td>21.460290</td>\n",
       "      <td>36640</td>\n",
       "      <td>16.709874</td>\n",
       "      <td>0.0</td>\n",
       "      <td>0.0</td>\n",
       "      <td>0.0</td>\n",
       "      <td>...</td>\n",
       "      <td>0.000000</td>\n",
       "      <td>0.0</td>\n",
       "      <td>0.000000</td>\n",
       "      <td>0.0</td>\n",
       "      <td>0.0</td>\n",
       "      <td>0.000000</td>\n",
       "      <td>0.0</td>\n",
       "      <td>0.476451</td>\n",
       "      <td>75318</td>\n",
       "      <td>0.376</td>\n",
       "    </tr>\n",
       "    <tr>\n",
       "      <th>1318</th>\n",
       "      <td>DMA</td>\n",
       "      <td>Dominica</td>\n",
       "      <td>1984</td>\n",
       "      <td>77790098.40</td>\n",
       "      <td>18.270272</td>\n",
       "      <td>43968</td>\n",
       "      <td>6.177909</td>\n",
       "      <td>0.0</td>\n",
       "      <td>0.0</td>\n",
       "      <td>0.0</td>\n",
       "      <td>...</td>\n",
       "      <td>1.832222</td>\n",
       "      <td>0.0</td>\n",
       "      <td>0.458056</td>\n",
       "      <td>2000.0</td>\n",
       "      <td>2000.0</td>\n",
       "      <td>13513.513514</td>\n",
       "      <td>2.0</td>\n",
       "      <td>-0.860249</td>\n",
       "      <td>73846</td>\n",
       "      <td>-0.061</td>\n",
       "    </tr>\n",
       "    <tr>\n",
       "      <th>1319</th>\n",
       "      <td>DMA</td>\n",
       "      <td>Dominica</td>\n",
       "      <td>1989</td>\n",
       "      <td>80844330.59</td>\n",
       "      <td>15.490839</td>\n",
       "      <td>58624</td>\n",
       "      <td>8.407412</td>\n",
       "      <td>0.0</td>\n",
       "      <td>0.0</td>\n",
       "      <td>0.0</td>\n",
       "      <td>...</td>\n",
       "      <td>10.802797</td>\n",
       "      <td>0.0</td>\n",
       "      <td>2.700699</td>\n",
       "      <td>20000.0</td>\n",
       "      <td>20000.0</td>\n",
       "      <td>1000.000000</td>\n",
       "      <td>0.0</td>\n",
       "      <td>-0.690465</td>\n",
       "      <td>70722</td>\n",
       "      <td>-0.144</td>\n",
       "    </tr>\n",
       "  </tbody>\n",
       "</table>\n",
       "<p>5 rows × 34 columns</p>\n",
       "</div>"
      ],
      "text/plain": [
       "     country_code country_name  year  agriculture_value_added_constants  \\\n",
       "1315          DMA     Dominica  1970                                NaN   \n",
       "1316          DMA     Dominica  1979                        61293846.85   \n",
       "1317          DMA     Dominica  1980                        60030298.62   \n",
       "1318          DMA     Dominica  1984                        77790098.40   \n",
       "1319          DMA     Dominica  1989                        80844330.59   \n",
       "\n",
       "      agriculture_value_added_percentage_gdp  annual_co2_emissions_tons  \\\n",
       "1315                                     NaN                      25648   \n",
       "1316                               22.566193                      32976   \n",
       "1317                               21.460290                      36640   \n",
       "1318                               18.270272                      43968   \n",
       "1319                               15.490839                      58624   \n",
       "\n",
       "      inflation_inflation_gdp_deflation  deaths_from_drought  \\\n",
       "1315                                NaN                  0.0   \n",
       "1316                          17.958770                  0.0   \n",
       "1317                          16.709874                  0.0   \n",
       "1318                           6.177909                  0.0   \n",
       "1319                           8.407412                  0.0   \n",
       "\n",
       "      deaths_from_extreme_temps  deaths_from_floods  ...  \\\n",
       "1315                        0.0                 0.0  ...   \n",
       "1316                        0.0                 0.0  ...   \n",
       "1317                        0.0                 0.0  ...   \n",
       "1318                        0.0                 0.0  ...   \n",
       "1319                        0.0                 0.0  ...   \n",
       "\n",
       "      economic_damages_from_storms_as_a_share_of_gdp  \\\n",
       "1315                                        0.000000   \n",
       "1316                                       81.155614   \n",
       "1317                                        0.000000   \n",
       "1318                                        1.832222   \n",
       "1319                                       10.802797   \n",
       "\n",
       "      economic_damages_from_wildfires  economic_damages_as_a_share_of_gdp  \\\n",
       "1315                              0.0                            0.000000   \n",
       "1316                              0.0                           20.288903   \n",
       "1317                              0.0                            0.000000   \n",
       "1318                              0.0                            0.458056   \n",
       "1319                              0.0                            2.700699   \n",
       "\n",
       "      economic_damages  economic_damages_thousands  people_affected_per_100k  \\\n",
       "1315               0.0                         0.0                  0.000000   \n",
       "1316           44650.0                     44650.0              93333.333333   \n",
       "1317               0.0                         0.0                  0.000000   \n",
       "1318            2000.0                      2000.0              13513.513514   \n",
       "1319           20000.0                     20000.0               1000.000000   \n",
       "\n",
       "      number_of_deaths  population_population_growth_annual_percentage  \\\n",
       "1315               0.0                                        1.231455   \n",
       "1316              40.0                                        0.911290   \n",
       "1317               0.0                                        0.476451   \n",
       "1318               2.0                                       -0.860249   \n",
       "1319               0.0                                       -0.690465   \n",
       "\n",
       "      population_population_total  temperature_change_temp_change_celsius  \n",
       "1315                        71084                                   0.139  \n",
       "1316                        74960                                   0.192  \n",
       "1317                        75318                                   0.376  \n",
       "1318                        73846                                  -0.061  \n",
       "1319                        70722                                  -0.144  \n",
       "\n",
       "[5 rows x 34 columns]"
      ]
     },
     "execution_count": 3,
     "metadata": {},
     "output_type": "execute_result"
    }
   ],
   "source": [
    "dma_df= df[(df['country_name'] == 'Dominica')]\n",
    "dma_df.head()"
   ]
  },
  {
   "cell_type": "code",
   "execution_count": 4,
   "id": "080b08a6",
   "metadata": {},
   "outputs": [
    {
     "data": {
      "text/plain": [
       "['country_code',\n",
       " 'year',\n",
       " 'agriculture_value_added_constants',\n",
       " 'agriculture_value_added_percentage_gdp',\n",
       " 'annual_co2_emissions_tons',\n",
       " 'inflation_inflation_gdp_deflation',\n",
       " 'deaths_from_drought',\n",
       " 'deaths_from_extreme_temps',\n",
       " 'deaths_from_floods',\n",
       " 'deaths_from_storms',\n",
       " 'deaths_from_wildfires',\n",
       " 'people_affected_by_drought_per_100k',\n",
       " 'people_affected_by_extreme_temperatures_per_100k',\n",
       " 'people_affected_by_floods_per_100k',\n",
       " 'people_affected_by_storms_per_100k',\n",
       " 'people_affected_by_wildfires_per_100k',\n",
       " 'economic_damages_from_drought',\n",
       " 'economic_damages_from_drought_as_a_share_of_gdp',\n",
       " 'economic_damages_from_extreme_temperatures',\n",
       " 'economic_damages_from_extreme_temperatures_as_a_share_of_gdp',\n",
       " 'economic_damages_from_floods',\n",
       " 'economic_damages_from_floods_as_a_share_of_gdp',\n",
       " 'economic_damages_from_storms',\n",
       " 'economic_damages_from_storms_as_a_share_of_gdp',\n",
       " 'economic_damages_from_wildfires',\n",
       " 'economic_damages_as_a_share_of_gdp',\n",
       " 'economic_damages',\n",
       " 'economic_damages_thousands',\n",
       " 'people_affected_per_100k',\n",
       " 'number_of_deaths',\n",
       " 'population_population_growth_annual_percentage',\n",
       " 'population_population_total',\n",
       " 'temperature_change_temp_change_celsius']"
      ]
     },
     "execution_count": 4,
     "metadata": {},
     "output_type": "execute_result"
    }
   ],
   "source": [
    "dma_df= dma_df.drop(['country_name'], axis=1)\n",
    "dma_df.columns.tolist()"
   ]
  },
  {
   "cell_type": "code",
   "execution_count": 5,
   "id": "945bbce0",
   "metadata": {},
   "outputs": [
    {
     "data": {
      "text/html": [
       "<div>\n",
       "<style scoped>\n",
       "    .dataframe tbody tr th:only-of-type {\n",
       "        vertical-align: middle;\n",
       "    }\n",
       "\n",
       "    .dataframe tbody tr th {\n",
       "        vertical-align: top;\n",
       "    }\n",
       "\n",
       "    .dataframe thead th {\n",
       "        text-align: right;\n",
       "    }\n",
       "</style>\n",
       "<table border=\"1\" class=\"dataframe\">\n",
       "  <thead>\n",
       "    <tr style=\"text-align: right;\">\n",
       "      <th></th>\n",
       "      <th>country_code</th>\n",
       "      <th>agriculture_value_added_constants</th>\n",
       "      <th>agriculture_value_added_percentage_gdp</th>\n",
       "      <th>annual_co2_emissions_tons</th>\n",
       "      <th>inflation_inflation_gdp_deflation</th>\n",
       "      <th>deaths_from_drought</th>\n",
       "      <th>deaths_from_extreme_temps</th>\n",
       "      <th>deaths_from_floods</th>\n",
       "      <th>deaths_from_storms</th>\n",
       "      <th>deaths_from_wildfires</th>\n",
       "      <th>...</th>\n",
       "      <th>economic_damages_from_storms_as_a_share_of_gdp</th>\n",
       "      <th>economic_damages_from_wildfires</th>\n",
       "      <th>economic_damages_as_a_share_of_gdp</th>\n",
       "      <th>economic_damages</th>\n",
       "      <th>economic_damages_thousands</th>\n",
       "      <th>people_affected_per_100k</th>\n",
       "      <th>number_of_deaths</th>\n",
       "      <th>population_population_growth_annual_percentage</th>\n",
       "      <th>population_population_total</th>\n",
       "      <th>temperature_change_temp_change_celsius</th>\n",
       "    </tr>\n",
       "    <tr>\n",
       "      <th>year</th>\n",
       "      <th></th>\n",
       "      <th></th>\n",
       "      <th></th>\n",
       "      <th></th>\n",
       "      <th></th>\n",
       "      <th></th>\n",
       "      <th></th>\n",
       "      <th></th>\n",
       "      <th></th>\n",
       "      <th></th>\n",
       "      <th></th>\n",
       "      <th></th>\n",
       "      <th></th>\n",
       "      <th></th>\n",
       "      <th></th>\n",
       "      <th></th>\n",
       "      <th></th>\n",
       "      <th></th>\n",
       "      <th></th>\n",
       "      <th></th>\n",
       "      <th></th>\n",
       "    </tr>\n",
       "  </thead>\n",
       "  <tbody>\n",
       "    <tr>\n",
       "      <th>1989</th>\n",
       "      <td>DMA</td>\n",
       "      <td>80844330.59</td>\n",
       "      <td>15.490839</td>\n",
       "      <td>58624</td>\n",
       "      <td>8.407412</td>\n",
       "      <td>0.0</td>\n",
       "      <td>0.0</td>\n",
       "      <td>0.0</td>\n",
       "      <td>0.0</td>\n",
       "      <td>0.0</td>\n",
       "      <td>...</td>\n",
       "      <td>10.802797</td>\n",
       "      <td>0.0</td>\n",
       "      <td>2.700699</td>\n",
       "      <td>20000.0</td>\n",
       "      <td>20000.0</td>\n",
       "      <td>1000.000000</td>\n",
       "      <td>0.0</td>\n",
       "      <td>-0.690465</td>\n",
       "      <td>70722</td>\n",
       "      <td>-0.144</td>\n",
       "    </tr>\n",
       "    <tr>\n",
       "      <th>1995</th>\n",
       "      <td>DMA</td>\n",
       "      <td>77119200.34</td>\n",
       "      <td>12.166592</td>\n",
       "      <td>80608</td>\n",
       "      <td>0.783934</td>\n",
       "      <td>0.0</td>\n",
       "      <td>0.0</td>\n",
       "      <td>0.0</td>\n",
       "      <td>2.0</td>\n",
       "      <td>0.0</td>\n",
       "      <td>...</td>\n",
       "      <td>71.032501</td>\n",
       "      <td>0.0</td>\n",
       "      <td>17.758125</td>\n",
       "      <td>195000.0</td>\n",
       "      <td>195000.0</td>\n",
       "      <td>0.000000</td>\n",
       "      <td>2.0</td>\n",
       "      <td>0.085825</td>\n",
       "      <td>71105</td>\n",
       "      <td>0.663</td>\n",
       "    </tr>\n",
       "    <tr>\n",
       "      <th>1999</th>\n",
       "      <td>DMA</td>\n",
       "      <td>75973717.23</td>\n",
       "      <td>12.137315</td>\n",
       "      <td>80608</td>\n",
       "      <td>2.536390</td>\n",
       "      <td>0.0</td>\n",
       "      <td>0.0</td>\n",
       "      <td>0.0</td>\n",
       "      <td>0.0</td>\n",
       "      <td>0.0</td>\n",
       "      <td>...</td>\n",
       "      <td>0.000000</td>\n",
       "      <td>0.0</td>\n",
       "      <td>0.000000</td>\n",
       "      <td>0.0</td>\n",
       "      <td>0.0</td>\n",
       "      <td>571.428571</td>\n",
       "      <td>0.0</td>\n",
       "      <td>-0.507104</td>\n",
       "      <td>69828</td>\n",
       "      <td>0.525</td>\n",
       "    </tr>\n",
       "    <tr>\n",
       "      <th>2004</th>\n",
       "      <td>DMA</td>\n",
       "      <td>65784315.15</td>\n",
       "      <td>11.197854</td>\n",
       "      <td>142896</td>\n",
       "      <td>3.792007</td>\n",
       "      <td>0.0</td>\n",
       "      <td>0.0</td>\n",
       "      <td>0.0</td>\n",
       "      <td>0.0</td>\n",
       "      <td>0.0</td>\n",
       "      <td>...</td>\n",
       "      <td>0.000000</td>\n",
       "      <td>0.0</td>\n",
       "      <td>0.000000</td>\n",
       "      <td>0.0</td>\n",
       "      <td>0.0</td>\n",
       "      <td>0.000000</td>\n",
       "      <td>0.0</td>\n",
       "      <td>0.405726</td>\n",
       "      <td>70387</td>\n",
       "      <td>0.557</td>\n",
       "    </tr>\n",
       "    <tr>\n",
       "      <th>2007</th>\n",
       "      <td>DMA</td>\n",
       "      <td>61106426.03</td>\n",
       "      <td>10.446423</td>\n",
       "      <td>183200</td>\n",
       "      <td>1.525049</td>\n",
       "      <td>0.0</td>\n",
       "      <td>0.0</td>\n",
       "      <td>0.0</td>\n",
       "      <td>2.0</td>\n",
       "      <td>0.0</td>\n",
       "      <td>...</td>\n",
       "      <td>4.746376</td>\n",
       "      <td>0.0</td>\n",
       "      <td>1.186594</td>\n",
       "      <td>20000.0</td>\n",
       "      <td>20000.0</td>\n",
       "      <td>10563.380282</td>\n",
       "      <td>2.0</td>\n",
       "      <td>0.111649</td>\n",
       "      <td>70797</td>\n",
       "      <td>0.877</td>\n",
       "    </tr>\n",
       "    <tr>\n",
       "      <th>2011</th>\n",
       "      <td>DMA</td>\n",
       "      <td>69442664.34</td>\n",
       "      <td>12.501016</td>\n",
       "      <td>153888</td>\n",
       "      <td>1.685322</td>\n",
       "      <td>0.0</td>\n",
       "      <td>0.0</td>\n",
       "      <td>0.0</td>\n",
       "      <td>0.0</td>\n",
       "      <td>0.0</td>\n",
       "      <td>...</td>\n",
       "      <td>0.000000</td>\n",
       "      <td>0.0</td>\n",
       "      <td>0.000000</td>\n",
       "      <td>0.0</td>\n",
       "      <td>0.0</td>\n",
       "      <td>202.816901</td>\n",
       "      <td>0.0</td>\n",
       "      <td>0.049369</td>\n",
       "      <td>70912</td>\n",
       "      <td>0.633</td>\n",
       "    </tr>\n",
       "    <tr>\n",
       "      <th>2015</th>\n",
       "      <td>DMA</td>\n",
       "      <td>76003703.70</td>\n",
       "      <td>14.055576</td>\n",
       "      <td>175872</td>\n",
       "      <td>6.865465</td>\n",
       "      <td>0.0</td>\n",
       "      <td>0.0</td>\n",
       "      <td>0.0</td>\n",
       "      <td>30.0</td>\n",
       "      <td>0.0</td>\n",
       "      <td>...</td>\n",
       "      <td>89.287392</td>\n",
       "      <td>0.0</td>\n",
       "      <td>22.321848</td>\n",
       "      <td>482810.0</td>\n",
       "      <td>482810.0</td>\n",
       "      <td>39436.619718</td>\n",
       "      <td>30.0</td>\n",
       "      <td>0.118089</td>\n",
       "      <td>71175</td>\n",
       "      <td>0.982</td>\n",
       "    </tr>\n",
       "    <tr>\n",
       "      <th>2017</th>\n",
       "      <td>DMA</td>\n",
       "      <td>67253652.12</td>\n",
       "      <td>13.405151</td>\n",
       "      <td>161216</td>\n",
       "      <td>-3.073315</td>\n",
       "      <td>0.0</td>\n",
       "      <td>0.0</td>\n",
       "      <td>0.0</td>\n",
       "      <td>64.0</td>\n",
       "      <td>0.0</td>\n",
       "      <td>...</td>\n",
       "      <td>280.087777</td>\n",
       "      <td>0.0</td>\n",
       "      <td>70.021944</td>\n",
       "      <td>1456000.0</td>\n",
       "      <td>1456000.0</td>\n",
       "      <td>100412.676056</td>\n",
       "      <td>64.0</td>\n",
       "      <td>0.214335</td>\n",
       "      <td>71460</td>\n",
       "      <td>0.905</td>\n",
       "    </tr>\n",
       "  </tbody>\n",
       "</table>\n",
       "<p>8 rows × 32 columns</p>\n",
       "</div>"
      ],
      "text/plain": [
       "     country_code  agriculture_value_added_constants  \\\n",
       "year                                                   \n",
       "1989          DMA                        80844330.59   \n",
       "1995          DMA                        77119200.34   \n",
       "1999          DMA                        75973717.23   \n",
       "2004          DMA                        65784315.15   \n",
       "2007          DMA                        61106426.03   \n",
       "2011          DMA                        69442664.34   \n",
       "2015          DMA                        76003703.70   \n",
       "2017          DMA                        67253652.12   \n",
       "\n",
       "      agriculture_value_added_percentage_gdp  annual_co2_emissions_tons  \\\n",
       "year                                                                      \n",
       "1989                               15.490839                      58624   \n",
       "1995                               12.166592                      80608   \n",
       "1999                               12.137315                      80608   \n",
       "2004                               11.197854                     142896   \n",
       "2007                               10.446423                     183200   \n",
       "2011                               12.501016                     153888   \n",
       "2015                               14.055576                     175872   \n",
       "2017                               13.405151                     161216   \n",
       "\n",
       "      inflation_inflation_gdp_deflation  deaths_from_drought  \\\n",
       "year                                                           \n",
       "1989                           8.407412                  0.0   \n",
       "1995                           0.783934                  0.0   \n",
       "1999                           2.536390                  0.0   \n",
       "2004                           3.792007                  0.0   \n",
       "2007                           1.525049                  0.0   \n",
       "2011                           1.685322                  0.0   \n",
       "2015                           6.865465                  0.0   \n",
       "2017                          -3.073315                  0.0   \n",
       "\n",
       "      deaths_from_extreme_temps  deaths_from_floods  deaths_from_storms  \\\n",
       "year                                                                      \n",
       "1989                        0.0                 0.0                 0.0   \n",
       "1995                        0.0                 0.0                 2.0   \n",
       "1999                        0.0                 0.0                 0.0   \n",
       "2004                        0.0                 0.0                 0.0   \n",
       "2007                        0.0                 0.0                 2.0   \n",
       "2011                        0.0                 0.0                 0.0   \n",
       "2015                        0.0                 0.0                30.0   \n",
       "2017                        0.0                 0.0                64.0   \n",
       "\n",
       "      deaths_from_wildfires  ...  \\\n",
       "year                         ...   \n",
       "1989                    0.0  ...   \n",
       "1995                    0.0  ...   \n",
       "1999                    0.0  ...   \n",
       "2004                    0.0  ...   \n",
       "2007                    0.0  ...   \n",
       "2011                    0.0  ...   \n",
       "2015                    0.0  ...   \n",
       "2017                    0.0  ...   \n",
       "\n",
       "      economic_damages_from_storms_as_a_share_of_gdp  \\\n",
       "year                                                   \n",
       "1989                                       10.802797   \n",
       "1995                                       71.032501   \n",
       "1999                                        0.000000   \n",
       "2004                                        0.000000   \n",
       "2007                                        4.746376   \n",
       "2011                                        0.000000   \n",
       "2015                                       89.287392   \n",
       "2017                                      280.087777   \n",
       "\n",
       "      economic_damages_from_wildfires  economic_damages_as_a_share_of_gdp  \\\n",
       "year                                                                        \n",
       "1989                              0.0                            2.700699   \n",
       "1995                              0.0                           17.758125   \n",
       "1999                              0.0                            0.000000   \n",
       "2004                              0.0                            0.000000   \n",
       "2007                              0.0                            1.186594   \n",
       "2011                              0.0                            0.000000   \n",
       "2015                              0.0                           22.321848   \n",
       "2017                              0.0                           70.021944   \n",
       "\n",
       "      economic_damages  economic_damages_thousands  people_affected_per_100k  \\\n",
       "year                                                                           \n",
       "1989           20000.0                     20000.0               1000.000000   \n",
       "1995          195000.0                    195000.0                  0.000000   \n",
       "1999               0.0                         0.0                571.428571   \n",
       "2004               0.0                         0.0                  0.000000   \n",
       "2007           20000.0                     20000.0              10563.380282   \n",
       "2011               0.0                         0.0                202.816901   \n",
       "2015          482810.0                    482810.0              39436.619718   \n",
       "2017         1456000.0                   1456000.0             100412.676056   \n",
       "\n",
       "      number_of_deaths  population_population_growth_annual_percentage  \\\n",
       "year                                                                     \n",
       "1989               0.0                                       -0.690465   \n",
       "1995               2.0                                        0.085825   \n",
       "1999               0.0                                       -0.507104   \n",
       "2004               0.0                                        0.405726   \n",
       "2007               2.0                                        0.111649   \n",
       "2011               0.0                                        0.049369   \n",
       "2015              30.0                                        0.118089   \n",
       "2017              64.0                                        0.214335   \n",
       "\n",
       "      population_population_total  temperature_change_temp_change_celsius  \n",
       "year                                                                       \n",
       "1989                        70722                                  -0.144  \n",
       "1995                        71105                                   0.663  \n",
       "1999                        69828                                   0.525  \n",
       "2004                        70387                                   0.557  \n",
       "2007                        70797                                   0.877  \n",
       "2011                        70912                                   0.633  \n",
       "2015                        71175                                   0.982  \n",
       "2017                        71460                                   0.905  \n",
       "\n",
       "[8 rows x 32 columns]"
      ]
     },
     "execution_count": 5,
     "metadata": {},
     "output_type": "execute_result"
    }
   ],
   "source": [
    "dma_df= dma_df[(dma_df['year'] >= 1988) & (dma_df['year'] <= 2020)]\n",
    "dma_df.set_index('year',inplace = True)\n",
    "dma_df.head(10)"
   ]
  },
  {
   "cell_type": "code",
   "execution_count": 6,
   "id": "e8d99cd8",
   "metadata": {},
   "outputs": [
    {
     "name": "stdout",
     "output_type": "stream",
     "text": [
      "<class 'pandas.core.frame.DataFrame'>\n",
      "Int64Index: 8 entries, 1989 to 2017\n",
      "Data columns (total 10 columns):\n",
      " #   Column                                          Non-Null Count  Dtype  \n",
      "---  ------                                          --------------  -----  \n",
      " 0   agriculture_value_added_constants               8 non-null      float64\n",
      " 1   agriculture_value_added_percentage_gdp          8 non-null      float64\n",
      " 2   annual_co2_emissions_tons                       8 non-null      int64  \n",
      " 3   inflation_inflation_gdp_deflation               8 non-null      float64\n",
      " 4   economic_damages_as_a_share_of_gdp              8 non-null      float64\n",
      " 5   people_affected_per_100k                        8 non-null      float64\n",
      " 6   number_of_deaths                                8 non-null      float64\n",
      " 7   population_population_growth_annual_percentage  8 non-null      float64\n",
      " 8   population_population_total                     8 non-null      int64  \n",
      " 9   temperature_change_temp_change_celsius          8 non-null      float64\n",
      "dtypes: float64(8), int64(2)\n",
      "memory usage: 704.0 bytes\n"
     ]
    }
   ],
   "source": [
    "dma_df = dma_df.drop([\n",
    " 'country_code',\n",
    " 'deaths_from_drought',\n",
    " 'deaths_from_extreme_temps',\n",
    " 'deaths_from_floods',\n",
    " 'deaths_from_storms',\n",
    " 'deaths_from_wildfires',\n",
    " 'people_affected_by_drought_per_100k',\n",
    " 'people_affected_by_extreme_temperatures_per_100k',\n",
    " 'people_affected_by_floods_per_100k',\n",
    " 'people_affected_by_storms_per_100k',\n",
    " 'people_affected_by_wildfires_per_100k',\n",
    " 'economic_damages_from_drought',\n",
    " 'economic_damages_from_drought_as_a_share_of_gdp',\n",
    " 'economic_damages_from_extreme_temperatures',\n",
    " 'economic_damages_from_extreme_temperatures_as_a_share_of_gdp',\n",
    " 'economic_damages_from_floods',\n",
    " 'economic_damages_from_floods_as_a_share_of_gdp',\n",
    " 'economic_damages_from_storms',\n",
    " 'economic_damages_from_storms_as_a_share_of_gdp',\n",
    " 'economic_damages_from_wildfires',\n",
    " 'economic_damages',\n",
    " 'economic_damages_thousands',\n",
    "], axis=1)\n",
    "dma_df.info()"
   ]
  },
  {
   "cell_type": "code",
   "execution_count": 7,
   "id": "394f6893",
   "metadata": {},
   "outputs": [
    {
     "data": {
      "text/plain": [
       "['agriculture_value_added_constants',\n",
       " 'agriculture_value_added_percentage_gdp',\n",
       " 'annual_co2_emissions_tons',\n",
       " 'inflation_inflation_gdp_deflation',\n",
       " 'economic_damages_as_a_share_of_gdp',\n",
       " 'people_affected_per_100k',\n",
       " 'number_of_deaths',\n",
       " 'population_population_growth_annual_percentage',\n",
       " 'population_population_total',\n",
       " 'temperature_change_temp_change_celsius']"
      ]
     },
     "execution_count": 7,
     "metadata": {},
     "output_type": "execute_result"
    }
   ],
   "source": [
    "dma_df.columns.tolist()"
   ]
  },
  {
   "cell_type": "code",
   "execution_count": 8,
   "id": "6f19b5f2",
   "metadata": {},
   "outputs": [
    {
     "name": "stderr",
     "output_type": "stream",
     "text": [
      "C:\\Users\\jqu23\\anaconda3\\envs\\mlenv\\lib\\site-packages\\seaborn\\distributions.py:2619: FutureWarning: `distplot` is a deprecated function and will be removed in a future version. Please adapt your code to use either `displot` (a figure-level function with similar flexibility) or `kdeplot` (an axes-level function for kernel density plots).\n",
      "  warnings.warn(msg, FutureWarning)\n",
      "C:\\Users\\jqu23\\anaconda3\\envs\\mlenv\\lib\\site-packages\\seaborn\\distributions.py:2103: FutureWarning: The `axis` variable is no longer used and will be removed. Instead, assign variables directly to `x` or `y`.\n",
      "  warnings.warn(msg, FutureWarning)\n",
      "C:\\Users\\jqu23\\anaconda3\\envs\\mlenv\\lib\\site-packages\\seaborn\\distributions.py:2619: FutureWarning: `distplot` is a deprecated function and will be removed in a future version. Please adapt your code to use either `displot` (a figure-level function with similar flexibility) or `kdeplot` (an axes-level function for kernel density plots).\n",
      "  warnings.warn(msg, FutureWarning)\n",
      "C:\\Users\\jqu23\\anaconda3\\envs\\mlenv\\lib\\site-packages\\seaborn\\distributions.py:2103: FutureWarning: The `axis` variable is no longer used and will be removed. Instead, assign variables directly to `x` or `y`.\n",
      "  warnings.warn(msg, FutureWarning)\n",
      "C:\\Users\\jqu23\\anaconda3\\envs\\mlenv\\lib\\site-packages\\pandas\\core\\arraylike.py:364: RuntimeWarning: divide by zero encountered in log\n",
      "  result = getattr(ufunc, method)(*inputs, **kwargs)\n",
      "C:\\Users\\jqu23\\anaconda3\\envs\\mlenv\\lib\\site-packages\\seaborn\\distributions.py:2619: FutureWarning: `distplot` is a deprecated function and will be removed in a future version. Please adapt your code to use either `displot` (a figure-level function with similar flexibility) or `kdeplot` (an axes-level function for kernel density plots).\n",
      "  warnings.warn(msg, FutureWarning)\n",
      "C:\\Users\\jqu23\\anaconda3\\envs\\mlenv\\lib\\site-packages\\seaborn\\distributions.py:2103: FutureWarning: The `axis` variable is no longer used and will be removed. Instead, assign variables directly to `x` or `y`.\n",
      "  warnings.warn(msg, FutureWarning)\n"
     ]
    },
    {
     "data": {
      "image/png": "[encoded data removed]",
      "text/plain": [
       "<Figure size 432x432 with 3 Axes>"
      ]
     },
     "metadata": {
      "needs_background": "light"
     },
     "output_type": "display_data"
    }
   ],
   "source": [
    "fig, axes = plt.subplots(nrows=3, ncols=1, figsize=(6, 6))\n",
    "sb.distplot(\n",
    "    dma_df.economic_damages_as_a_share_of_gdp,\n",
    "    hist    = False,\n",
    "    rug     = True,\n",
    "    color   = \"blue\",\n",
    "    kde_kws = {'shade': True, 'linewidth': 1},\n",
    "    ax      = axes[0]\n",
    ")\n",
    "axes[0].set_title(\"Distribución original\", fontsize = 'medium')\n",
    "axes[0].set_xlabel('precio', fontsize='small') \n",
    "axes[0].tick_params(labelsize = 6)\n",
    "\n",
    "sb.distplot(\n",
    "    np.sqrt(dma_df.economic_damages_as_a_share_of_gdp),\n",
    "    hist    = False,\n",
    "    rug     = True,\n",
    "    color   = \"blue\",\n",
    "    kde_kws = {'shade': True, 'linewidth': 1},\n",
    "    ax      = axes[1]\n",
    ")\n",
    "axes[1].set_title(\"Transformación raíz cuadrada\", fontsize = 'medium')\n",
    "axes[1].set_xlabel('sqrt(economic_damages_as_a_share_of_gdp)', fontsize='small') \n",
    "axes[1].tick_params(labelsize = 6)\n",
    "\n",
    "sb.distplot(\n",
    "    np.log(dma_df.economic_damages_as_a_share_of_gdp),\n",
    "    hist    = False,\n",
    "    rug     = True,\n",
    "    color   = \"blue\",\n",
    "    kde_kws = {'shade': True, 'linewidth': 1},\n",
    "    ax      = axes[2]\n",
    ")\n",
    "axes[2].set_title(\"Transformación logarítmica\", fontsize = 'medium')\n",
    "axes[2].set_xlabel('log(economic_damages_as_a_share_of_gdp)', fontsize='small') \n",
    "axes[2].tick_params(labelsize = 6)\n",
    "\n",
    "fig.tight_layout()"
   ]
  },
  {
   "cell_type": "code",
   "execution_count": 9,
   "id": "f8fd215e",
   "metadata": {
    "scrolled": true
   },
   "outputs": [
    {
     "data": {
      "text/html": [
       "<div>\n",
       "<style scoped>\n",
       "    .dataframe tbody tr th:only-of-type {\n",
       "        vertical-align: middle;\n",
       "    }\n",
       "\n",
       "    .dataframe tbody tr th {\n",
       "        vertical-align: top;\n",
       "    }\n",
       "\n",
       "    .dataframe thead th {\n",
       "        text-align: right;\n",
       "    }\n",
       "</style>\n",
       "<table border=\"1\" class=\"dataframe\">\n",
       "  <thead>\n",
       "    <tr style=\"text-align: right;\">\n",
       "      <th></th>\n",
       "      <th>sumsquare_error</th>\n",
       "      <th>aic</th>\n",
       "      <th>bic</th>\n",
       "      <th>kl_div</th>\n",
       "      <th>ks_statistic</th>\n",
       "      <th>ks_pvalue</th>\n",
       "    </tr>\n",
       "  </thead>\n",
       "  <tbody>\n",
       "    <tr>\n",
       "      <th>gamma</th>\n",
       "      <td>0.205695</td>\n",
       "      <td>1135.444673</td>\n",
       "      <td>-23.048100</td>\n",
       "      <td>inf</td>\n",
       "      <td>0.375000</td>\n",
       "      <td>0.161576</td>\n",
       "    </tr>\n",
       "    <tr>\n",
       "      <th>exponpow</th>\n",
       "      <td>0.249506</td>\n",
       "      <td>1137.213765</td>\n",
       "      <td>-21.503379</td>\n",
       "      <td>inf</td>\n",
       "      <td>0.374992</td>\n",
       "      <td>0.161594</td>\n",
       "    </tr>\n",
       "    <tr>\n",
       "      <th>beta</th>\n",
       "      <td>0.254574</td>\n",
       "      <td>1008.062194</td>\n",
       "      <td>-19.263065</td>\n",
       "      <td>inf</td>\n",
       "      <td>0.374992</td>\n",
       "      <td>0.161594</td>\n",
       "    </tr>\n",
       "    <tr>\n",
       "      <th>cauchy</th>\n",
       "      <td>0.257640</td>\n",
       "      <td>1420.487767</td>\n",
       "      <td>-23.326187</td>\n",
       "      <td>inf</td>\n",
       "      <td>0.386855</td>\n",
       "      <td>0.137917</td>\n",
       "    </tr>\n",
       "    <tr>\n",
       "      <th>lognorm</th>\n",
       "      <td>0.279539</td>\n",
       "      <td>1262.321349</td>\n",
       "      <td>-20.594112</td>\n",
       "      <td>inf</td>\n",
       "      <td>0.375000</td>\n",
       "      <td>0.161576</td>\n",
       "    </tr>\n",
       "    <tr>\n",
       "      <th>powerlaw</th>\n",
       "      <td>0.321609</td>\n",
       "      <td>900.423134</td>\n",
       "      <td>-19.472552</td>\n",
       "      <td>inf</td>\n",
       "      <td>0.422473</td>\n",
       "      <td>0.082590</td>\n",
       "    </tr>\n",
       "    <tr>\n",
       "      <th>chi2</th>\n",
       "      <td>0.358937</td>\n",
       "      <td>938.208310</td>\n",
       "      <td>-18.594078</td>\n",
       "      <td>inf</td>\n",
       "      <td>0.482800</td>\n",
       "      <td>0.030796</td>\n",
       "    </tr>\n",
       "    <tr>\n",
       "      <th>expon</th>\n",
       "      <td>0.365845</td>\n",
       "      <td>1026.761026</td>\n",
       "      <td>-20.521009</td>\n",
       "      <td>inf</td>\n",
       "      <td>0.452339</td>\n",
       "      <td>0.051603</td>\n",
       "    </tr>\n",
       "    <tr>\n",
       "      <th>logistic</th>\n",
       "      <td>0.414902</td>\n",
       "      <td>1054.174560</td>\n",
       "      <td>-19.514348</td>\n",
       "      <td>inf</td>\n",
       "      <td>0.295211</td>\n",
       "      <td>0.409617</td>\n",
       "    </tr>\n",
       "    <tr>\n",
       "      <th>norm</th>\n",
       "      <td>0.421730</td>\n",
       "      <td>975.527919</td>\n",
       "      <td>-19.383772</td>\n",
       "      <td>inf</td>\n",
       "      <td>0.319984</td>\n",
       "      <td>0.314785</td>\n",
       "    </tr>\n",
       "  </tbody>\n",
       "</table>\n",
       "</div>"
      ],
      "text/plain": [
       "          sumsquare_error          aic        bic  kl_div  ks_statistic  \\\n",
       "gamma            0.205695  1135.444673 -23.048100     inf      0.375000   \n",
       "exponpow         0.249506  1137.213765 -21.503379     inf      0.374992   \n",
       "beta             0.254574  1008.062194 -19.263065     inf      0.374992   \n",
       "cauchy           0.257640  1420.487767 -23.326187     inf      0.386855   \n",
       "lognorm          0.279539  1262.321349 -20.594112     inf      0.375000   \n",
       "powerlaw         0.321609   900.423134 -19.472552     inf      0.422473   \n",
       "chi2             0.358937   938.208310 -18.594078     inf      0.482800   \n",
       "expon            0.365845  1026.761026 -20.521009     inf      0.452339   \n",
       "logistic         0.414902  1054.174560 -19.514348     inf      0.295211   \n",
       "norm             0.421730   975.527919 -19.383772     inf      0.319984   \n",
       "\n",
       "          ks_pvalue  \n",
       "gamma      0.161576  \n",
       "exponpow   0.161594  \n",
       "beta       0.161594  \n",
       "cauchy     0.137917  \n",
       "lognorm    0.161576  \n",
       "powerlaw   0.082590  \n",
       "chi2       0.030796  \n",
       "expon      0.051603  \n",
       "logistic   0.409617  \n",
       "norm       0.314785  "
      ]
     },
     "execution_count": 9,
     "metadata": {},
     "output_type": "execute_result"
    }
   ],
   "source": [
    "from fitter import Fitter\n",
    "distribuciones = ['cauchy', 'chi2', 'expon',  'exponpow', 'gamma',\n",
    "                  'norm', 'powerlaw', 'beta', 'logistic', 'lognorm']\n",
    "\n",
    "fitter = Fitter(dma_df.economic_damages_as_a_share_of_gdp, distributions=distribuciones)\n",
    "fitter.fit()\n",
    "fitter.summary(Nbest=10, plot=False)"
   ]
  },
  {
   "cell_type": "markdown",
   "id": "51ab0336",
   "metadata": {},
   "source": [
    "Pairplot() function from the Seaborn library will output a figure containing histogram and scatter plot between each variable."
   ]
  },
  {
   "cell_type": "code",
   "execution_count": 11,
   "id": "dd07442f",
   "metadata": {},
   "outputs": [
    {
     "data": {
      "text/html": [
       "<div>\n",
       "<style scoped>\n",
       "    .dataframe tbody tr th:only-of-type {\n",
       "        vertical-align: middle;\n",
       "    }\n",
       "\n",
       "    .dataframe tbody tr th {\n",
       "        vertical-align: top;\n",
       "    }\n",
       "\n",
       "    .dataframe thead th {\n",
       "        text-align: right;\n",
       "    }\n",
       "</style>\n",
       "<table border=\"1\" class=\"dataframe\">\n",
       "  <thead>\n",
       "    <tr style=\"text-align: right;\">\n",
       "      <th></th>\n",
       "      <th>agriculture_value_added_constants</th>\n",
       "      <th>agriculture_value_added_percentage_gdp</th>\n",
       "      <th>annual_co2_emissions_tons</th>\n",
       "      <th>inflation_inflation_gdp_deflation</th>\n",
       "      <th>economic_damages_as_a_share_of_gdp</th>\n",
       "      <th>people_affected_per_100k</th>\n",
       "      <th>number_of_deaths</th>\n",
       "      <th>population_population_growth_annual_percentage</th>\n",
       "      <th>population_population_total</th>\n",
       "      <th>temperature_change_temp_change_celsius</th>\n",
       "    </tr>\n",
       "  </thead>\n",
       "  <tbody>\n",
       "    <tr>\n",
       "      <th>agriculture_value_added_constants</th>\n",
       "      <td>1.000000</td>\n",
       "      <td>0.735523</td>\n",
       "      <td>-0.763873</td>\n",
       "      <td>0.545005</td>\n",
       "      <td>-0.092164</td>\n",
       "      <td>-0.222801</td>\n",
       "      <td>-0.149058</td>\n",
       "      <td>-0.686261</td>\n",
       "      <td>-0.096017</td>\n",
       "      <td>-0.550460</td>\n",
       "    </tr>\n",
       "    <tr>\n",
       "      <th>agriculture_value_added_percentage_gdp</th>\n",
       "      <td>0.735523</td>\n",
       "      <td>1.000000</td>\n",
       "      <td>-0.373765</td>\n",
       "      <td>0.490672</td>\n",
       "      <td>0.285833</td>\n",
       "      <td>0.266497</td>\n",
       "      <td>0.315101</td>\n",
       "      <td>-0.536247</td>\n",
       "      <td>0.305458</td>\n",
       "      <td>-0.476040</td>\n",
       "    </tr>\n",
       "    <tr>\n",
       "      <th>annual_co2_emissions_tons</th>\n",
       "      <td>-0.763873</td>\n",
       "      <td>-0.373765</td>\n",
       "      <td>1.000000</td>\n",
       "      <td>-0.298608</td>\n",
       "      <td>0.272179</td>\n",
       "      <td>0.450856</td>\n",
       "      <td>0.430098</td>\n",
       "      <td>0.742134</td>\n",
       "      <td>0.424594</td>\n",
       "      <td>0.793508</td>\n",
       "    </tr>\n",
       "    <tr>\n",
       "      <th>inflation_inflation_gdp_deflation</th>\n",
       "      <td>0.545005</td>\n",
       "      <td>0.490672</td>\n",
       "      <td>-0.298608</td>\n",
       "      <td>1.000000</td>\n",
       "      <td>-0.565499</td>\n",
       "      <td>-0.491611</td>\n",
       "      <td>-0.446700</td>\n",
       "      <td>-0.477210</td>\n",
       "      <td>-0.288023</td>\n",
       "      <td>-0.556175</td>\n",
       "    </tr>\n",
       "    <tr>\n",
       "      <th>economic_damages_as_a_share_of_gdp</th>\n",
       "      <td>-0.092164</td>\n",
       "      <td>0.285833</td>\n",
       "      <td>0.272179</td>\n",
       "      <td>-0.565499</td>\n",
       "      <td>1.000000</td>\n",
       "      <td>0.955465</td>\n",
       "      <td>0.960258</td>\n",
       "      <td>0.323630</td>\n",
       "      <td>0.697550</td>\n",
       "      <td>0.441914</td>\n",
       "    </tr>\n",
       "    <tr>\n",
       "      <th>people_affected_per_100k</th>\n",
       "      <td>-0.222801</td>\n",
       "      <td>0.266497</td>\n",
       "      <td>0.450856</td>\n",
       "      <td>-0.491611</td>\n",
       "      <td>0.955465</td>\n",
       "      <td>1.000000</td>\n",
       "      <td>0.993563</td>\n",
       "      <td>0.327500</td>\n",
       "      <td>0.638492</td>\n",
       "      <td>0.500112</td>\n",
       "    </tr>\n",
       "    <tr>\n",
       "      <th>number_of_deaths</th>\n",
       "      <td>-0.149058</td>\n",
       "      <td>0.315101</td>\n",
       "      <td>0.430098</td>\n",
       "      <td>-0.446700</td>\n",
       "      <td>0.960258</td>\n",
       "      <td>0.993563</td>\n",
       "      <td>1.000000</td>\n",
       "      <td>0.332677</td>\n",
       "      <td>0.655252</td>\n",
       "      <td>0.506224</td>\n",
       "    </tr>\n",
       "    <tr>\n",
       "      <th>population_population_growth_annual_percentage</th>\n",
       "      <td>-0.686261</td>\n",
       "      <td>-0.536247</td>\n",
       "      <td>0.742134</td>\n",
       "      <td>-0.477210</td>\n",
       "      <td>0.323630</td>\n",
       "      <td>0.327500</td>\n",
       "      <td>0.332677</td>\n",
       "      <td>1.000000</td>\n",
       "      <td>0.449442</td>\n",
       "      <td>0.744081</td>\n",
       "    </tr>\n",
       "    <tr>\n",
       "      <th>population_population_total</th>\n",
       "      <td>-0.096017</td>\n",
       "      <td>0.305458</td>\n",
       "      <td>0.424594</td>\n",
       "      <td>-0.288023</td>\n",
       "      <td>0.697550</td>\n",
       "      <td>0.638492</td>\n",
       "      <td>0.655252</td>\n",
       "      <td>0.449442</td>\n",
       "      <td>1.000000</td>\n",
       "      <td>0.410095</td>\n",
       "    </tr>\n",
       "    <tr>\n",
       "      <th>temperature_change_temp_change_celsius</th>\n",
       "      <td>-0.550460</td>\n",
       "      <td>-0.476040</td>\n",
       "      <td>0.793508</td>\n",
       "      <td>-0.556175</td>\n",
       "      <td>0.441914</td>\n",
       "      <td>0.500112</td>\n",
       "      <td>0.506224</td>\n",
       "      <td>0.744081</td>\n",
       "      <td>0.410095</td>\n",
       "      <td>1.000000</td>\n",
       "    </tr>\n",
       "  </tbody>\n",
       "</table>\n",
       "</div>"
      ],
      "text/plain": [
       "                                                agriculture_value_added_constants  \\\n",
       "agriculture_value_added_constants                                        1.000000   \n",
       "agriculture_value_added_percentage_gdp                                   0.735523   \n",
       "annual_co2_emissions_tons                                               -0.763873   \n",
       "inflation_inflation_gdp_deflation                                        0.545005   \n",
       "economic_damages_as_a_share_of_gdp                                      -0.092164   \n",
       "people_affected_per_100k                                                -0.222801   \n",
       "number_of_deaths                                                        -0.149058   \n",
       "population_population_growth_annual_percentage                          -0.686261   \n",
       "population_population_total                                             -0.096017   \n",
       "temperature_change_temp_change_celsius                                  -0.550460   \n",
       "\n",
       "                                                agriculture_value_added_percentage_gdp  \\\n",
       "agriculture_value_added_constants                                             0.735523   \n",
       "agriculture_value_added_percentage_gdp                                        1.000000   \n",
       "annual_co2_emissions_tons                                                    -0.373765   \n",
       "inflation_inflation_gdp_deflation                                             0.490672   \n",
       "economic_damages_as_a_share_of_gdp                                            0.285833   \n",
       "people_affected_per_100k                                                      0.266497   \n",
       "number_of_deaths                                                              0.315101   \n",
       "population_population_growth_annual_percentage                               -0.536247   \n",
       "population_population_total                                                   0.305458   \n",
       "temperature_change_temp_change_celsius                                       -0.476040   \n",
       "\n",
       "                                                annual_co2_emissions_tons  \\\n",
       "agriculture_value_added_constants                               -0.763873   \n",
       "agriculture_value_added_percentage_gdp                          -0.373765   \n",
       "annual_co2_emissions_tons                                        1.000000   \n",
       "inflation_inflation_gdp_deflation                               -0.298608   \n",
       "economic_damages_as_a_share_of_gdp                               0.272179   \n",
       "people_affected_per_100k                                         0.450856   \n",
       "number_of_deaths                                                 0.430098   \n",
       "population_population_growth_annual_percentage                   0.742134   \n",
       "population_population_total                                      0.424594   \n",
       "temperature_change_temp_change_celsius                           0.793508   \n",
       "\n",
       "                                                inflation_inflation_gdp_deflation  \\\n",
       "agriculture_value_added_constants                                        0.545005   \n",
       "agriculture_value_added_percentage_gdp                                   0.490672   \n",
       "annual_co2_emissions_tons                                               -0.298608   \n",
       "inflation_inflation_gdp_deflation                                        1.000000   \n",
       "economic_damages_as_a_share_of_gdp                                      -0.565499   \n",
       "people_affected_per_100k                                                -0.491611   \n",
       "number_of_deaths                                                        -0.446700   \n",
       "population_population_growth_annual_percentage                          -0.477210   \n",
       "population_population_total                                             -0.288023   \n",
       "temperature_change_temp_change_celsius                                  -0.556175   \n",
       "\n",
       "                                                economic_damages_as_a_share_of_gdp  \\\n",
       "agriculture_value_added_constants                                        -0.092164   \n",
       "agriculture_value_added_percentage_gdp                                    0.285833   \n",
       "annual_co2_emissions_tons                                                 0.272179   \n",
       "inflation_inflation_gdp_deflation                                        -0.565499   \n",
       "economic_damages_as_a_share_of_gdp                                        1.000000   \n",
       "people_affected_per_100k                                                  0.955465   \n",
       "number_of_deaths                                                          0.960258   \n",
       "population_population_growth_annual_percentage                            0.323630   \n",
       "population_population_total                                               0.697550   \n",
       "temperature_change_temp_change_celsius                                    0.441914   \n",
       "\n",
       "                                                people_affected_per_100k  \\\n",
       "agriculture_value_added_constants                              -0.222801   \n",
       "agriculture_value_added_percentage_gdp                          0.266497   \n",
       "annual_co2_emissions_tons                                       0.450856   \n",
       "inflation_inflation_gdp_deflation                              -0.491611   \n",
       "economic_damages_as_a_share_of_gdp                              0.955465   \n",
       "people_affected_per_100k                                        1.000000   \n",
       "number_of_deaths                                                0.993563   \n",
       "population_population_growth_annual_percentage                  0.327500   \n",
       "population_population_total                                     0.638492   \n",
       "temperature_change_temp_change_celsius                          0.500112   \n",
       "\n",
       "                                                number_of_deaths  \\\n",
       "agriculture_value_added_constants                      -0.149058   \n",
       "agriculture_value_added_percentage_gdp                  0.315101   \n",
       "annual_co2_emissions_tons                               0.430098   \n",
       "inflation_inflation_gdp_deflation                      -0.446700   \n",
       "economic_damages_as_a_share_of_gdp                      0.960258   \n",
       "people_affected_per_100k                                0.993563   \n",
       "number_of_deaths                                        1.000000   \n",
       "population_population_growth_annual_percentage          0.332677   \n",
       "population_population_total                             0.655252   \n",
       "temperature_change_temp_change_celsius                  0.506224   \n",
       "\n",
       "                                                population_population_growth_annual_percentage  \\\n",
       "agriculture_value_added_constants                                                    -0.686261   \n",
       "agriculture_value_added_percentage_gdp                                               -0.536247   \n",
       "annual_co2_emissions_tons                                                             0.742134   \n",
       "inflation_inflation_gdp_deflation                                                    -0.477210   \n",
       "economic_damages_as_a_share_of_gdp                                                    0.323630   \n",
       "people_affected_per_100k                                                              0.327500   \n",
       "number_of_deaths                                                                      0.332677   \n",
       "population_population_growth_annual_percentage                                        1.000000   \n",
       "population_population_total                                                           0.449442   \n",
       "temperature_change_temp_change_celsius                                                0.744081   \n",
       "\n",
       "                                                population_population_total  \\\n",
       "agriculture_value_added_constants                                 -0.096017   \n",
       "agriculture_value_added_percentage_gdp                             0.305458   \n",
       "annual_co2_emissions_tons                                          0.424594   \n",
       "inflation_inflation_gdp_deflation                                 -0.288023   \n",
       "economic_damages_as_a_share_of_gdp                                 0.697550   \n",
       "people_affected_per_100k                                           0.638492   \n",
       "number_of_deaths                                                   0.655252   \n",
       "population_population_growth_annual_percentage                     0.449442   \n",
       "population_population_total                                        1.000000   \n",
       "temperature_change_temp_change_celsius                             0.410095   \n",
       "\n",
       "                                                temperature_change_temp_change_celsius  \n",
       "agriculture_value_added_constants                                            -0.550460  \n",
       "agriculture_value_added_percentage_gdp                                       -0.476040  \n",
       "annual_co2_emissions_tons                                                     0.793508  \n",
       "inflation_inflation_gdp_deflation                                            -0.556175  \n",
       "economic_damages_as_a_share_of_gdp                                            0.441914  \n",
       "people_affected_per_100k                                                      0.500112  \n",
       "number_of_deaths                                                              0.506224  \n",
       "population_population_growth_annual_percentage                                0.744081  \n",
       "population_population_total                                                   0.410095  \n",
       "temperature_change_temp_change_celsius                                        1.000000  "
      ]
     },
     "execution_count": 11,
     "metadata": {},
     "output_type": "execute_result"
    }
   ],
   "source": [
    "dma_df.corr ()"
   ]
  },
  {
   "cell_type": "code",
   "execution_count": 12,
   "id": "08f2fe62",
   "metadata": {},
   "outputs": [],
   "source": [
    "dma_corr_df = dma_df.corr(method='spearman')"
   ]
  },
  {
   "cell_type": "code",
   "execution_count": 13,
   "id": "b471f974",
   "metadata": {},
   "outputs": [
    {
     "data": {
      "image/png": "[encoded data removed]",
      "text/plain": [
       "<Figure size 576x432 with 2 Axes>"
      ]
     },
     "metadata": {
      "needs_background": "light"
     },
     "output_type": "display_data"
    }
   ],
   "source": [
    "plt.figure(figsize=(8, 6))\n",
    "sb.heatmap(dma_corr_df, annot=True)\n",
    "plt.show()"
   ]
  },
  {
   "cell_type": "markdown",
   "id": "c41df473",
   "metadata": {},
   "source": [
    "### CORRELATION TESTS"
   ]
  },
  {
   "cell_type": "markdown",
   "id": "3b66a313",
   "metadata": {},
   "source": [
    "El análisis gráfico hecho previamente y los test estadísticos mostraron evidencias de que no se puede asumir normalidad en las variables de desastres. Siendo estrictos, este hecho excluye la posibilidad de utilizar el coeficiente de Pearson, dejando como alternativas el de Spearman o Kendall. Sin embargo, dado que la distribución no se aleja mucho de la normalidad y de que el coeficiente de Pearson tiene cierta robustez, a fines prácticos sí que se podría utilizar siempre y cuando se tenga en cuenta este hecho y se comunique en los resultados. Otra posibilidad es tratar de transformar las variables para mejorar su distribución, por ejemplo, aplicando el logaritmo."
   ]
  },
  {
   "cell_type": "code",
   "execution_count": 14,
   "id": "f99389d1",
   "metadata": {},
   "outputs": [
    {
     "name": "stdout",
     "output_type": "stream",
     "text": [
      "Correlación Pearson:  0.4100949356784588\n",
      "Correlación spearman:  0.8333333333333335\n",
      "Correlación kendall:  0.6428571428571428\n"
     ]
    }
   ],
   "source": [
    "print('Correlación Pearson: ', dma_df['temperature_change_temp_change_celsius'].corr(dma_df['population_population_total'], method='pearson'))\n",
    "print('Correlación spearman: ', dma_df['temperature_change_temp_change_celsius'].corr(dma_df['population_population_total'], method='spearman'))\n",
    "print('Correlación kendall: ', dma_df['temperature_change_temp_change_celsius'].corr(dma_df['population_population_total'], method='kendall'))"
   ]
  },
  {
   "cell_type": "code",
   "execution_count": 15,
   "id": "b40e65ff",
   "metadata": {},
   "outputs": [
    {
     "data": {
      "image/png": "[encoded data removed]",
      "text/plain": [
       "<Figure size 432x288 with 1 Axes>"
      ]
     },
     "metadata": {
      "needs_background": "light"
     },
     "output_type": "display_data"
    }
   ],
   "source": [
    "plt.scatter(dma_df.population_population_total , dma_df.temperature_change_temp_change_celsius )\n",
    "plt.xlabel('population_population_total')\n",
    "plt.ylabel('temperature_change_temp_change_celsius')\n",
    "plt.show()"
   ]
  },
  {
   "cell_type": "code",
   "execution_count": 16,
   "id": "42abee85",
   "metadata": {},
   "outputs": [
    {
     "name": "stdout",
     "output_type": "stream",
     "text": [
      "Correlación Pearson:  0.7440813378874875\n",
      "Correlación spearman:  0.6190476190476191\n",
      "Correlación kendall:  0.5714285714285714\n"
     ]
    }
   ],
   "source": [
    "print('Correlación Pearson: ', dma_df['temperature_change_temp_change_celsius'].corr(dma_df['population_population_growth_annual_percentage'], method='pearson'))\n",
    "print('Correlación spearman: ', dma_df['temperature_change_temp_change_celsius'].corr(dma_df['population_population_growth_annual_percentage'], method='spearman'))\n",
    "print('Correlación kendall: ', dma_df['temperature_change_temp_change_celsius'].corr(dma_df['population_population_growth_annual_percentage'], method='kendall'))"
   ]
  },
  {
   "cell_type": "code",
   "execution_count": 17,
   "id": "b59c8a92",
   "metadata": {},
   "outputs": [
    {
     "data": {
      "image/png": "[encoded data removed]",
      "text/plain": [
       "<Figure size 432x288 with 1 Axes>"
      ]
     },
     "metadata": {
      "needs_background": "light"
     },
     "output_type": "display_data"
    }
   ],
   "source": [
    "plt.scatter(dma_df.population_population_growth_annual_percentage, dma_df.temperature_change_temp_change_celsius )\n",
    "plt.xlabel('population_population_growth_annual_percentage')\n",
    "plt.ylabel('temperature_change_temp_change_celsius')\n",
    "plt.show()"
   ]
  },
  {
   "cell_type": "code",
   "execution_count": 18,
   "id": "8fafb202",
   "metadata": {},
   "outputs": [
    {
     "name": "stdout",
     "output_type": "stream",
     "text": [
      "Correlación Pearson:  0.7935080464920801\n",
      "Correlación spearman:  0.8263621207201486\n",
      "Correlación kendall:  0.6910233190806424\n"
     ]
    }
   ],
   "source": [
    "print('Correlación Pearson: ', dma_df['temperature_change_temp_change_celsius'].corr(dma_df['annual_co2_emissions_tons'], method='pearson'))\n",
    "print('Correlación spearman: ', dma_df['temperature_change_temp_change_celsius'].corr(dma_df['annual_co2_emissions_tons'], method='spearman'))\n",
    "print('Correlación kendall: ', dma_df['temperature_change_temp_change_celsius'].corr(dma_df['annual_co2_emissions_tons'], method='kendall'))"
   ]
  },
  {
   "cell_type": "code",
   "execution_count": 19,
   "id": "19a356ec",
   "metadata": {},
   "outputs": [
    {
     "data": {
      "image/png": "[encoded data removed]",
      "text/plain": [
       "<Figure size 432x288 with 1 Axes>"
      ]
     },
     "metadata": {
      "needs_background": "light"
     },
     "output_type": "display_data"
    }
   ],
   "source": [
    "plt.scatter(dma_df.annual_co2_emissions_tons, dma_df.temperature_change_temp_change_celsius )\n",
    "plt.xlabel('annual_co2_emissions_tons')\n",
    "plt.ylabel('temperature_change_temp_change_celsius')\n",
    "plt.show()"
   ]
  },
  {
   "cell_type": "code",
   "execution_count": 20,
   "id": "4d5c5b69",
   "metadata": {},
   "outputs": [
    {
     "name": "stdout",
     "output_type": "stream",
     "text": [
      "Correlación Pearson:  0.4419139697637337\n",
      "Correlación spearman:  0.6587325492402599\n",
      "Correlación kendall:  0.49135381491199537\n"
     ]
    }
   ],
   "source": [
    "print('Correlación Pearson: ', dma_df['temperature_change_temp_change_celsius'].corr(dma_df['economic_damages_as_a_share_of_gdp'], method='pearson'))\n",
    "print('Correlación spearman: ', dma_df['temperature_change_temp_change_celsius'].corr(dma_df['economic_damages_as_a_share_of_gdp'], method='spearman'))\n",
    "print('Correlación kendall: ', dma_df['temperature_change_temp_change_celsius'].corr(dma_df['economic_damages_as_a_share_of_gdp'], method='kendall'))"
   ]
  },
  {
   "cell_type": "code",
   "execution_count": 21,
   "id": "b94da0ff",
   "metadata": {},
   "outputs": [
    {
     "data": {
      "image/png": "[encoded data removed]",
      "text/plain": [
       "<Figure size 432x288 with 1 Axes>"
      ]
     },
     "metadata": {
      "needs_background": "light"
     },
     "output_type": "display_data"
    }
   ],
   "source": [
    "plt.scatter(dma_df.economic_damages_as_a_share_of_gdp, dma_df.temperature_change_temp_change_celsius )\n",
    "plt.xlabel('economic_damages_as_a_share_of_gdp')\n",
    "plt.ylabel('temperature_change_temp_change_celsius')\n",
    "plt.show()"
   ]
  },
  {
   "cell_type": "code",
   "execution_count": 22,
   "id": "b654a9f1",
   "metadata": {},
   "outputs": [],
   "source": [
    "# Correlación sin outlier\n",
    "#r, p = stats.pearsonr(np.delete(a, 5), np.delete(b, 5))\n",
    "#print(f\"Correlación Pearson sin outlier: r={r}, p-value={p}\")"
   ]
  },
  {
   "cell_type": "code",
   "execution_count": 23,
   "id": "f00dbb42",
   "metadata": {},
   "outputs": [
    {
     "name": "stdout",
     "output_type": "stream",
     "text": [
      "Correlación Pearson:  0.5062236389729186\n",
      "Correlación spearman:  0.9066867635238647\n",
      "Correlación kendall:  0.7835467939002063\n"
     ]
    }
   ],
   "source": [
    "print('Correlación Pearson: ', dma_df['temperature_change_temp_change_celsius'].corr(dma_df['number_of_deaths'], method='pearson'))\n",
    "print('Correlación spearman: ', dma_df['temperature_change_temp_change_celsius'].corr(dma_df['number_of_deaths'], method='spearman'))\n",
    "print('Correlación kendall: ', dma_df['temperature_change_temp_change_celsius'].corr(dma_df['number_of_deaths'], method='kendall'))"
   ]
  },
  {
   "cell_type": "code",
   "execution_count": 24,
   "id": "a4e032b4",
   "metadata": {},
   "outputs": [
    {
     "data": {
      "image/png": "[encoded data removed]",
      "text/plain": [
       "<Figure size 432x288 with 1 Axes>"
      ]
     },
     "metadata": {
      "needs_background": "light"
     },
     "output_type": "display_data"
    }
   ],
   "source": [
    "plt.scatter(dma_df.number_of_deaths, dma_df.temperature_change_temp_change_celsius )\n",
    "plt.xlabel('number_of_deaths')\n",
    "plt.ylabel('temperature_change_temp_change_celsius')\n",
    "plt.show()"
   ]
  },
  {
   "cell_type": "code",
   "execution_count": 25,
   "id": "62d8b1ef",
   "metadata": {},
   "outputs": [],
   "source": [
    "# Correlación sin outlier\n",
    "#Pendiente\n"
   ]
  },
  {
   "cell_type": "code",
   "execution_count": 26,
   "id": "33ef4e68",
   "metadata": {},
   "outputs": [
    {
     "name": "stdout",
     "output_type": "stream",
     "text": [
      "Correlación Pearson:  0.9602578127437041\n",
      "Correlación spearman:  0.876735070338608\n",
      "Correlación kendall:  0.8292279828967711\n"
     ]
    }
   ],
   "source": [
    "print('Correlación Pearson: ', dma_df['number_of_deaths'].corr(dma_df['economic_damages_as_a_share_of_gdp'], method='pearson'))\n",
    "print('Correlación spearman: ', dma_df['number_of_deaths'].corr(dma_df['economic_damages_as_a_share_of_gdp'], method='spearman'))\n",
    "print('Correlación kendall: ', dma_df['number_of_deaths'].corr(dma_df['economic_damages_as_a_share_of_gdp'], method='kendall'))"
   ]
  },
  {
   "cell_type": "code",
   "execution_count": 27,
   "id": "98f653b3",
   "metadata": {},
   "outputs": [
    {
     "data": {
      "image/png": "[encoded data removed]",
      "text/plain": [
       "<Figure size 432x288 with 1 Axes>"
      ]
     },
     "metadata": {
      "needs_background": "light"
     },
     "output_type": "display_data"
    }
   ],
   "source": [
    "plt.scatter(dma_df.number_of_deaths, dma_df.economic_damages_as_a_share_of_gdp )\n",
    "plt.xlabel('number_of_deaths')\n",
    "plt.ylabel('economic_damages_as_a_share_of_gdp')\n",
    "plt.show()"
   ]
  },
  {
   "cell_type": "code",
   "execution_count": 28,
   "id": "64f8ec61",
   "metadata": {},
   "outputs": [],
   "source": [
    "# Correlación sin outlier\n",
    "#Pendiente\n"
   ]
  },
  {
   "cell_type": "code",
   "execution_count": 29,
   "id": "339195b9",
   "metadata": {},
   "outputs": [
    {
     "name": "stdout",
     "output_type": "stream",
     "text": [
      "Correlación Pearson:  0.9554653894490115\n",
      "Correlación spearman:  0.6381449017759607\n",
      "Correlación kendall:  0.5388602512436507\n"
     ]
    }
   ],
   "source": [
    "print('Correlación Pearson: ', dma_df['people_affected_per_100k'].corr(dma_df['economic_damages_as_a_share_of_gdp'], method='pearson'))\n",
    "print('Correlación spearman: ', dma_df['people_affected_per_100k'].corr(dma_df['economic_damages_as_a_share_of_gdp'], method='spearman'))\n",
    "print('Correlación kendall: ', dma_df['people_affected_per_100k'].corr(dma_df['economic_damages_as_a_share_of_gdp'], method='kendall'))"
   ]
  },
  {
   "cell_type": "code",
   "execution_count": 30,
   "id": "83e22c1b",
   "metadata": {},
   "outputs": [
    {
     "data": {
      "image/png": "[encoded data removed]",
      "text/plain": [
       "<Figure size 432x288 with 1 Axes>"
      ]
     },
     "metadata": {
      "needs_background": "light"
     },
     "output_type": "display_data"
    }
   ],
   "source": [
    "plt.scatter(dma_df.people_affected_per_100k, dma_df.economic_damages_as_a_share_of_gdp )\n",
    "plt.xlabel('people_affected_per_100k')\n",
    "plt.ylabel('economic_damages_as_a_share_of_gdp')\n",
    "plt.show()"
   ]
  },
  {
   "cell_type": "code",
   "execution_count": 31,
   "id": "81941846",
   "metadata": {},
   "outputs": [],
   "source": [
    "# Correlación sin outlier\n",
    "#Pendiente\n"
   ]
  },
  {
   "cell_type": "code",
   "execution_count": 32,
   "id": "170c45df",
   "metadata": {},
   "outputs": [
    {
     "name": "stdout",
     "output_type": "stream",
     "text": [
      "Correlación Pearson:  -0.5654992505755387\n",
      "Correlación spearman:  -0.26837252006084666\n",
      "Correlación kendall:  -0.264575131106459\n"
     ]
    }
   ],
   "source": [
    "print('Correlación Pearson: ', dma_df['economic_damages_as_a_share_of_gdp'].corr(dma_df['inflation_inflation_gdp_deflation'], method='pearson'))\n",
    "print('Correlación spearman: ', dma_df['economic_damages_as_a_share_of_gdp'].corr(dma_df['inflation_inflation_gdp_deflation'], method='spearman'))\n",
    "print('Correlación kendall: ', dma_df['economic_damages_as_a_share_of_gdp'].corr(dma_df['inflation_inflation_gdp_deflation'], method='kendall'))"
   ]
  },
  {
   "cell_type": "code",
   "execution_count": 33,
   "id": "b49dfc66",
   "metadata": {},
   "outputs": [
    {
     "data": {
      "image/png": "[encoded data removed]",
      "text/plain": [
       "<Figure size 432x288 with 1 Axes>"
      ]
     },
     "metadata": {
      "needs_background": "light"
     },
     "output_type": "display_data"
    }
   ],
   "source": [
    "plt.scatter(dma_df.inflation_inflation_gdp_deflation, dma_df.economic_damages_as_a_share_of_gdp )\n",
    "plt.xlabel('inflation_inflation_gdp_deflation')\n",
    "plt.ylabel('economic_damages_as_a_share_of_gdp')\n",
    "plt.show()"
   ]
  },
  {
   "cell_type": "code",
   "execution_count": 34,
   "id": "be0a8fb4",
   "metadata": {},
   "outputs": [
    {
     "name": "stdout",
     "output_type": "stream",
     "text": [
      "Correlación Pearson:  0.5450045571103799\n",
      "Correlación spearman:  0.4047619047619048\n",
      "Correlación kendall:  0.3571428571428571\n"
     ]
    }
   ],
   "source": [
    "print('Correlación Pearson: ', dma_df['inflation_inflation_gdp_deflation'].corr(dma_df['agriculture_value_added_constants'], method='pearson'))\n",
    "print('Correlación spearman: ', dma_df['inflation_inflation_gdp_deflation'].corr(dma_df['agriculture_value_added_constants'], method='spearman'))\n",
    "print('Correlación kendall: ', dma_df['inflation_inflation_gdp_deflation'].corr(dma_df['agriculture_value_added_constants'], method='kendall'))"
   ]
  },
  {
   "cell_type": "code",
   "execution_count": 35,
   "id": "fd8b8b7e",
   "metadata": {},
   "outputs": [
    {
     "data": {
      "image/png": "[encoded data removed]",
      "text/plain": [
       "<Figure size 432x288 with 1 Axes>"
      ]
     },
     "metadata": {
      "needs_background": "light"
     },
     "output_type": "display_data"
    }
   ],
   "source": [
    "plt.scatter(dma_df.inflation_inflation_gdp_deflation, dma_df.agriculture_value_added_constants)\n",
    "plt.xlabel('inflation_inflation_gdp_deflation')\n",
    "plt.ylabel('agriculture_value_added_constants')\n",
    "plt.show()"
   ]
  },
  {
   "cell_type": "code",
   "execution_count": 36,
   "id": "506efa8f",
   "metadata": {},
   "outputs": [
    {
     "name": "stdout",
     "output_type": "stream",
     "text": [
      "Correlación Pearson: r=0.4100949356784588, p-value=0.31293346469316285\n",
      "Correlación Spearman: r=0.8333333333333335, p-value=0.01017554012345675\n",
      "Correlación Pearson: r=0.6428571428571428, p-value=0.03115079365079365\n"
     ]
    }
   ],
   "source": [
    "# Cálculo de correlación y significancia con Scipy\n",
    "# ==============================================================================\n",
    "r, p = stats.pearsonr(dma_df['temperature_change_temp_change_celsius'], dma_df['population_population_total'])\n",
    "print(f\"Correlación Pearson: r={r}, p-value={p}\")\n",
    "\n",
    "r, p = stats.spearmanr(dma_df['temperature_change_temp_change_celsius'], dma_df['population_population_total'], nan_policy='omit')\n",
    "print(f\"Correlación Spearman: r={r}, p-value={p}\")\n",
    "\n",
    "r, p = stats.kendalltau(dma_df['temperature_change_temp_change_celsius'], dma_df['population_population_total'], nan_policy='omit')\n",
    "print(f\"Correlación Pearson: r={r}, p-value={p}\")"
   ]
  },
  {
   "cell_type": "markdown",
   "id": "76fb102e",
   "metadata": {},
   "source": [
    "## Normalizando una variable "
   ]
  },
  {
   "cell_type": "code",
   "execution_count": 37,
   "id": "bd7e585b",
   "metadata": {},
   "outputs": [
    {
     "data": {
      "text/html": [
       "<div>\n",
       "<style scoped>\n",
       "    .dataframe tbody tr th:only-of-type {\n",
       "        vertical-align: middle;\n",
       "    }\n",
       "\n",
       "    .dataframe tbody tr th {\n",
       "        vertical-align: top;\n",
       "    }\n",
       "\n",
       "    .dataframe thead th {\n",
       "        text-align: right;\n",
       "    }\n",
       "</style>\n",
       "<table border=\"1\" class=\"dataframe\">\n",
       "  <thead>\n",
       "    <tr style=\"text-align: right;\">\n",
       "      <th></th>\n",
       "      <th>agriculture_value_added_constants</th>\n",
       "      <th>agriculture_value_added_percentage_gdp</th>\n",
       "      <th>annual_co2_emissions_tons</th>\n",
       "      <th>inflation_inflation_gdp_deflation</th>\n",
       "      <th>economic_damages_as_a_share_of_gdp</th>\n",
       "      <th>people_affected_per_100k</th>\n",
       "      <th>number_of_deaths</th>\n",
       "      <th>population_population_growth_annual_percentage</th>\n",
       "      <th>population_population_total</th>\n",
       "      <th>temperature_change_temp_change_celsius</th>\n",
       "      <th>normalized_ND_2</th>\n",
       "    </tr>\n",
       "    <tr>\n",
       "      <th>year</th>\n",
       "      <th></th>\n",
       "      <th></th>\n",
       "      <th></th>\n",
       "      <th></th>\n",
       "      <th></th>\n",
       "      <th></th>\n",
       "      <th></th>\n",
       "      <th></th>\n",
       "      <th></th>\n",
       "      <th></th>\n",
       "      <th></th>\n",
       "    </tr>\n",
       "  </thead>\n",
       "  <tbody>\n",
       "    <tr>\n",
       "      <th>1989</th>\n",
       "      <td>80844330.59</td>\n",
       "      <td>15.490839</td>\n",
       "      <td>58624</td>\n",
       "      <td>8.407412</td>\n",
       "      <td>2.700699</td>\n",
       "      <td>1000.000000</td>\n",
       "      <td>0.0</td>\n",
       "      <td>-0.690465</td>\n",
       "      <td>70722</td>\n",
       "      <td>-0.144</td>\n",
       "      <td>0.000000</td>\n",
       "    </tr>\n",
       "    <tr>\n",
       "      <th>1995</th>\n",
       "      <td>77119200.34</td>\n",
       "      <td>12.166592</td>\n",
       "      <td>80608</td>\n",
       "      <td>0.783934</td>\n",
       "      <td>17.758125</td>\n",
       "      <td>0.000000</td>\n",
       "      <td>2.0</td>\n",
       "      <td>0.085825</td>\n",
       "      <td>71105</td>\n",
       "      <td>0.663</td>\n",
       "      <td>0.028273</td>\n",
       "    </tr>\n",
       "    <tr>\n",
       "      <th>1999</th>\n",
       "      <td>75973717.23</td>\n",
       "      <td>12.137315</td>\n",
       "      <td>80608</td>\n",
       "      <td>2.536390</td>\n",
       "      <td>0.000000</td>\n",
       "      <td>571.428571</td>\n",
       "      <td>0.0</td>\n",
       "      <td>-0.507104</td>\n",
       "      <td>69828</td>\n",
       "      <td>0.525</td>\n",
       "      <td>0.000000</td>\n",
       "    </tr>\n",
       "    <tr>\n",
       "      <th>2004</th>\n",
       "      <td>65784315.15</td>\n",
       "      <td>11.197854</td>\n",
       "      <td>142896</td>\n",
       "      <td>3.792007</td>\n",
       "      <td>0.000000</td>\n",
       "      <td>0.000000</td>\n",
       "      <td>0.0</td>\n",
       "      <td>0.405726</td>\n",
       "      <td>70387</td>\n",
       "      <td>0.557</td>\n",
       "      <td>0.000000</td>\n",
       "    </tr>\n",
       "    <tr>\n",
       "      <th>2007</th>\n",
       "      <td>61106426.03</td>\n",
       "      <td>10.446423</td>\n",
       "      <td>183200</td>\n",
       "      <td>1.525049</td>\n",
       "      <td>1.186594</td>\n",
       "      <td>10563.380282</td>\n",
       "      <td>2.0</td>\n",
       "      <td>0.111649</td>\n",
       "      <td>70797</td>\n",
       "      <td>0.877</td>\n",
       "      <td>0.028273</td>\n",
       "    </tr>\n",
       "  </tbody>\n",
       "</table>\n",
       "</div>"
      ],
      "text/plain": [
       "      agriculture_value_added_constants  \\\n",
       "year                                      \n",
       "1989                        80844330.59   \n",
       "1995                        77119200.34   \n",
       "1999                        75973717.23   \n",
       "2004                        65784315.15   \n",
       "2007                        61106426.03   \n",
       "\n",
       "      agriculture_value_added_percentage_gdp  annual_co2_emissions_tons  \\\n",
       "year                                                                      \n",
       "1989                               15.490839                      58624   \n",
       "1995                               12.166592                      80608   \n",
       "1999                               12.137315                      80608   \n",
       "2004                               11.197854                     142896   \n",
       "2007                               10.446423                     183200   \n",
       "\n",
       "      inflation_inflation_gdp_deflation  economic_damages_as_a_share_of_gdp  \\\n",
       "year                                                                          \n",
       "1989                           8.407412                            2.700699   \n",
       "1995                           0.783934                           17.758125   \n",
       "1999                           2.536390                            0.000000   \n",
       "2004                           3.792007                            0.000000   \n",
       "2007                           1.525049                            1.186594   \n",
       "\n",
       "      people_affected_per_100k  number_of_deaths  \\\n",
       "year                                               \n",
       "1989               1000.000000               0.0   \n",
       "1995                  0.000000               2.0   \n",
       "1999                571.428571               0.0   \n",
       "2004                  0.000000               0.0   \n",
       "2007              10563.380282               2.0   \n",
       "\n",
       "      population_population_growth_annual_percentage  \\\n",
       "year                                                   \n",
       "1989                                       -0.690465   \n",
       "1995                                        0.085825   \n",
       "1999                                       -0.507104   \n",
       "2004                                        0.405726   \n",
       "2007                                        0.111649   \n",
       "\n",
       "      population_population_total  temperature_change_temp_change_celsius  \\\n",
       "year                                                                        \n",
       "1989                        70722                                  -0.144   \n",
       "1995                        71105                                   0.663   \n",
       "1999                        69828                                   0.525   \n",
       "2004                        70387                                   0.557   \n",
       "2007                        70797                                   0.877   \n",
       "\n",
       "      normalized_ND_2  \n",
       "year                   \n",
       "1989         0.000000  \n",
       "1995         0.028273  \n",
       "1999         0.000000  \n",
       "2004         0.000000  \n",
       "2007         0.028273  "
      ]
     },
     "execution_count": 37,
     "metadata": {},
     "output_type": "execute_result"
    }
   ],
   "source": [
    "normalized_ND_2 = dma_df['number_of_deaths']/np.linalg.norm(dma_df['number_of_deaths'])\n",
    "dma_df = dma_df.assign(normalized_ND_2=normalized_ND_2)\n",
    "dma_df.head()"
   ]
  },
  {
   "cell_type": "code",
   "execution_count": 38,
   "id": "1208c6d1",
   "metadata": {},
   "outputs": [
    {
     "name": "stdout",
     "output_type": "stream",
     "text": [
      "Correlación Pearson:  0.5062236389729184\n",
      "Correlación spearman:  0.9066867635238647\n",
      "Correlación kendall:  0.7835467939002063\n"
     ]
    }
   ],
   "source": [
    "print('Correlación Pearson: ', dma_df['temperature_change_temp_change_celsius'].corr(dma_df['normalized_ND_2'], method='pearson'))\n",
    "print('Correlación spearman: ', dma_df['temperature_change_temp_change_celsius'].corr(dma_df['normalized_ND_2'], method='spearman'))\n",
    "print('Correlación kendall: ', dma_df['temperature_change_temp_change_celsius'].corr(dma_df['normalized_ND_2'], method='kendall'))"
   ]
  },
  {
   "cell_type": "code",
   "execution_count": 39,
   "id": "e0da739f",
   "metadata": {},
   "outputs": [
    {
     "data": {
      "text/html": [
       "<div>\n",
       "<style scoped>\n",
       "    .dataframe tbody tr th:only-of-type {\n",
       "        vertical-align: middle;\n",
       "    }\n",
       "\n",
       "    .dataframe tbody tr th {\n",
       "        vertical-align: top;\n",
       "    }\n",
       "\n",
       "    .dataframe thead th {\n",
       "        text-align: right;\n",
       "    }\n",
       "</style>\n",
       "<table border=\"1\" class=\"dataframe\">\n",
       "  <thead>\n",
       "    <tr style=\"text-align: right;\">\n",
       "      <th></th>\n",
       "      <th>agriculture_value_added_constants</th>\n",
       "      <th>agriculture_value_added_percentage_gdp</th>\n",
       "      <th>annual_co2_emissions_tons</th>\n",
       "      <th>inflation_inflation_gdp_deflation</th>\n",
       "      <th>economic_damages_as_a_share_of_gdp</th>\n",
       "      <th>people_affected_per_100k</th>\n",
       "      <th>number_of_deaths</th>\n",
       "      <th>population_population_growth_annual_percentage</th>\n",
       "      <th>population_population_total</th>\n",
       "      <th>temperature_change_temp_change_celsius</th>\n",
       "      <th>normalized_ND_2</th>\n",
       "      <th>normalized_EDPGDP</th>\n",
       "    </tr>\n",
       "    <tr>\n",
       "      <th>year</th>\n",
       "      <th></th>\n",
       "      <th></th>\n",
       "      <th></th>\n",
       "      <th></th>\n",
       "      <th></th>\n",
       "      <th></th>\n",
       "      <th></th>\n",
       "      <th></th>\n",
       "      <th></th>\n",
       "      <th></th>\n",
       "      <th></th>\n",
       "      <th></th>\n",
       "    </tr>\n",
       "  </thead>\n",
       "  <tbody>\n",
       "    <tr>\n",
       "      <th>1989</th>\n",
       "      <td>80844330.59</td>\n",
       "      <td>15.490839</td>\n",
       "      <td>58624</td>\n",
       "      <td>8.407412</td>\n",
       "      <td>2.700699</td>\n",
       "      <td>1000.000000</td>\n",
       "      <td>0.0</td>\n",
       "      <td>-0.690465</td>\n",
       "      <td>70722</td>\n",
       "      <td>-0.144</td>\n",
       "      <td>0.000000</td>\n",
       "      <td>0.035692</td>\n",
       "    </tr>\n",
       "    <tr>\n",
       "      <th>1995</th>\n",
       "      <td>77119200.34</td>\n",
       "      <td>12.166592</td>\n",
       "      <td>80608</td>\n",
       "      <td>0.783934</td>\n",
       "      <td>17.758125</td>\n",
       "      <td>0.000000</td>\n",
       "      <td>2.0</td>\n",
       "      <td>0.085825</td>\n",
       "      <td>71105</td>\n",
       "      <td>0.663</td>\n",
       "      <td>0.028273</td>\n",
       "      <td>0.234690</td>\n",
       "    </tr>\n",
       "    <tr>\n",
       "      <th>1999</th>\n",
       "      <td>75973717.23</td>\n",
       "      <td>12.137315</td>\n",
       "      <td>80608</td>\n",
       "      <td>2.536390</td>\n",
       "      <td>0.000000</td>\n",
       "      <td>571.428571</td>\n",
       "      <td>0.0</td>\n",
       "      <td>-0.507104</td>\n",
       "      <td>69828</td>\n",
       "      <td>0.525</td>\n",
       "      <td>0.000000</td>\n",
       "      <td>0.000000</td>\n",
       "    </tr>\n",
       "    <tr>\n",
       "      <th>2004</th>\n",
       "      <td>65784315.15</td>\n",
       "      <td>11.197854</td>\n",
       "      <td>142896</td>\n",
       "      <td>3.792007</td>\n",
       "      <td>0.000000</td>\n",
       "      <td>0.000000</td>\n",
       "      <td>0.0</td>\n",
       "      <td>0.405726</td>\n",
       "      <td>70387</td>\n",
       "      <td>0.557</td>\n",
       "      <td>0.000000</td>\n",
       "      <td>0.000000</td>\n",
       "    </tr>\n",
       "    <tr>\n",
       "      <th>2007</th>\n",
       "      <td>61106426.03</td>\n",
       "      <td>10.446423</td>\n",
       "      <td>183200</td>\n",
       "      <td>1.525049</td>\n",
       "      <td>1.186594</td>\n",
       "      <td>10563.380282</td>\n",
       "      <td>2.0</td>\n",
       "      <td>0.111649</td>\n",
       "      <td>70797</td>\n",
       "      <td>0.877</td>\n",
       "      <td>0.028273</td>\n",
       "      <td>0.015682</td>\n",
       "    </tr>\n",
       "  </tbody>\n",
       "</table>\n",
       "</div>"
      ],
      "text/plain": [
       "      agriculture_value_added_constants  \\\n",
       "year                                      \n",
       "1989                        80844330.59   \n",
       "1995                        77119200.34   \n",
       "1999                        75973717.23   \n",
       "2004                        65784315.15   \n",
       "2007                        61106426.03   \n",
       "\n",
       "      agriculture_value_added_percentage_gdp  annual_co2_emissions_tons  \\\n",
       "year                                                                      \n",
       "1989                               15.490839                      58624   \n",
       "1995                               12.166592                      80608   \n",
       "1999                               12.137315                      80608   \n",
       "2004                               11.197854                     142896   \n",
       "2007                               10.446423                     183200   \n",
       "\n",
       "      inflation_inflation_gdp_deflation  economic_damages_as_a_share_of_gdp  \\\n",
       "year                                                                          \n",
       "1989                           8.407412                            2.700699   \n",
       "1995                           0.783934                           17.758125   \n",
       "1999                           2.536390                            0.000000   \n",
       "2004                           3.792007                            0.000000   \n",
       "2007                           1.525049                            1.186594   \n",
       "\n",
       "      people_affected_per_100k  number_of_deaths  \\\n",
       "year                                               \n",
       "1989               1000.000000               0.0   \n",
       "1995                  0.000000               2.0   \n",
       "1999                571.428571               0.0   \n",
       "2004                  0.000000               0.0   \n",
       "2007              10563.380282               2.0   \n",
       "\n",
       "      population_population_growth_annual_percentage  \\\n",
       "year                                                   \n",
       "1989                                       -0.690465   \n",
       "1995                                        0.085825   \n",
       "1999                                       -0.507104   \n",
       "2004                                        0.405726   \n",
       "2007                                        0.111649   \n",
       "\n",
       "      population_population_total  temperature_change_temp_change_celsius  \\\n",
       "year                                                                        \n",
       "1989                        70722                                  -0.144   \n",
       "1995                        71105                                   0.663   \n",
       "1999                        69828                                   0.525   \n",
       "2004                        70387                                   0.557   \n",
       "2007                        70797                                   0.877   \n",
       "\n",
       "      normalized_ND_2  normalized_EDPGDP  \n",
       "year                                      \n",
       "1989         0.000000           0.035692  \n",
       "1995         0.028273           0.234690  \n",
       "1999         0.000000           0.000000  \n",
       "2004         0.000000           0.000000  \n",
       "2007         0.028273           0.015682  "
      ]
     },
     "execution_count": 39,
     "metadata": {},
     "output_type": "execute_result"
    }
   ],
   "source": [
    "normalized_EDPGDP = dma_df['economic_damages_as_a_share_of_gdp']/np.linalg.norm(dma_df['economic_damages_as_a_share_of_gdp'])\n",
    "dma_df = dma_df.assign(normalized_EDPGDP=normalized_EDPGDP)\n",
    "dma_df.head()"
   ]
  },
  {
   "cell_type": "code",
   "execution_count": 40,
   "id": "2872051e",
   "metadata": {},
   "outputs": [
    {
     "name": "stdout",
     "output_type": "stream",
     "text": [
      "(8,)\n",
      "Intercept: -29.525276566087477\n",
      "Coefficients: [ 4.20574672e-04  4.32238293e-01 -2.56458413e-06]\n"
     ]
    }
   ],
   "source": [
    "# Set independent and dependent variables\n",
    "X = dma_df[['population_population_total','temperature_change_temp_change_celsius','annual_co2_emissions_tons']]\n",
    "y = dma_df['normalized_EDPGDP']\n",
    "\n",
    "# Initialize model from sklearn and fit it into our data\n",
    "regr = linear_model.LinearRegression()\n",
    "model = regr.fit(X, y)\n",
    "\n",
    "y_pred = regr.predict(X)\n",
    "print(y_pred.shape)\n",
    "\n",
    "print('Intercept:', model.intercept_)\n",
    "print('Coefficients:', model.coef_)"
   ]
  },
  {
   "cell_type": "code",
   "execution_count": 41,
   "id": "94ccb1a8",
   "metadata": {},
   "outputs": [
    {
     "name": "stdout",
     "output_type": "stream",
     "text": [
      "                            OLS Regression Results                            \n",
      "==============================================================================\n",
      "Dep. Variable:      normalized_EDPGDP   R-squared:                       0.570\n",
      "Model:                            OLS   Adj. R-squared:                  0.248\n",
      "Method:                 Least Squares   F-statistic:                     1.771\n",
      "Date:                Sat, 27 Aug 2022   Prob (F-statistic):              0.292\n",
      "Time:                        18:34:49   Log-Likelihood:                 1.6812\n",
      "No. Observations:                   8   AIC:                             4.638\n",
      "Df Residuals:                       4   BIC:                             4.955\n",
      "Df Model:                           3                                         \n",
      "Covariance Type:            nonrobust                                         \n",
      "==========================================================================================================\n",
      "                                             coef    std err          t      P>|t|      [0.025      0.975]\n",
      "----------------------------------------------------------------------------------------------------------\n",
      "const                                    -29.5253     16.173     -1.826      0.142     -74.430      15.379\n",
      "population_population_total                0.0004      0.000      1.827      0.142      -0.000       0.001\n",
      "temperature_change_temp_change_celsius     0.4322      0.491      0.880      0.428      -0.931       1.796\n",
      "annual_co2_emissions_tons              -2.565e-06   3.59e-06     -0.714      0.515   -1.25e-05    7.41e-06\n",
      "==============================================================================\n",
      "Omnibus:                        3.320   Durbin-Watson:                   1.645\n",
      "Prob(Omnibus):                  0.190   Jarque-Bera (JB):                1.129\n",
      "Skew:                           0.920   Prob(JB):                        0.569\n",
      "Kurtosis:                       2.968   Cond. No.                     2.53e+07\n",
      "==============================================================================\n",
      "\n",
      "Notes:\n",
      "[1] Standard Errors assume that the covariance matrix of the errors is correctly specified.\n",
      "[2] The condition number is large, 2.53e+07. This might indicate that there are\n",
      "strong multicollinearity or other numerical problems.\n"
     ]
    },
    {
     "name": "stderr",
     "output_type": "stream",
     "text": [
      "C:\\Users\\jqu23\\anaconda3\\envs\\mlenv\\lib\\site-packages\\scipy\\stats\\stats.py:1542: UserWarning: kurtosistest only valid for n>=20 ... continuing anyway, n=8\n",
      "  \"anyway, n=%i\" % int(n))\n"
     ]
    }
   ],
   "source": [
    "X = dma_df[['population_population_total','temperature_change_temp_change_celsius','annual_co2_emissions_tons']]\n",
    "X = sm.add_constant(X) # adding a constant\n",
    "\n",
    "olsmod = sm.OLS(dma_df['normalized_EDPGDP'], X).fit()\n",
    "print(olsmod.summary())"
   ]
  },
  {
   "cell_type": "code",
   "execution_count": 42,
   "id": "cc0367fb",
   "metadata": {},
   "outputs": [
    {
     "name": "stdout",
     "output_type": "stream",
     "text": [
      "R2 score: 0.57048255305893\n"
     ]
    }
   ],
   "source": [
    "print('R2 score:', olsmod.rsquared)"
   ]
  },
  {
   "cell_type": "code",
   "execution_count": 43,
   "id": "4e184492",
   "metadata": {},
   "outputs": [
    {
     "name": "stdout",
     "output_type": "stream",
     "text": [
      "F-statistic: 1.7709255106997643\n",
      "Probability of observing value at least as high as F-statistic: 0.29150251427744756\n"
     ]
    }
   ],
   "source": [
    "print('F-statistic:', olsmod.fvalue)\n",
    "print('Probability of observing value at least as high as F-statistic:', olsmod.f_pvalue)"
   ]
  },
  {
   "cell_type": "markdown",
   "id": "d610d83e",
   "metadata": {},
   "source": [
    "Because our f_pvalue is lower than 0.05 we can conclude that our model performs better than other simpler model."
   ]
  },
  {
   "cell_type": "code",
   "execution_count": 44,
   "id": "fe11f8d6",
   "metadata": {},
   "outputs": [
    {
     "name": "stdout",
     "output_type": "stream",
     "text": [
      "const                                     0.141961\n",
      "population_population_total               0.141662\n",
      "temperature_change_temp_change_celsius    0.428429\n",
      "annual_co2_emissions_tons                 0.514810\n",
      "dtype: float64\n"
     ]
    }
   ],
   "source": [
    "print(olsmod.pvalues)"
   ]
  },
  {
   "cell_type": "markdown",
   "id": "d3ddd0ba",
   "metadata": {},
   "source": [
    "All of our independent variables,  have p-value mayor than 0.05 which shows that there is not sufficient evidence that there variables affects our dependet variable."
   ]
  },
  {
   "cell_type": "code",
   "execution_count": 45,
   "id": "a9c761e6",
   "metadata": {},
   "outputs": [
    {
     "name": "stdout",
     "output_type": "stream",
     "text": [
      "Intercept: 4.011906088061449\n",
      "Coefficients: [-6.35457077]\n"
     ]
    }
   ],
   "source": [
    "# Set independent and dependent variables\n",
    "X = dma_df[['normalized_EDPGDP']]\n",
    "y = dma_df['inflation_inflation_gdp_deflation']\n",
    "\n",
    "# Initialize model from sklearn and fit it into our data\n",
    "regr = linear_model.LinearRegression()\n",
    "model = regr.fit(X, y)\n",
    "\n",
    "print('Intercept:', model.intercept_)\n",
    "print('Coefficients:', model.coef_)"
   ]
  },
  {
   "cell_type": "code",
   "execution_count": 46,
   "id": "46f505cd",
   "metadata": {},
   "outputs": [
    {
     "name": "stdout",
     "output_type": "stream",
     "text": [
      "                                    OLS Regression Results                                   \n",
      "=============================================================================================\n",
      "Dep. Variable:     inflation_inflation_gdp_deflation   R-squared:                       0.320\n",
      "Model:                                           OLS   Adj. R-squared:                  0.206\n",
      "Method:                                Least Squares   F-statistic:                     2.821\n",
      "Date:                               Sat, 27 Aug 2022   Prob (F-statistic):              0.144\n",
      "Time:                                       18:34:49   Log-Likelihood:                -19.512\n",
      "No. Observations:                                  8   AIC:                             43.02\n",
      "Df Residuals:                                      6   BIC:                             43.18\n",
      "Df Model:                                          1                                         \n",
      "Covariance Type:                           nonrobust                                         \n",
      "=====================================================================================\n",
      "                        coef    std err          t      P>|t|      [0.025      0.975]\n",
      "-------------------------------------------------------------------------------------\n",
      "const                 4.0119      1.338      2.999      0.024       0.739       7.285\n",
      "normalized_EDPGDP    -6.3546      3.784     -1.680      0.144     -15.613       2.903\n",
      "==============================================================================\n",
      "Omnibus:                        2.681   Durbin-Watson:                   2.141\n",
      "Prob(Omnibus):                  0.262   Jarque-Bera (JB):                1.515\n",
      "Skew:                           0.985   Prob(JB):                        0.469\n",
      "Kurtosis:                       2.185   Cond. No.                         3.47\n",
      "==============================================================================\n",
      "\n",
      "Notes:\n",
      "[1] Standard Errors assume that the covariance matrix of the errors is correctly specified.\n"
     ]
    },
    {
     "name": "stderr",
     "output_type": "stream",
     "text": [
      "C:\\Users\\jqu23\\anaconda3\\envs\\mlenv\\lib\\site-packages\\scipy\\stats\\stats.py:1542: UserWarning: kurtosistest only valid for n>=20 ... continuing anyway, n=8\n",
      "  \"anyway, n=%i\" % int(n))\n"
     ]
    }
   ],
   "source": [
    "X = dma_df[['normalized_EDPGDP']]\n",
    "X = sm.add_constant(X) # adding a constant\n",
    "\n",
    "olsmod = sm.OLS(dma_df['inflation_inflation_gdp_deflation'], X).fit()\n",
    "print(olsmod.summary())"
   ]
  },
  {
   "cell_type": "code",
   "execution_count": 47,
   "id": "7aa11b6c",
   "metadata": {},
   "outputs": [
    {
     "name": "stdout",
     "output_type": "stream",
     "text": [
      "const                0.024035\n",
      "normalized_EDPGDP    0.144053\n",
      "dtype: float64\n"
     ]
    }
   ],
   "source": [
    "print(olsmod.pvalues)"
   ]
  },
  {
   "cell_type": "markdown",
   "id": "dba44c0e",
   "metadata": {},
   "source": [
    "## Encoding"
   ]
  },
  {
   "cell_type": "code",
   "execution_count": 48,
   "id": "48d14ae7",
   "metadata": {},
   "outputs": [
    {
     "data": {
      "text/html": [
       "<div>\n",
       "<style scoped>\n",
       "    .dataframe tbody tr th:only-of-type {\n",
       "        vertical-align: middle;\n",
       "    }\n",
       "\n",
       "    .dataframe tbody tr th {\n",
       "        vertical-align: top;\n",
       "    }\n",
       "\n",
       "    .dataframe thead th {\n",
       "        text-align: right;\n",
       "    }\n",
       "</style>\n",
       "<table border=\"1\" class=\"dataframe\">\n",
       "  <thead>\n",
       "    <tr style=\"text-align: right;\">\n",
       "      <th></th>\n",
       "      <th>agriculture_value_added_constants</th>\n",
       "      <th>agriculture_value_added_percentage_gdp</th>\n",
       "      <th>annual_co2_emissions_tons</th>\n",
       "      <th>inflation_inflation_gdp_deflation</th>\n",
       "      <th>economic_damages_as_a_share_of_gdp</th>\n",
       "      <th>people_affected_per_100k</th>\n",
       "      <th>number_of_deaths</th>\n",
       "      <th>population_population_growth_annual_percentage</th>\n",
       "      <th>population_population_total</th>\n",
       "      <th>temperature_change_temp_change_celsius</th>\n",
       "      <th>normalized_ND_2</th>\n",
       "      <th>normalized_EDPGDP</th>\n",
       "    </tr>\n",
       "    <tr>\n",
       "      <th>year</th>\n",
       "      <th></th>\n",
       "      <th></th>\n",
       "      <th></th>\n",
       "      <th></th>\n",
       "      <th></th>\n",
       "      <th></th>\n",
       "      <th></th>\n",
       "      <th></th>\n",
       "      <th></th>\n",
       "      <th></th>\n",
       "      <th></th>\n",
       "      <th></th>\n",
       "    </tr>\n",
       "  </thead>\n",
       "  <tbody>\n",
       "    <tr>\n",
       "      <th>1989</th>\n",
       "      <td>80844330.59</td>\n",
       "      <td>15.490839</td>\n",
       "      <td>58624</td>\n",
       "      <td>8.407412</td>\n",
       "      <td>2.700699</td>\n",
       "      <td>1000.000000</td>\n",
       "      <td>0.0</td>\n",
       "      <td>-0.690465</td>\n",
       "      <td>70722</td>\n",
       "      <td>-0.144</td>\n",
       "      <td>0.000000</td>\n",
       "      <td>0.035692</td>\n",
       "    </tr>\n",
       "    <tr>\n",
       "      <th>1995</th>\n",
       "      <td>77119200.34</td>\n",
       "      <td>12.166592</td>\n",
       "      <td>80608</td>\n",
       "      <td>0.783934</td>\n",
       "      <td>17.758125</td>\n",
       "      <td>0.000000</td>\n",
       "      <td>2.0</td>\n",
       "      <td>0.085825</td>\n",
       "      <td>71105</td>\n",
       "      <td>0.663</td>\n",
       "      <td>0.028273</td>\n",
       "      <td>0.234690</td>\n",
       "    </tr>\n",
       "    <tr>\n",
       "      <th>1999</th>\n",
       "      <td>75973717.23</td>\n",
       "      <td>12.137315</td>\n",
       "      <td>80608</td>\n",
       "      <td>2.536390</td>\n",
       "      <td>0.000000</td>\n",
       "      <td>571.428571</td>\n",
       "      <td>0.0</td>\n",
       "      <td>-0.507104</td>\n",
       "      <td>69828</td>\n",
       "      <td>0.525</td>\n",
       "      <td>0.000000</td>\n",
       "      <td>0.000000</td>\n",
       "    </tr>\n",
       "    <tr>\n",
       "      <th>2004</th>\n",
       "      <td>65784315.15</td>\n",
       "      <td>11.197854</td>\n",
       "      <td>142896</td>\n",
       "      <td>3.792007</td>\n",
       "      <td>0.000000</td>\n",
       "      <td>0.000000</td>\n",
       "      <td>0.0</td>\n",
       "      <td>0.405726</td>\n",
       "      <td>70387</td>\n",
       "      <td>0.557</td>\n",
       "      <td>0.000000</td>\n",
       "      <td>0.000000</td>\n",
       "    </tr>\n",
       "    <tr>\n",
       "      <th>2007</th>\n",
       "      <td>61106426.03</td>\n",
       "      <td>10.446423</td>\n",
       "      <td>183200</td>\n",
       "      <td>1.525049</td>\n",
       "      <td>1.186594</td>\n",
       "      <td>10563.380282</td>\n",
       "      <td>2.0</td>\n",
       "      <td>0.111649</td>\n",
       "      <td>70797</td>\n",
       "      <td>0.877</td>\n",
       "      <td>0.028273</td>\n",
       "      <td>0.015682</td>\n",
       "    </tr>\n",
       "  </tbody>\n",
       "</table>\n",
       "</div>"
      ],
      "text/plain": [
       "      agriculture_value_added_constants  \\\n",
       "year                                      \n",
       "1989                        80844330.59   \n",
       "1995                        77119200.34   \n",
       "1999                        75973717.23   \n",
       "2004                        65784315.15   \n",
       "2007                        61106426.03   \n",
       "\n",
       "      agriculture_value_added_percentage_gdp  annual_co2_emissions_tons  \\\n",
       "year                                                                      \n",
       "1989                               15.490839                      58624   \n",
       "1995                               12.166592                      80608   \n",
       "1999                               12.137315                      80608   \n",
       "2004                               11.197854                     142896   \n",
       "2007                               10.446423                     183200   \n",
       "\n",
       "      inflation_inflation_gdp_deflation  economic_damages_as_a_share_of_gdp  \\\n",
       "year                                                                          \n",
       "1989                           8.407412                            2.700699   \n",
       "1995                           0.783934                           17.758125   \n",
       "1999                           2.536390                            0.000000   \n",
       "2004                           3.792007                            0.000000   \n",
       "2007                           1.525049                            1.186594   \n",
       "\n",
       "      people_affected_per_100k  number_of_deaths  \\\n",
       "year                                               \n",
       "1989               1000.000000               0.0   \n",
       "1995                  0.000000               2.0   \n",
       "1999                571.428571               0.0   \n",
       "2004                  0.000000               0.0   \n",
       "2007              10563.380282               2.0   \n",
       "\n",
       "      population_population_growth_annual_percentage  \\\n",
       "year                                                   \n",
       "1989                                       -0.690465   \n",
       "1995                                        0.085825   \n",
       "1999                                       -0.507104   \n",
       "2004                                        0.405726   \n",
       "2007                                        0.111649   \n",
       "\n",
       "      population_population_total  temperature_change_temp_change_celsius  \\\n",
       "year                                                                        \n",
       "1989                        70722                                  -0.144   \n",
       "1995                        71105                                   0.663   \n",
       "1999                        69828                                   0.525   \n",
       "2004                        70387                                   0.557   \n",
       "2007                        70797                                   0.877   \n",
       "\n",
       "      normalized_ND_2  normalized_EDPGDP  \n",
       "year                                      \n",
       "1989         0.000000           0.035692  \n",
       "1995         0.028273           0.234690  \n",
       "1999         0.000000           0.000000  \n",
       "2004         0.000000           0.000000  \n",
       "2007         0.028273           0.015682  "
      ]
     },
     "execution_count": 48,
     "metadata": {},
     "output_type": "execute_result"
    }
   ],
   "source": [
    "dma_df.head()"
   ]
  },
  {
   "cell_type": "code",
   "execution_count": 49,
   "id": "3594a9fb",
   "metadata": {},
   "outputs": [
    {
     "data": {
      "text/html": [
       "<div>\n",
       "<style scoped>\n",
       "    .dataframe tbody tr th:only-of-type {\n",
       "        vertical-align: middle;\n",
       "    }\n",
       "\n",
       "    .dataframe tbody tr th {\n",
       "        vertical-align: top;\n",
       "    }\n",
       "\n",
       "    .dataframe thead th {\n",
       "        text-align: right;\n",
       "    }\n",
       "</style>\n",
       "<table border=\"1\" class=\"dataframe\">\n",
       "  <thead>\n",
       "    <tr style=\"text-align: right;\">\n",
       "      <th></th>\n",
       "      <th>agriculture_value_added_constants</th>\n",
       "      <th>agriculture_value_added_percentage_gdp</th>\n",
       "      <th>annual_co2_emissions_tons</th>\n",
       "      <th>inflation_inflation_gdp_deflation</th>\n",
       "      <th>economic_damages_as_a_share_of_gdp</th>\n",
       "      <th>people_affected_per_100k</th>\n",
       "      <th>number_of_deaths</th>\n",
       "      <th>population_population_growth_annual_percentage</th>\n",
       "      <th>population_population_total</th>\n",
       "      <th>temperature_change_temp_change_celsius</th>\n",
       "    </tr>\n",
       "    <tr>\n",
       "      <th>year</th>\n",
       "      <th></th>\n",
       "      <th></th>\n",
       "      <th></th>\n",
       "      <th></th>\n",
       "      <th></th>\n",
       "      <th></th>\n",
       "      <th></th>\n",
       "      <th></th>\n",
       "      <th></th>\n",
       "      <th></th>\n",
       "    </tr>\n",
       "  </thead>\n",
       "  <tbody>\n",
       "    <tr>\n",
       "      <th>1989</th>\n",
       "      <td>80844330.59</td>\n",
       "      <td>15.490839</td>\n",
       "      <td>58624</td>\n",
       "      <td>8.407412</td>\n",
       "      <td>2.700699</td>\n",
       "      <td>1000.000000</td>\n",
       "      <td>0.0</td>\n",
       "      <td>-0.690465</td>\n",
       "      <td>70722</td>\n",
       "      <td>-0.144</td>\n",
       "    </tr>\n",
       "    <tr>\n",
       "      <th>1995</th>\n",
       "      <td>77119200.34</td>\n",
       "      <td>12.166592</td>\n",
       "      <td>80608</td>\n",
       "      <td>0.783934</td>\n",
       "      <td>17.758125</td>\n",
       "      <td>0.000000</td>\n",
       "      <td>2.0</td>\n",
       "      <td>0.085825</td>\n",
       "      <td>71105</td>\n",
       "      <td>0.663</td>\n",
       "    </tr>\n",
       "    <tr>\n",
       "      <th>1999</th>\n",
       "      <td>75973717.23</td>\n",
       "      <td>12.137315</td>\n",
       "      <td>80608</td>\n",
       "      <td>2.536390</td>\n",
       "      <td>0.000000</td>\n",
       "      <td>571.428571</td>\n",
       "      <td>0.0</td>\n",
       "      <td>-0.507104</td>\n",
       "      <td>69828</td>\n",
       "      <td>0.525</td>\n",
       "    </tr>\n",
       "    <tr>\n",
       "      <th>2004</th>\n",
       "      <td>65784315.15</td>\n",
       "      <td>11.197854</td>\n",
       "      <td>142896</td>\n",
       "      <td>3.792007</td>\n",
       "      <td>0.000000</td>\n",
       "      <td>0.000000</td>\n",
       "      <td>0.0</td>\n",
       "      <td>0.405726</td>\n",
       "      <td>70387</td>\n",
       "      <td>0.557</td>\n",
       "    </tr>\n",
       "    <tr>\n",
       "      <th>2007</th>\n",
       "      <td>61106426.03</td>\n",
       "      <td>10.446423</td>\n",
       "      <td>183200</td>\n",
       "      <td>1.525049</td>\n",
       "      <td>1.186594</td>\n",
       "      <td>10563.380282</td>\n",
       "      <td>2.0</td>\n",
       "      <td>0.111649</td>\n",
       "      <td>70797</td>\n",
       "      <td>0.877</td>\n",
       "    </tr>\n",
       "  </tbody>\n",
       "</table>\n",
       "</div>"
      ],
      "text/plain": [
       "      agriculture_value_added_constants  \\\n",
       "year                                      \n",
       "1989                        80844330.59   \n",
       "1995                        77119200.34   \n",
       "1999                        75973717.23   \n",
       "2004                        65784315.15   \n",
       "2007                        61106426.03   \n",
       "\n",
       "      agriculture_value_added_percentage_gdp  annual_co2_emissions_tons  \\\n",
       "year                                                                      \n",
       "1989                               15.490839                      58624   \n",
       "1995                               12.166592                      80608   \n",
       "1999                               12.137315                      80608   \n",
       "2004                               11.197854                     142896   \n",
       "2007                               10.446423                     183200   \n",
       "\n",
       "      inflation_inflation_gdp_deflation  economic_damages_as_a_share_of_gdp  \\\n",
       "year                                                                          \n",
       "1989                           8.407412                            2.700699   \n",
       "1995                           0.783934                           17.758125   \n",
       "1999                           2.536390                            0.000000   \n",
       "2004                           3.792007                            0.000000   \n",
       "2007                           1.525049                            1.186594   \n",
       "\n",
       "      people_affected_per_100k  number_of_deaths  \\\n",
       "year                                               \n",
       "1989               1000.000000               0.0   \n",
       "1995                  0.000000               2.0   \n",
       "1999                571.428571               0.0   \n",
       "2004                  0.000000               0.0   \n",
       "2007              10563.380282               2.0   \n",
       "\n",
       "      population_population_growth_annual_percentage  \\\n",
       "year                                                   \n",
       "1989                                       -0.690465   \n",
       "1995                                        0.085825   \n",
       "1999                                       -0.507104   \n",
       "2004                                        0.405726   \n",
       "2007                                        0.111649   \n",
       "\n",
       "      population_population_total  temperature_change_temp_change_celsius  \n",
       "year                                                                       \n",
       "1989                        70722                                  -0.144  \n",
       "1995                        71105                                   0.663  \n",
       "1999                        69828                                   0.525  \n",
       "2004                        70387                                   0.557  \n",
       "2007                        70797                                   0.877  "
      ]
     },
     "execution_count": 49,
     "metadata": {},
     "output_type": "execute_result"
    }
   ],
   "source": [
    "dma_df = dma_df.drop(['normalized_ND_2','normalized_EDPGDP'],axis=1)\n",
    "dma_df.head()"
   ]
  },
  {
   "cell_type": "code",
   "execution_count": 50,
   "id": "6290a120",
   "metadata": {},
   "outputs": [
    {
     "name": "stdout",
     "output_type": "stream",
     "text": [
      "Scaled Dataset Using StandardScaler\n"
     ]
    },
    {
     "data": {
      "text/html": [
       "<div>\n",
       "<style scoped>\n",
       "    .dataframe tbody tr th:only-of-type {\n",
       "        vertical-align: middle;\n",
       "    }\n",
       "\n",
       "    .dataframe tbody tr th {\n",
       "        vertical-align: top;\n",
       "    }\n",
       "\n",
       "    .dataframe thead th {\n",
       "        text-align: right;\n",
       "    }\n",
       "</style>\n",
       "<table border=\"1\" class=\"dataframe\">\n",
       "  <thead>\n",
       "    <tr style=\"text-align: right;\">\n",
       "      <th></th>\n",
       "      <th>agriculture_value_added_constants</th>\n",
       "      <th>agriculture_value_added_percentage_gdp</th>\n",
       "      <th>annual_co2_emissions_tons</th>\n",
       "      <th>inflation_inflation_gdp_deflation</th>\n",
       "      <th>economic_damages_as_a_share_of_gdp</th>\n",
       "      <th>people_affected_per_100k</th>\n",
       "      <th>number_of_deaths</th>\n",
       "      <th>population_population_growth_annual_percentage</th>\n",
       "      <th>population_population_total</th>\n",
       "      <th>temperature_change_temp_change_celsius</th>\n",
       "    </tr>\n",
       "  </thead>\n",
       "  <tbody>\n",
       "    <tr>\n",
       "      <th>0</th>\n",
       "      <td>1.443087</td>\n",
       "      <td>1.872258</td>\n",
       "      <td>-1.557573</td>\n",
       "      <td>1.663088</td>\n",
       "      <td>-0.510029</td>\n",
       "      <td>-0.541710</td>\n",
       "      <td>-0.561810</td>\n",
       "      <td>-1.901680</td>\n",
       "      <td>-0.160606</td>\n",
       "      <td>-2.322034</td>\n",
       "    </tr>\n",
       "    <tr>\n",
       "      <th>1</th>\n",
       "      <td>0.855794</td>\n",
       "      <td>-0.338117</td>\n",
       "      <td>-1.075228</td>\n",
       "      <td>-0.604119</td>\n",
       "      <td>0.155000</td>\n",
       "      <td>-0.571766</td>\n",
       "      <td>-0.470086</td>\n",
       "      <td>0.321955</td>\n",
       "      <td>0.646109</td>\n",
       "      <td>0.115535</td>\n",
       "    </tr>\n",
       "    <tr>\n",
       "      <th>2</th>\n",
       "      <td>0.675200</td>\n",
       "      <td>-0.357584</td>\n",
       "      <td>-1.075228</td>\n",
       "      <td>-0.082942</td>\n",
       "      <td>-0.629308</td>\n",
       "      <td>-0.554591</td>\n",
       "      <td>-0.561810</td>\n",
       "      <td>-1.376455</td>\n",
       "      <td>-2.043642</td>\n",
       "      <td>-0.301298</td>\n",
       "    </tr>\n",
       "    <tr>\n",
       "      <th>3</th>\n",
       "      <td>-0.931231</td>\n",
       "      <td>-0.982255</td>\n",
       "      <td>0.291417</td>\n",
       "      <td>0.290476</td>\n",
       "      <td>-0.629308</td>\n",
       "      <td>-0.571766</td>\n",
       "      <td>-0.561810</td>\n",
       "      <td>1.238291</td>\n",
       "      <td>-0.866218</td>\n",
       "      <td>-0.204641</td>\n",
       "    </tr>\n",
       "    <tr>\n",
       "      <th>4</th>\n",
       "      <td>-1.668733</td>\n",
       "      <td>-1.481900</td>\n",
       "      <td>1.175716</td>\n",
       "      <td>-0.383713</td>\n",
       "      <td>-0.576901</td>\n",
       "      <td>-0.254273</td>\n",
       "      <td>-0.470086</td>\n",
       "      <td>0.395925</td>\n",
       "      <td>-0.002633</td>\n",
       "      <td>0.761929</td>\n",
       "    </tr>\n",
       "  </tbody>\n",
       "</table>\n",
       "</div>"
      ],
      "text/plain": [
       "   agriculture_value_added_constants  agriculture_value_added_percentage_gdp  \\\n",
       "0                           1.443087                                1.872258   \n",
       "1                           0.855794                               -0.338117   \n",
       "2                           0.675200                               -0.357584   \n",
       "3                          -0.931231                               -0.982255   \n",
       "4                          -1.668733                               -1.481900   \n",
       "\n",
       "   annual_co2_emissions_tons  inflation_inflation_gdp_deflation  \\\n",
       "0                  -1.557573                           1.663088   \n",
       "1                  -1.075228                          -0.604119   \n",
       "2                  -1.075228                          -0.082942   \n",
       "3                   0.291417                           0.290476   \n",
       "4                   1.175716                          -0.383713   \n",
       "\n",
       "   economic_damages_as_a_share_of_gdp  people_affected_per_100k  \\\n",
       "0                           -0.510029                 -0.541710   \n",
       "1                            0.155000                 -0.571766   \n",
       "2                           -0.629308                 -0.554591   \n",
       "3                           -0.629308                 -0.571766   \n",
       "4                           -0.576901                 -0.254273   \n",
       "\n",
       "   number_of_deaths  population_population_growth_annual_percentage  \\\n",
       "0         -0.561810                                       -1.901680   \n",
       "1         -0.470086                                        0.321955   \n",
       "2         -0.561810                                       -1.376455   \n",
       "3         -0.561810                                        1.238291   \n",
       "4         -0.470086                                        0.395925   \n",
       "\n",
       "   population_population_total  temperature_change_temp_change_celsius  \n",
       "0                    -0.160606                               -2.322034  \n",
       "1                     0.646109                                0.115535  \n",
       "2                    -2.043642                               -0.301298  \n",
       "3                    -0.866218                               -0.204641  \n",
       "4                    -0.002633                                0.761929  "
      ]
     },
     "execution_count": 50,
     "metadata": {},
     "output_type": "execute_result"
    }
   ],
   "source": [
    "from sklearn.preprocessing import StandardScaler\n",
    " \n",
    "std_scaler = StandardScaler()\n",
    " \n",
    "df_scaled = std_scaler.fit_transform(dma_df.to_numpy())\n",
    "df_scaled = pd.DataFrame(df_scaled, columns=[\n",
    " 'agriculture_value_added_constants',\n",
    " 'agriculture_value_added_percentage_gdp',\n",
    " 'annual_co2_emissions_tons',\n",
    " 'inflation_inflation_gdp_deflation',\n",
    " 'economic_damages_as_a_share_of_gdp',\n",
    " 'people_affected_per_100k',\n",
    " 'number_of_deaths',\n",
    " 'population_population_growth_annual_percentage',\n",
    " 'population_population_total',\n",
    " 'temperature_change_temp_change_celsius',\n",
    "])\n",
    " \n",
    "print(\"Scaled Dataset Using StandardScaler\")\n",
    "df_scaled.head()"
   ]
  },
  {
   "cell_type": "code",
   "execution_count": 51,
   "id": "dfacf95d",
   "metadata": {},
   "outputs": [
    {
     "name": "stdout",
     "output_type": "stream",
     "text": [
      "<class 'pandas.core.frame.DataFrame'>\n",
      "RangeIndex: 8 entries, 0 to 7\n",
      "Data columns (total 10 columns):\n",
      " #   Column                                          Non-Null Count  Dtype  \n",
      "---  ------                                          --------------  -----  \n",
      " 0   agriculture_value_added_constants               8 non-null      float64\n",
      " 1   agriculture_value_added_percentage_gdp          8 non-null      float64\n",
      " 2   annual_co2_emissions_tons                       8 non-null      float64\n",
      " 3   inflation_inflation_gdp_deflation               8 non-null      float64\n",
      " 4   economic_damages_as_a_share_of_gdp              8 non-null      float64\n",
      " 5   people_affected_per_100k                        8 non-null      float64\n",
      " 6   number_of_deaths                                8 non-null      float64\n",
      " 7   population_population_growth_annual_percentage  8 non-null      float64\n",
      " 8   population_population_total                     8 non-null      float64\n",
      " 9   temperature_change_temp_change_celsius          8 non-null      float64\n",
      "dtypes: float64(10)\n",
      "memory usage: 768.0 bytes\n"
     ]
    }
   ],
   "source": [
    "df_scaled.info()"
   ]
  },
  {
   "cell_type": "markdown",
   "id": "738f0235",
   "metadata": {},
   "source": [
    "### Dependent Variable"
   ]
  },
  {
   "cell_type": "markdown",
   "id": "cb59c064",
   "metadata": {},
   "source": [
    "La variable \"economic_damages_as_a_share_of_gdp\" tiene una distribución asimétrica con una cola positiva. Este tipo de distribución suele visualizarse mejor tras aplicar el logarítmica o la raíz cuadrada."
   ]
  },
  {
   "cell_type": "code",
   "execution_count": 52,
   "id": "e7a26bec",
   "metadata": {},
   "outputs": [
    {
     "name": "stderr",
     "output_type": "stream",
     "text": [
      "C:\\Users\\jqu23\\anaconda3\\envs\\mlenv\\lib\\site-packages\\seaborn\\distributions.py:2619: FutureWarning: `distplot` is a deprecated function and will be removed in a future version. Please adapt your code to use either `displot` (a figure-level function with similar flexibility) or `kdeplot` (an axes-level function for kernel density plots).\n",
      "  warnings.warn(msg, FutureWarning)\n",
      "C:\\Users\\jqu23\\anaconda3\\envs\\mlenv\\lib\\site-packages\\seaborn\\distributions.py:2103: FutureWarning: The `axis` variable is no longer used and will be removed. Instead, assign variables directly to `x` or `y`.\n",
      "  warnings.warn(msg, FutureWarning)\n",
      "C:\\Users\\jqu23\\anaconda3\\envs\\mlenv\\lib\\site-packages\\seaborn\\distributions.py:2619: FutureWarning: `distplot` is a deprecated function and will be removed in a future version. Please adapt your code to use either `displot` (a figure-level function with similar flexibility) or `kdeplot` (an axes-level function for kernel density plots).\n",
      "  warnings.warn(msg, FutureWarning)\n",
      "C:\\Users\\jqu23\\anaconda3\\envs\\mlenv\\lib\\site-packages\\seaborn\\distributions.py:2103: FutureWarning: The `axis` variable is no longer used and will be removed. Instead, assign variables directly to `x` or `y`.\n",
      "  warnings.warn(msg, FutureWarning)\n",
      "C:\\Users\\jqu23\\anaconda3\\envs\\mlenv\\lib\\site-packages\\seaborn\\distributions.py:2619: FutureWarning: `distplot` is a deprecated function and will be removed in a future version. Please adapt your code to use either `displot` (a figure-level function with similar flexibility) or `kdeplot` (an axes-level function for kernel density plots).\n",
      "  warnings.warn(msg, FutureWarning)\n",
      "C:\\Users\\jqu23\\anaconda3\\envs\\mlenv\\lib\\site-packages\\seaborn\\distributions.py:2103: FutureWarning: The `axis` variable is no longer used and will be removed. Instead, assign variables directly to `x` or `y`.\n",
      "  warnings.warn(msg, FutureWarning)\n"
     ]
    },
    {
     "data": {
      "image/png": "[encoded data removed]",
      "text/plain": [
       "<Figure size 432x432 with 3 Axes>"
      ]
     },
     "metadata": {
      "needs_background": "light"
     },
     "output_type": "display_data"
    }
   ],
   "source": [
    "fig, axes = plt.subplots(nrows=3, ncols=1, figsize=(6, 6))\n",
    "sb.distplot(\n",
    "    df_scaled.economic_damages_as_a_share_of_gdp,\n",
    "    hist    = False,\n",
    "    rug     = True,\n",
    "    color   = \"blue\",\n",
    "    kde_kws = {'shade': True, 'linewidth': 1},\n",
    "    ax      = axes[0]\n",
    ")\n",
    "axes[0].set_title(\"Distribución original\", fontsize = 'medium')\n",
    "axes[0].set_xlabel('precio', fontsize='small') \n",
    "axes[0].tick_params(labelsize = 6)\n",
    "\n",
    "sb.distplot(\n",
    "    np.sqrt(df_scaled.economic_damages_as_a_share_of_gdp),\n",
    "    hist    = False,\n",
    "    rug     = True,\n",
    "    color   = \"blue\",\n",
    "    kde_kws = {'shade': True, 'linewidth': 1},\n",
    "    ax      = axes[1]\n",
    ")\n",
    "axes[1].set_title(\"Transformación raíz cuadrada\", fontsize = 'medium')\n",
    "axes[1].set_xlabel('sqrt(economic_damages_as_a_share_of_gdp)', fontsize='small') \n",
    "axes[1].tick_params(labelsize = 6)\n",
    "\n",
    "sb.distplot(\n",
    "    np.log(df_scaled.economic_damages_as_a_share_of_gdp),\n",
    "    hist    = False,\n",
    "    rug     = True,\n",
    "    color   = \"blue\",\n",
    "    kde_kws = {'shade': True, 'linewidth': 1},\n",
    "    ax      = axes[2]\n",
    ")\n",
    "axes[2].set_title(\"Transformación logarítmica\", fontsize = 'medium')\n",
    "axes[2].set_xlabel('log(economic_damages_as_a_share_of_gdp)', fontsize='small') \n",
    "axes[2].tick_params(labelsize = 6)\n",
    "\n",
    "fig.tight_layout()"
   ]
  },
  {
   "cell_type": "code",
   "execution_count": 53,
   "id": "4054b5b6",
   "metadata": {},
   "outputs": [
    {
     "data": {
      "text/html": [
       "<div>\n",
       "<style scoped>\n",
       "    .dataframe tbody tr th:only-of-type {\n",
       "        vertical-align: middle;\n",
       "    }\n",
       "\n",
       "    .dataframe tbody tr th {\n",
       "        vertical-align: top;\n",
       "    }\n",
       "\n",
       "    .dataframe thead th {\n",
       "        text-align: right;\n",
       "    }\n",
       "</style>\n",
       "<table border=\"1\" class=\"dataframe\">\n",
       "  <thead>\n",
       "    <tr style=\"text-align: right;\">\n",
       "      <th></th>\n",
       "      <th>sumsquare_error</th>\n",
       "      <th>aic</th>\n",
       "      <th>bic</th>\n",
       "      <th>kl_div</th>\n",
       "      <th>ks_statistic</th>\n",
       "      <th>ks_pvalue</th>\n",
       "    </tr>\n",
       "  </thead>\n",
       "  <tbody>\n",
       "    <tr>\n",
       "      <th>gamma</th>\n",
       "      <td>103.345764</td>\n",
       "      <td>673.436016</td>\n",
       "      <td>26.707435</td>\n",
       "      <td>inf</td>\n",
       "      <td>0.373524</td>\n",
       "      <td>0.164719</td>\n",
       "    </tr>\n",
       "    <tr>\n",
       "      <th>cauchy</th>\n",
       "      <td>132.074768</td>\n",
       "      <td>796.515862</td>\n",
       "      <td>26.590296</td>\n",
       "      <td>inf</td>\n",
       "      <td>0.386969</td>\n",
       "      <td>0.137703</td>\n",
       "    </tr>\n",
       "    <tr>\n",
       "      <th>powerlaw</th>\n",
       "      <td>134.016059</td>\n",
       "      <td>346.680666</td>\n",
       "      <td>28.786469</td>\n",
       "      <td>inf</td>\n",
       "      <td>0.374982</td>\n",
       "      <td>0.161614</td>\n",
       "    </tr>\n",
       "    <tr>\n",
       "      <th>exponpow</th>\n",
       "      <td>134.488153</td>\n",
       "      <td>403.589091</td>\n",
       "      <td>28.814601</td>\n",
       "      <td>inf</td>\n",
       "      <td>0.374995</td>\n",
       "      <td>0.161586</td>\n",
       "    </tr>\n",
       "    <tr>\n",
       "      <th>beta</th>\n",
       "      <td>137.389657</td>\n",
       "      <td>446.356527</td>\n",
       "      <td>31.064803</td>\n",
       "      <td>inf</td>\n",
       "      <td>0.368826</td>\n",
       "      <td>0.175034</td>\n",
       "    </tr>\n",
       "    <tr>\n",
       "      <th>chi2</th>\n",
       "      <td>144.917765</td>\n",
       "      <td>370.891524</td>\n",
       "      <td>29.412124</td>\n",
       "      <td>inf</td>\n",
       "      <td>0.375000</td>\n",
       "      <td>0.161576</td>\n",
       "    </tr>\n",
       "    <tr>\n",
       "      <th>lognorm</th>\n",
       "      <td>152.833524</td>\n",
       "      <td>645.111260</td>\n",
       "      <td>29.837586</td>\n",
       "      <td>inf</td>\n",
       "      <td>0.374989</td>\n",
       "      <td>0.161599</td>\n",
       "    </tr>\n",
       "    <tr>\n",
       "      <th>expon</th>\n",
       "      <td>187.550442</td>\n",
       "      <td>402.801744</td>\n",
       "      <td>29.395733</td>\n",
       "      <td>inf</td>\n",
       "      <td>0.452339</td>\n",
       "      <td>0.051603</td>\n",
       "    </tr>\n",
       "    <tr>\n",
       "      <th>logistic</th>\n",
       "      <td>212.699534</td>\n",
       "      <td>430.215277</td>\n",
       "      <td>30.402395</td>\n",
       "      <td>inf</td>\n",
       "      <td>0.295211</td>\n",
       "      <td>0.409617</td>\n",
       "    </tr>\n",
       "    <tr>\n",
       "      <th>norm</th>\n",
       "      <td>216.199691</td>\n",
       "      <td>351.568636</td>\n",
       "      <td>30.532971</td>\n",
       "      <td>inf</td>\n",
       "      <td>0.319984</td>\n",
       "      <td>0.314785</td>\n",
       "    </tr>\n",
       "  </tbody>\n",
       "</table>\n",
       "</div>"
      ],
      "text/plain": [
       "          sumsquare_error         aic        bic  kl_div  ks_statistic  \\\n",
       "gamma          103.345764  673.436016  26.707435     inf      0.373524   \n",
       "cauchy         132.074768  796.515862  26.590296     inf      0.386969   \n",
       "powerlaw       134.016059  346.680666  28.786469     inf      0.374982   \n",
       "exponpow       134.488153  403.589091  28.814601     inf      0.374995   \n",
       "beta           137.389657  446.356527  31.064803     inf      0.368826   \n",
       "chi2           144.917765  370.891524  29.412124     inf      0.375000   \n",
       "lognorm        152.833524  645.111260  29.837586     inf      0.374989   \n",
       "expon          187.550442  402.801744  29.395733     inf      0.452339   \n",
       "logistic       212.699534  430.215277  30.402395     inf      0.295211   \n",
       "norm           216.199691  351.568636  30.532971     inf      0.319984   \n",
       "\n",
       "          ks_pvalue  \n",
       "gamma      0.164719  \n",
       "cauchy     0.137703  \n",
       "powerlaw   0.161614  \n",
       "exponpow   0.161586  \n",
       "beta       0.175034  \n",
       "chi2       0.161576  \n",
       "lognorm    0.161599  \n",
       "expon      0.051603  \n",
       "logistic   0.409617  \n",
       "norm       0.314785  "
      ]
     },
     "execution_count": 53,
     "metadata": {},
     "output_type": "execute_result"
    }
   ],
   "source": [
    "from fitter import Fitter\n",
    "distribuciones = ['cauchy', 'chi2', 'expon',  'exponpow', 'gamma',\n",
    "                  'norm', 'powerlaw', 'beta', 'logistic', 'lognorm']\n",
    "\n",
    "fitter = Fitter(df_scaled.economic_damages_as_a_share_of_gdp, distributions=distribuciones)\n",
    "fitter.fit()\n",
    "fitter.summary(Nbest=10, plot=False)"
   ]
  },
  {
   "cell_type": "code",
   "execution_count": 54,
   "id": "7ecabdeb",
   "metadata": {},
   "outputs": [
    {
     "data": {
      "image/png": "[encoded data removed]",
      "text/plain": [
       "<Figure size 648x360 with 8 Axes>"
      ]
     },
     "metadata": {
      "needs_background": "light"
     },
     "output_type": "display_data"
    }
   ],
   "source": [
    "# Gráfico de distribución para cada variable numérica\n",
    "# ==============================================================================\n",
    "# Ajustar número de subplots en función del número de columnas\n",
    "fig, axes = plt.subplots(nrows=3, ncols=3, figsize=(9, 5))\n",
    "axes = axes.flat\n",
    "columnas_numeric = df_scaled.select_dtypes(include=['float64', 'int']).columns\n",
    "columnas_numeric = columnas_numeric.drop('economic_damages_as_a_share_of_gdp')\n",
    "\n",
    "for i, colum in enumerate(columnas_numeric):\n",
    "    sb.regplot(\n",
    "        x           = df_scaled[colum],\n",
    "        y           = df_scaled['economic_damages_as_a_share_of_gdp'],\n",
    "        color       = \"gray\",\n",
    "        marker      = '.',\n",
    "        scatter_kws = {\"alpha\":0.4},\n",
    "        line_kws    = {\"color\":\"r\",\"alpha\":0.7},\n",
    "        ax          = axes[i]\n",
    "    )\n",
    "    axes[i].set_title(f\"(economic_damages_as_a_share_of_gdp) vs {colum}\", fontsize = 7, fontweight = \"bold\")\n",
    "    #axes[i].ticklabel_format(style='sci', scilimits=(-4,4), axis='both')\n",
    "    axes[i].yaxis.set_major_formatter(ticker.EngFormatter())\n",
    "    axes[i].xaxis.set_major_formatter(ticker.EngFormatter())\n",
    "    axes[i].tick_params(labelsize = 6)\n",
    "    axes[i].set_xlabel(\"\")\n",
    "    axes[i].set_ylabel(\"\")\n",
    "\n",
    "# Se eliminan los axes vacíos\n",
    "for i in [8]:\n",
    "    fig.delaxes(axes[i])\n",
    "    \n",
    "fig.tight_layout()\n",
    "plt.subplots_adjust(top=0.9)\n",
    "fig.suptitle('Correlación con economic_damages_as_a_share_of_gdp', fontsize = 10, fontweight = \"bold\");"
   ]
  },
  {
   "cell_type": "markdown",
   "id": "2e963d81",
   "metadata": {},
   "source": [
    "-------------------------------------------------------------------------------------------------------------------------------\n",
    "-------------------------------------------------------------------------------------------------------------------------------"
   ]
  },
  {
   "cell_type": "markdown",
   "id": "a820aa09",
   "metadata": {},
   "source": [
    "### ROBUST MODELS"
   ]
  },
  {
   "cell_type": "markdown",
   "id": "a3ec7235",
   "metadata": {},
   "source": [
    "### linear regression on a dataset with outliers"
   ]
  },
  {
   "cell_type": "code",
   "execution_count": 55,
   "id": "9d91bdd1",
   "metadata": {},
   "outputs": [
    {
     "name": "stdout",
     "output_type": "stream",
     "text": [
      "(8, 1) (8,)\n"
     ]
    },
    {
     "data": {
      "image/png": "[encoded data removed]",
      "text/plain": [
       "<Figure size 432x288 with 1 Axes>"
      ]
     },
     "metadata": {
      "needs_background": "light"
     },
     "output_type": "display_data"
    }
   ],
   "source": [
    "# linear regression on a dataset with outliers\n",
    "from random import random\n",
    "from random import randint\n",
    "from random import seed\n",
    "from numpy import arange\n",
    "from numpy import mean\n",
    "from numpy import std\n",
    "from numpy import absolute\n",
    "from sklearn.datasets import make_regression\n",
    "from sklearn.linear_model import LinearRegression\n",
    "from sklearn.model_selection import cross_val_score\n",
    "from sklearn.model_selection import RepeatedKFold\n",
    "from matplotlib import pyplot\n",
    " \n",
    "# prepare the dataset\n",
    "# Set independent and dependent variables\n",
    "X = df_scaled[['people_affected_per_100k']]\n",
    "y = df_scaled['economic_damages_as_a_share_of_gdp']\n",
    "# summarize shape\n",
    "print(X.shape, y.shape)\n",
    "# scatter plot of input vs output\n",
    "pyplot.scatter(X, y)\n",
    "pyplot.show()"
   ]
  },
  {
   "cell_type": "code",
   "execution_count": 56,
   "id": "bd7d999b",
   "metadata": {},
   "outputs": [
    {
     "name": "stdout",
     "output_type": "stream",
     "text": [
      "Mean MAE: 0.332 (0.270)\n",
      "The parameters of the line: [0.95546539]\n"
     ]
    },
    {
     "data": {
      "image/png": "[encoded data removed]",
      "text/plain": [
       "<Figure size 432x288 with 1 Axes>"
      ]
     },
     "metadata": {
      "needs_background": "light"
     },
     "output_type": "display_data"
    }
   ],
   "source": [
    "# evaluate a model\n",
    "def evaluate_model(X, y, model):\n",
    "    # define model evaluation method\n",
    "    cv = RepeatedKFold(n_splits=6, n_repeats=3, random_state=1)\n",
    "    # evaluate model\n",
    "    scores = cross_val_score(model, X, y, scoring='neg_mean_absolute_error', cv=cv, n_jobs=-1)\n",
    "    # force scores to be positive\n",
    "    return absolute(scores)\n",
    "\n",
    "\n",
    "# Set independent and dependent variables\n",
    "X = df_scaled[['people_affected_per_100k']]\n",
    "y = df_scaled['economic_damages_as_a_share_of_gdp']\n",
    "# define the model\n",
    "model = LinearRegression()\n",
    "# evaluate model\n",
    "results = evaluate_model(X, y, model)\n",
    "print('Mean MAE: %.3f (%.3f)' % (mean(results), std(results)))\n",
    "\n",
    "\n",
    "# Calculating the parameters using the least square method\n",
    "theta = np.linalg.inv(X.T.dot(X)).dot(X.T).dot(y)\n",
    "\n",
    "print(f'The parameters of the line: {theta}')\n",
    "\n",
    "# Now, calculating the y-axis values against x-values according to\n",
    "# the parameters theta0 and theta1\n",
    "y_line = X.dot(theta)\n",
    "plt.scatter(X, y)\n",
    "plt.plot(X, y_line, 'r')\n",
    "plt.title('Best fit line using regression method')\n",
    "plt.xlabel('x-axis')\n",
    "plt.ylabel('y-axis')\n",
    "\n",
    "plt.show()"
   ]
  },
  {
   "cell_type": "markdown",
   "id": "2fc02512",
   "metadata": {},
   "source": [
    "### Huber regression on a dataset with outliers - Robust model-\n",
    "La regresión de Huber es un tipo de regresión robusta que es consciente de la posibilidad de valores atípicos en un conjunto de datos y les asigna menos peso que otros ejemplos en el conjunto de datos.\n",
    "\n",
    "Podemos usar la regresión de Huber a través de la clase HuberRegressor en scikit-learn. El argumento \" épsilon \" controla lo que se considera un valor atípico, donde los valores más pequeños consideran más valores atípicos de los datos y, a su vez, hacen que el modelo sea más robusto para los valores atípicos. El valor predeterminado es 1,35."
   ]
  },
  {
   "cell_type": "code",
   "execution_count": 57,
   "id": "fbd4600a",
   "metadata": {},
   "outputs": [
    {
     "name": "stdout",
     "output_type": "stream",
     "text": [
      "Mean MAE: 0.258 (0.245)\n"
     ]
    }
   ],
   "source": [
    "# huber regression on a dataset with outliers\n",
    "from random import random\n",
    "from random import randint\n",
    "from random import seed\n",
    "from numpy import arange\n",
    "from numpy import mean\n",
    "from numpy import std\n",
    "from numpy import absolute\n",
    "from sklearn.datasets import make_regression\n",
    "from sklearn.linear_model import HuberRegressor\n",
    "from sklearn.model_selection import cross_val_score\n",
    "from sklearn.model_selection import RepeatedKFold\n",
    "from matplotlib import pyplot\n",
    "\n",
    "# prepare the dataset\n",
    "# Set independent and dependent variables\n",
    "X = df_scaled[['people_affected_per_100k']]\n",
    "y = df_scaled['economic_damages_as_a_share_of_gdp']\n",
    "\n",
    "# evaluate a model\n",
    "def evaluate_model(X, y, model):\n",
    "    # define model evaluation method\n",
    "    cv = RepeatedKFold(n_splits=6, n_repeats=3, random_state=1)\n",
    "    # evaluate model\n",
    "    scores = cross_val_score(model, X, y, scoring='neg_mean_absolute_error', cv=cv, n_jobs=-1)\n",
    "    # force scores to be positive\n",
    "    return absolute(scores)\n",
    " \n",
    "# load dataset\n",
    "X = df_scaled[['people_affected_per_100k']]\n",
    "y = df_scaled['economic_damages_as_a_share_of_gdp']\n",
    "# define the model\n",
    "model = HuberRegressor()\n",
    "# evaluate model\n",
    "results = evaluate_model(X, y, model)\n",
    "print('Mean MAE: %.3f (%.3f)' % (mean(results), std(results)))\n",
    "\n",
    "\n"
   ]
  },
  {
   "cell_type": "markdown",
   "id": "f4764bb5",
   "metadata": {},
   "source": [
    "### Regresión RANSAC\n",
    "\n",
    "Random Sample Consensus , o RANSAC para abreviar, es otro algoritmo de regresión robusto.\n",
    "\n",
    "RANSAC intenta separar los datos en valores atípicos e internos y ajusta el modelo en los valores internos.\n",
    "\n",
    "La biblioteca scikit-learn proporciona una implementación a través de la clase RANSACRegressor ."
   ]
  },
  {
   "cell_type": "code",
   "execution_count": 58,
   "id": "8f42b1c7",
   "metadata": {},
   "outputs": [
    {
     "name": "stdout",
     "output_type": "stream",
     "text": [
      "Mean MAE: 0.342 (0.348)\n"
     ]
    }
   ],
   "source": [
    "# ransac regression on a dataset with outliers\n",
    "from random import random\n",
    "from random import randint\n",
    "from random import seed\n",
    "from numpy import arange\n",
    "from numpy import mean\n",
    "from numpy import std\n",
    "from numpy import absolute\n",
    "from sklearn.datasets import make_regression\n",
    "from sklearn.linear_model import RANSACRegressor\n",
    "from sklearn.model_selection import cross_val_score\n",
    "from sklearn.model_selection import RepeatedKFold\n",
    "from matplotlib import pyplot\n",
    " \n",
    "# prepare the dataset\n",
    "# Set independent and dependent variables\n",
    "X = df_scaled[['people_affected_per_100k']]\n",
    "y = df_scaled['economic_damages_as_a_share_of_gdp']\n",
    " \n",
    "# evaluate a model\n",
    "def evaluate_model(X, y, model):\n",
    "    # define model evaluation method\n",
    "    cv = RepeatedKFold(n_splits=6, n_repeats=3, random_state=1)\n",
    "    # evaluate model\n",
    "    scores = cross_val_score(model, X, y, scoring='neg_mean_absolute_error', cv=cv, n_jobs=-1)\n",
    "    # force scores to be positive\n",
    "    return absolute(scores)\n",
    "evaluate_model(X, y, model).any()\n",
    " \n",
    "# load dataset\n",
    "X = df_scaled[['people_affected_per_100k']]\n",
    "y = df_scaled['economic_damages_as_a_share_of_gdp']\n",
    "# define the model\n",
    "model = RANSACRegressor()\n",
    "# evaluate model\n",
    "results = evaluate_model(X, y, model)\n",
    "print('Mean MAE: %.3f (%.3f)' % (mean(results), std(results)))\n",
    "# plot the line of best fit\n"
   ]
  },
  {
   "cell_type": "markdown",
   "id": "94f8b7de",
   "metadata": {},
   "source": [
    "### Regresión de Theil Sen\n",
    "La regresión de Theil Sen implica ajustar modelos de regresión múltiple en subconjuntos de los datos de entrenamiento y combinar los coeficientes al final.\n",
    "\n",
    "El scikit-learn proporciona una implementación a través de la clase TheilSenRegressor ."
   ]
  },
  {
   "cell_type": "code",
   "execution_count": 59,
   "id": "7a08e0f1",
   "metadata": {},
   "outputs": [
    {
     "name": "stdout",
     "output_type": "stream",
     "text": [
      "(8, 1)\n",
      "(8,)\n",
      "Mean MAE: 0.864 (0.991)\n"
     ]
    }
   ],
   "source": [
    "# theilsen regression on a dataset with outliers\n",
    "from random import random\n",
    "from random import randint\n",
    "from random import seed\n",
    "from numpy import arange\n",
    "from numpy import mean\n",
    "from numpy import std\n",
    "from numpy import absolute\n",
    "from sklearn.datasets import make_regression\n",
    "from sklearn.linear_model import TheilSenRegressor\n",
    "from sklearn.model_selection import cross_val_score\n",
    "from sklearn.model_selection import RepeatedKFold\n",
    "from matplotlib import pyplot\n",
    " \n",
    "# prepare the dataset\n",
    "# Set independent and dependent variables\n",
    "X = df_scaled[['people_affected_per_100k']]\n",
    "y = df_scaled['economic_damages_as_a_share_of_gdp']\n",
    "\n",
    "print(X.shape)\n",
    "print(y.shape)\n",
    "\n",
    "# evaluate a model\n",
    "def evaluate_model(X, y, model):\n",
    "    # define model evaluation method\n",
    "    cv = RepeatedKFold(n_splits=6, n_repeats=3, random_state=1)\n",
    "    # evaluate model\n",
    "    scores = cross_val_score(model, X, y, scoring='neg_mean_absolute_error', cv=cv, n_jobs=-1)\n",
    "    # force scores to be positive\n",
    "    return absolute(scores)\n",
    " \n",
    "# plot the dataset and the model's line of best fit\n",
    "def plot_best_fit(X, y, model):\n",
    "\t# fit the model on all data\n",
    "\tmodel.fit(X.values.reshape(-1, 1), y)\n",
    "\t# calculate outputs for grid across the domain\n",
    "\ty_pred = model.predict(X.values.reshape(-1, 1))\n",
    "\t# plot the line of best fit\n",
    "\tpyplot.plot(X, y_pred, label=type(model).__name__)\n",
    " \n",
    "# load dataset\n",
    "# Set independent and dependent variables\n",
    "X = df_scaled[['people_affected_per_100k','temperature_change_temp_change_celsius', 'number_of_deaths']]\n",
    "y = df_scaled['economic_damages_as_a_share_of_gdp']\n",
    "# define the model\n",
    "model = TheilSenRegressor()\n",
    "# evaluate model\n",
    "results = evaluate_model(X, y, model)\n",
    "print('Mean MAE: %.3f (%.3f)' % (mean(results), std(results)))\n",
    "#plot the line of best fit\n",
    "#plot_best_fit(X, y_pred, model)"
   ]
  },
  {
   "cell_type": "markdown",
   "id": "835e19d9",
   "metadata": {},
   "source": [
    "### Comparison"
   ]
  },
  {
   "cell_type": "code",
   "execution_count": 60,
   "id": "ba731c1a",
   "metadata": {},
   "outputs": [
    {
     "name": "stdout",
     "output_type": "stream",
     "text": [
      ">Linear 0.332 (0.270)\n",
      ">Huber 0.258 (0.245)\n",
      ">RANSAC 0.314 (0.330)\n",
      ">TheilSen 0.425 (0.432)\n"
     ]
    },
    {
     "data": {
      "image/png": "[encoded data removed]",
      "text/plain": [
       "<Figure size 432x288 with 1 Axes>"
      ]
     },
     "metadata": {
      "needs_background": "light"
     },
     "output_type": "display_data"
    }
   ],
   "source": [
    "\n",
    "# compare robust regression algorithms on a regression dataset with outliers\n",
    "from random import random\n",
    "from random import randint\n",
    "from random import seed\n",
    "from numpy import mean\n",
    "from numpy import std\n",
    "from numpy import absolute\n",
    "from sklearn.datasets import make_regression\n",
    "from sklearn.model_selection import cross_val_score\n",
    "from sklearn.model_selection import RepeatedKFold\n",
    "from sklearn.linear_model import LinearRegression\n",
    "from sklearn.linear_model import HuberRegressor\n",
    "from sklearn.linear_model import RANSACRegressor\n",
    "from sklearn.linear_model import TheilSenRegressor\n",
    "from matplotlib import pyplot\n",
    " \n",
    "# prepare the dataset\n",
    "# Set independent and dependent variables\n",
    "X = df_scaled[['people_affected_per_100k']]\n",
    "y = df_scaled['economic_damages_as_a_share_of_gdp']\n",
    " \n",
    "# dictionary of model names and model objects\n",
    "def get_models():\n",
    "    models = dict()\n",
    "    models['Linear'] = LinearRegression()\n",
    "    models['Huber'] = HuberRegressor()\n",
    "    models['RANSAC'] = RANSACRegressor()\n",
    "    models['TheilSen'] = TheilSenRegressor()\n",
    "    return models\n",
    " \n",
    "# evaluate a model\n",
    "def evalute_model(X, y, model, name):\n",
    "    # define model evaluation method\n",
    "    cv = RepeatedKFold(n_splits=6, n_repeats=3, random_state=1)\n",
    "    # evaluate model\n",
    "    scores = cross_val_score(model, X, y, scoring='neg_mean_absolute_error', cv=cv, n_jobs=-1)\n",
    "    # force scores to be positive\n",
    "    scores = absolute(scores)\n",
    "    return scores\n",
    " \n",
    "# load the dataset\n",
    "# Set independent and dependent variables\n",
    "X = df_scaled[['people_affected_per_100k']]\n",
    "y = df_scaled['economic_damages_as_a_share_of_gdp']\n",
    "# retrieve models\n",
    "models = get_models()\n",
    "results = dict()\n",
    "for name, model in models.items():\n",
    "\t# evaluate the model\n",
    "\tresults[name] = evalute_model(X, y, model, name)\n",
    "\t# summarize progress\n",
    "\tprint('>%s %.3f (%.3f)' % (name, mean(results[name]), std(results[name])))\n",
    "# plot model performance for comparison\n",
    "pyplot.boxplot(results.values(), labels=results.keys(), showmeans=True)\n",
    "pyplot.show()"
   ]
  },
  {
   "cell_type": "code",
   "execution_count": 61,
   "id": "55f09ad1",
   "metadata": {},
   "outputs": [
    {
     "name": "stdout",
     "output_type": "stream",
     "text": [
      "(8, 1)\n"
     ]
    },
    {
     "data": {
      "image/png": "[encoded data removed]",
      "text/plain": [
       "<Figure size 432x288 with 1 Axes>"
      ]
     },
     "metadata": {
      "needs_background": "light"
     },
     "output_type": "display_data"
    }
   ],
   "source": [
    "# plot line of best for multiple robust regression algorithms\n",
    "from random import random\n",
    "from random import randint\n",
    "from random import seed\n",
    "from numpy import arange\n",
    "from sklearn.datasets import make_regression\n",
    "from sklearn.linear_model import LinearRegression\n",
    "from sklearn.linear_model import HuberRegressor\n",
    "from sklearn.linear_model import RANSACRegressor\n",
    "from sklearn.linear_model import TheilSenRegressor\n",
    "from matplotlib import pyplot\n",
    " \n",
    "# prepare the dataset\n",
    "X = df_scaled[['people_affected_per_100k']]\n",
    "y = df_scaled['economic_damages_as_a_share_of_gdp']\n",
    "\n",
    "print (X.shape)\n",
    "\n",
    "# dictionary of model names and model objects\n",
    "def get_models():\n",
    "\tmodels = list()\n",
    "\tmodels.append(LinearRegression())\n",
    "\tmodels.append(HuberRegressor())\n",
    "\tmodels.append(RANSACRegressor())\n",
    "\tmodels.append(TheilSenRegressor())\n",
    "\treturn models\n",
    " \n",
    "# plot the dataset and the model's line of best fit\n",
    "def plot_best_fit(X, y, model):\n",
    "\t# fit the model on all data\n",
    "\tmodel.fit(X.values.reshape(-1, 1), y)\n",
    "\t# calculate outputs for grid across the domain\n",
    "\ty_pred = model.predict(X.values.reshape(-1, 1))\n",
    "\t# plot the line of best fit\n",
    "\tpyplot.plot(X, y_pred, label=type(model).__name__)\n",
    " \n",
    "# load the dataset\n",
    "X = df_scaled['people_affected_per_100k']\n",
    "y = df_scaled['economic_damages_as_a_share_of_gdp']\n",
    "\n",
    "# define a uniform grid across the input domain\n",
    "xaxis = arange(X.min(), X.max(), 0.01)\n",
    "for model in get_models():\n",
    "\n",
    "# plot the line of best fit\n",
    "\tplot_best_fit(X, y_pred, model)\n",
    "# plot the dataset\n",
    "pyplot.scatter(X, y)\n",
    "# show the plot\n",
    "pyplot.title('Robust Regression')\n",
    "pyplot.legend()\n",
    "pyplot.show()\n",
    "\n",
    "\n"
   ]
  },
  {
   "cell_type": "markdown",
   "id": "a6e92ee3",
   "metadata": {},
   "source": [
    "### Training and testing the linear regression model"
   ]
  },
  {
   "cell_type": "code",
   "execution_count": 62,
   "id": "702fff96",
   "metadata": {},
   "outputs": [],
   "source": [
    "# Set independent and dependent variables\n",
    "X = df_scaled[['people_affected_per_100k','temperature_change_temp_change_celsius', 'number_of_deaths']]\n",
    "y = df_scaled['economic_damages_as_a_share_of_gdp']\n",
    "\n",
    "from sklearn.model_selection import train_test_split\n",
    "#Separo los datos de \"train\" en entrenamiento y prueba para probar los algoritmos\n",
    "X_train, X_test, y_train, y_test = train_test_split(X, y, test_size=0.2)\n",
    "\n",
    "# Initialize model from sklearn and fit it into our data\n",
    "regr = linear_model.LinearRegression()\n",
    "#Entreno el modelo\n",
    "model = regr.fit(X_train, y_train)"
   ]
  },
  {
   "cell_type": "code",
   "execution_count": 63,
   "id": "146a41f4",
   "metadata": {},
   "outputs": [],
   "source": [
    "#Realizo una predicción\n",
    "Y_pred_multiple = regr.predict(X_test)"
   ]
  },
  {
   "cell_type": "code",
   "execution_count": 64,
   "id": "cc04e20c",
   "metadata": {},
   "outputs": [
    {
     "name": "stdout",
     "output_type": "stream",
     "text": [
      "[-0.75688237 -0.74624174]\n",
      "1    0.155000\n",
      "5   -0.629308\n",
      "Name: economic_damages_as_a_share_of_gdp, dtype: float64\n"
     ]
    }
   ],
   "source": [
    "print(Y_pred_multiple)\n",
    "print(y_test)"
   ]
  },
  {
   "cell_type": "code",
   "execution_count": 65,
   "id": "027ae0a3",
   "metadata": {},
   "outputs": [
    {
     "name": "stdout",
     "output_type": "stream",
     "text": [
      "DATOS DEL MODELO REGRESIÓN LINEAL MULTIPLE\n",
      "\n",
      "Valor de las pendientes o coeficientes \"a\":\n",
      "[ 1.02101672 -0.11575786  0.06620789]\n",
      "Valor de la intersección o coeficiente \"b\":\n",
      "-0.12860198624840308\n"
     ]
    }
   ],
   "source": [
    "print('DATOS DEL MODELO REGRESIÓN LINEAL MULTIPLE')\n",
    "print()\n",
    "print('Valor de las pendientes o coeficientes \"a\":')\n",
    "print(regr.coef_)\n",
    "print('Valor de la intersección o coeficiente \"b\":')\n",
    "print(regr.intercept_)"
   ]
  },
  {
   "cell_type": "code",
   "execution_count": 66,
   "id": "a5b6bfea",
   "metadata": {},
   "outputs": [
    {
     "name": "stdout",
     "output_type": "stream",
     "text": [
      "Precisión del modelo:\n",
      "0.9962209465243029\n"
     ]
    }
   ],
   "source": [
    "print('Precisión del modelo:')\n",
    "print(regr.score(X_train, y_train))"
   ]
  },
  {
   "cell_type": "code",
   "execution_count": 67,
   "id": "a7bdc112",
   "metadata": {},
   "outputs": [
    {
     "name": "stdout",
     "output_type": "stream",
     "text": [
      "                                    OLS Regression Results                                    \n",
      "==============================================================================================\n",
      "Dep. Variable:     economic_damages_as_a_share_of_gdp   R-squared:                       0.996\n",
      "Model:                                            OLS   Adj. R-squared:                  0.991\n",
      "Method:                                 Least Squares   F-statistic:                     175.7\n",
      "Date:                                Sat, 27 Aug 2022   Prob (F-statistic):            0.00566\n",
      "Time:                                        18:34:54   Log-Likelihood:                 7.5349\n",
      "No. Observations:                                   6   AIC:                            -7.070\n",
      "Df Residuals:                                       2   BIC:                            -7.903\n",
      "Df Model:                                           3                                         \n",
      "Covariance Type:                            nonrobust                                         \n",
      "==========================================================================================================\n",
      "                                             coef    std err          t      P>|t|      [0.025      0.975]\n",
      "----------------------------------------------------------------------------------------------------------\n",
      "const                                     -0.1286      0.050     -2.551      0.125      -0.346       0.088\n",
      "people_affected_per_100k                   1.0210      0.401      2.546      0.126      -0.704       2.746\n",
      "temperature_change_temp_change_celsius    -0.1158      0.050     -2.298      0.148      -0.333       0.101\n",
      "number_of_deaths                           0.0662      0.397      0.167      0.883      -1.640       1.773\n",
      "==============================================================================\n",
      "Omnibus:                          nan   Durbin-Watson:                   2.447\n",
      "Prob(Omnibus):                    nan   Jarque-Bera (JB):                0.794\n",
      "Skew:                           0.184   Prob(JB):                        0.672\n",
      "Kurtosis:                       1.257   Cond. No.                         20.1\n",
      "==============================================================================\n",
      "\n",
      "Notes:\n",
      "[1] Standard Errors assume that the covariance matrix of the errors is correctly specified.\n"
     ]
    },
    {
     "name": "stderr",
     "output_type": "stream",
     "text": [
      "C:\\Users\\jqu23\\anaconda3\\envs\\mlenv\\lib\\site-packages\\statsmodels\\stats\\stattools.py:75: ValueWarning: omni_normtest is not valid with less than 8 observations; 6 samples were given.\n",
      "  \"samples were given.\" % int(n), ValueWarning)\n"
     ]
    }
   ],
   "source": [
    "X_train = sm.add_constant(X_train, prepend=True)\n",
    "modelo = sm.OLS(endog=y_train, exog=X_train,)\n",
    "modelo = modelo.fit()\n",
    "print(modelo.summary())"
   ]
  },
  {
   "cell_type": "code",
   "execution_count": 68,
   "id": "82f21307",
   "metadata": {},
   "outputs": [
    {
     "name": "stdout",
     "output_type": "stream",
     "text": [
      "const                                     0.125435\n",
      "people_affected_per_100k                  0.125798\n",
      "temperature_change_temp_change_celsius    0.148379\n",
      "number_of_deaths                          0.882765\n",
      "dtype: float64\n"
     ]
    }
   ],
   "source": [
    "print(modelo.pvalues)"
   ]
  },
  {
   "cell_type": "code",
   "execution_count": 69,
   "id": "a4a9de28",
   "metadata": {},
   "outputs": [
    {
     "data": {
      "text/html": [
       "<div>\n",
       "<style scoped>\n",
       "    .dataframe tbody tr th:only-of-type {\n",
       "        vertical-align: middle;\n",
       "    }\n",
       "\n",
       "    .dataframe tbody tr th {\n",
       "        vertical-align: top;\n",
       "    }\n",
       "\n",
       "    .dataframe thead th {\n",
       "        text-align: right;\n",
       "    }\n",
       "</style>\n",
       "<table border=\"1\" class=\"dataframe\">\n",
       "  <thead>\n",
       "    <tr style=\"text-align: right;\">\n",
       "      <th></th>\n",
       "      <th>2.5%</th>\n",
       "      <th>97.5%</th>\n",
       "    </tr>\n",
       "  </thead>\n",
       "  <tbody>\n",
       "    <tr>\n",
       "      <th>const</th>\n",
       "      <td>-0.345540</td>\n",
       "      <td>0.088336</td>\n",
       "    </tr>\n",
       "    <tr>\n",
       "      <th>people_affected_per_100k</th>\n",
       "      <td>-0.704370</td>\n",
       "      <td>2.746403</td>\n",
       "    </tr>\n",
       "    <tr>\n",
       "      <th>temperature_change_temp_change_celsius</th>\n",
       "      <td>-0.332522</td>\n",
       "      <td>0.101006</td>\n",
       "    </tr>\n",
       "    <tr>\n",
       "      <th>number_of_deaths</th>\n",
       "      <td>-1.640144</td>\n",
       "      <td>1.772560</td>\n",
       "    </tr>\n",
       "  </tbody>\n",
       "</table>\n",
       "</div>"
      ],
      "text/plain": [
       "                                            2.5%     97.5%\n",
       "const                                  -0.345540  0.088336\n",
       "people_affected_per_100k               -0.704370  2.746403\n",
       "temperature_change_temp_change_celsius -0.332522  0.101006\n",
       "number_of_deaths                       -1.640144  1.772560"
      ]
     },
     "execution_count": 69,
     "metadata": {},
     "output_type": "execute_result"
    }
   ],
   "source": [
    "# Intervalos de confianza para los coeficientes del modelo\n",
    "intervalos_ci = modelo.conf_int(alpha=0.05)\n",
    "intervalos_ci.columns = ['2.5%', '97.5%']\n",
    "intervalos_ci"
   ]
  },
  {
   "cell_type": "code",
   "execution_count": null,
   "id": "bfd6ccdd",
   "metadata": {},
   "outputs": [],
   "source": []
  },
  {
   "cell_type": "markdown",
   "id": "613558f5",
   "metadata": {},
   "source": [
    "### Complete model without split"
   ]
  },
  {
   "cell_type": "code",
   "execution_count": 70,
   "id": "fead15bd",
   "metadata": {},
   "outputs": [
    {
     "name": "stdout",
     "output_type": "stream",
     "text": [
      "Intercept: -4.283945467551197e-17\n",
      "Coefficients: [-0.4151346  -0.07658878  0.8040116   0.09789271  0.15487789  0.16623579\n",
      "  0.09366452]\n"
     ]
    }
   ],
   "source": [
    "# Set independent and dependent variables\n",
    "X = df_scaled[['annual_co2_emissions_tons',\n",
    " 'inflation_inflation_gdp_deflation',\n",
    " 'people_affected_per_100k',\n",
    " 'number_of_deaths',\n",
    " 'population_population_growth_annual_percentage',\n",
    " 'population_population_total',\n",
    " 'temperature_change_temp_change_celsius']]\n",
    "y = df_scaled['economic_damages_as_a_share_of_gdp']\n",
    "\n",
    "# Initialize model from sklearn and fit it into our data\n",
    "regr = linear_model.LinearRegression()\n",
    "model = regr.fit(X, y)\n",
    "\n",
    "print('Intercept:', model.intercept_)\n",
    "print('Coefficients:', model.coef_)"
   ]
  },
  {
   "cell_type": "code",
   "execution_count": null,
   "id": "9b79038f",
   "metadata": {},
   "outputs": [],
   "source": []
  },
  {
   "cell_type": "markdown",
   "id": "d249a496",
   "metadata": {},
   "source": [
    "## Model Validation"
   ]
  },
  {
   "cell_type": "code",
   "execution_count": 71,
   "id": "c95cd640",
   "metadata": {},
   "outputs": [
    {
     "name": "stdout",
     "output_type": "stream",
     "text": [
      "                                    OLS Regression Results                                    \n",
      "==============================================================================================\n",
      "Dep. Variable:     economic_damages_as_a_share_of_gdp   R-squared:                       1.000\n",
      "Model:                                            OLS   Adj. R-squared:                    nan\n",
      "Method:                                 Least Squares   F-statistic:                       nan\n",
      "Date:                                Sat, 27 Aug 2022   Prob (F-statistic):                nan\n",
      "Time:                                        18:34:54   Log-Likelihood:                 268.88\n",
      "No. Observations:                                   8   AIC:                            -521.8\n",
      "Df Residuals:                                       0   BIC:                            -521.1\n",
      "Df Model:                                           7                                         \n",
      "Covariance Type:                            nonrobust                                         \n",
      "==================================================================================================================\n",
      "                                                     coef    std err          t      P>|t|      [0.025      0.975]\n",
      "------------------------------------------------------------------------------------------------------------------\n",
      "const                                          -5.551e-17        inf         -0        nan         nan         nan\n",
      "annual_co2_emissions_tons                         -0.4151        inf         -0        nan         nan         nan\n",
      "inflation_inflation_gdp_deflation                 -0.0766        inf         -0        nan         nan         nan\n",
      "people_affected_per_100k                           0.8040        inf          0        nan         nan         nan\n",
      "number_of_deaths                                   0.0979        inf          0        nan         nan         nan\n",
      "population_population_growth_annual_percentage     0.1549        inf          0        nan         nan         nan\n",
      "population_population_total                        0.1662        inf          0        nan         nan         nan\n",
      "temperature_change_temp_change_celsius             0.0937        inf          0        nan         nan         nan\n",
      "==============================================================================\n",
      "Omnibus:                        1.196   Durbin-Watson:                   1.598\n",
      "Prob(Omnibus):                  0.550   Jarque-Bera (JB):                0.675\n",
      "Skew:                          -0.265   Prob(JB):                        0.714\n",
      "Kurtosis:                       1.679   Cond. No.                         51.1\n",
      "==============================================================================\n",
      "\n",
      "Notes:\n",
      "[1] Standard Errors assume that the covariance matrix of the errors is correctly specified.\n"
     ]
    },
    {
     "name": "stderr",
     "output_type": "stream",
     "text": [
      "C:\\Users\\jqu23\\anaconda3\\envs\\mlenv\\lib\\site-packages\\scipy\\stats\\stats.py:1542: UserWarning: kurtosistest only valid for n>=20 ... continuing anyway, n=8\n",
      "  \"anyway, n=%i\" % int(n))\n"
     ]
    }
   ],
   "source": [
    "X = df_scaled[['annual_co2_emissions_tons',\n",
    " 'inflation_inflation_gdp_deflation',\n",
    " 'people_affected_per_100k',\n",
    " 'number_of_deaths',\n",
    " 'population_population_growth_annual_percentage',\n",
    " 'population_population_total',\n",
    " 'temperature_change_temp_change_celsius']]\n",
    "X = sm.add_constant(X) # adding a constant\n",
    "\n",
    "olsmod_scaled = sm.OLS(df_scaled['economic_damages_as_a_share_of_gdp'], X).fit()\n",
    "print(olsmod_scaled.summary())"
   ]
  },
  {
   "cell_type": "code",
   "execution_count": 72,
   "id": "8560383f",
   "metadata": {},
   "outputs": [
    {
     "name": "stdout",
     "output_type": "stream",
     "text": [
      "R2 score: 1.0\n"
     ]
    }
   ],
   "source": [
    "print('R2 score:', olsmod_scaled.rsquared)"
   ]
  },
  {
   "cell_type": "code",
   "execution_count": 73,
   "id": "eb731886",
   "metadata": {},
   "outputs": [
    {
     "name": "stdout",
     "output_type": "stream",
     "text": [
      "F-statistic: nan\n",
      "Probability of observing value at least as high as F-statistic: nan\n"
     ]
    }
   ],
   "source": [
    "print('F-statistic:', olsmod_scaled.fvalue)\n",
    "print('Probability of observing value at least as high as F-statistic:', olsmod_scaled.f_pvalue)"
   ]
  },
  {
   "cell_type": "code",
   "execution_count": 74,
   "id": "5c2ef0d9",
   "metadata": {},
   "outputs": [
    {
     "name": "stdout",
     "output_type": "stream",
     "text": [
      "const                                            NaN\n",
      "annual_co2_emissions_tons                        NaN\n",
      "inflation_inflation_gdp_deflation                NaN\n",
      "people_affected_per_100k                         NaN\n",
      "number_of_deaths                                 NaN\n",
      "population_population_growth_annual_percentage   NaN\n",
      "population_population_total                      NaN\n",
      "temperature_change_temp_change_celsius           NaN\n",
      "dtype: float64\n"
     ]
    }
   ],
   "source": [
    "print(olsmod_scaled.pvalues)"
   ]
  },
  {
   "cell_type": "markdown",
   "id": "ff6d2d29",
   "metadata": {},
   "source": [
    "-------------------------------------------------------------------------------------------------------------------------------\n",
    "-------------------------------------------------------------------------------------------------------------------------------"
   ]
  },
  {
   "cell_type": "markdown",
   "id": "3ed4fde5",
   "metadata": {},
   "source": [
    "### Modelo OLS"
   ]
  },
  {
   "cell_type": "code",
   "execution_count": 75,
   "id": "22abacb1",
   "metadata": {},
   "outputs": [
    {
     "name": "stdout",
     "output_type": "stream",
     "text": [
      "Intercept: -3.022774311694999e-17\n",
      "Coefficients: [0.95546539]\n"
     ]
    }
   ],
   "source": [
    "# Set independent and dependent variables\n",
    "X = df_scaled[['people_affected_per_100k']]\n",
    "y = df_scaled['economic_damages_as_a_share_of_gdp']\n",
    "\n",
    "# Initialize model from sklearn and fit it into our data\n",
    "regr = linear_model.LinearRegression()\n",
    "model = regr.fit(X, y)\n",
    "\n",
    "print('Intercept:', model.intercept_)\n",
    "print('Coefficients:', model.coef_)"
   ]
  },
  {
   "cell_type": "code",
   "execution_count": 76,
   "id": "88c5c5ff",
   "metadata": {},
   "outputs": [
    {
     "name": "stdout",
     "output_type": "stream",
     "text": [
      "                                    OLS Regression Results                                    \n",
      "==============================================================================================\n",
      "Dep. Variable:     economic_damages_as_a_share_of_gdp   R-squared:                       0.913\n",
      "Model:                                            OLS   Adj. R-squared:                  0.898\n",
      "Method:                                 Least Squares   F-statistic:                     62.90\n",
      "Date:                                Sat, 27 Aug 2022   Prob (F-statistic):           0.000214\n",
      "Time:                                        18:34:54   Log-Likelihood:                -1.5881\n",
      "No. Observations:                                   8   AIC:                             7.176\n",
      "Df Residuals:                                       6   BIC:                             7.335\n",
      "Df Model:                                           1                                         \n",
      "Covariance Type:                            nonrobust                                         \n",
      "============================================================================================\n",
      "                               coef    std err          t      P>|t|      [0.025      0.975]\n",
      "--------------------------------------------------------------------------------------------\n",
      "const                    -5.551e-17      0.120  -4.61e-16      1.000      -0.295       0.295\n",
      "people_affected_per_100k     0.9555      0.120      7.931      0.000       0.661       1.250\n",
      "==============================================================================\n",
      "Omnibus:                       10.028   Durbin-Watson:                   1.998\n",
      "Prob(Omnibus):                  0.007   Jarque-Bera (JB):                3.268\n",
      "Skew:                           1.436   Prob(JB):                        0.195\n",
      "Kurtosis:                       4.245   Cond. No.                         1.00\n",
      "==============================================================================\n",
      "\n",
      "Notes:\n",
      "[1] Standard Errors assume that the covariance matrix of the errors is correctly specified.\n"
     ]
    },
    {
     "name": "stderr",
     "output_type": "stream",
     "text": [
      "C:\\Users\\jqu23\\anaconda3\\envs\\mlenv\\lib\\site-packages\\scipy\\stats\\stats.py:1542: UserWarning: kurtosistest only valid for n>=20 ... continuing anyway, n=8\n",
      "  \"anyway, n=%i\" % int(n))\n"
     ]
    }
   ],
   "source": [
    "X = df_scaled[['people_affected_per_100k',]]\n",
    "X = sm.add_constant(X) # adding a constant\n",
    "\n",
    "olsmod_scaled = sm.OLS(df_scaled['economic_damages_as_a_share_of_gdp'], X).fit()\n",
    "print(olsmod_scaled.summary())"
   ]
  },
  {
   "cell_type": "code",
   "execution_count": 77,
   "id": "5ebc6d69",
   "metadata": {},
   "outputs": [
    {
     "name": "stdout",
     "output_type": "stream",
     "text": [
      "R2 score: 0.9129141104349512\n"
     ]
    }
   ],
   "source": [
    "print('R2 score:', olsmod_scaled.rsquared)"
   ]
  },
  {
   "cell_type": "code",
   "execution_count": 78,
   "id": "8264999a",
   "metadata": {},
   "outputs": [
    {
     "name": "stdout",
     "output_type": "stream",
     "text": [
      "F-statistic: 62.89749912376214\n",
      "Probability of observing value at least as high as F-statistic: 0.00021350742957448461\n"
     ]
    }
   ],
   "source": [
    "print('F-statistic:', olsmod_scaled.fvalue)\n",
    "print('Probability of observing value at least as high as F-statistic:', olsmod_scaled.f_pvalue)"
   ]
  },
  {
   "cell_type": "code",
   "execution_count": 79,
   "id": "d0d61fef",
   "metadata": {},
   "outputs": [
    {
     "name": "stdout",
     "output_type": "stream",
     "text": [
      "const                       1.000000\n",
      "people_affected_per_100k    0.000214\n",
      "dtype: float64\n"
     ]
    }
   ],
   "source": [
    "print(olsmod_scaled.pvalues)"
   ]
  },
  {
   "cell_type": "code",
   "execution_count": 80,
   "id": "a5c541d1",
   "metadata": {},
   "outputs": [],
   "source": [
    "df_scaled['residual'] = olsmod_scaled.resid"
   ]
  },
  {
   "cell_type": "markdown",
   "id": "d2f7bc7f",
   "metadata": {},
   "source": [
    "### Assumption Testing"
   ]
  },
  {
   "cell_type": "markdown",
   "id": "f0a11e86",
   "metadata": {},
   "source": [
    "#### Linearity:\n",
    "This assumes that there is a linear relationship between the independent variables and the dependent variable. In our case since we have multiple independent variables, we can do this by using a scatter plot to see our predicted values versus the actual values."
   ]
  },
  {
   "cell_type": "code",
   "execution_count": 81,
   "id": "a3932f47",
   "metadata": {},
   "outputs": [],
   "source": [
    "df_scaled['predictions'] = olsmod.predict(X)"
   ]
  },
  {
   "cell_type": "code",
   "execution_count": 82,
   "id": "0a8c6d8d",
   "metadata": {},
   "outputs": [
    {
     "name": "stderr",
     "output_type": "stream",
     "text": [
      "C:\\Users\\jqu23\\anaconda3\\envs\\mlenv\\lib\\site-packages\\seaborn\\regression.py:581: UserWarning: The `size` parameter has been renamed to `height`; please update your code.\n",
      "  warnings.warn(msg, UserWarning)\n"
     ]
    },
    {
     "data": {
      "image/png": "[encoded data removed]",
      "text/plain": [
       "<Figure size 360x360 with 1 Axes>"
      ]
     },
     "metadata": {
      "needs_background": "light"
     },
     "output_type": "display_data"
    }
   ],
   "source": [
    "# Plotting the observed vs predicted values\n",
    "sb.lmplot(x='economic_damages_as_a_share_of_gdp', y='predictions', data=df_scaled, fit_reg=False, size=5)\n",
    "    \n",
    "# Plotting the diagonal line\n",
    "line_coords = np.arange(df_scaled[['economic_damages_as_a_share_of_gdp', 'predictions']].min().min()-10, \n",
    "                        df_scaled[['economic_damages_as_a_share_of_gdp', 'predictions']].max().max()+10)\n",
    "plt.plot(line_coords, line_coords,  # X and y points\n",
    "         color='darkorange', linestyle='--')\n",
    "\n",
    "plt.ylabel('predictions', fontsize=14)\n",
    "plt.xlabel('economic_damages_as_a_share_of_gdp', fontsize=14)\n",
    "plt.title('Linearity Assumption', fontsize=16)\n",
    "plt.show()"
   ]
  },
  {
   "cell_type": "markdown",
   "id": "a1c847d9",
   "metadata": {},
   "source": [
    "The scatter plots show residual point dont spread around the diagonal line, so we can assume that there isnt linear relationship between our independent and dependent variables."
   ]
  },
  {
   "cell_type": "markdown",
   "id": "3c6f68ed",
   "metadata": {},
   "source": [
    "#### Normality:\n",
    "This assumes that the error terms of the model are normally distributed. We will examine the normality of the residuals by plotting it into histogram and looking at the p-value from the Anderson-Darling test for normality. "
   ]
  },
  {
   "cell_type": "code",
   "execution_count": 83,
   "id": "bb27cf54",
   "metadata": {},
   "outputs": [
    {
     "name": "stderr",
     "output_type": "stream",
     "text": [
      "C:\\Users\\jqu23\\anaconda3\\envs\\mlenv\\lib\\site-packages\\seaborn\\distributions.py:2619: FutureWarning: `distplot` is a deprecated function and will be removed in a future version. Please adapt your code to use either `displot` (a figure-level function with similar flexibility) or `histplot` (an axes-level function for histograms).\n",
      "  warnings.warn(msg, FutureWarning)\n"
     ]
    },
    {
     "name": "stdout",
     "output_type": "stream",
     "text": [
      "p-value from the test Anderson-Darling test below 0.05 generally means non-normal: 0.05201830506262304\n"
     ]
    },
    {
     "data": {
      "image/png": "[encoded data removed]",
      "text/plain": [
       "<Figure size 576x288 with 1 Axes>"
      ]
     },
     "metadata": {
      "needs_background": "light"
     },
     "output_type": "display_data"
    },
    {
     "name": "stdout",
     "output_type": "stream",
     "text": [
      "Residuals are normally distributed\n"
     ]
    }
   ],
   "source": [
    "from statsmodels.stats.diagnostic import normal_ad\n",
    "\n",
    "# Performing the test on the residuals\n",
    "p_value = normal_ad(df_scaled['residual'])[1]\n",
    "print('p-value from the test Anderson-Darling test below 0.05 generally means non-normal:', p_value)\n",
    "\n",
    "# Plotting the residuals distribution\n",
    "plt.subplots(figsize=(8, 4))\n",
    "plt.title('Distribution of Residuals', fontsize=18)\n",
    "sb.distplot(df_scaled['residual'])\n",
    "plt.show()\n",
    "\n",
    "# Reporting the normality of the residuals\n",
    "if p_value < 0.05:\n",
    "    print('Residuals are not normally distributed')\n",
    "else:\n",
    "    print('Residuals are normally distributed')"
   ]
  },
  {
   "cell_type": "markdown",
   "id": "b25a8c63",
   "metadata": {},
   "source": [
    "#### Multicollinearity:\n",
    "This assumes that the predictors used in the regression are not correlated with each other. To identify if there are any correlation between our predictors we can calculate the Pearson correlation coefficient between each column in our data"
   ]
  },
  {
   "cell_type": "code",
   "execution_count": 94,
   "id": "96c1f01b",
   "metadata": {},
   "outputs": [
    {
     "name": "stdout",
     "output_type": "stream",
     "text": [
      "Pearson correlation coefficient matrix of each variables:\n",
      "                                     people_affected_per_100k  \\\n",
      "people_affected_per_100k                            1.000000   \n",
      "economic_damages_as_a_share_of_gdp                  0.955465   \n",
      "\n",
      "                                    economic_damages_as_a_share_of_gdp  \n",
      "people_affected_per_100k                                      0.955465  \n",
      "economic_damages_as_a_share_of_gdp                            1.000000  \n"
     ]
    },
    {
     "data": {
      "image/png": "[encoded data removed]",
      "text/plain": [
       "<Figure size 288x216 with 2 Axes>"
      ]
     },
     "metadata": {
      "needs_background": "light"
     },
     "output_type": "display_data"
    }
   ],
   "source": [
    "corr = df_scaled[['people_affected_per_100k','economic_damages_as_a_share_of_gdp']].corr()\n",
    "print('Pearson correlation coefficient matrix of each variables:\\n', corr)\n",
    "\n",
    "# Generate a mask for the diagonal cell\n",
    "mask = np.zeros_like(corr, dtype=bool)\n",
    "np.fill_diagonal(mask, val=True)\n",
    "\n",
    "# Initialize matplotlib figure\n",
    "fig, ax = plt.subplots(figsize=(4, 3))\n",
    "\n",
    "# Generate a custom diverging colormap\n",
    "cmap = sb.diverging_palette(220, 10, as_cmap=True, sep=100)\n",
    "cmap.set_bad('grey')\n",
    "\n",
    "# Draw the heatmap with the mask and correct aspect ratio\n",
    "sb.heatmap(corr, mask=mask, cmap=cmap, vmin=-1, vmax=1, center=0, linewidths=.5)\n",
    "fig.suptitle('Pearson correlation coefficient matrix', fontsize=14)\n",
    "ax.tick_params(axis='both', which='major', labelsize=10)\n",
    "# fig.tight_layout()"
   ]
  },
  {
   "cell_type": "markdown",
   "id": "b79985c4",
   "metadata": {},
   "source": [
    "#### Autocorrelation\n",
    "Autocorrelation is correlation of the errors (residuals) over time. Used when data are collected over time to detect if autocorrelation is present. Autocorrelation exists if residuals in one time period are related to residuals in another period. We can detect autocorrelation by performing Durbin-Watson test to determine if either positive or negative correlation is present. In this step we will use the durbin_watson () function from statsmodel to calculate our Durbin-Watson score and then assess the value with the following condition:\n",
    "\n",
    "If the Durbin-Watson score is less than 1.5 then there is a positive autocorrelation and the assumption is not satisfied\n",
    "\n",
    "\n",
    "If the Durbin-Watson score is between 1.5 and 2.5 then there is no autocorrelation and the assumption is satisfied\n",
    "\n",
    "\n",
    "If the Durbin-Watson score is more than 2.5 then there is a negative autocorrelation and the assumption is not satisfied"
   ]
  },
  {
   "cell_type": "code",
   "execution_count": 85,
   "id": "00b4188c",
   "metadata": {},
   "outputs": [
    {
     "name": "stdout",
     "output_type": "stream",
     "text": [
      "Durbin-Watson: 1.9981444587504031\n",
      "Little to no autocorrelation \n",
      "\n",
      "Assumption satisfied\n"
     ]
    }
   ],
   "source": [
    "from statsmodels.stats.stattools import durbin_watson\n",
    "\n",
    "durbinWatson = durbin_watson(df_scaled['residual'])\n",
    "\n",
    "print('Durbin-Watson:', durbinWatson)\n",
    "if durbinWatson < 1.5:\n",
    "    print('Signs of positive autocorrelation', '\\n')\n",
    "    print('Assumption not satisfied')\n",
    "elif durbinWatson > 2.5:\n",
    "    print('Signs of negative autocorrelation', '\\n')\n",
    "    print('Assumption not satisfied')\n",
    "else:\n",
    "    print('Little to no autocorrelation', '\\n')\n",
    "    print('Assumption satisfied')"
   ]
  },
  {
   "cell_type": "markdown",
   "id": "07f19d18",
   "metadata": {},
   "source": [
    "#### Homoscedasticity\n",
    "This assumes homoscedasticity, which is the same variance within our error terms. Heteroscedasticity, the violation of homoscedasticity, occurs when we don’t have an even variance across the error terms. To detect homoscedasticity, we can plot our residual and see if the variance appears to be uniform."
   ]
  },
  {
   "cell_type": "code",
   "execution_count": 86,
   "id": "113bf107",
   "metadata": {},
   "outputs": [
    {
     "data": {
      "image/png": "[encoded data removed]",
      "text/plain": [
       "<Figure size 576x288 with 1 Axes>"
      ]
     },
     "metadata": {
      "needs_background": "light"
     },
     "output_type": "display_data"
    }
   ],
   "source": [
    "# Plotting the residuals\n",
    "plt.subplots(figsize=(8, 4))\n",
    "plt.scatter(x=df_scaled.index, y=df_scaled.residual, alpha=0.8)\n",
    "plt.plot(np.repeat(0, len(df_scaled.index)+2), color='darkorange', linestyle='--')\n",
    "\n",
    "plt.ylabel('Residual', fontsize=14)\n",
    "plt.xlabel('year', fontsize=14)\n",
    "plt.title('Homescedasticity Assumption', fontsize=16)\n",
    "plt.show()  "
   ]
  },
  {
   "cell_type": "code",
   "execution_count": null,
   "id": "8a4e6bf1",
   "metadata": {},
   "outputs": [],
   "source": []
  },
  {
   "cell_type": "markdown",
   "id": "8a746708",
   "metadata": {},
   "source": [
    "-------------------------------------------------------------------------------------------------------------------------------\n",
    "-------------------------------------------------------------------------------------------------------------------------------"
   ]
  },
  {
   "cell_type": "markdown",
   "id": "a9aa5215",
   "metadata": {},
   "source": [
    "### Huber Model"
   ]
  },
  {
   "cell_type": "code",
   "execution_count": 88,
   "id": "23286d9b",
   "metadata": {},
   "outputs": [
    {
     "name": "stdout",
     "output_type": "stream",
     "text": [
      "Mean MAE: 0.258 (0.245)\n"
     ]
    }
   ],
   "source": [
    "# huber regression on a dataset with outliers\n",
    "from random import random\n",
    "from random import randint\n",
    "from random import seed\n",
    "from numpy import arange\n",
    "from numpy import mean\n",
    "from numpy import std\n",
    "from numpy import absolute\n",
    "from sklearn.datasets import make_regression\n",
    "from sklearn.linear_model import HuberRegressor\n",
    "from sklearn.model_selection import cross_val_score\n",
    "from sklearn.model_selection import RepeatedKFold\n",
    "from matplotlib import pyplot\n",
    "\n",
    "# prepare the dataset\n",
    "# Set independent and dependent variables\n",
    "X = df_scaled[['people_affected_per_100k']]\n",
    "y = df_scaled['economic_damages_as_a_share_of_gdp']\n",
    "\n",
    "# evaluate a model\n",
    "def evaluate_model(X, y, model):\n",
    "    # define model evaluation method\n",
    "    cv = RepeatedKFold(n_splits=6, n_repeats=3, random_state=1)\n",
    "    # evaluate model\n",
    "    scores = cross_val_score(model, X, y, scoring='neg_mean_absolute_error', cv=cv, n_jobs=-1)\n",
    "    # force scores to be positive\n",
    "    return absolute(scores)\n",
    " \n",
    "# load dataset\n",
    "X = df_scaled[['people_affected_per_100k']]\n",
    "y = df_scaled['economic_damages_as_a_share_of_gdp']\n",
    "\n",
    "from sklearn.model_selection import train_test_split\n",
    "#Separo los datos de \"train\" en entrenamiento y prueba para probar los algoritmos\n",
    "X_train, X_test, y_train, y_test = train_test_split(X, y, test_size=0.2)\n",
    "\n",
    "# define the model\n",
    "model = HuberRegressor()\n",
    "#Entreno el modelo\n",
    "model_hu = model.fit(X_train, y_train)\n",
    "\n",
    "#Realizo una predicción\n",
    "Y_pred = regr.predict(X_test)\n",
    "\n",
    "# evaluate model\n",
    "results = evaluate_model(X, y, model)\n",
    "print('Mean MAE: %.3f (%.3f)' % (mean(results), std(results)))"
   ]
  },
  {
   "cell_type": "code",
   "execution_count": 89,
   "id": "fa490f50",
   "metadata": {},
   "outputs": [
    {
     "name": "stdout",
     "output_type": "stream",
     "text": [
      "[-0.51758537 -0.54047845]\n",
      "0   -0.510029\n",
      "5   -0.629308\n",
      "Name: economic_damages_as_a_share_of_gdp, dtype: float64\n"
     ]
    }
   ],
   "source": [
    "print(Y_pred)\n",
    "print(y_test)"
   ]
  },
  {
   "cell_type": "code",
   "execution_count": 90,
   "id": "2848ca27",
   "metadata": {},
   "outputs": [
    {
     "name": "stdout",
     "output_type": "stream",
     "text": [
      "Intercept: -0.09973556226173322\n",
      "Coefficients: [1.01384089]\n"
     ]
    }
   ],
   "source": [
    "print('Intercept:', model_hu.intercept_)\n",
    "print('Coefficients:', model_hu.coef_)"
   ]
  },
  {
   "cell_type": "code",
   "execution_count": 91,
   "id": "0a22a44a",
   "metadata": {},
   "outputs": [
    {
     "name": "stdout",
     "output_type": "stream",
     "text": [
      "Precisión del modelo:\n",
      "0.8902420316116917\n"
     ]
    }
   ],
   "source": [
    "print('Precisión del modelo:')\n",
    "print(model_hu.score(X_train, y_train))"
   ]
  },
  {
   "cell_type": "code",
   "execution_count": null,
   "id": "045c9649",
   "metadata": {},
   "outputs": [],
   "source": []
  },
  {
   "cell_type": "code",
   "execution_count": null,
   "id": "ed76c5dc-2e77-452f-9fb5-79226bfbe4bc",
   "metadata": {},
   "outputs": [],
   "source": []
  }
 ],
 "metadata": {
  "kernelspec": {
   "display_name": "mlenv",
   "language": "python",
   "name": "mlenv"
  },
  "language_info": {
   "codemirror_mode": {
    "name": "ipython",
    "version": 3
   },
   "file_extension": ".py",
   "mimetype": "text/x-python",
   "name": "python",
   "nbconvert_exporter": "python",
   "pygments_lexer": "ipython3",
   "version": "3.7.13"
  }
 },
 "nbformat": 4,
 "nbformat_minor": 5
}
