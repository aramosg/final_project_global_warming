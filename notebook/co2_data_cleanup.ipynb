{
 "cells": [
  {
   "cell_type": "code",
   "execution_count": 1,
   "id": "8e1de6dd-c208-463c-848e-505161c23229",
   "metadata": {},
   "outputs": [],
   "source": [
    "# Importing dependencies\n",
    "import pandas as pd"
   ]
  },
  {
   "cell_type": "code",
   "execution_count": 2,
   "id": "817b88f8-4c80-4be9-986d-42e5149be359",
   "metadata": {},
   "outputs": [
    {
     "data": {
      "text/html": [
       "<div>\n",
       "<style scoped>\n",
       "    .dataframe tbody tr th:only-of-type {\n",
       "        vertical-align: middle;\n",
       "    }\n",
       "\n",
       "    .dataframe tbody tr th {\n",
       "        vertical-align: top;\n",
       "    }\n",
       "\n",
       "    .dataframe thead th {\n",
       "        text-align: right;\n",
       "    }\n",
       "</style>\n",
       "<table border=\"1\" class=\"dataframe\">\n",
       "  <thead>\n",
       "    <tr style=\"text-align: right;\">\n",
       "      <th></th>\n",
       "      <th>Entity</th>\n",
       "      <th>Code</th>\n",
       "      <th>Year</th>\n",
       "      <th>Annual CO2 emissions</th>\n",
       "    </tr>\n",
       "  </thead>\n",
       "  <tbody>\n",
       "    <tr>\n",
       "      <th>0</th>\n",
       "      <td>Afghanistan</td>\n",
       "      <td>AFG</td>\n",
       "      <td>1949</td>\n",
       "      <td>14656</td>\n",
       "    </tr>\n",
       "    <tr>\n",
       "      <th>1</th>\n",
       "      <td>Afghanistan</td>\n",
       "      <td>AFG</td>\n",
       "      <td>1950</td>\n",
       "      <td>84272</td>\n",
       "    </tr>\n",
       "    <tr>\n",
       "      <th>2</th>\n",
       "      <td>Afghanistan</td>\n",
       "      <td>AFG</td>\n",
       "      <td>1951</td>\n",
       "      <td>91600</td>\n",
       "    </tr>\n",
       "    <tr>\n",
       "      <th>3</th>\n",
       "      <td>Afghanistan</td>\n",
       "      <td>AFG</td>\n",
       "      <td>1952</td>\n",
       "      <td>91600</td>\n",
       "    </tr>\n",
       "    <tr>\n",
       "      <th>4</th>\n",
       "      <td>Afghanistan</td>\n",
       "      <td>AFG</td>\n",
       "      <td>1953</td>\n",
       "      <td>106256</td>\n",
       "    </tr>\n",
       "  </tbody>\n",
       "</table>\n",
       "</div>"
      ],
      "text/plain": [
       "        Entity Code  Year  Annual CO2 emissions\n",
       "0  Afghanistan  AFG  1949                 14656\n",
       "1  Afghanistan  AFG  1950                 84272\n",
       "2  Afghanistan  AFG  1951                 91600\n",
       "3  Afghanistan  AFG  1952                 91600\n",
       "4  Afghanistan  AFG  1953                106256"
      ]
     },
     "execution_count": 2,
     "metadata": {},
     "output_type": "execute_result"
    }
   ],
   "source": [
    "# Importing source file\n",
    "co2 = '../resources/annual-co2-emissions-per-country.csv'\n",
    "co2_df = pd.read_csv(co2)\n",
    "co2_df.head()"
   ]
  },
  {
   "cell_type": "code",
   "execution_count": 3,
   "id": "73aae9f0-1566-4af7-b598-126bf83c3d34",
   "metadata": {},
   "outputs": [
    {
     "data": {
      "text/plain": [
       "Entity                     0\n",
       "Code                    3371\n",
       "Year                       0\n",
       "Annual CO2 emissions       0\n",
       "dtype: int64"
      ]
     },
     "execution_count": 3,
     "metadata": {},
     "output_type": "execute_result"
    }
   ],
   "source": [
    "# NaN values per column\n",
    "co2_df.isna().sum()"
   ]
  },
  {
   "cell_type": "code",
   "execution_count": 4,
   "id": "0e782e89-450d-45f9-b7f2-fdc3969754a9",
   "metadata": {},
   "outputs": [],
   "source": [
    "# We will be working with data from 1970 to 2020. Filtering for desired years\n",
    "co2_df= co2_df[(co2_df['Year'] >=1970) & (co2_df['Year'] <=2020)]"
   ]
  },
  {
   "cell_type": "code",
   "execution_count": 5,
   "id": "56b4672b-f1ea-4149-9b02-364581cee99c",
   "metadata": {},
   "outputs": [
    {
     "data": {
      "text/plain": [
       "Entity                    0\n",
       "Code                    892\n",
       "Year                      0\n",
       "Annual CO2 emissions      0\n",
       "dtype: int64"
      ]
     },
     "execution_count": 5,
     "metadata": {},
     "output_type": "execute_result"
    }
   ],
   "source": [
    "# NaN values per column after filter\n",
    "co2_df.isna().sum()"
   ]
  },
  {
   "cell_type": "code",
   "execution_count": 6,
   "id": "7223ed13-d952-4d0b-aa7b-af06089705ae",
   "metadata": {},
   "outputs": [
    {
     "name": "stdout",
     "output_type": "stream",
     "text": [
      "<class 'pandas.core.frame.DataFrame'>\n",
      "Int64Index: 11772 entries, 21 to 24669\n",
      "Data columns (total 4 columns):\n",
      " #   Column                Non-Null Count  Dtype \n",
      "---  ------                --------------  ----- \n",
      " 0   Entity                11772 non-null  object\n",
      " 1   Code                  10880 non-null  object\n",
      " 2   Year                  11772 non-null  int64 \n",
      " 3   Annual CO2 emissions  11772 non-null  int64 \n",
      "dtypes: int64(2), object(2)\n",
      "memory usage: 459.8+ KB\n"
     ]
    }
   ],
   "source": [
    "# Data frame information\n",
    "co2_df.info()"
   ]
  },
  {
   "cell_type": "code",
   "execution_count": 7,
   "id": "fe25cb5f-1df7-48b3-9264-2103032b1333",
   "metadata": {},
   "outputs": [
    {
     "data": {
      "text/plain": [
       "['Africa',\n",
       " 'Asia',\n",
       " 'Asia (excl. China & India)',\n",
       " 'Europe',\n",
       " 'Europe (excl. EU-27)',\n",
       " 'Europe (excl. EU-28)',\n",
       " 'European Union (27)',\n",
       " 'European Union (28)',\n",
       " 'High-income countries',\n",
       " 'International transport',\n",
       " 'Kuwaiti Oil Fires',\n",
       " 'Low-income countries',\n",
       " 'Lower-middle-income countries',\n",
       " 'North America',\n",
       " 'North America (excl. USA)',\n",
       " 'Oceania',\n",
       " 'Panama Canal Zone',\n",
       " 'Ryukyu Islands',\n",
       " 'South America',\n",
       " 'St. Kitts-Nevis-Anguilla',\n",
       " 'Upper-middle-income countries']"
      ]
     },
     "execution_count": 7,
     "metadata": {},
     "output_type": "execute_result"
    }
   ],
   "source": [
    "# List of entity names with missing Code\n",
    "missing_code = co2_df[co2_df['Code'].isna()]\n",
    "list_missing_code = missing_code['Entity'].unique().tolist()\n",
    "list_missing_code\n",
    "# Entities with missing code are not countries. Not necessary for our project"
   ]
  },
  {
   "cell_type": "code",
   "execution_count": 8,
   "id": "637f1b58-99db-4b5d-8c54-7e9d855b36dc",
   "metadata": {},
   "outputs": [],
   "source": [
    "# Removing rows with null in Code to keep only Countries\n",
    "co2_df_c = co2_df.dropna(subset=['Code'])"
   ]
  },
  {
   "cell_type": "code",
   "execution_count": 9,
   "id": "966f7218-d8b7-46d4-a221-11ba7db59774",
   "metadata": {},
   "outputs": [
    {
     "data": {
      "text/html": [
       "<div>\n",
       "<style scoped>\n",
       "    .dataframe tbody tr th:only-of-type {\n",
       "        vertical-align: middle;\n",
       "    }\n",
       "\n",
       "    .dataframe tbody tr th {\n",
       "        vertical-align: top;\n",
       "    }\n",
       "\n",
       "    .dataframe thead th {\n",
       "        text-align: right;\n",
       "    }\n",
       "</style>\n",
       "<table border=\"1\" class=\"dataframe\">\n",
       "  <thead>\n",
       "    <tr style=\"text-align: right;\">\n",
       "      <th></th>\n",
       "      <th>Entity</th>\n",
       "      <th>Code</th>\n",
       "      <th>Year</th>\n",
       "      <th>Annual CO2 emissions</th>\n",
       "    </tr>\n",
       "  </thead>\n",
       "  <tbody>\n",
       "    <tr>\n",
       "      <th>21</th>\n",
       "      <td>Afghanistan</td>\n",
       "      <td>AFG</td>\n",
       "      <td>1970</td>\n",
       "      <td>1670397</td>\n",
       "    </tr>\n",
       "    <tr>\n",
       "      <th>22</th>\n",
       "      <td>Afghanistan</td>\n",
       "      <td>AFG</td>\n",
       "      <td>1971</td>\n",
       "      <td>1893554</td>\n",
       "    </tr>\n",
       "    <tr>\n",
       "      <th>23</th>\n",
       "      <td>Afghanistan</td>\n",
       "      <td>AFG</td>\n",
       "      <td>1972</td>\n",
       "      <td>1530347</td>\n",
       "    </tr>\n",
       "    <tr>\n",
       "      <th>24</th>\n",
       "      <td>Afghanistan</td>\n",
       "      <td>AFG</td>\n",
       "      <td>1973</td>\n",
       "      <td>1635454</td>\n",
       "    </tr>\n",
       "    <tr>\n",
       "      <th>25</th>\n",
       "      <td>Afghanistan</td>\n",
       "      <td>AFG</td>\n",
       "      <td>1974</td>\n",
       "      <td>1913152</td>\n",
       "    </tr>\n",
       "  </tbody>\n",
       "</table>\n",
       "</div>"
      ],
      "text/plain": [
       "         Entity Code  Year  Annual CO2 emissions\n",
       "21  Afghanistan  AFG  1970               1670397\n",
       "22  Afghanistan  AFG  1971               1893554\n",
       "23  Afghanistan  AFG  1972               1530347\n",
       "24  Afghanistan  AFG  1973               1635454\n",
       "25  Afghanistan  AFG  1974               1913152"
      ]
     },
     "execution_count": 9,
     "metadata": {},
     "output_type": "execute_result"
    }
   ],
   "source": [
    "co2_df_c.isna().sum()\n",
    "co2_df_c.head()"
   ]
  },
  {
   "cell_type": "code",
   "execution_count": 10,
   "id": "c89678c7-21da-49e7-a3de-4122584b708d",
   "metadata": {},
   "outputs": [],
   "source": [
    "# Saving our clean dataframe to a new CSV file\n",
    "co2_df_c.to_csv('../csv/clean_co2_emissions.csv')"
   ]
  }
 ],
 "metadata": {
  "kernelspec": {
   "display_name": "mlenv",
   "language": "python",
   "name": "mlenv"
  },
  "language_info": {
   "codemirror_mode": {
    "name": "ipython",
    "version": 3
   },
   "file_extension": ".py",
   "mimetype": "text/x-python",
   "name": "python",
   "nbconvert_exporter": "python",
   "pygments_lexer": "ipython3",
   "version": "3.7.13"
  }
 },
 "nbformat": 4,
 "nbformat_minor": 5
}
