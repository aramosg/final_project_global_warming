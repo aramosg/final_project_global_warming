{
 "cells": [
  {
   "cell_type": "code",
   "execution_count": 1,
   "id": "e311e3ce-5e6c-4621-857e-4bf4d718bd46",
   "metadata": {},
   "outputs": [],
   "source": [
    "# Dependencies #Lau\n",
    "import pandas as pd\n",
    "import matplotlib.pyplot as plt"
   ]
  },
  {
   "cell_type": "code",
   "execution_count": 2,
   "id": "67adc082-f763-4a57-8ae6-7f9da934c5d2",
   "metadata": {},
   "outputs": [],
   "source": [
    "# Import file\n",
    "gdp = 'GitHub_Lau/Resources/API_NY.GDP.DEFL.KD.ZG_DS2_es_csv_v2_4342839.csv'\n",
    "gdp_df = pd.read_csv(gdp, skiprows=3)"
   ]
  },
  {
   "cell_type": "code",
   "execution_count": 3,
   "id": "8b80cae2-c880-486a-8976-2255d963e2a7",
   "metadata": {},
   "outputs": [
    {
     "data": {
      "text/html": [
       "<div>\n",
       "<style scoped>\n",
       "    .dataframe tbody tr th:only-of-type {\n",
       "        vertical-align: middle;\n",
       "    }\n",
       "\n",
       "    .dataframe tbody tr th {\n",
       "        vertical-align: top;\n",
       "    }\n",
       "\n",
       "    .dataframe thead th {\n",
       "        text-align: right;\n",
       "    }\n",
       "</style>\n",
       "<table border=\"1\" class=\"dataframe\">\n",
       "  <thead>\n",
       "    <tr style=\"text-align: right;\">\n",
       "      <th></th>\n",
       "      <th>Country Name</th>\n",
       "      <th>Country Code</th>\n",
       "      <th>Indicator Name</th>\n",
       "      <th>Indicator Code</th>\n",
       "      <th>1960</th>\n",
       "      <th>1961</th>\n",
       "      <th>1962</th>\n",
       "      <th>1963</th>\n",
       "      <th>1964</th>\n",
       "      <th>1965</th>\n",
       "      <th>...</th>\n",
       "      <th>2013</th>\n",
       "      <th>2014</th>\n",
       "      <th>2015</th>\n",
       "      <th>2016</th>\n",
       "      <th>2017</th>\n",
       "      <th>2018</th>\n",
       "      <th>2019</th>\n",
       "      <th>2020</th>\n",
       "      <th>2021</th>\n",
       "      <th>Unnamed: 66</th>\n",
       "    </tr>\n",
       "  </thead>\n",
       "  <tbody>\n",
       "    <tr>\n",
       "      <th>0</th>\n",
       "      <td>Aruba</td>\n",
       "      <td>ABW</td>\n",
       "      <td>Inflación, índice de deflación del PIB (% anual)</td>\n",
       "      <td>NY.GDP.DEFL.KD.ZG</td>\n",
       "      <td>NaN</td>\n",
       "      <td>NaN</td>\n",
       "      <td>NaN</td>\n",
       "      <td>NaN</td>\n",
       "      <td>NaN</td>\n",
       "      <td>NaN</td>\n",
       "      <td>...</td>\n",
       "      <td>-1.986755</td>\n",
       "      <td>2.335109</td>\n",
       "      <td>2.531592</td>\n",
       "      <td>-1.389713</td>\n",
       "      <td>-1.753935</td>\n",
       "      <td>2.263271</td>\n",
       "      <td>5.568805</td>\n",
       "      <td>-2.902756</td>\n",
       "      <td>NaN</td>\n",
       "      <td>NaN</td>\n",
       "    </tr>\n",
       "    <tr>\n",
       "      <th>1</th>\n",
       "      <td>NaN</td>\n",
       "      <td>AFE</td>\n",
       "      <td>Inflación, índice de deflación del PIB (% anual)</td>\n",
       "      <td>NY.GDP.DEFL.KD.ZG</td>\n",
       "      <td>NaN</td>\n",
       "      <td>1.861701</td>\n",
       "      <td>0.979878</td>\n",
       "      <td>3.150053</td>\n",
       "      <td>3.726978</td>\n",
       "      <td>3.569951</td>\n",
       "      <td>...</td>\n",
       "      <td>5.844111</td>\n",
       "      <td>5.560736</td>\n",
       "      <td>5.366462</td>\n",
       "      <td>6.400900</td>\n",
       "      <td>5.217431</td>\n",
       "      <td>4.085751</td>\n",
       "      <td>4.387341</td>\n",
       "      <td>4.995507</td>\n",
       "      <td>5.840394</td>\n",
       "      <td>NaN</td>\n",
       "    </tr>\n",
       "    <tr>\n",
       "      <th>2</th>\n",
       "      <td>Afganistán</td>\n",
       "      <td>AFG</td>\n",
       "      <td>Inflación, índice de deflación del PIB (% anual)</td>\n",
       "      <td>NY.GDP.DEFL.KD.ZG</td>\n",
       "      <td>NaN</td>\n",
       "      <td>NaN</td>\n",
       "      <td>NaN</td>\n",
       "      <td>NaN</td>\n",
       "      <td>NaN</td>\n",
       "      <td>NaN</td>\n",
       "      <td>...</td>\n",
       "      <td>4.822785</td>\n",
       "      <td>0.566945</td>\n",
       "      <td>2.447563</td>\n",
       "      <td>-2.197526</td>\n",
       "      <td>2.403656</td>\n",
       "      <td>2.071349</td>\n",
       "      <td>6.521480</td>\n",
       "      <td>7.821667</td>\n",
       "      <td>NaN</td>\n",
       "      <td>NaN</td>\n",
       "    </tr>\n",
       "  </tbody>\n",
       "</table>\n",
       "<p>3 rows × 67 columns</p>\n",
       "</div>"
      ],
      "text/plain": [
       "  Country Name Country Code                                    Indicator Name  \\\n",
       "0        Aruba          ABW  Inflación, índice de deflación del PIB (% anual)   \n",
       "1          NaN          AFE  Inflación, índice de deflación del PIB (% anual)   \n",
       "2   Afganistán          AFG  Inflación, índice de deflación del PIB (% anual)   \n",
       "\n",
       "      Indicator Code  1960      1961      1962      1963      1964      1965  \\\n",
       "0  NY.GDP.DEFL.KD.ZG   NaN       NaN       NaN       NaN       NaN       NaN   \n",
       "1  NY.GDP.DEFL.KD.ZG   NaN  1.861701  0.979878  3.150053  3.726978  3.569951   \n",
       "2  NY.GDP.DEFL.KD.ZG   NaN       NaN       NaN       NaN       NaN       NaN   \n",
       "\n",
       "   ...      2013      2014      2015      2016      2017      2018      2019  \\\n",
       "0  ... -1.986755  2.335109  2.531592 -1.389713 -1.753935  2.263271  5.568805   \n",
       "1  ...  5.844111  5.560736  5.366462  6.400900  5.217431  4.085751  4.387341   \n",
       "2  ...  4.822785  0.566945  2.447563 -2.197526  2.403656  2.071349  6.521480   \n",
       "\n",
       "       2020      2021  Unnamed: 66  \n",
       "0 -2.902756       NaN          NaN  \n",
       "1  4.995507  5.840394          NaN  \n",
       "2  7.821667       NaN          NaN  \n",
       "\n",
       "[3 rows x 67 columns]"
      ]
     },
     "execution_count": 3,
     "metadata": {},
     "output_type": "execute_result"
    }
   ],
   "source": [
    "# Check the DF\n",
    "gdp_df.head(3)"
   ]
  },
  {
   "cell_type": "code",
   "execution_count": 4,
   "id": "01d4595b-ca59-495d-bf21-e7c25dad53ad",
   "metadata": {},
   "outputs": [],
   "source": [
    "# Transposing year columns to column Year\n",
    "gdp_df = gdp_df.melt(id_vars=['Country Name', 'Country Code', 'Indicator Name', 'Indicator Code'],\n",
    "                    var_name='Year', value_name=\"Inflation, GDP deflation rate (annual %)\")"
   ]
  },
  {
   "cell_type": "code",
   "execution_count": 5,
   "id": "9050acd7-5be7-47fb-aba7-b5c272e441a1",
   "metadata": {},
   "outputs": [
    {
     "data": {
      "text/html": [
       "<div>\n",
       "<style scoped>\n",
       "    .dataframe tbody tr th:only-of-type {\n",
       "        vertical-align: middle;\n",
       "    }\n",
       "\n",
       "    .dataframe tbody tr th {\n",
       "        vertical-align: top;\n",
       "    }\n",
       "\n",
       "    .dataframe thead th {\n",
       "        text-align: right;\n",
       "    }\n",
       "</style>\n",
       "<table border=\"1\" class=\"dataframe\">\n",
       "  <thead>\n",
       "    <tr style=\"text-align: right;\">\n",
       "      <th></th>\n",
       "      <th>Country Name</th>\n",
       "      <th>Country Code</th>\n",
       "      <th>Year</th>\n",
       "      <th>Inflation, GDP deflation rate (annual %)</th>\n",
       "    </tr>\n",
       "  </thead>\n",
       "  <tbody>\n",
       "    <tr>\n",
       "      <th>0</th>\n",
       "      <td>Aruba</td>\n",
       "      <td>ABW</td>\n",
       "      <td>1960</td>\n",
       "      <td>NaN</td>\n",
       "    </tr>\n",
       "    <tr>\n",
       "      <th>1</th>\n",
       "      <td>NaN</td>\n",
       "      <td>AFE</td>\n",
       "      <td>1960</td>\n",
       "      <td>NaN</td>\n",
       "    </tr>\n",
       "    <tr>\n",
       "      <th>2</th>\n",
       "      <td>Afganistán</td>\n",
       "      <td>AFG</td>\n",
       "      <td>1960</td>\n",
       "      <td>NaN</td>\n",
       "    </tr>\n",
       "  </tbody>\n",
       "</table>\n",
       "</div>"
      ],
      "text/plain": [
       "  Country Name Country Code  Year  Inflation, GDP deflation rate (annual %)\n",
       "0        Aruba          ABW  1960                                       NaN\n",
       "1          NaN          AFE  1960                                       NaN\n",
       "2   Afganistán          AFG  1960                                       NaN"
      ]
     },
     "execution_count": 5,
     "metadata": {},
     "output_type": "execute_result"
    }
   ],
   "source": [
    "#Dropping unecessary columns\n",
    "gdp_df_c = gdp_df.drop(['Indicator Name', 'Indicator Code'], axis=1)\n",
    "gdp_df_c.head(3)"
   ]
  },
  {
   "cell_type": "code",
   "execution_count": 6,
   "id": "aabc8d8f-3864-46e8-9589-530cf5f7349d",
   "metadata": {},
   "outputs": [],
   "source": [
    "#Filtering data from 1970 to 2020\n",
    "gdp_df_c = gdp_df_c[(gdp_df_c['Year'] >= '1970') & (gdp_df_c['Year'] <= '2020')]"
   ]
  },
  {
   "cell_type": "code",
   "execution_count": 7,
   "id": "660c383f-88aa-4339-b100-684e45450c95",
   "metadata": {},
   "outputs": [
    {
     "data": {
      "text/plain": [
       "Country Name                                 object\n",
       "Country Code                                 object\n",
       "Year                                          int64\n",
       "Inflation, GDP deflation rate (annual %)    float64\n",
       "dtype: object"
      ]
     },
     "execution_count": 7,
     "metadata": {},
     "output_type": "execute_result"
    }
   ],
   "source": [
    "gdp_df_c = gdp_df_c.astype({'Year': 'int64'})\n",
    "gdp_df_c.dtypes"
   ]
  },
  {
   "cell_type": "code",
   "execution_count": 8,
   "id": "dd1d81c3-c28b-4972-97af-c919a2e8b124",
   "metadata": {},
   "outputs": [
    {
     "data": {
      "text/plain": [
       "['AFE', 'AFW']"
      ]
     },
     "execution_count": 8,
     "metadata": {},
     "output_type": "execute_result"
    }
   ],
   "source": [
    "# List of entity names with missing Code\n",
    "missing_country_nm = gdp_df_c[gdp_df_c['Country Name'].isna()]\n",
    "#missing_country_nm\n",
    "list_missing = missing_country_nm['Country Code'].unique().tolist()\n",
    "list_missing\n",
    "# AFE and AFW will be dropped since it is a cluster of countries and we are using only countries\n",
    "# AFE = Africa Eastern and Southern\n",
    "# AFW = Africa Western and Central"
   ]
  },
  {
   "cell_type": "code",
   "execution_count": 9,
   "id": "1146361d-675a-4f25-9d21-455505f48b21",
   "metadata": {},
   "outputs": [
    {
     "name": "stdout",
     "output_type": "stream",
     "text": [
      "<class 'pandas.core.frame.DataFrame'>\n",
      "Int64Index: 13464 entries, 2660 to 16225\n",
      "Data columns (total 4 columns):\n",
      " #   Column                                    Non-Null Count  Dtype  \n",
      "---  ------                                    --------------  -----  \n",
      " 0   Country Name                              13464 non-null  object \n",
      " 1   Country Code                              13464 non-null  object \n",
      " 2   Year                                      13464 non-null  int64  \n",
      " 3   Inflation, GDP deflation rate (annual %)  10887 non-null  float64\n",
      "dtypes: float64(1), int64(1), object(2)\n",
      "memory usage: 525.9+ KB\n"
     ]
    }
   ],
   "source": [
    "# Removing rows with null in Country Name that represent AFE and AFW\n",
    "gdp_df_c = gdp_df_c.dropna(subset=['Country Name'])\n",
    "gdp_df_c.info()"
   ]
  },
  {
   "cell_type": "code",
   "execution_count": 10,
   "id": "06cee208-4032-4dee-8d1f-c397361862a8",
   "metadata": {},
   "outputs": [
    {
     "data": {
      "text/html": [
       "<div>\n",
       "<style scoped>\n",
       "    .dataframe tbody tr th:only-of-type {\n",
       "        vertical-align: middle;\n",
       "    }\n",
       "\n",
       "    .dataframe tbody tr th {\n",
       "        vertical-align: top;\n",
       "    }\n",
       "\n",
       "    .dataframe thead th {\n",
       "        text-align: right;\n",
       "    }\n",
       "</style>\n",
       "<table border=\"1\" class=\"dataframe\">\n",
       "  <thead>\n",
       "    <tr style=\"text-align: right;\">\n",
       "      <th></th>\n",
       "      <th>Country Name</th>\n",
       "      <th>Country Code</th>\n",
       "      <th>Year</th>\n",
       "      <th>Inflation, GDP deflation rate (annual %)</th>\n",
       "    </tr>\n",
       "  </thead>\n",
       "  <tbody>\n",
       "    <tr>\n",
       "      <th>2660</th>\n",
       "      <td>Aruba</td>\n",
       "      <td>ABW</td>\n",
       "      <td>1970</td>\n",
       "      <td>NaN</td>\n",
       "    </tr>\n",
       "    <tr>\n",
       "      <th>2662</th>\n",
       "      <td>Afganistán</td>\n",
       "      <td>AFG</td>\n",
       "      <td>1970</td>\n",
       "      <td>NaN</td>\n",
       "    </tr>\n",
       "    <tr>\n",
       "      <th>2664</th>\n",
       "      <td>Angola</td>\n",
       "      <td>AGO</td>\n",
       "      <td>1970</td>\n",
       "      <td>NaN</td>\n",
       "    </tr>\n",
       "  </tbody>\n",
       "</table>\n",
       "</div>"
      ],
      "text/plain": [
       "     Country Name Country Code  Year  Inflation, GDP deflation rate (annual %)\n",
       "2660        Aruba          ABW  1970                                       NaN\n",
       "2662   Afganistán          AFG  1970                                       NaN\n",
       "2664       Angola          AGO  1970                                       NaN"
      ]
     },
     "execution_count": 10,
     "metadata": {},
     "output_type": "execute_result"
    }
   ],
   "source": [
    "gdp_df_c.head(3)"
   ]
  },
  {
   "cell_type": "code",
   "execution_count": 11,
   "id": "14d5c1ea-1635-4360-873a-a29e32b1a76c",
   "metadata": {},
   "outputs": [],
   "source": [
    "#gdp_df_c.to_csv('gdp.csv')"
   ]
  }
 ],
 "metadata": {
  "kernelspec": {
   "display_name": "mlenv",
   "language": "python",
   "name": "mlenv"
  },
  "language_info": {
   "codemirror_mode": {
    "name": "ipython",
    "version": 3
   },
   "file_extension": ".py",
   "mimetype": "text/x-python",
   "name": "python",
   "nbconvert_exporter": "python",
   "pygments_lexer": "ipython3",
   "version": "3.7.13"
  }
 },
 "nbformat": 4,
 "nbformat_minor": 5
}
