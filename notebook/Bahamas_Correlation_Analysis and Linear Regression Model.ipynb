{
 "cells": [
  {
   "cell_type": "code",
   "execution_count": 1,
   "id": "2ecd124d",
   "metadata": {},
   "outputs": [],
   "source": [
    "# Import libraries\n",
    "## Basic libs\n",
    "import pandas as pd\n",
    "import numpy as np\n",
    "import warnings\n",
    "## Building Model\n",
    "from sklearn import linear_model\n",
    "from scipy import stats\n",
    "import statsmodels\n",
    "import statsmodels.api as sm\n",
    "import statsmodels.formula.api as smf\n",
    "import statsmodels.stats.api as sms\n",
    "from statsmodels.compat import lzip\n",
    "## Data Visualization\n",
    "import seaborn as sb\n",
    "import matplotlib.pyplot as plt\n",
    "from mpl_toolkits.mplot3d import Axes3D\n",
    "import matplotlib.ticker as ticker\n"
   ]
  },
  {
   "cell_type": "code",
   "execution_count": 2,
   "id": "d53a654f",
   "metadata": {},
   "outputs": [
    {
     "data": {
      "text/html": [
       "<div>\n",
       "<style scoped>\n",
       "    .dataframe tbody tr th:only-of-type {\n",
       "        vertical-align: middle;\n",
       "    }\n",
       "\n",
       "    .dataframe tbody tr th {\n",
       "        vertical-align: top;\n",
       "    }\n",
       "\n",
       "    .dataframe thead th {\n",
       "        text-align: right;\n",
       "    }\n",
       "</style>\n",
       "<table border=\"1\" class=\"dataframe\">\n",
       "  <thead>\n",
       "    <tr style=\"text-align: right;\">\n",
       "      <th></th>\n",
       "      <th>country_code</th>\n",
       "      <th>country_name</th>\n",
       "      <th>year</th>\n",
       "      <th>agriculture_value_added_constants</th>\n",
       "      <th>agriculture_value_added_percentage_gdp</th>\n",
       "      <th>annual_co2_emissions_tons</th>\n",
       "      <th>inflation_inflation_gdp_deflation</th>\n",
       "      <th>deaths_from_drought</th>\n",
       "      <th>deaths_from_extreme_temps</th>\n",
       "      <th>deaths_from_floods</th>\n",
       "      <th>...</th>\n",
       "      <th>economic_damages_from_storms_as_a_share_of_gdp</th>\n",
       "      <th>economic_damages_from_wildfires</th>\n",
       "      <th>economic_damages_as_a_share_of_gdp</th>\n",
       "      <th>economic_damages</th>\n",
       "      <th>economic_damages_thousands</th>\n",
       "      <th>people_affected_per_100k</th>\n",
       "      <th>number_of_deaths</th>\n",
       "      <th>population_population_growth_annual_percentage</th>\n",
       "      <th>population_population_total</th>\n",
       "      <th>temperature_change_temp_change_celsius</th>\n",
       "    </tr>\n",
       "  </thead>\n",
       "  <tbody>\n",
       "    <tr>\n",
       "      <th>0</th>\n",
       "      <td>AFG</td>\n",
       "      <td>Afghanistan</td>\n",
       "      <td>1971</td>\n",
       "      <td>NaN</td>\n",
       "      <td>NaN</td>\n",
       "      <td>1893554</td>\n",
       "      <td>NaN</td>\n",
       "      <td>0.0</td>\n",
       "      <td>0.0</td>\n",
       "      <td>0.0</td>\n",
       "      <td>...</td>\n",
       "      <td>0.0</td>\n",
       "      <td>0.0</td>\n",
       "      <td>0.000000</td>\n",
       "      <td>0.0</td>\n",
       "      <td>0.0</td>\n",
       "      <td>0.000000</td>\n",
       "      <td>0.0</td>\n",
       "      <td>2.665129</td>\n",
       "      <td>11475450</td>\n",
       "      <td>0.652</td>\n",
       "    </tr>\n",
       "    <tr>\n",
       "      <th>1</th>\n",
       "      <td>AFG</td>\n",
       "      <td>Afghanistan</td>\n",
       "      <td>1972</td>\n",
       "      <td>NaN</td>\n",
       "      <td>NaN</td>\n",
       "      <td>1530347</td>\n",
       "      <td>NaN</td>\n",
       "      <td>0.0</td>\n",
       "      <td>0.0</td>\n",
       "      <td>150.0</td>\n",
       "      <td>...</td>\n",
       "      <td>0.0</td>\n",
       "      <td>0.0</td>\n",
       "      <td>0.000000</td>\n",
       "      <td>0.0</td>\n",
       "      <td>0.0</td>\n",
       "      <td>2120.261216</td>\n",
       "      <td>150.0</td>\n",
       "      <td>2.714539</td>\n",
       "      <td>11791222</td>\n",
       "      <td>-1.089</td>\n",
       "    </tr>\n",
       "    <tr>\n",
       "      <th>2</th>\n",
       "      <td>AFG</td>\n",
       "      <td>Afghanistan</td>\n",
       "      <td>1976</td>\n",
       "      <td>NaN</td>\n",
       "      <td>NaN</td>\n",
       "      <td>1980859</td>\n",
       "      <td>NaN</td>\n",
       "      <td>0.0</td>\n",
       "      <td>0.0</td>\n",
       "      <td>51.0</td>\n",
       "      <td>...</td>\n",
       "      <td>0.0</td>\n",
       "      <td>0.0</td>\n",
       "      <td>0.000000</td>\n",
       "      <td>0.0</td>\n",
       "      <td>0.0</td>\n",
       "      <td>618.094723</td>\n",
       "      <td>51.0</td>\n",
       "      <td>1.981389</td>\n",
       "      <td>12943093</td>\n",
       "      <td>-0.295</td>\n",
       "    </tr>\n",
       "    <tr>\n",
       "      <th>3</th>\n",
       "      <td>AFG</td>\n",
       "      <td>Afghanistan</td>\n",
       "      <td>1978</td>\n",
       "      <td>NaN</td>\n",
       "      <td>NaN</td>\n",
       "      <td>2153300</td>\n",
       "      <td>NaN</td>\n",
       "      <td>0.0</td>\n",
       "      <td>0.0</td>\n",
       "      <td>120.0</td>\n",
       "      <td>...</td>\n",
       "      <td>0.0</td>\n",
       "      <td>0.0</td>\n",
       "      <td>0.393939</td>\n",
       "      <td>52000.0</td>\n",
       "      <td>52000.0</td>\n",
       "      <td>1979.191965</td>\n",
       "      <td>120.0</td>\n",
       "      <td>1.281715</td>\n",
       "      <td>13341199</td>\n",
       "      <td>0.105</td>\n",
       "    </tr>\n",
       "    <tr>\n",
       "      <th>4</th>\n",
       "      <td>AFG</td>\n",
       "      <td>Afghanistan</td>\n",
       "      <td>1980</td>\n",
       "      <td>NaN</td>\n",
       "      <td>NaN</td>\n",
       "      <td>1756302</td>\n",
       "      <td>NaN</td>\n",
       "      <td>0.0</td>\n",
       "      <td>0.0</td>\n",
       "      <td>0.0</td>\n",
       "      <td>...</td>\n",
       "      <td>0.0</td>\n",
       "      <td>0.0</td>\n",
       "      <td>0.000000</td>\n",
       "      <td>0.0</td>\n",
       "      <td>0.0</td>\n",
       "      <td>224.601333</td>\n",
       "      <td>0.0</td>\n",
       "      <td>-0.407658</td>\n",
       "      <td>13356500</td>\n",
       "      <td>0.690</td>\n",
       "    </tr>\n",
       "  </tbody>\n",
       "</table>\n",
       "<p>5 rows × 34 columns</p>\n",
       "</div>"
      ],
      "text/plain": [
       "  country_code country_name  year  agriculture_value_added_constants  \\\n",
       "0          AFG  Afghanistan  1971                                NaN   \n",
       "1          AFG  Afghanistan  1972                                NaN   \n",
       "2          AFG  Afghanistan  1976                                NaN   \n",
       "3          AFG  Afghanistan  1978                                NaN   \n",
       "4          AFG  Afghanistan  1980                                NaN   \n",
       "\n",
       "   agriculture_value_added_percentage_gdp  annual_co2_emissions_tons  \\\n",
       "0                                     NaN                    1893554   \n",
       "1                                     NaN                    1530347   \n",
       "2                                     NaN                    1980859   \n",
       "3                                     NaN                    2153300   \n",
       "4                                     NaN                    1756302   \n",
       "\n",
       "   inflation_inflation_gdp_deflation  deaths_from_drought  \\\n",
       "0                                NaN                  0.0   \n",
       "1                                NaN                  0.0   \n",
       "2                                NaN                  0.0   \n",
       "3                                NaN                  0.0   \n",
       "4                                NaN                  0.0   \n",
       "\n",
       "   deaths_from_extreme_temps  deaths_from_floods  ...  \\\n",
       "0                        0.0                 0.0  ...   \n",
       "1                        0.0               150.0  ...   \n",
       "2                        0.0                51.0  ...   \n",
       "3                        0.0               120.0  ...   \n",
       "4                        0.0                 0.0  ...   \n",
       "\n",
       "   economic_damages_from_storms_as_a_share_of_gdp  \\\n",
       "0                                             0.0   \n",
       "1                                             0.0   \n",
       "2                                             0.0   \n",
       "3                                             0.0   \n",
       "4                                             0.0   \n",
       "\n",
       "   economic_damages_from_wildfires  economic_damages_as_a_share_of_gdp  \\\n",
       "0                              0.0                            0.000000   \n",
       "1                              0.0                            0.000000   \n",
       "2                              0.0                            0.000000   \n",
       "3                              0.0                            0.393939   \n",
       "4                              0.0                            0.000000   \n",
       "\n",
       "   economic_damages  economic_damages_thousands  people_affected_per_100k  \\\n",
       "0               0.0                         0.0                  0.000000   \n",
       "1               0.0                         0.0               2120.261216   \n",
       "2               0.0                         0.0                618.094723   \n",
       "3           52000.0                     52000.0               1979.191965   \n",
       "4               0.0                         0.0                224.601333   \n",
       "\n",
       "   number_of_deaths  population_population_growth_annual_percentage  \\\n",
       "0               0.0                                        2.665129   \n",
       "1             150.0                                        2.714539   \n",
       "2              51.0                                        1.981389   \n",
       "3             120.0                                        1.281715   \n",
       "4               0.0                                       -0.407658   \n",
       "\n",
       "   population_population_total  temperature_change_temp_change_celsius  \n",
       "0                     11475450                                   0.652  \n",
       "1                     11791222                                  -1.089  \n",
       "2                     12943093                                  -0.295  \n",
       "3                     13341199                                   0.105  \n",
       "4                     13356500                                   0.690  \n",
       "\n",
       "[5 rows x 34 columns]"
      ]
     },
     "execution_count": 2,
     "metadata": {},
     "output_type": "execute_result"
    }
   ],
   "source": [
    "file_path = \"../Resources.2/general_dataset.csv\"\n",
    "df= pd.read_csv(file_path)\n",
    "df.head()"
   ]
  },
  {
   "cell_type": "code",
   "execution_count": 3,
   "id": "1db83bf6",
   "metadata": {},
   "outputs": [
    {
     "data": {
      "text/html": [
       "<div>\n",
       "<style scoped>\n",
       "    .dataframe tbody tr th:only-of-type {\n",
       "        vertical-align: middle;\n",
       "    }\n",
       "\n",
       "    .dataframe tbody tr th {\n",
       "        vertical-align: top;\n",
       "    }\n",
       "\n",
       "    .dataframe thead th {\n",
       "        text-align: right;\n",
       "    }\n",
       "</style>\n",
       "<table border=\"1\" class=\"dataframe\">\n",
       "  <thead>\n",
       "    <tr style=\"text-align: right;\">\n",
       "      <th></th>\n",
       "      <th>country_code</th>\n",
       "      <th>country_name</th>\n",
       "      <th>year</th>\n",
       "      <th>agriculture_value_added_constants</th>\n",
       "      <th>agriculture_value_added_percentage_gdp</th>\n",
       "      <th>annual_co2_emissions_tons</th>\n",
       "      <th>inflation_inflation_gdp_deflation</th>\n",
       "      <th>deaths_from_drought</th>\n",
       "      <th>deaths_from_extreme_temps</th>\n",
       "      <th>deaths_from_floods</th>\n",
       "      <th>...</th>\n",
       "      <th>economic_damages_from_storms_as_a_share_of_gdp</th>\n",
       "      <th>economic_damages_from_wildfires</th>\n",
       "      <th>economic_damages_as_a_share_of_gdp</th>\n",
       "      <th>economic_damages</th>\n",
       "      <th>economic_damages_thousands</th>\n",
       "      <th>people_affected_per_100k</th>\n",
       "      <th>number_of_deaths</th>\n",
       "      <th>population_population_growth_annual_percentage</th>\n",
       "      <th>population_population_total</th>\n",
       "      <th>temperature_change_temp_change_celsius</th>\n",
       "    </tr>\n",
       "  </thead>\n",
       "  <tbody>\n",
       "    <tr>\n",
       "      <th>393</th>\n",
       "      <td>BHS</td>\n",
       "      <td>Bahamas</td>\n",
       "      <td>1988</td>\n",
       "      <td>NaN</td>\n",
       "      <td>NaN</td>\n",
       "      <td>1538880</td>\n",
       "      <td>1.484311</td>\n",
       "      <td>0.0</td>\n",
       "      <td>0.0</td>\n",
       "      <td>0.0</td>\n",
       "      <td>...</td>\n",
       "      <td>0.000000</td>\n",
       "      <td>0.0</td>\n",
       "      <td>0.000000</td>\n",
       "      <td>0.0</td>\n",
       "      <td>0.0</td>\n",
       "      <td>0.0</td>\n",
       "      <td>0.0</td>\n",
       "      <td>1.706120</td>\n",
       "      <td>247451</td>\n",
       "      <td>0.490</td>\n",
       "    </tr>\n",
       "    <tr>\n",
       "      <th>394</th>\n",
       "      <td>BHS</td>\n",
       "      <td>Bahamas</td>\n",
       "      <td>1990</td>\n",
       "      <td>124755975.2</td>\n",
       "      <td>2.208528</td>\n",
       "      <td>2022528</td>\n",
       "      <td>5.073711</td>\n",
       "      <td>0.0</td>\n",
       "      <td>0.0</td>\n",
       "      <td>0.0</td>\n",
       "      <td>...</td>\n",
       "      <td>0.000000</td>\n",
       "      <td>0.0</td>\n",
       "      <td>0.000000</td>\n",
       "      <td>0.0</td>\n",
       "      <td>0.0</td>\n",
       "      <td>0.0</td>\n",
       "      <td>0.0</td>\n",
       "      <td>1.767491</td>\n",
       "      <td>256227</td>\n",
       "      <td>0.832</td>\n",
       "    </tr>\n",
       "    <tr>\n",
       "      <th>395</th>\n",
       "      <td>BHS</td>\n",
       "      <td>Bahamas</td>\n",
       "      <td>1992</td>\n",
       "      <td>133825895.0</td>\n",
       "      <td>2.663011</td>\n",
       "      <td>1868640</td>\n",
       "      <td>3.905565</td>\n",
       "      <td>0.0</td>\n",
       "      <td>0.0</td>\n",
       "      <td>0.0</td>\n",
       "      <td>...</td>\n",
       "      <td>8.041171</td>\n",
       "      <td>0.0</td>\n",
       "      <td>2.010293</td>\n",
       "      <td>250000.0</td>\n",
       "      <td>250000.0</td>\n",
       "      <td>0.0</td>\n",
       "      <td>4.0</td>\n",
       "      <td>1.905434</td>\n",
       "      <td>266028</td>\n",
       "      <td>0.349</td>\n",
       "    </tr>\n",
       "    <tr>\n",
       "      <th>396</th>\n",
       "      <td>BHS</td>\n",
       "      <td>Bahamas</td>\n",
       "      <td>1995</td>\n",
       "      <td>145640936.8</td>\n",
       "      <td>2.834150</td>\n",
       "      <td>1839328</td>\n",
       "      <td>0.802435</td>\n",
       "      <td>0.0</td>\n",
       "      <td>0.0</td>\n",
       "      <td>0.0</td>\n",
       "      <td>...</td>\n",
       "      <td>0.011665</td>\n",
       "      <td>0.0</td>\n",
       "      <td>0.002916</td>\n",
       "      <td>400.0</td>\n",
       "      <td>400.0</td>\n",
       "      <td>0.0</td>\n",
       "      <td>0.0</td>\n",
       "      <td>1.557507</td>\n",
       "      <td>280179</td>\n",
       "      <td>0.736</td>\n",
       "    </tr>\n",
       "    <tr>\n",
       "      <th>397</th>\n",
       "      <td>BHS</td>\n",
       "      <td>Bahamas</td>\n",
       "      <td>1999</td>\n",
       "      <td>122748871.3</td>\n",
       "      <td>1.267590</td>\n",
       "      <td>2033520</td>\n",
       "      <td>0.223913</td>\n",
       "      <td>0.0</td>\n",
       "      <td>0.0</td>\n",
       "      <td>0.0</td>\n",
       "      <td>...</td>\n",
       "      <td>5.856424</td>\n",
       "      <td>0.0</td>\n",
       "      <td>1.464106</td>\n",
       "      <td>450000.0</td>\n",
       "      <td>450000.0</td>\n",
       "      <td>0.0</td>\n",
       "      <td>1.0</td>\n",
       "      <td>1.184628</td>\n",
       "      <td>294063</td>\n",
       "      <td>0.704</td>\n",
       "    </tr>\n",
       "  </tbody>\n",
       "</table>\n",
       "<p>5 rows × 34 columns</p>\n",
       "</div>"
      ],
      "text/plain": [
       "    country_code country_name  year  agriculture_value_added_constants  \\\n",
       "393          BHS      Bahamas  1988                                NaN   \n",
       "394          BHS      Bahamas  1990                        124755975.2   \n",
       "395          BHS      Bahamas  1992                        133825895.0   \n",
       "396          BHS      Bahamas  1995                        145640936.8   \n",
       "397          BHS      Bahamas  1999                        122748871.3   \n",
       "\n",
       "     agriculture_value_added_percentage_gdp  annual_co2_emissions_tons  \\\n",
       "393                                     NaN                    1538880   \n",
       "394                                2.208528                    2022528   \n",
       "395                                2.663011                    1868640   \n",
       "396                                2.834150                    1839328   \n",
       "397                                1.267590                    2033520   \n",
       "\n",
       "     inflation_inflation_gdp_deflation  deaths_from_drought  \\\n",
       "393                           1.484311                  0.0   \n",
       "394                           5.073711                  0.0   \n",
       "395                           3.905565                  0.0   \n",
       "396                           0.802435                  0.0   \n",
       "397                           0.223913                  0.0   \n",
       "\n",
       "     deaths_from_extreme_temps  deaths_from_floods  ...  \\\n",
       "393                        0.0                 0.0  ...   \n",
       "394                        0.0                 0.0  ...   \n",
       "395                        0.0                 0.0  ...   \n",
       "396                        0.0                 0.0  ...   \n",
       "397                        0.0                 0.0  ...   \n",
       "\n",
       "     economic_damages_from_storms_as_a_share_of_gdp  \\\n",
       "393                                        0.000000   \n",
       "394                                        0.000000   \n",
       "395                                        8.041171   \n",
       "396                                        0.011665   \n",
       "397                                        5.856424   \n",
       "\n",
       "     economic_damages_from_wildfires  economic_damages_as_a_share_of_gdp  \\\n",
       "393                              0.0                            0.000000   \n",
       "394                              0.0                            0.000000   \n",
       "395                              0.0                            2.010293   \n",
       "396                              0.0                            0.002916   \n",
       "397                              0.0                            1.464106   \n",
       "\n",
       "     economic_damages  economic_damages_thousands  people_affected_per_100k  \\\n",
       "393               0.0                         0.0                       0.0   \n",
       "394               0.0                         0.0                       0.0   \n",
       "395          250000.0                    250000.0                       0.0   \n",
       "396             400.0                       400.0                       0.0   \n",
       "397          450000.0                    450000.0                       0.0   \n",
       "\n",
       "     number_of_deaths  population_population_growth_annual_percentage  \\\n",
       "393               0.0                                        1.706120   \n",
       "394               0.0                                        1.767491   \n",
       "395               4.0                                        1.905434   \n",
       "396               0.0                                        1.557507   \n",
       "397               1.0                                        1.184628   \n",
       "\n",
       "     population_population_total  temperature_change_temp_change_celsius  \n",
       "393                       247451                                   0.490  \n",
       "394                       256227                                   0.832  \n",
       "395                       266028                                   0.349  \n",
       "396                       280179                                   0.736  \n",
       "397                       294063                                   0.704  \n",
       "\n",
       "[5 rows x 34 columns]"
      ]
     },
     "execution_count": 3,
     "metadata": {},
     "output_type": "execute_result"
    }
   ],
   "source": [
    "bhs_df= df[(df['country_name'] == 'Bahamas')]\n",
    "bhs_df.head()"
   ]
  },
  {
   "cell_type": "code",
   "execution_count": 4,
   "id": "080b08a6",
   "metadata": {},
   "outputs": [
    {
     "data": {
      "text/plain": [
       "['country_code',\n",
       " 'year',\n",
       " 'agriculture_value_added_constants',\n",
       " 'agriculture_value_added_percentage_gdp',\n",
       " 'annual_co2_emissions_tons',\n",
       " 'inflation_inflation_gdp_deflation',\n",
       " 'deaths_from_drought',\n",
       " 'deaths_from_extreme_temps',\n",
       " 'deaths_from_floods',\n",
       " 'deaths_from_storms',\n",
       " 'deaths_from_wildfires',\n",
       " 'people_affected_by_drought_per_100k',\n",
       " 'people_affected_by_extreme_temperatures_per_100k',\n",
       " 'people_affected_by_floods_per_100k',\n",
       " 'people_affected_by_storms_per_100k',\n",
       " 'people_affected_by_wildfires_per_100k',\n",
       " 'economic_damages_from_drought',\n",
       " 'economic_damages_from_drought_as_a_share_of_gdp',\n",
       " 'economic_damages_from_extreme_temperatures',\n",
       " 'economic_damages_from_extreme_temperatures_as_a_share_of_gdp',\n",
       " 'economic_damages_from_floods',\n",
       " 'economic_damages_from_floods_as_a_share_of_gdp',\n",
       " 'economic_damages_from_storms',\n",
       " 'economic_damages_from_storms_as_a_share_of_gdp',\n",
       " 'economic_damages_from_wildfires',\n",
       " 'economic_damages_as_a_share_of_gdp',\n",
       " 'economic_damages',\n",
       " 'economic_damages_thousands',\n",
       " 'people_affected_per_100k',\n",
       " 'number_of_deaths',\n",
       " 'population_population_growth_annual_percentage',\n",
       " 'population_population_total',\n",
       " 'temperature_change_temp_change_celsius']"
      ]
     },
     "execution_count": 4,
     "metadata": {},
     "output_type": "execute_result"
    }
   ],
   "source": [
    "bhs_df= bhs_df.drop(['country_name'], axis=1)\n",
    "bhs_df.columns.tolist()"
   ]
  },
  {
   "cell_type": "code",
   "execution_count": 5,
   "id": "945bbce0",
   "metadata": {},
   "outputs": [
    {
     "data": {
      "text/html": [
       "<div>\n",
       "<style scoped>\n",
       "    .dataframe tbody tr th:only-of-type {\n",
       "        vertical-align: middle;\n",
       "    }\n",
       "\n",
       "    .dataframe tbody tr th {\n",
       "        vertical-align: top;\n",
       "    }\n",
       "\n",
       "    .dataframe thead th {\n",
       "        text-align: right;\n",
       "    }\n",
       "</style>\n",
       "<table border=\"1\" class=\"dataframe\">\n",
       "  <thead>\n",
       "    <tr style=\"text-align: right;\">\n",
       "      <th></th>\n",
       "      <th>country_code</th>\n",
       "      <th>agriculture_value_added_constants</th>\n",
       "      <th>agriculture_value_added_percentage_gdp</th>\n",
       "      <th>annual_co2_emissions_tons</th>\n",
       "      <th>inflation_inflation_gdp_deflation</th>\n",
       "      <th>deaths_from_drought</th>\n",
       "      <th>deaths_from_extreme_temps</th>\n",
       "      <th>deaths_from_floods</th>\n",
       "      <th>deaths_from_storms</th>\n",
       "      <th>deaths_from_wildfires</th>\n",
       "      <th>...</th>\n",
       "      <th>economic_damages_from_storms_as_a_share_of_gdp</th>\n",
       "      <th>economic_damages_from_wildfires</th>\n",
       "      <th>economic_damages_as_a_share_of_gdp</th>\n",
       "      <th>economic_damages</th>\n",
       "      <th>economic_damages_thousands</th>\n",
       "      <th>people_affected_per_100k</th>\n",
       "      <th>number_of_deaths</th>\n",
       "      <th>population_population_growth_annual_percentage</th>\n",
       "      <th>population_population_total</th>\n",
       "      <th>temperature_change_temp_change_celsius</th>\n",
       "    </tr>\n",
       "    <tr>\n",
       "      <th>year</th>\n",
       "      <th></th>\n",
       "      <th></th>\n",
       "      <th></th>\n",
       "      <th></th>\n",
       "      <th></th>\n",
       "      <th></th>\n",
       "      <th></th>\n",
       "      <th></th>\n",
       "      <th></th>\n",
       "      <th></th>\n",
       "      <th></th>\n",
       "      <th></th>\n",
       "      <th></th>\n",
       "      <th></th>\n",
       "      <th></th>\n",
       "      <th></th>\n",
       "      <th></th>\n",
       "      <th></th>\n",
       "      <th></th>\n",
       "      <th></th>\n",
       "      <th></th>\n",
       "    </tr>\n",
       "  </thead>\n",
       "  <tbody>\n",
       "    <tr>\n",
       "      <th>1988</th>\n",
       "      <td>BHS</td>\n",
       "      <td>NaN</td>\n",
       "      <td>NaN</td>\n",
       "      <td>1538880</td>\n",
       "      <td>1.484311</td>\n",
       "      <td>0.0</td>\n",
       "      <td>0.0</td>\n",
       "      <td>0.0</td>\n",
       "      <td>0.0</td>\n",
       "      <td>0.0</td>\n",
       "      <td>...</td>\n",
       "      <td>0.000000</td>\n",
       "      <td>0.0</td>\n",
       "      <td>0.000000</td>\n",
       "      <td>0.0</td>\n",
       "      <td>0.0</td>\n",
       "      <td>0.000000</td>\n",
       "      <td>0.0</td>\n",
       "      <td>1.706120</td>\n",
       "      <td>247451</td>\n",
       "      <td>0.490</td>\n",
       "    </tr>\n",
       "    <tr>\n",
       "      <th>1990</th>\n",
       "      <td>BHS</td>\n",
       "      <td>124755975.2</td>\n",
       "      <td>2.208528</td>\n",
       "      <td>2022528</td>\n",
       "      <td>5.073711</td>\n",
       "      <td>0.0</td>\n",
       "      <td>0.0</td>\n",
       "      <td>0.0</td>\n",
       "      <td>0.0</td>\n",
       "      <td>0.0</td>\n",
       "      <td>...</td>\n",
       "      <td>0.000000</td>\n",
       "      <td>0.0</td>\n",
       "      <td>0.000000</td>\n",
       "      <td>0.0</td>\n",
       "      <td>0.0</td>\n",
       "      <td>0.000000</td>\n",
       "      <td>0.0</td>\n",
       "      <td>1.767491</td>\n",
       "      <td>256227</td>\n",
       "      <td>0.832</td>\n",
       "    </tr>\n",
       "    <tr>\n",
       "      <th>1992</th>\n",
       "      <td>BHS</td>\n",
       "      <td>133825895.0</td>\n",
       "      <td>2.663011</td>\n",
       "      <td>1868640</td>\n",
       "      <td>3.905565</td>\n",
       "      <td>0.0</td>\n",
       "      <td>0.0</td>\n",
       "      <td>0.0</td>\n",
       "      <td>4.0</td>\n",
       "      <td>0.0</td>\n",
       "      <td>...</td>\n",
       "      <td>8.041171</td>\n",
       "      <td>0.0</td>\n",
       "      <td>2.010293</td>\n",
       "      <td>250000.0</td>\n",
       "      <td>250000.0</td>\n",
       "      <td>0.000000</td>\n",
       "      <td>4.0</td>\n",
       "      <td>1.905434</td>\n",
       "      <td>266028</td>\n",
       "      <td>0.349</td>\n",
       "    </tr>\n",
       "    <tr>\n",
       "      <th>1995</th>\n",
       "      <td>BHS</td>\n",
       "      <td>145640936.8</td>\n",
       "      <td>2.834150</td>\n",
       "      <td>1839328</td>\n",
       "      <td>0.802435</td>\n",
       "      <td>0.0</td>\n",
       "      <td>0.0</td>\n",
       "      <td>0.0</td>\n",
       "      <td>0.0</td>\n",
       "      <td>0.0</td>\n",
       "      <td>...</td>\n",
       "      <td>0.011665</td>\n",
       "      <td>0.0</td>\n",
       "      <td>0.002916</td>\n",
       "      <td>400.0</td>\n",
       "      <td>400.0</td>\n",
       "      <td>0.000000</td>\n",
       "      <td>0.0</td>\n",
       "      <td>1.557507</td>\n",
       "      <td>280179</td>\n",
       "      <td>0.736</td>\n",
       "    </tr>\n",
       "    <tr>\n",
       "      <th>1999</th>\n",
       "      <td>BHS</td>\n",
       "      <td>122748871.3</td>\n",
       "      <td>1.267590</td>\n",
       "      <td>2033520</td>\n",
       "      <td>0.223913</td>\n",
       "      <td>0.0</td>\n",
       "      <td>0.0</td>\n",
       "      <td>0.0</td>\n",
       "      <td>1.0</td>\n",
       "      <td>0.0</td>\n",
       "      <td>...</td>\n",
       "      <td>5.856424</td>\n",
       "      <td>0.0</td>\n",
       "      <td>1.464106</td>\n",
       "      <td>450000.0</td>\n",
       "      <td>450000.0</td>\n",
       "      <td>0.000000</td>\n",
       "      <td>1.0</td>\n",
       "      <td>1.184628</td>\n",
       "      <td>294063</td>\n",
       "      <td>0.704</td>\n",
       "    </tr>\n",
       "    <tr>\n",
       "      <th>2001</th>\n",
       "      <td>BHS</td>\n",
       "      <td>138759593.7</td>\n",
       "      <td>1.198630</td>\n",
       "      <td>1945584</td>\n",
       "      <td>0.353982</td>\n",
       "      <td>0.0</td>\n",
       "      <td>0.0</td>\n",
       "      <td>0.0</td>\n",
       "      <td>0.0</td>\n",
       "      <td>0.0</td>\n",
       "      <td>...</td>\n",
       "      <td>3.606710</td>\n",
       "      <td>0.0</td>\n",
       "      <td>0.901677</td>\n",
       "      <td>300000.0</td>\n",
       "      <td>300000.0</td>\n",
       "      <td>0.000000</td>\n",
       "      <td>0.0</td>\n",
       "      <td>1.522680</td>\n",
       "      <td>302618</td>\n",
       "      <td>0.229</td>\n",
       "    </tr>\n",
       "    <tr>\n",
       "      <th>2004</th>\n",
       "      <td>BHS</td>\n",
       "      <td>158473476.3</td>\n",
       "      <td>1.161752</td>\n",
       "      <td>2048176</td>\n",
       "      <td>1.194630</td>\n",
       "      <td>0.0</td>\n",
       "      <td>0.0</td>\n",
       "      <td>0.0</td>\n",
       "      <td>12.0</td>\n",
       "      <td>0.0</td>\n",
       "      <td>...</td>\n",
       "      <td>17.117066</td>\n",
       "      <td>0.0</td>\n",
       "      <td>4.279267</td>\n",
       "      <td>1550000.0</td>\n",
       "      <td>1550000.0</td>\n",
       "      <td>2821.316614</td>\n",
       "      <td>12.0</td>\n",
       "      <td>1.825954</td>\n",
       "      <td>318893</td>\n",
       "      <td>0.420</td>\n",
       "    </tr>\n",
       "    <tr>\n",
       "      <th>2005</th>\n",
       "      <td>BHS</td>\n",
       "      <td>143660835.2</td>\n",
       "      <td>1.064435</td>\n",
       "      <td>1905280</td>\n",
       "      <td>5.056846</td>\n",
       "      <td>0.0</td>\n",
       "      <td>0.0</td>\n",
       "      <td>0.0</td>\n",
       "      <td>1.0</td>\n",
       "      <td>0.0</td>\n",
       "      <td>...</td>\n",
       "      <td>0.000000</td>\n",
       "      <td>0.0</td>\n",
       "      <td>0.000000</td>\n",
       "      <td>0.0</td>\n",
       "      <td>0.0</td>\n",
       "      <td>461.538462</td>\n",
       "      <td>1.0</td>\n",
       "      <td>1.850176</td>\n",
       "      <td>324848</td>\n",
       "      <td>0.480</td>\n",
       "    </tr>\n",
       "    <tr>\n",
       "      <th>2007</th>\n",
       "      <td>BHS</td>\n",
       "      <td>121659706.5</td>\n",
       "      <td>1.093391</td>\n",
       "      <td>1872304</td>\n",
       "      <td>2.947322</td>\n",
       "      <td>0.0</td>\n",
       "      <td>0.0</td>\n",
       "      <td>0.0</td>\n",
       "      <td>1.0</td>\n",
       "      <td>0.0</td>\n",
       "      <td>...</td>\n",
       "      <td>0.000000</td>\n",
       "      <td>0.0</td>\n",
       "      <td>0.000000</td>\n",
       "      <td>0.0</td>\n",
       "      <td>0.0</td>\n",
       "      <td>2077.151335</td>\n",
       "      <td>1.0</td>\n",
       "      <td>1.901559</td>\n",
       "      <td>337387</td>\n",
       "      <td>0.973</td>\n",
       "    </tr>\n",
       "    <tr>\n",
       "      <th>2008</th>\n",
       "      <td>BHS</td>\n",
       "      <td>125907449.2</td>\n",
       "      <td>1.043131</td>\n",
       "      <td>1916272</td>\n",
       "      <td>1.488464</td>\n",
       "      <td>0.0</td>\n",
       "      <td>0.0</td>\n",
       "      <td>0.0</td>\n",
       "      <td>0.0</td>\n",
       "      <td>0.0</td>\n",
       "      <td>...</td>\n",
       "      <td>0.000000</td>\n",
       "      <td>0.0</td>\n",
       "      <td>0.000000</td>\n",
       "      <td>0.0</td>\n",
       "      <td>0.0</td>\n",
       "      <td>872.093023</td>\n",
       "      <td>0.0</td>\n",
       "      <td>1.848035</td>\n",
       "      <td>343680</td>\n",
       "      <td>0.893</td>\n",
       "    </tr>\n",
       "  </tbody>\n",
       "</table>\n",
       "<p>10 rows × 32 columns</p>\n",
       "</div>"
      ],
      "text/plain": [
       "     country_code  agriculture_value_added_constants  \\\n",
       "year                                                   \n",
       "1988          BHS                                NaN   \n",
       "1990          BHS                        124755975.2   \n",
       "1992          BHS                        133825895.0   \n",
       "1995          BHS                        145640936.8   \n",
       "1999          BHS                        122748871.3   \n",
       "2001          BHS                        138759593.7   \n",
       "2004          BHS                        158473476.3   \n",
       "2005          BHS                        143660835.2   \n",
       "2007          BHS                        121659706.5   \n",
       "2008          BHS                        125907449.2   \n",
       "\n",
       "      agriculture_value_added_percentage_gdp  annual_co2_emissions_tons  \\\n",
       "year                                                                      \n",
       "1988                                     NaN                    1538880   \n",
       "1990                                2.208528                    2022528   \n",
       "1992                                2.663011                    1868640   \n",
       "1995                                2.834150                    1839328   \n",
       "1999                                1.267590                    2033520   \n",
       "2001                                1.198630                    1945584   \n",
       "2004                                1.161752                    2048176   \n",
       "2005                                1.064435                    1905280   \n",
       "2007                                1.093391                    1872304   \n",
       "2008                                1.043131                    1916272   \n",
       "\n",
       "      inflation_inflation_gdp_deflation  deaths_from_drought  \\\n",
       "year                                                           \n",
       "1988                           1.484311                  0.0   \n",
       "1990                           5.073711                  0.0   \n",
       "1992                           3.905565                  0.0   \n",
       "1995                           0.802435                  0.0   \n",
       "1999                           0.223913                  0.0   \n",
       "2001                           0.353982                  0.0   \n",
       "2004                           1.194630                  0.0   \n",
       "2005                           5.056846                  0.0   \n",
       "2007                           2.947322                  0.0   \n",
       "2008                           1.488464                  0.0   \n",
       "\n",
       "      deaths_from_extreme_temps  deaths_from_floods  deaths_from_storms  \\\n",
       "year                                                                      \n",
       "1988                        0.0                 0.0                 0.0   \n",
       "1990                        0.0                 0.0                 0.0   \n",
       "1992                        0.0                 0.0                 4.0   \n",
       "1995                        0.0                 0.0                 0.0   \n",
       "1999                        0.0                 0.0                 1.0   \n",
       "2001                        0.0                 0.0                 0.0   \n",
       "2004                        0.0                 0.0                12.0   \n",
       "2005                        0.0                 0.0                 1.0   \n",
       "2007                        0.0                 0.0                 1.0   \n",
       "2008                        0.0                 0.0                 0.0   \n",
       "\n",
       "      deaths_from_wildfires  ...  \\\n",
       "year                         ...   \n",
       "1988                    0.0  ...   \n",
       "1990                    0.0  ...   \n",
       "1992                    0.0  ...   \n",
       "1995                    0.0  ...   \n",
       "1999                    0.0  ...   \n",
       "2001                    0.0  ...   \n",
       "2004                    0.0  ...   \n",
       "2005                    0.0  ...   \n",
       "2007                    0.0  ...   \n",
       "2008                    0.0  ...   \n",
       "\n",
       "      economic_damages_from_storms_as_a_share_of_gdp  \\\n",
       "year                                                   \n",
       "1988                                        0.000000   \n",
       "1990                                        0.000000   \n",
       "1992                                        8.041171   \n",
       "1995                                        0.011665   \n",
       "1999                                        5.856424   \n",
       "2001                                        3.606710   \n",
       "2004                                       17.117066   \n",
       "2005                                        0.000000   \n",
       "2007                                        0.000000   \n",
       "2008                                        0.000000   \n",
       "\n",
       "      economic_damages_from_wildfires  economic_damages_as_a_share_of_gdp  \\\n",
       "year                                                                        \n",
       "1988                              0.0                            0.000000   \n",
       "1990                              0.0                            0.000000   \n",
       "1992                              0.0                            2.010293   \n",
       "1995                              0.0                            0.002916   \n",
       "1999                              0.0                            1.464106   \n",
       "2001                              0.0                            0.901677   \n",
       "2004                              0.0                            4.279267   \n",
       "2005                              0.0                            0.000000   \n",
       "2007                              0.0                            0.000000   \n",
       "2008                              0.0                            0.000000   \n",
       "\n",
       "      economic_damages  economic_damages_thousands  people_affected_per_100k  \\\n",
       "year                                                                           \n",
       "1988               0.0                         0.0                  0.000000   \n",
       "1990               0.0                         0.0                  0.000000   \n",
       "1992          250000.0                    250000.0                  0.000000   \n",
       "1995             400.0                       400.0                  0.000000   \n",
       "1999          450000.0                    450000.0                  0.000000   \n",
       "2001          300000.0                    300000.0                  0.000000   \n",
       "2004         1550000.0                   1550000.0               2821.316614   \n",
       "2005               0.0                         0.0                461.538462   \n",
       "2007               0.0                         0.0               2077.151335   \n",
       "2008               0.0                         0.0                872.093023   \n",
       "\n",
       "      number_of_deaths  population_population_growth_annual_percentage  \\\n",
       "year                                                                     \n",
       "1988               0.0                                        1.706120   \n",
       "1990               0.0                                        1.767491   \n",
       "1992               4.0                                        1.905434   \n",
       "1995               0.0                                        1.557507   \n",
       "1999               1.0                                        1.184628   \n",
       "2001               0.0                                        1.522680   \n",
       "2004              12.0                                        1.825954   \n",
       "2005               1.0                                        1.850176   \n",
       "2007               1.0                                        1.901559   \n",
       "2008               0.0                                        1.848035   \n",
       "\n",
       "      population_population_total  temperature_change_temp_change_celsius  \n",
       "year                                                                       \n",
       "1988                       247451                                   0.490  \n",
       "1990                       256227                                   0.832  \n",
       "1992                       266028                                   0.349  \n",
       "1995                       280179                                   0.736  \n",
       "1999                       294063                                   0.704  \n",
       "2001                       302618                                   0.229  \n",
       "2004                       318893                                   0.420  \n",
       "2005                       324848                                   0.480  \n",
       "2007                       337387                                   0.973  \n",
       "2008                       343680                                   0.893  \n",
       "\n",
       "[10 rows x 32 columns]"
      ]
     },
     "execution_count": 5,
     "metadata": {},
     "output_type": "execute_result"
    }
   ],
   "source": [
    "bhs_df= bhs_df[(bhs_df['year'] >= 1988) & (bhs_df['year'] <= 2020)]\n",
    "bhs_df.set_index('year',inplace = True)\n",
    "bhs_df.head(10)"
   ]
  },
  {
   "cell_type": "code",
   "execution_count": 6,
   "id": "e8d99cd8",
   "metadata": {},
   "outputs": [
    {
     "name": "stdout",
     "output_type": "stream",
     "text": [
      "<class 'pandas.core.frame.DataFrame'>\n",
      "Int64Index: 17 entries, 1988 to 2019\n",
      "Data columns (total 10 columns):\n",
      " #   Column                                          Non-Null Count  Dtype  \n",
      "---  ------                                          --------------  -----  \n",
      " 0   agriculture_value_added_constants               16 non-null     float64\n",
      " 1   agriculture_value_added_percentage_gdp          16 non-null     float64\n",
      " 2   annual_co2_emissions_tons                       17 non-null     int64  \n",
      " 3   inflation_inflation_gdp_deflation               17 non-null     float64\n",
      " 4   economic_damages_as_a_share_of_gdp              17 non-null     float64\n",
      " 5   people_affected_per_100k                        17 non-null     float64\n",
      " 6   number_of_deaths                                17 non-null     float64\n",
      " 7   population_population_growth_annual_percentage  17 non-null     float64\n",
      " 8   population_population_total                     17 non-null     int64  \n",
      " 9   temperature_change_temp_change_celsius          17 non-null     float64\n",
      "dtypes: float64(8), int64(2)\n",
      "memory usage: 1.5 KB\n"
     ]
    }
   ],
   "source": [
    "bhs_df = bhs_df.drop([\n",
    " 'country_code',\n",
    " 'deaths_from_drought',\n",
    " 'deaths_from_extreme_temps',\n",
    " 'deaths_from_floods',\n",
    " 'deaths_from_storms',\n",
    " 'deaths_from_wildfires',\n",
    " 'people_affected_by_drought_per_100k',\n",
    " 'people_affected_by_extreme_temperatures_per_100k',\n",
    " 'people_affected_by_floods_per_100k',\n",
    " 'people_affected_by_storms_per_100k',\n",
    " 'people_affected_by_wildfires_per_100k',\n",
    " 'economic_damages_from_drought',\n",
    " 'economic_damages_from_drought_as_a_share_of_gdp',\n",
    " 'economic_damages_from_extreme_temperatures',\n",
    " 'economic_damages_from_extreme_temperatures_as_a_share_of_gdp',\n",
    " 'economic_damages_from_floods',\n",
    " 'economic_damages_from_floods_as_a_share_of_gdp',\n",
    " 'economic_damages_from_storms',\n",
    " 'economic_damages_from_storms_as_a_share_of_gdp',\n",
    " 'economic_damages_from_wildfires',\n",
    " 'economic_damages',\n",
    " 'economic_damages_thousands',\n",
    "], axis=1)\n",
    "bhs_df.info()"
   ]
  },
  {
   "cell_type": "code",
   "execution_count": 7,
   "id": "394f6893",
   "metadata": {},
   "outputs": [
    {
     "data": {
      "text/plain": [
       "['agriculture_value_added_constants',\n",
       " 'agriculture_value_added_percentage_gdp',\n",
       " 'annual_co2_emissions_tons',\n",
       " 'inflation_inflation_gdp_deflation',\n",
       " 'economic_damages_as_a_share_of_gdp',\n",
       " 'people_affected_per_100k',\n",
       " 'number_of_deaths',\n",
       " 'population_population_growth_annual_percentage',\n",
       " 'population_population_total',\n",
       " 'temperature_change_temp_change_celsius']"
      ]
     },
     "execution_count": 7,
     "metadata": {},
     "output_type": "execute_result"
    }
   ],
   "source": [
    "bhs_df.columns.tolist()"
   ]
  },
  {
   "cell_type": "code",
   "execution_count": 8,
   "id": "6f19b5f2",
   "metadata": {},
   "outputs": [
    {
     "name": "stderr",
     "output_type": "stream",
     "text": [
      "C:\\Users\\jqu23\\anaconda3\\envs\\mlenv\\lib\\site-packages\\seaborn\\distributions.py:2619: FutureWarning: `distplot` is a deprecated function and will be removed in a future version. Please adapt your code to use either `displot` (a figure-level function with similar flexibility) or `kdeplot` (an axes-level function for kernel density plots).\n",
      "  warnings.warn(msg, FutureWarning)\n",
      "C:\\Users\\jqu23\\anaconda3\\envs\\mlenv\\lib\\site-packages\\seaborn\\distributions.py:2103: FutureWarning: The `axis` variable is no longer used and will be removed. Instead, assign variables directly to `x` or `y`.\n",
      "  warnings.warn(msg, FutureWarning)\n",
      "C:\\Users\\jqu23\\anaconda3\\envs\\mlenv\\lib\\site-packages\\seaborn\\distributions.py:2619: FutureWarning: `distplot` is a deprecated function and will be removed in a future version. Please adapt your code to use either `displot` (a figure-level function with similar flexibility) or `kdeplot` (an axes-level function for kernel density plots).\n",
      "  warnings.warn(msg, FutureWarning)\n",
      "C:\\Users\\jqu23\\anaconda3\\envs\\mlenv\\lib\\site-packages\\seaborn\\distributions.py:2103: FutureWarning: The `axis` variable is no longer used and will be removed. Instead, assign variables directly to `x` or `y`.\n",
      "  warnings.warn(msg, FutureWarning)\n",
      "C:\\Users\\jqu23\\anaconda3\\envs\\mlenv\\lib\\site-packages\\pandas\\core\\arraylike.py:364: RuntimeWarning: divide by zero encountered in log\n",
      "  result = getattr(ufunc, method)(*inputs, **kwargs)\n",
      "C:\\Users\\jqu23\\anaconda3\\envs\\mlenv\\lib\\site-packages\\seaborn\\distributions.py:2619: FutureWarning: `distplot` is a deprecated function and will be removed in a future version. Please adapt your code to use either `displot` (a figure-level function with similar flexibility) or `kdeplot` (an axes-level function for kernel density plots).\n",
      "  warnings.warn(msg, FutureWarning)\n",
      "C:\\Users\\jqu23\\anaconda3\\envs\\mlenv\\lib\\site-packages\\seaborn\\distributions.py:2103: FutureWarning: The `axis` variable is no longer used and will be removed. Instead, assign variables directly to `x` or `y`.\n",
      "  warnings.warn(msg, FutureWarning)\n"
     ]
    },
    {
     "data": {
      "image/png": "[encoded data removed]",
      "text/plain": [
       "<Figure size 432x432 with 3 Axes>"
      ]
     },
     "metadata": {
      "needs_background": "light"
     },
     "output_type": "display_data"
    }
   ],
   "source": [
    "fig, axes = plt.subplots(nrows=3, ncols=1, figsize=(6, 6))\n",
    "sb.distplot(\n",
    "    bhs_df.economic_damages_as_a_share_of_gdp,\n",
    "    hist    = False,\n",
    "    rug     = True,\n",
    "    color   = \"blue\",\n",
    "    kde_kws = {'shade': True, 'linewidth': 1},\n",
    "    ax      = axes[0]\n",
    ")\n",
    "axes[0].set_title(\"Distribución original\", fontsize = 'medium')\n",
    "axes[0].set_xlabel('precio', fontsize='small') \n",
    "axes[0].tick_params(labelsize = 6)\n",
    "\n",
    "sb.distplot(\n",
    "    np.sqrt(bhs_df.economic_damages_as_a_share_of_gdp),\n",
    "    hist    = False,\n",
    "    rug     = True,\n",
    "    color   = \"blue\",\n",
    "    kde_kws = {'shade': True, 'linewidth': 1},\n",
    "    ax      = axes[1]\n",
    ")\n",
    "axes[1].set_title(\"Transformación raíz cuadrada\", fontsize = 'medium')\n",
    "axes[1].set_xlabel('sqrt(economic_damages_as_a_share_of_gdp)', fontsize='small') \n",
    "axes[1].tick_params(labelsize = 6)\n",
    "\n",
    "sb.distplot(\n",
    "    np.log(bhs_df.economic_damages_as_a_share_of_gdp),\n",
    "    hist    = False,\n",
    "    rug     = True,\n",
    "    color   = \"blue\",\n",
    "    kde_kws = {'shade': True, 'linewidth': 1},\n",
    "    ax      = axes[2]\n",
    ")\n",
    "axes[2].set_title(\"Transformación logarítmica\", fontsize = 'medium')\n",
    "axes[2].set_xlabel('log(economic_damages_as_a_share_of_gdp)', fontsize='small') \n",
    "axes[2].tick_params(labelsize = 6)\n",
    "\n",
    "fig.tight_layout()"
   ]
  },
  {
   "cell_type": "code",
   "execution_count": 9,
   "id": "f8fd215e",
   "metadata": {
    "scrolled": true
   },
   "outputs": [
    {
     "data": {
      "text/html": [
       "<div>\n",
       "<style scoped>\n",
       "    .dataframe tbody tr th:only-of-type {\n",
       "        vertical-align: middle;\n",
       "    }\n",
       "\n",
       "    .dataframe tbody tr th {\n",
       "        vertical-align: top;\n",
       "    }\n",
       "\n",
       "    .dataframe thead th {\n",
       "        text-align: right;\n",
       "    }\n",
       "</style>\n",
       "<table border=\"1\" class=\"dataframe\">\n",
       "  <thead>\n",
       "    <tr style=\"text-align: right;\">\n",
       "      <th></th>\n",
       "      <th>sumsquare_error</th>\n",
       "      <th>aic</th>\n",
       "      <th>bic</th>\n",
       "      <th>kl_div</th>\n",
       "      <th>ks_statistic</th>\n",
       "      <th>ks_pvalue</th>\n",
       "    </tr>\n",
       "  </thead>\n",
       "  <tbody>\n",
       "    <tr>\n",
       "      <th>cauchy</th>\n",
       "      <td>14.553494</td>\n",
       "      <td>1120.969879</td>\n",
       "      <td>3.024928</td>\n",
       "      <td>inf</td>\n",
       "      <td>0.435469</td>\n",
       "      <td>0.001893</td>\n",
       "    </tr>\n",
       "    <tr>\n",
       "      <th>gamma</th>\n",
       "      <td>24.901976</td>\n",
       "      <td>898.456376</td>\n",
       "      <td>14.989115</td>\n",
       "      <td>inf</td>\n",
       "      <td>0.352940</td>\n",
       "      <td>0.021250</td>\n",
       "    </tr>\n",
       "    <tr>\n",
       "      <th>exponpow</th>\n",
       "      <td>29.312974</td>\n",
       "      <td>670.457970</td>\n",
       "      <td>17.761527</td>\n",
       "      <td>inf</td>\n",
       "      <td>0.352941</td>\n",
       "      <td>0.021249</td>\n",
       "    </tr>\n",
       "    <tr>\n",
       "      <th>beta</th>\n",
       "      <td>38.818275</td>\n",
       "      <td>542.162375</td>\n",
       "      <td>25.369376</td>\n",
       "      <td>inf</td>\n",
       "      <td>0.352941</td>\n",
       "      <td>0.021249</td>\n",
       "    </tr>\n",
       "    <tr>\n",
       "      <th>powerlaw</th>\n",
       "      <td>39.641890</td>\n",
       "      <td>484.268530</td>\n",
       "      <td>22.893082</td>\n",
       "      <td>inf</td>\n",
       "      <td>0.371899</td>\n",
       "      <td>0.012827</td>\n",
       "    </tr>\n",
       "    <tr>\n",
       "      <th>chi2</th>\n",
       "      <td>48.220754</td>\n",
       "      <td>475.352777</td>\n",
       "      <td>26.223435</td>\n",
       "      <td>inf</td>\n",
       "      <td>0.469886</td>\n",
       "      <td>0.000579</td>\n",
       "    </tr>\n",
       "    <tr>\n",
       "      <th>expon</th>\n",
       "      <td>52.473215</td>\n",
       "      <td>640.899089</td>\n",
       "      <td>24.826948</td>\n",
       "      <td>inf</td>\n",
       "      <td>0.484819</td>\n",
       "      <td>0.000334</td>\n",
       "    </tr>\n",
       "    <tr>\n",
       "      <th>lognorm</th>\n",
       "      <td>52.541486</td>\n",
       "      <td>888.961462</td>\n",
       "      <td>27.682265</td>\n",
       "      <td>inf</td>\n",
       "      <td>0.447623</td>\n",
       "      <td>0.001261</td>\n",
       "    </tr>\n",
       "    <tr>\n",
       "      <th>logistic</th>\n",
       "      <td>61.097947</td>\n",
       "      <td>680.845252</td>\n",
       "      <td>27.413930</td>\n",
       "      <td>inf</td>\n",
       "      <td>0.316616</td>\n",
       "      <td>0.051575</td>\n",
       "    </tr>\n",
       "    <tr>\n",
       "      <th>norm</th>\n",
       "      <td>62.414470</td>\n",
       "      <td>564.644719</td>\n",
       "      <td>27.776351</td>\n",
       "      <td>inf</td>\n",
       "      <td>0.323120</td>\n",
       "      <td>0.044342</td>\n",
       "    </tr>\n",
       "  </tbody>\n",
       "</table>\n",
       "</div>"
      ],
      "text/plain": [
       "          sumsquare_error          aic        bic  kl_div  ks_statistic  \\\n",
       "cauchy          14.553494  1120.969879   3.024928     inf      0.435469   \n",
       "gamma           24.901976   898.456376  14.989115     inf      0.352940   \n",
       "exponpow        29.312974   670.457970  17.761527     inf      0.352941   \n",
       "beta            38.818275   542.162375  25.369376     inf      0.352941   \n",
       "powerlaw        39.641890   484.268530  22.893082     inf      0.371899   \n",
       "chi2            48.220754   475.352777  26.223435     inf      0.469886   \n",
       "expon           52.473215   640.899089  24.826948     inf      0.484819   \n",
       "lognorm         52.541486   888.961462  27.682265     inf      0.447623   \n",
       "logistic        61.097947   680.845252  27.413930     inf      0.316616   \n",
       "norm            62.414470   564.644719  27.776351     inf      0.323120   \n",
       "\n",
       "          ks_pvalue  \n",
       "cauchy     0.001893  \n",
       "gamma      0.021250  \n",
       "exponpow   0.021249  \n",
       "beta       0.021249  \n",
       "powerlaw   0.012827  \n",
       "chi2       0.000579  \n",
       "expon      0.000334  \n",
       "lognorm    0.001261  \n",
       "logistic   0.051575  \n",
       "norm       0.044342  "
      ]
     },
     "execution_count": 9,
     "metadata": {},
     "output_type": "execute_result"
    }
   ],
   "source": [
    "from fitter import Fitter\n",
    "distribuciones = ['cauchy', 'chi2', 'expon',  'exponpow', 'gamma',\n",
    "                  'norm', 'powerlaw', 'beta', 'logistic', 'lognorm']\n",
    "\n",
    "fitter = Fitter(bhs_df.economic_damages_as_a_share_of_gdp, distributions=distribuciones)\n",
    "fitter.fit()\n",
    "fitter.summary(Nbest=10, plot=False)"
   ]
  },
  {
   "cell_type": "markdown",
   "id": "51ab0336",
   "metadata": {},
   "source": [
    "Pairplot() function from the Seaborn library will output a figure containing histogram and scatter plot between each variable."
   ]
  },
  {
   "cell_type": "code",
   "execution_count": 59,
   "id": "41915f82",
   "metadata": {},
   "outputs": [],
   "source": [
    "# Visualize the data using scatter plot and histogram\n",
    "#sb.set_palette('colorblind')\n",
    "#sb.pairplot(data=hti_df, height=3)"
   ]
  },
  {
   "cell_type": "code",
   "execution_count": 10,
   "id": "dd07442f",
   "metadata": {},
   "outputs": [
    {
     "data": {
      "text/html": [
       "<div>\n",
       "<style scoped>\n",
       "    .dataframe tbody tr th:only-of-type {\n",
       "        vertical-align: middle;\n",
       "    }\n",
       "\n",
       "    .dataframe tbody tr th {\n",
       "        vertical-align: top;\n",
       "    }\n",
       "\n",
       "    .dataframe thead th {\n",
       "        text-align: right;\n",
       "    }\n",
       "</style>\n",
       "<table border=\"1\" class=\"dataframe\">\n",
       "  <thead>\n",
       "    <tr style=\"text-align: right;\">\n",
       "      <th></th>\n",
       "      <th>agriculture_value_added_constants</th>\n",
       "      <th>agriculture_value_added_percentage_gdp</th>\n",
       "      <th>annual_co2_emissions_tons</th>\n",
       "      <th>inflation_inflation_gdp_deflation</th>\n",
       "      <th>economic_damages_as_a_share_of_gdp</th>\n",
       "      <th>people_affected_per_100k</th>\n",
       "      <th>number_of_deaths</th>\n",
       "      <th>population_population_growth_annual_percentage</th>\n",
       "      <th>population_population_total</th>\n",
       "      <th>temperature_change_temp_change_celsius</th>\n",
       "    </tr>\n",
       "  </thead>\n",
       "  <tbody>\n",
       "    <tr>\n",
       "      <th>agriculture_value_added_constants</th>\n",
       "      <td>1.000000</td>\n",
       "      <td>0.541143</td>\n",
       "      <td>-0.655359</td>\n",
       "      <td>0.033961</td>\n",
       "      <td>-0.251362</td>\n",
       "      <td>-0.280286</td>\n",
       "      <td>-0.634771</td>\n",
       "      <td>0.742271</td>\n",
       "      <td>-0.693417</td>\n",
       "      <td>-0.819460</td>\n",
       "    </tr>\n",
       "    <tr>\n",
       "      <th>agriculture_value_added_percentage_gdp</th>\n",
       "      <td>0.541143</td>\n",
       "      <td>1.000000</td>\n",
       "      <td>-0.492928</td>\n",
       "      <td>0.181168</td>\n",
       "      <td>-0.179152</td>\n",
       "      <td>-0.420459</td>\n",
       "      <td>-0.313920</td>\n",
       "      <td>0.519261</td>\n",
       "      <td>-0.851210</td>\n",
       "      <td>-0.409076</td>\n",
       "    </tr>\n",
       "    <tr>\n",
       "      <th>annual_co2_emissions_tons</th>\n",
       "      <td>-0.655359</td>\n",
       "      <td>-0.492928</td>\n",
       "      <td>1.000000</td>\n",
       "      <td>-0.053241</td>\n",
       "      <td>0.384415</td>\n",
       "      <td>0.365605</td>\n",
       "      <td>0.535795</td>\n",
       "      <td>-0.660646</td>\n",
       "      <td>0.661878</td>\n",
       "      <td>0.349740</td>\n",
       "    </tr>\n",
       "    <tr>\n",
       "      <th>inflation_inflation_gdp_deflation</th>\n",
       "      <td>0.033961</td>\n",
       "      <td>0.181168</td>\n",
       "      <td>-0.053241</td>\n",
       "      <td>1.000000</td>\n",
       "      <td>-0.177180</td>\n",
       "      <td>-0.123556</td>\n",
       "      <td>-0.038186</td>\n",
       "      <td>0.266088</td>\n",
       "      <td>-0.144981</td>\n",
       "      <td>0.057766</td>\n",
       "    </tr>\n",
       "    <tr>\n",
       "      <th>economic_damages_as_a_share_of_gdp</th>\n",
       "      <td>-0.251362</td>\n",
       "      <td>-0.179152</td>\n",
       "      <td>0.384415</td>\n",
       "      <td>-0.177180</td>\n",
       "      <td>1.000000</td>\n",
       "      <td>0.617377</td>\n",
       "      <td>0.780668</td>\n",
       "      <td>-0.107040</td>\n",
       "      <td>0.165387</td>\n",
       "      <td>0.238782</td>\n",
       "    </tr>\n",
       "    <tr>\n",
       "      <th>people_affected_per_100k</th>\n",
       "      <td>-0.280286</td>\n",
       "      <td>-0.420459</td>\n",
       "      <td>0.365605</td>\n",
       "      <td>-0.123556</td>\n",
       "      <td>0.617377</td>\n",
       "      <td>1.000000</td>\n",
       "      <td>0.630873</td>\n",
       "      <td>-0.055328</td>\n",
       "      <td>0.435774</td>\n",
       "      <td>0.299713</td>\n",
       "    </tr>\n",
       "    <tr>\n",
       "      <th>number_of_deaths</th>\n",
       "      <td>-0.634771</td>\n",
       "      <td>-0.313920</td>\n",
       "      <td>0.535795</td>\n",
       "      <td>-0.038186</td>\n",
       "      <td>0.780668</td>\n",
       "      <td>0.630873</td>\n",
       "      <td>1.000000</td>\n",
       "      <td>-0.316171</td>\n",
       "      <td>0.354882</td>\n",
       "      <td>0.545103</td>\n",
       "    </tr>\n",
       "    <tr>\n",
       "      <th>population_population_growth_annual_percentage</th>\n",
       "      <td>0.742271</td>\n",
       "      <td>0.519261</td>\n",
       "      <td>-0.660646</td>\n",
       "      <td>0.266088</td>\n",
       "      <td>-0.107040</td>\n",
       "      <td>-0.055328</td>\n",
       "      <td>-0.316171</td>\n",
       "      <td>1.000000</td>\n",
       "      <td>-0.686079</td>\n",
       "      <td>-0.516695</td>\n",
       "    </tr>\n",
       "    <tr>\n",
       "      <th>population_population_total</th>\n",
       "      <td>-0.693417</td>\n",
       "      <td>-0.851210</td>\n",
       "      <td>0.661878</td>\n",
       "      <td>-0.144981</td>\n",
       "      <td>0.165387</td>\n",
       "      <td>0.435774</td>\n",
       "      <td>0.354882</td>\n",
       "      <td>-0.686079</td>\n",
       "      <td>1.000000</td>\n",
       "      <td>0.579247</td>\n",
       "    </tr>\n",
       "    <tr>\n",
       "      <th>temperature_change_temp_change_celsius</th>\n",
       "      <td>-0.819460</td>\n",
       "      <td>-0.409076</td>\n",
       "      <td>0.349740</td>\n",
       "      <td>0.057766</td>\n",
       "      <td>0.238782</td>\n",
       "      <td>0.299713</td>\n",
       "      <td>0.545103</td>\n",
       "      <td>-0.516695</td>\n",
       "      <td>0.579247</td>\n",
       "      <td>1.000000</td>\n",
       "    </tr>\n",
       "  </tbody>\n",
       "</table>\n",
       "</div>"
      ],
      "text/plain": [
       "                                                agriculture_value_added_constants  \\\n",
       "agriculture_value_added_constants                                        1.000000   \n",
       "agriculture_value_added_percentage_gdp                                   0.541143   \n",
       "annual_co2_emissions_tons                                               -0.655359   \n",
       "inflation_inflation_gdp_deflation                                        0.033961   \n",
       "economic_damages_as_a_share_of_gdp                                      -0.251362   \n",
       "people_affected_per_100k                                                -0.280286   \n",
       "number_of_deaths                                                        -0.634771   \n",
       "population_population_growth_annual_percentage                           0.742271   \n",
       "population_population_total                                             -0.693417   \n",
       "temperature_change_temp_change_celsius                                  -0.819460   \n",
       "\n",
       "                                                agriculture_value_added_percentage_gdp  \\\n",
       "agriculture_value_added_constants                                             0.541143   \n",
       "agriculture_value_added_percentage_gdp                                        1.000000   \n",
       "annual_co2_emissions_tons                                                    -0.492928   \n",
       "inflation_inflation_gdp_deflation                                             0.181168   \n",
       "economic_damages_as_a_share_of_gdp                                           -0.179152   \n",
       "people_affected_per_100k                                                     -0.420459   \n",
       "number_of_deaths                                                             -0.313920   \n",
       "population_population_growth_annual_percentage                                0.519261   \n",
       "population_population_total                                                  -0.851210   \n",
       "temperature_change_temp_change_celsius                                       -0.409076   \n",
       "\n",
       "                                                annual_co2_emissions_tons  \\\n",
       "agriculture_value_added_constants                               -0.655359   \n",
       "agriculture_value_added_percentage_gdp                          -0.492928   \n",
       "annual_co2_emissions_tons                                        1.000000   \n",
       "inflation_inflation_gdp_deflation                               -0.053241   \n",
       "economic_damages_as_a_share_of_gdp                               0.384415   \n",
       "people_affected_per_100k                                         0.365605   \n",
       "number_of_deaths                                                 0.535795   \n",
       "population_population_growth_annual_percentage                  -0.660646   \n",
       "population_population_total                                      0.661878   \n",
       "temperature_change_temp_change_celsius                           0.349740   \n",
       "\n",
       "                                                inflation_inflation_gdp_deflation  \\\n",
       "agriculture_value_added_constants                                        0.033961   \n",
       "agriculture_value_added_percentage_gdp                                   0.181168   \n",
       "annual_co2_emissions_tons                                               -0.053241   \n",
       "inflation_inflation_gdp_deflation                                        1.000000   \n",
       "economic_damages_as_a_share_of_gdp                                      -0.177180   \n",
       "people_affected_per_100k                                                -0.123556   \n",
       "number_of_deaths                                                        -0.038186   \n",
       "population_population_growth_annual_percentage                           0.266088   \n",
       "population_population_total                                             -0.144981   \n",
       "temperature_change_temp_change_celsius                                   0.057766   \n",
       "\n",
       "                                                economic_damages_as_a_share_of_gdp  \\\n",
       "agriculture_value_added_constants                                        -0.251362   \n",
       "agriculture_value_added_percentage_gdp                                   -0.179152   \n",
       "annual_co2_emissions_tons                                                 0.384415   \n",
       "inflation_inflation_gdp_deflation                                        -0.177180   \n",
       "economic_damages_as_a_share_of_gdp                                        1.000000   \n",
       "people_affected_per_100k                                                  0.617377   \n",
       "number_of_deaths                                                          0.780668   \n",
       "population_population_growth_annual_percentage                           -0.107040   \n",
       "population_population_total                                               0.165387   \n",
       "temperature_change_temp_change_celsius                                    0.238782   \n",
       "\n",
       "                                                people_affected_per_100k  \\\n",
       "agriculture_value_added_constants                              -0.280286   \n",
       "agriculture_value_added_percentage_gdp                         -0.420459   \n",
       "annual_co2_emissions_tons                                       0.365605   \n",
       "inflation_inflation_gdp_deflation                              -0.123556   \n",
       "economic_damages_as_a_share_of_gdp                              0.617377   \n",
       "people_affected_per_100k                                        1.000000   \n",
       "number_of_deaths                                                0.630873   \n",
       "population_population_growth_annual_percentage                 -0.055328   \n",
       "population_population_total                                     0.435774   \n",
       "temperature_change_temp_change_celsius                          0.299713   \n",
       "\n",
       "                                                number_of_deaths  \\\n",
       "agriculture_value_added_constants                      -0.634771   \n",
       "agriculture_value_added_percentage_gdp                 -0.313920   \n",
       "annual_co2_emissions_tons                               0.535795   \n",
       "inflation_inflation_gdp_deflation                      -0.038186   \n",
       "economic_damages_as_a_share_of_gdp                      0.780668   \n",
       "people_affected_per_100k                                0.630873   \n",
       "number_of_deaths                                        1.000000   \n",
       "population_population_growth_annual_percentage         -0.316171   \n",
       "population_population_total                             0.354882   \n",
       "temperature_change_temp_change_celsius                  0.545103   \n",
       "\n",
       "                                                population_population_growth_annual_percentage  \\\n",
       "agriculture_value_added_constants                                                     0.742271   \n",
       "agriculture_value_added_percentage_gdp                                                0.519261   \n",
       "annual_co2_emissions_tons                                                            -0.660646   \n",
       "inflation_inflation_gdp_deflation                                                     0.266088   \n",
       "economic_damages_as_a_share_of_gdp                                                   -0.107040   \n",
       "people_affected_per_100k                                                             -0.055328   \n",
       "number_of_deaths                                                                     -0.316171   \n",
       "population_population_growth_annual_percentage                                        1.000000   \n",
       "population_population_total                                                          -0.686079   \n",
       "temperature_change_temp_change_celsius                                               -0.516695   \n",
       "\n",
       "                                                population_population_total  \\\n",
       "agriculture_value_added_constants                                 -0.693417   \n",
       "agriculture_value_added_percentage_gdp                            -0.851210   \n",
       "annual_co2_emissions_tons                                          0.661878   \n",
       "inflation_inflation_gdp_deflation                                 -0.144981   \n",
       "economic_damages_as_a_share_of_gdp                                 0.165387   \n",
       "people_affected_per_100k                                           0.435774   \n",
       "number_of_deaths                                                   0.354882   \n",
       "population_population_growth_annual_percentage                    -0.686079   \n",
       "population_population_total                                        1.000000   \n",
       "temperature_change_temp_change_celsius                             0.579247   \n",
       "\n",
       "                                                temperature_change_temp_change_celsius  \n",
       "agriculture_value_added_constants                                            -0.819460  \n",
       "agriculture_value_added_percentage_gdp                                       -0.409076  \n",
       "annual_co2_emissions_tons                                                     0.349740  \n",
       "inflation_inflation_gdp_deflation                                             0.057766  \n",
       "economic_damages_as_a_share_of_gdp                                            0.238782  \n",
       "people_affected_per_100k                                                      0.299713  \n",
       "number_of_deaths                                                              0.545103  \n",
       "population_population_growth_annual_percentage                               -0.516695  \n",
       "population_population_total                                                   0.579247  \n",
       "temperature_change_temp_change_celsius                                        1.000000  "
      ]
     },
     "execution_count": 10,
     "metadata": {},
     "output_type": "execute_result"
    }
   ],
   "source": [
    "bhs_df.corr ()"
   ]
  },
  {
   "cell_type": "code",
   "execution_count": 11,
   "id": "08f2fe62",
   "metadata": {},
   "outputs": [],
   "source": [
    "bhs_corr_df = bhs_df.corr(method='spearman')"
   ]
  },
  {
   "cell_type": "code",
   "execution_count": 12,
   "id": "b471f974",
   "metadata": {},
   "outputs": [
    {
     "data": {
      "image/png": "[encoded data removed]",
      "text/plain": [
       "<Figure size 576x432 with 2 Axes>"
      ]
     },
     "metadata": {
      "needs_background": "light"
     },
     "output_type": "display_data"
    }
   ],
   "source": [
    "plt.figure(figsize=(8, 6))\n",
    "sb.heatmap(bhs_corr_df, annot=True)\n",
    "plt.show()"
   ]
  },
  {
   "cell_type": "markdown",
   "id": "c41df473",
   "metadata": {},
   "source": [
    "### CORRELATION TESTS"
   ]
  },
  {
   "cell_type": "markdown",
   "id": "3b66a313",
   "metadata": {},
   "source": [
    "El análisis gráfico hecho previamente y los test estadísticos mostraron evidencias de que no se puede asumir normalidad en las variables de desastres. Siendo estrictos, este hecho excluye la posibilidad de utilizar el coeficiente de Pearson, dejando como alternativas el de Spearman o Kendall. Sin embargo, dado que la distribución no se aleja mucho de la normalidad y de que el coeficiente de Pearson tiene cierta robustez, a fines prácticos sí que se podría utilizar siempre y cuando se tenga en cuenta este hecho y se comunique en los resultados. Otra posibilidad es tratar de transformar las variables para mejorar su distribución, por ejemplo, aplicando el logaritmo."
   ]
  },
  {
   "cell_type": "code",
   "execution_count": 13,
   "id": "f99389d1",
   "metadata": {},
   "outputs": [
    {
     "name": "stdout",
     "output_type": "stream",
     "text": [
      "Correlación Pearson:  0.5792473193828194\n",
      "Correlación spearman:  0.556372549019608\n",
      "Correlación kendall:  0.41176470588235287\n"
     ]
    }
   ],
   "source": [
    "print('Correlación Pearson: ', bhs_df['temperature_change_temp_change_celsius'].corr(bhs_df['population_population_total'], method='pearson'))\n",
    "print('Correlación spearman: ', bhs_df['temperature_change_temp_change_celsius'].corr(bhs_df['population_population_total'], method='spearman'))\n",
    "print('Correlación kendall: ', bhs_df['temperature_change_temp_change_celsius'].corr(bhs_df['population_population_total'], method='kendall'))"
   ]
  },
  {
   "cell_type": "code",
   "execution_count": 14,
   "id": "b40e65ff",
   "metadata": {},
   "outputs": [
    {
     "data": {
      "image/png": "[encoded data removed]",
      "text/plain": [
       "<Figure size 432x288 with 1 Axes>"
      ]
     },
     "metadata": {
      "needs_background": "light"
     },
     "output_type": "display_data"
    }
   ],
   "source": [
    "plt.scatter(bhs_df.population_population_total , bhs_df.temperature_change_temp_change_celsius )\n",
    "plt.xlabel('population_population_total')\n",
    "plt.ylabel('temperature_change_temp_change_celsius')\n",
    "plt.show()"
   ]
  },
  {
   "cell_type": "code",
   "execution_count": 15,
   "id": "42abee85",
   "metadata": {},
   "outputs": [
    {
     "name": "stdout",
     "output_type": "stream",
     "text": [
      "Correlación Pearson:  -0.5166953338494039\n",
      "Correlación spearman:  -0.42156862745098045\n",
      "Correlación kendall:  -0.24999999999999997\n"
     ]
    }
   ],
   "source": [
    "print('Correlación Pearson: ', bhs_df['temperature_change_temp_change_celsius'].corr(bhs_df['population_population_growth_annual_percentage'], method='pearson'))\n",
    "print('Correlación spearman: ', bhs_df['temperature_change_temp_change_celsius'].corr(bhs_df['population_population_growth_annual_percentage'], method='spearman'))\n",
    "print('Correlación kendall: ', bhs_df['temperature_change_temp_change_celsius'].corr(bhs_df['population_population_growth_annual_percentage'], method='kendall'))"
   ]
  },
  {
   "cell_type": "code",
   "execution_count": 16,
   "id": "b59c8a92",
   "metadata": {},
   "outputs": [
    {
     "data": {
      "image/png": "[encoded data removed]",
      "text/plain": [
       "<Figure size 432x288 with 1 Axes>"
      ]
     },
     "metadata": {
      "needs_background": "light"
     },
     "output_type": "display_data"
    }
   ],
   "source": [
    "plt.scatter(bhs_df.population_population_growth_annual_percentage, bhs_df.temperature_change_temp_change_celsius )\n",
    "plt.xlabel('population_population_growth_annual_percentage')\n",
    "plt.ylabel('temperature_change_temp_change_celsius')\n",
    "plt.show()"
   ]
  },
  {
   "cell_type": "code",
   "execution_count": 17,
   "id": "8fafb202",
   "metadata": {},
   "outputs": [
    {
     "name": "stdout",
     "output_type": "stream",
     "text": [
      "Correlación Pearson:  0.3497399047625462\n",
      "Correlación spearman:  0.21078431372549022\n",
      "Correlación kendall:  0.14705882352941174\n"
     ]
    }
   ],
   "source": [
    "print('Correlación Pearson: ', bhs_df['temperature_change_temp_change_celsius'].corr(bhs_df['annual_co2_emissions_tons'], method='pearson'))\n",
    "print('Correlación spearman: ', bhs_df['temperature_change_temp_change_celsius'].corr(bhs_df['annual_co2_emissions_tons'], method='spearman'))\n",
    "print('Correlación kendall: ', bhs_df['temperature_change_temp_change_celsius'].corr(bhs_df['annual_co2_emissions_tons'], method='kendall'))"
   ]
  },
  {
   "cell_type": "code",
   "execution_count": 18,
   "id": "19a356ec",
   "metadata": {},
   "outputs": [
    {
     "data": {
      "image/png": "[encoded data removed]",
      "text/plain": [
       "<Figure size 432x288 with 1 Axes>"
      ]
     },
     "metadata": {
      "needs_background": "light"
     },
     "output_type": "display_data"
    }
   ],
   "source": [
    "plt.scatter(bhs_df.annual_co2_emissions_tons, bhs_df.temperature_change_temp_change_celsius )\n",
    "plt.xlabel('annual_co2_emissions_tons')\n",
    "plt.ylabel('temperature_change_temp_change_celsius')\n",
    "plt.show()"
   ]
  },
  {
   "cell_type": "code",
   "execution_count": 19,
   "id": "4d5c5b69",
   "metadata": {},
   "outputs": [
    {
     "name": "stdout",
     "output_type": "stream",
     "text": [
      "Correlación Pearson:  0.2387823620659358\n",
      "Correlación spearman:  -0.04133741772765992\n",
      "Correlación kendall:  -0.023386170701251204\n"
     ]
    }
   ],
   "source": [
    "print('Correlación Pearson: ', bhs_df['temperature_change_temp_change_celsius'].corr(bhs_df['economic_damages_as_a_share_of_gdp'], method='pearson'))\n",
    "print('Correlación spearman: ', bhs_df['temperature_change_temp_change_celsius'].corr(bhs_df['economic_damages_as_a_share_of_gdp'], method='spearman'))\n",
    "print('Correlación kendall: ', bhs_df['temperature_change_temp_change_celsius'].corr(bhs_df['economic_damages_as_a_share_of_gdp'], method='kendall'))"
   ]
  },
  {
   "cell_type": "code",
   "execution_count": 20,
   "id": "b94da0ff",
   "metadata": {},
   "outputs": [
    {
     "data": {
      "image/png": "[encoded data removed]",
      "text/plain": [
       "<Figure size 432x288 with 1 Axes>"
      ]
     },
     "metadata": {
      "needs_background": "light"
     },
     "output_type": "display_data"
    }
   ],
   "source": [
    "plt.scatter(bhs_df.economic_damages_as_a_share_of_gdp, bhs_df.temperature_change_temp_change_celsius )\n",
    "plt.xlabel('economic_damages_as_a_share_of_gdp')\n",
    "plt.ylabel('temperature_change_temp_change_celsius')\n",
    "plt.show()"
   ]
  },
  {
   "cell_type": "code",
   "execution_count": 71,
   "id": "b654a9f1",
   "metadata": {},
   "outputs": [],
   "source": [
    "# Correlación sin outlier\n",
    "#r, p = stats.pearsonr(np.delete(a, 5), np.delete(b, 5))\n",
    "#print(f\"Correlación Pearson sin outlier: r={r}, p-value={p}\")"
   ]
  },
  {
   "cell_type": "code",
   "execution_count": 21,
   "id": "f00dbb42",
   "metadata": {},
   "outputs": [
    {
     "name": "stdout",
     "output_type": "stream",
     "text": [
      "Correlación Pearson:  0.5451027025186261\n",
      "Correlación spearman:  0.034750912326237705\n",
      "Correlación kendall:  0.0\n"
     ]
    }
   ],
   "source": [
    "print('Correlación Pearson: ', bhs_df['temperature_change_temp_change_celsius'].corr(bhs_df['number_of_deaths'], method='pearson'))\n",
    "print('Correlación spearman: ', bhs_df['temperature_change_temp_change_celsius'].corr(bhs_df['number_of_deaths'], method='spearman'))\n",
    "print('Correlación kendall: ', bhs_df['temperature_change_temp_change_celsius'].corr(bhs_df['number_of_deaths'], method='kendall'))"
   ]
  },
  {
   "cell_type": "code",
   "execution_count": 22,
   "id": "a4e032b4",
   "metadata": {},
   "outputs": [
    {
     "data": {
      "image/png": "[encoded data removed]",
      "text/plain": [
       "<Figure size 432x288 with 1 Axes>"
      ]
     },
     "metadata": {
      "needs_background": "light"
     },
     "output_type": "display_data"
    }
   ],
   "source": [
    "plt.scatter(bhs_df.number_of_deaths, bhs_df.temperature_change_temp_change_celsius )\n",
    "plt.xlabel('number_of_deaths')\n",
    "plt.ylabel('temperature_change_temp_change_celsius')\n",
    "plt.show()"
   ]
  },
  {
   "cell_type": "code",
   "execution_count": 74,
   "id": "62d8b1ef",
   "metadata": {},
   "outputs": [],
   "source": [
    "# Correlación sin outlier\n",
    "#Pendiente\n"
   ]
  },
  {
   "cell_type": "code",
   "execution_count": 24,
   "id": "33ef4e68",
   "metadata": {},
   "outputs": [
    {
     "name": "stdout",
     "output_type": "stream",
     "text": [
      "Correlación Pearson:  0.7806676787264168\n",
      "Correlación spearman:  0.45699194721610714\n",
      "Correlación kendall:  0.3656857145826631\n"
     ]
    }
   ],
   "source": [
    "print('Correlación Pearson: ', bhs_df['number_of_deaths'].corr(bhs_df['economic_damages_as_a_share_of_gdp'], method='pearson'))\n",
    "print('Correlación spearman: ', bhs_df['number_of_deaths'].corr(bhs_df['economic_damages_as_a_share_of_gdp'], method='spearman'))\n",
    "print('Correlación kendall: ', bhs_df['number_of_deaths'].corr(bhs_df['economic_damages_as_a_share_of_gdp'], method='kendall'))"
   ]
  },
  {
   "cell_type": "code",
   "execution_count": 25,
   "id": "98f653b3",
   "metadata": {},
   "outputs": [
    {
     "data": {
      "image/png": "[encoded data removed]",
      "text/plain": [
       "<Figure size 432x288 with 1 Axes>"
      ]
     },
     "metadata": {
      "needs_background": "light"
     },
     "output_type": "display_data"
    }
   ],
   "source": [
    "plt.scatter(bhs_df.number_of_deaths, bhs_df.economic_damages_as_a_share_of_gdp )\n",
    "plt.xlabel('number_of_deaths')\n",
    "plt.ylabel('economic_damages_as_a_share_of_gdp')\n",
    "plt.show()"
   ]
  },
  {
   "cell_type": "code",
   "execution_count": 26,
   "id": "339195b9",
   "metadata": {},
   "outputs": [
    {
     "name": "stdout",
     "output_type": "stream",
     "text": [
      "Correlación Pearson:  0.6173768482443347\n",
      "Correlación spearman:  0.19802622978918424\n",
      "Correlación kendall:  0.14545454545454548\n"
     ]
    }
   ],
   "source": [
    "print('Correlación Pearson: ', bhs_df['people_affected_per_100k'].corr(bhs_df['economic_damages_as_a_share_of_gdp'], method='pearson'))\n",
    "print('Correlación spearman: ', bhs_df['people_affected_per_100k'].corr(bhs_df['economic_damages_as_a_share_of_gdp'], method='spearman'))\n",
    "print('Correlación kendall: ', bhs_df['people_affected_per_100k'].corr(bhs_df['economic_damages_as_a_share_of_gdp'], method='kendall'))"
   ]
  },
  {
   "cell_type": "code",
   "execution_count": 27,
   "id": "83e22c1b",
   "metadata": {},
   "outputs": [
    {
     "data": {
      "image/png": "[encoded data removed]",
      "text/plain": [
       "<Figure size 432x288 with 1 Axes>"
      ]
     },
     "metadata": {
      "needs_background": "light"
     },
     "output_type": "display_data"
    }
   ],
   "source": [
    "plt.scatter(bhs_df.people_affected_per_100k, bhs_df.economic_damages_as_a_share_of_gdp )\n",
    "plt.xlabel('people_affected_per_100k')\n",
    "plt.ylabel('economic_damages_as_a_share_of_gdp')\n",
    "plt.show()"
   ]
  },
  {
   "cell_type": "code",
   "execution_count": 80,
   "id": "81941846",
   "metadata": {},
   "outputs": [],
   "source": [
    "# Correlación sin outlier\n",
    "#Pendiente\n"
   ]
  },
  {
   "cell_type": "code",
   "execution_count": 28,
   "id": "170c45df",
   "metadata": {},
   "outputs": [
    {
     "name": "stdout",
     "output_type": "stream",
     "text": [
      "Correlación Pearson:  -0.1771804369343872\n",
      "Correlación spearman:  -0.3469837791079332\n",
      "Correlación kendall:  -0.25724787771376323\n"
     ]
    }
   ],
   "source": [
    "print('Correlación Pearson: ', bhs_df['economic_damages_as_a_share_of_gdp'].corr(bhs_df['inflation_inflation_gdp_deflation'], method='pearson'))\n",
    "print('Correlación spearman: ', bhs_df['economic_damages_as_a_share_of_gdp'].corr(bhs_df['inflation_inflation_gdp_deflation'], method='spearman'))\n",
    "print('Correlación kendall: ', bhs_df['economic_damages_as_a_share_of_gdp'].corr(bhs_df['inflation_inflation_gdp_deflation'], method='kendall'))"
   ]
  },
  {
   "cell_type": "code",
   "execution_count": 29,
   "id": "b49dfc66",
   "metadata": {},
   "outputs": [
    {
     "data": {
      "image/png": "[encoded data removed]",
      "text/plain": [
       "<Figure size 432x288 with 1 Axes>"
      ]
     },
     "metadata": {
      "needs_background": "light"
     },
     "output_type": "display_data"
    }
   ],
   "source": [
    "plt.scatter(bhs_df.inflation_inflation_gdp_deflation, bhs_df.economic_damages_as_a_share_of_gdp )\n",
    "plt.xlabel('inflation_inflation_gdp_deflation')\n",
    "plt.ylabel('economic_damages_as_a_share_of_gdp')\n",
    "plt.show()"
   ]
  },
  {
   "cell_type": "code",
   "execution_count": 30,
   "id": "be0a8fb4",
   "metadata": {},
   "outputs": [
    {
     "name": "stdout",
     "output_type": "stream",
     "text": [
      "Correlación Pearson:  0.033960749406377874\n",
      "Correlación spearman:  -0.03823529411764706\n",
      "Correlación kendall:  0.0\n"
     ]
    }
   ],
   "source": [
    "print('Correlación Pearson: ', bhs_df['inflation_inflation_gdp_deflation'].corr(bhs_df['agriculture_value_added_constants'], method='pearson'))\n",
    "print('Correlación spearman: ', bhs_df['inflation_inflation_gdp_deflation'].corr(bhs_df['agriculture_value_added_constants'], method='spearman'))\n",
    "print('Correlación kendall: ', bhs_df['inflation_inflation_gdp_deflation'].corr(bhs_df['agriculture_value_added_constants'], method='kendall'))"
   ]
  },
  {
   "cell_type": "code",
   "execution_count": 31,
   "id": "fd8b8b7e",
   "metadata": {},
   "outputs": [
    {
     "data": {
      "image/png": "[encoded data removed]",
      "text/plain": [
       "<Figure size 432x288 with 1 Axes>"
      ]
     },
     "metadata": {
      "needs_background": "light"
     },
     "output_type": "display_data"
    }
   ],
   "source": [
    "plt.scatter(bhs_df.inflation_inflation_gdp_deflation, bhs_df.agriculture_value_added_constants)\n",
    "plt.xlabel('inflation_inflation_gdp_deflation')\n",
    "plt.ylabel('agriculture_value_added_constants')\n",
    "plt.show()"
   ]
  },
  {
   "cell_type": "code",
   "execution_count": 32,
   "id": "506efa8f",
   "metadata": {},
   "outputs": [
    {
     "name": "stdout",
     "output_type": "stream",
     "text": [
      "Correlación Pearson: r=0.5792473193828191, p-value=0.014822144282046331\n",
      "Correlación Spearman: r=0.556372549019608, p-value=0.02037058662451899\n",
      "Correlación Pearson: r=0.41176470588235287, p-value=0.02172533125679204\n"
     ]
    }
   ],
   "source": [
    "# Cálculo de correlación y significancia con Scipy\n",
    "# ==============================================================================\n",
    "r, p = stats.pearsonr(bhs_df['temperature_change_temp_change_celsius'], bhs_df['population_population_total'])\n",
    "print(f\"Correlación Pearson: r={r}, p-value={p}\")\n",
    "\n",
    "r, p = stats.spearmanr(bhs_df['temperature_change_temp_change_celsius'], bhs_df['population_population_total'], nan_policy='omit')\n",
    "print(f\"Correlación Spearman: r={r}, p-value={p}\")\n",
    "\n",
    "r, p = stats.kendalltau(bhs_df['temperature_change_temp_change_celsius'], bhs_df['population_population_total'], nan_policy='omit')\n",
    "print(f\"Correlación Pearson: r={r}, p-value={p}\")"
   ]
  },
  {
   "cell_type": "markdown",
   "id": "76fb102e",
   "metadata": {},
   "source": [
    "## Normalizando una variable "
   ]
  },
  {
   "cell_type": "code",
   "execution_count": 33,
   "id": "bd7e585b",
   "metadata": {},
   "outputs": [
    {
     "data": {
      "text/html": [
       "<div>\n",
       "<style scoped>\n",
       "    .dataframe tbody tr th:only-of-type {\n",
       "        vertical-align: middle;\n",
       "    }\n",
       "\n",
       "    .dataframe tbody tr th {\n",
       "        vertical-align: top;\n",
       "    }\n",
       "\n",
       "    .dataframe thead th {\n",
       "        text-align: right;\n",
       "    }\n",
       "</style>\n",
       "<table border=\"1\" class=\"dataframe\">\n",
       "  <thead>\n",
       "    <tr style=\"text-align: right;\">\n",
       "      <th></th>\n",
       "      <th>agriculture_value_added_constants</th>\n",
       "      <th>agriculture_value_added_percentage_gdp</th>\n",
       "      <th>annual_co2_emissions_tons</th>\n",
       "      <th>inflation_inflation_gdp_deflation</th>\n",
       "      <th>economic_damages_as_a_share_of_gdp</th>\n",
       "      <th>people_affected_per_100k</th>\n",
       "      <th>number_of_deaths</th>\n",
       "      <th>population_population_growth_annual_percentage</th>\n",
       "      <th>population_population_total</th>\n",
       "      <th>temperature_change_temp_change_celsius</th>\n",
       "      <th>normalized_ND_2</th>\n",
       "    </tr>\n",
       "    <tr>\n",
       "      <th>year</th>\n",
       "      <th></th>\n",
       "      <th></th>\n",
       "      <th></th>\n",
       "      <th></th>\n",
       "      <th></th>\n",
       "      <th></th>\n",
       "      <th></th>\n",
       "      <th></th>\n",
       "      <th></th>\n",
       "      <th></th>\n",
       "      <th></th>\n",
       "    </tr>\n",
       "  </thead>\n",
       "  <tbody>\n",
       "    <tr>\n",
       "      <th>1988</th>\n",
       "      <td>NaN</td>\n",
       "      <td>NaN</td>\n",
       "      <td>1538880</td>\n",
       "      <td>1.484311</td>\n",
       "      <td>0.000000</td>\n",
       "      <td>0.0</td>\n",
       "      <td>0.0</td>\n",
       "      <td>1.706120</td>\n",
       "      <td>247451</td>\n",
       "      <td>0.490</td>\n",
       "      <td>0.000000</td>\n",
       "    </tr>\n",
       "    <tr>\n",
       "      <th>1990</th>\n",
       "      <td>124755975.2</td>\n",
       "      <td>2.208528</td>\n",
       "      <td>2022528</td>\n",
       "      <td>5.073711</td>\n",
       "      <td>0.000000</td>\n",
       "      <td>0.0</td>\n",
       "      <td>0.0</td>\n",
       "      <td>1.767491</td>\n",
       "      <td>256227</td>\n",
       "      <td>0.832</td>\n",
       "      <td>0.000000</td>\n",
       "    </tr>\n",
       "    <tr>\n",
       "      <th>1992</th>\n",
       "      <td>133825895.0</td>\n",
       "      <td>2.663011</td>\n",
       "      <td>1868640</td>\n",
       "      <td>3.905565</td>\n",
       "      <td>2.010293</td>\n",
       "      <td>0.0</td>\n",
       "      <td>4.0</td>\n",
       "      <td>1.905434</td>\n",
       "      <td>266028</td>\n",
       "      <td>0.349</td>\n",
       "      <td>0.011181</td>\n",
       "    </tr>\n",
       "    <tr>\n",
       "      <th>1995</th>\n",
       "      <td>145640936.8</td>\n",
       "      <td>2.834150</td>\n",
       "      <td>1839328</td>\n",
       "      <td>0.802435</td>\n",
       "      <td>0.002916</td>\n",
       "      <td>0.0</td>\n",
       "      <td>0.0</td>\n",
       "      <td>1.557507</td>\n",
       "      <td>280179</td>\n",
       "      <td>0.736</td>\n",
       "      <td>0.000000</td>\n",
       "    </tr>\n",
       "    <tr>\n",
       "      <th>1999</th>\n",
       "      <td>122748871.3</td>\n",
       "      <td>1.267590</td>\n",
       "      <td>2033520</td>\n",
       "      <td>0.223913</td>\n",
       "      <td>1.464106</td>\n",
       "      <td>0.0</td>\n",
       "      <td>1.0</td>\n",
       "      <td>1.184628</td>\n",
       "      <td>294063</td>\n",
       "      <td>0.704</td>\n",
       "      <td>0.002795</td>\n",
       "    </tr>\n",
       "  </tbody>\n",
       "</table>\n",
       "</div>"
      ],
      "text/plain": [
       "      agriculture_value_added_constants  \\\n",
       "year                                      \n",
       "1988                                NaN   \n",
       "1990                        124755975.2   \n",
       "1992                        133825895.0   \n",
       "1995                        145640936.8   \n",
       "1999                        122748871.3   \n",
       "\n",
       "      agriculture_value_added_percentage_gdp  annual_co2_emissions_tons  \\\n",
       "year                                                                      \n",
       "1988                                     NaN                    1538880   \n",
       "1990                                2.208528                    2022528   \n",
       "1992                                2.663011                    1868640   \n",
       "1995                                2.834150                    1839328   \n",
       "1999                                1.267590                    2033520   \n",
       "\n",
       "      inflation_inflation_gdp_deflation  economic_damages_as_a_share_of_gdp  \\\n",
       "year                                                                          \n",
       "1988                           1.484311                            0.000000   \n",
       "1990                           5.073711                            0.000000   \n",
       "1992                           3.905565                            2.010293   \n",
       "1995                           0.802435                            0.002916   \n",
       "1999                           0.223913                            1.464106   \n",
       "\n",
       "      people_affected_per_100k  number_of_deaths  \\\n",
       "year                                               \n",
       "1988                       0.0               0.0   \n",
       "1990                       0.0               0.0   \n",
       "1992                       0.0               4.0   \n",
       "1995                       0.0               0.0   \n",
       "1999                       0.0               1.0   \n",
       "\n",
       "      population_population_growth_annual_percentage  \\\n",
       "year                                                   \n",
       "1988                                        1.706120   \n",
       "1990                                        1.767491   \n",
       "1992                                        1.905434   \n",
       "1995                                        1.557507   \n",
       "1999                                        1.184628   \n",
       "\n",
       "      population_population_total  temperature_change_temp_change_celsius  \\\n",
       "year                                                                        \n",
       "1988                       247451                                   0.490   \n",
       "1990                       256227                                   0.832   \n",
       "1992                       266028                                   0.349   \n",
       "1995                       280179                                   0.736   \n",
       "1999                       294063                                   0.704   \n",
       "\n",
       "      normalized_ND_2  \n",
       "year                   \n",
       "1988         0.000000  \n",
       "1990         0.000000  \n",
       "1992         0.011181  \n",
       "1995         0.000000  \n",
       "1999         0.002795  "
      ]
     },
     "execution_count": 33,
     "metadata": {},
     "output_type": "execute_result"
    }
   ],
   "source": [
    "normalized_ND_2 = bhs_df['number_of_deaths']/np.linalg.norm(bhs_df['number_of_deaths'])\n",
    "bhs_df = bhs_df.assign(normalized_ND_2=normalized_ND_2)\n",
    "bhs_df.head()"
   ]
  },
  {
   "cell_type": "code",
   "execution_count": 34,
   "id": "1208c6d1",
   "metadata": {},
   "outputs": [
    {
     "name": "stdout",
     "output_type": "stream",
     "text": [
      "Correlación Pearson:  0.545102702518626\n",
      "Correlación spearman:  0.034750912326237705\n",
      "Correlación kendall:  0.0\n"
     ]
    }
   ],
   "source": [
    "print('Correlación Pearson: ', bhs_df['temperature_change_temp_change_celsius'].corr(bhs_df['normalized_ND_2'], method='pearson'))\n",
    "print('Correlación spearman: ', bhs_df['temperature_change_temp_change_celsius'].corr(bhs_df['normalized_ND_2'], method='spearman'))\n",
    "print('Correlación kendall: ', bhs_df['temperature_change_temp_change_celsius'].corr(bhs_df['normalized_ND_2'], method='kendall'))"
   ]
  },
  {
   "cell_type": "code",
   "execution_count": 35,
   "id": "e0da739f",
   "metadata": {},
   "outputs": [
    {
     "data": {
      "text/html": [
       "<div>\n",
       "<style scoped>\n",
       "    .dataframe tbody tr th:only-of-type {\n",
       "        vertical-align: middle;\n",
       "    }\n",
       "\n",
       "    .dataframe tbody tr th {\n",
       "        vertical-align: top;\n",
       "    }\n",
       "\n",
       "    .dataframe thead th {\n",
       "        text-align: right;\n",
       "    }\n",
       "</style>\n",
       "<table border=\"1\" class=\"dataframe\">\n",
       "  <thead>\n",
       "    <tr style=\"text-align: right;\">\n",
       "      <th></th>\n",
       "      <th>agriculture_value_added_constants</th>\n",
       "      <th>agriculture_value_added_percentage_gdp</th>\n",
       "      <th>annual_co2_emissions_tons</th>\n",
       "      <th>inflation_inflation_gdp_deflation</th>\n",
       "      <th>economic_damages_as_a_share_of_gdp</th>\n",
       "      <th>people_affected_per_100k</th>\n",
       "      <th>number_of_deaths</th>\n",
       "      <th>population_population_growth_annual_percentage</th>\n",
       "      <th>population_population_total</th>\n",
       "      <th>temperature_change_temp_change_celsius</th>\n",
       "      <th>normalized_ND_2</th>\n",
       "      <th>normalized_EDPGDP</th>\n",
       "    </tr>\n",
       "    <tr>\n",
       "      <th>year</th>\n",
       "      <th></th>\n",
       "      <th></th>\n",
       "      <th></th>\n",
       "      <th></th>\n",
       "      <th></th>\n",
       "      <th></th>\n",
       "      <th></th>\n",
       "      <th></th>\n",
       "      <th></th>\n",
       "      <th></th>\n",
       "      <th></th>\n",
       "      <th></th>\n",
       "    </tr>\n",
       "  </thead>\n",
       "  <tbody>\n",
       "    <tr>\n",
       "      <th>1988</th>\n",
       "      <td>NaN</td>\n",
       "      <td>NaN</td>\n",
       "      <td>1538880</td>\n",
       "      <td>1.484311</td>\n",
       "      <td>0.000000</td>\n",
       "      <td>0.0</td>\n",
       "      <td>0.0</td>\n",
       "      <td>1.706120</td>\n",
       "      <td>247451</td>\n",
       "      <td>0.490</td>\n",
       "      <td>0.000000</td>\n",
       "      <td>0.000000</td>\n",
       "    </tr>\n",
       "    <tr>\n",
       "      <th>1990</th>\n",
       "      <td>124755975.2</td>\n",
       "      <td>2.208528</td>\n",
       "      <td>2022528</td>\n",
       "      <td>5.073711</td>\n",
       "      <td>0.000000</td>\n",
       "      <td>0.0</td>\n",
       "      <td>0.0</td>\n",
       "      <td>1.767491</td>\n",
       "      <td>256227</td>\n",
       "      <td>0.832</td>\n",
       "      <td>0.000000</td>\n",
       "      <td>0.000000</td>\n",
       "    </tr>\n",
       "    <tr>\n",
       "      <th>1992</th>\n",
       "      <td>133825895.0</td>\n",
       "      <td>2.663011</td>\n",
       "      <td>1868640</td>\n",
       "      <td>3.905565</td>\n",
       "      <td>2.010293</td>\n",
       "      <td>0.0</td>\n",
       "      <td>4.0</td>\n",
       "      <td>1.905434</td>\n",
       "      <td>266028</td>\n",
       "      <td>0.349</td>\n",
       "      <td>0.011181</td>\n",
       "      <td>0.247199</td>\n",
       "    </tr>\n",
       "    <tr>\n",
       "      <th>1995</th>\n",
       "      <td>145640936.8</td>\n",
       "      <td>2.834150</td>\n",
       "      <td>1839328</td>\n",
       "      <td>0.802435</td>\n",
       "      <td>0.002916</td>\n",
       "      <td>0.0</td>\n",
       "      <td>0.0</td>\n",
       "      <td>1.557507</td>\n",
       "      <td>280179</td>\n",
       "      <td>0.736</td>\n",
       "      <td>0.000000</td>\n",
       "      <td>0.000359</td>\n",
       "    </tr>\n",
       "    <tr>\n",
       "      <th>1999</th>\n",
       "      <td>122748871.3</td>\n",
       "      <td>1.267590</td>\n",
       "      <td>2033520</td>\n",
       "      <td>0.223913</td>\n",
       "      <td>1.464106</td>\n",
       "      <td>0.0</td>\n",
       "      <td>1.0</td>\n",
       "      <td>1.184628</td>\n",
       "      <td>294063</td>\n",
       "      <td>0.704</td>\n",
       "      <td>0.002795</td>\n",
       "      <td>0.180036</td>\n",
       "    </tr>\n",
       "  </tbody>\n",
       "</table>\n",
       "</div>"
      ],
      "text/plain": [
       "      agriculture_value_added_constants  \\\n",
       "year                                      \n",
       "1988                                NaN   \n",
       "1990                        124755975.2   \n",
       "1992                        133825895.0   \n",
       "1995                        145640936.8   \n",
       "1999                        122748871.3   \n",
       "\n",
       "      agriculture_value_added_percentage_gdp  annual_co2_emissions_tons  \\\n",
       "year                                                                      \n",
       "1988                                     NaN                    1538880   \n",
       "1990                                2.208528                    2022528   \n",
       "1992                                2.663011                    1868640   \n",
       "1995                                2.834150                    1839328   \n",
       "1999                                1.267590                    2033520   \n",
       "\n",
       "      inflation_inflation_gdp_deflation  economic_damages_as_a_share_of_gdp  \\\n",
       "year                                                                          \n",
       "1988                           1.484311                            0.000000   \n",
       "1990                           5.073711                            0.000000   \n",
       "1992                           3.905565                            2.010293   \n",
       "1995                           0.802435                            0.002916   \n",
       "1999                           0.223913                            1.464106   \n",
       "\n",
       "      people_affected_per_100k  number_of_deaths  \\\n",
       "year                                               \n",
       "1988                       0.0               0.0   \n",
       "1990                       0.0               0.0   \n",
       "1992                       0.0               4.0   \n",
       "1995                       0.0               0.0   \n",
       "1999                       0.0               1.0   \n",
       "\n",
       "      population_population_growth_annual_percentage  \\\n",
       "year                                                   \n",
       "1988                                        1.706120   \n",
       "1990                                        1.767491   \n",
       "1992                                        1.905434   \n",
       "1995                                        1.557507   \n",
       "1999                                        1.184628   \n",
       "\n",
       "      population_population_total  temperature_change_temp_change_celsius  \\\n",
       "year                                                                        \n",
       "1988                       247451                                   0.490   \n",
       "1990                       256227                                   0.832   \n",
       "1992                       266028                                   0.349   \n",
       "1995                       280179                                   0.736   \n",
       "1999                       294063                                   0.704   \n",
       "\n",
       "      normalized_ND_2  normalized_EDPGDP  \n",
       "year                                      \n",
       "1988         0.000000           0.000000  \n",
       "1990         0.000000           0.000000  \n",
       "1992         0.011181           0.247199  \n",
       "1995         0.000000           0.000359  \n",
       "1999         0.002795           0.180036  "
      ]
     },
     "execution_count": 35,
     "metadata": {},
     "output_type": "execute_result"
    }
   ],
   "source": [
    "normalized_EDPGDP = bhs_df['economic_damages_as_a_share_of_gdp']/np.linalg.norm(bhs_df['economic_damages_as_a_share_of_gdp'])\n",
    "bhs_df = bhs_df.assign(normalized_EDPGDP=normalized_EDPGDP)\n",
    "bhs_df.head()"
   ]
  },
  {
   "cell_type": "code",
   "execution_count": 36,
   "id": "2872051e",
   "metadata": {},
   "outputs": [
    {
     "name": "stdout",
     "output_type": "stream",
     "text": [
      "(17,)\n",
      "Intercept: -0.30868816452439546\n",
      "Coefficients: [-1.42681828e-06  1.31469651e-01  3.86907654e-07]\n"
     ]
    }
   ],
   "source": [
    "# Set independent and dependent variables\n",
    "X = bhs_df[['population_population_total','temperature_change_temp_change_celsius','annual_co2_emissions_tons']]\n",
    "y = bhs_df['normalized_EDPGDP']\n",
    "\n",
    "# Initialize model from sklearn and fit it into our data\n",
    "regr = linear_model.LinearRegression()\n",
    "model = regr.fit(X, y)\n",
    "\n",
    "y_pred = regr.predict(X)\n",
    "print(y_pred.shape)\n",
    "\n",
    "print('Intercept:', model.intercept_)\n",
    "print('Coefficients:', model.coef_)"
   ]
  },
  {
   "cell_type": "code",
   "execution_count": 37,
   "id": "94ccb1a8",
   "metadata": {},
   "outputs": [
    {
     "name": "stdout",
     "output_type": "stream",
     "text": [
      "                            OLS Regression Results                            \n",
      "==============================================================================\n",
      "Dep. Variable:      normalized_EDPGDP   R-squared:                       0.200\n",
      "Model:                            OLS   Adj. R-squared:                  0.016\n",
      "Method:                 Least Squares   F-statistic:                     1.085\n",
      "Date:                Sat, 27 Aug 2022   Prob (F-statistic):              0.390\n",
      "Time:                        17:17:24   Log-Likelihood:                 4.2423\n",
      "No. Observations:                  17   AIC:                           -0.4846\n",
      "Df Residuals:                      13   BIC:                             2.848\n",
      "Df Model:                           3                                         \n",
      "Covariance Type:            nonrobust                                         \n",
      "==========================================================================================================\n",
      "                                             coef    std err          t      P>|t|      [0.025      0.975]\n",
      "----------------------------------------------------------------------------------------------------------\n",
      "const                                     -0.3087      0.445     -0.693      0.500      -1.271       0.654\n",
      "population_population_total            -1.427e-06   1.77e-06     -0.807      0.434   -5.25e-06    2.39e-06\n",
      "temperature_change_temp_change_celsius     0.1315      0.166      0.790      0.444      -0.228       0.491\n",
      "annual_co2_emissions_tons               3.869e-07   2.55e-07      1.520      0.152   -1.63e-07    9.37e-07\n",
      "==============================================================================\n",
      "Omnibus:                        5.435   Durbin-Watson:                   1.840\n",
      "Prob(Omnibus):                  0.066   Jarque-Bera (JB):                3.124\n",
      "Skew:                           1.012   Prob(JB):                        0.210\n",
      "Kurtosis:                       3.558   Cond. No.                     1.80e+07\n",
      "==============================================================================\n",
      "\n",
      "Notes:\n",
      "[1] Standard Errors assume that the covariance matrix of the errors is correctly specified.\n",
      "[2] The condition number is large, 1.8e+07. This might indicate that there are\n",
      "strong multicollinearity or other numerical problems.\n"
     ]
    },
    {
     "name": "stderr",
     "output_type": "stream",
     "text": [
      "C:\\Users\\jqu23\\anaconda3\\envs\\mlenv\\lib\\site-packages\\scipy\\stats\\stats.py:1542: UserWarning: kurtosistest only valid for n>=20 ... continuing anyway, n=17\n",
      "  \"anyway, n=%i\" % int(n))\n"
     ]
    }
   ],
   "source": [
    "X = bhs_df[['population_population_total','temperature_change_temp_change_celsius','annual_co2_emissions_tons']]\n",
    "X = sm.add_constant(X) # adding a constant\n",
    "\n",
    "olsmod = sm.OLS(bhs_df['normalized_EDPGDP'], X).fit()\n",
    "print(olsmod.summary())"
   ]
  },
  {
   "cell_type": "code",
   "execution_count": 38,
   "id": "cc0367fb",
   "metadata": {},
   "outputs": [
    {
     "name": "stdout",
     "output_type": "stream",
     "text": [
      "R2 score: 0.20026457048316704\n"
     ]
    }
   ],
   "source": [
    "print('R2 score:', olsmod.rsquared)"
   ]
  },
  {
   "cell_type": "code",
   "execution_count": 39,
   "id": "4e184492",
   "metadata": {},
   "outputs": [
    {
     "name": "stdout",
     "output_type": "stream",
     "text": [
      "F-statistic: 1.0851252886028662\n",
      "Probability of observing value at least as high as F-statistic: 0.3898734017295165\n"
     ]
    }
   ],
   "source": [
    "print('F-statistic:', olsmod.fvalue)\n",
    "print('Probability of observing value at least as high as F-statistic:', olsmod.f_pvalue)"
   ]
  },
  {
   "cell_type": "markdown",
   "id": "d610d83e",
   "metadata": {},
   "source": [
    "Because our f_pvalue is lower than 0.05 we can conclude that our model performs better than other simpler model."
   ]
  },
  {
   "cell_type": "code",
   "execution_count": 40,
   "id": "fe11f8d6",
   "metadata": {},
   "outputs": [
    {
     "name": "stdout",
     "output_type": "stream",
     "text": [
      "const                                     0.500471\n",
      "population_population_total               0.434057\n",
      "temperature_change_temp_change_celsius    0.443791\n",
      "annual_co2_emissions_tons                 0.152436\n",
      "dtype: float64\n"
     ]
    }
   ],
   "source": [
    "print(olsmod.pvalues)"
   ]
  },
  {
   "cell_type": "markdown",
   "id": "d3ddd0ba",
   "metadata": {},
   "source": [
    "All of our independent variables,  have p-value mayor than 0.05 which shows that there is not sufficient evidence that there variables affects our dependet variable."
   ]
  },
  {
   "cell_type": "code",
   "execution_count": 41,
   "id": "a9c761e6",
   "metadata": {},
   "outputs": [
    {
     "name": "stdout",
     "output_type": "stream",
     "text": [
      "Intercept: 2.233916754123957\n",
      "Coefficients: [-1.49723167]\n"
     ]
    }
   ],
   "source": [
    "# Set independent and dependent variables\n",
    "X = bhs_df[['normalized_EDPGDP']]\n",
    "y = bhs_df['inflation_inflation_gdp_deflation']\n",
    "\n",
    "# Initialize model from sklearn and fit it into our data\n",
    "regr = linear_model.LinearRegression()\n",
    "model = regr.fit(X, y)\n",
    "\n",
    "print('Intercept:', model.intercept_)\n",
    "print('Coefficients:', model.coef_)"
   ]
  },
  {
   "cell_type": "code",
   "execution_count": 42,
   "id": "46f505cd",
   "metadata": {},
   "outputs": [
    {
     "name": "stdout",
     "output_type": "stream",
     "text": [
      "                                    OLS Regression Results                                   \n",
      "=============================================================================================\n",
      "Dep. Variable:     inflation_inflation_gdp_deflation   R-squared:                       0.031\n",
      "Model:                                           OLS   Adj. R-squared:                 -0.033\n",
      "Method:                                Least Squares   F-statistic:                    0.4862\n",
      "Date:                               Sat, 27 Aug 2022   Prob (F-statistic):              0.496\n",
      "Time:                                       17:18:24   Log-Likelihood:                -33.668\n",
      "No. Observations:                                 17   AIC:                             71.34\n",
      "Df Residuals:                                     15   BIC:                             73.00\n",
      "Df Model:                                          1                                         \n",
      "Covariance Type:                           nonrobust                                         \n",
      "=====================================================================================\n",
      "                        coef    std err          t      P>|t|      [0.025      0.975]\n",
      "-------------------------------------------------------------------------------------\n",
      "const                 2.2339      0.521      4.289      0.001       1.124       3.344\n",
      "normalized_EDPGDP    -1.4972      2.147     -0.697      0.496      -6.074       3.080\n",
      "==============================================================================\n",
      "Omnibus:                        1.190   Durbin-Watson:                   1.971\n",
      "Prob(Omnibus):                  0.551   Jarque-Bera (JB):                0.964\n",
      "Skew:                           0.356   Prob(JB):                        0.618\n",
      "Kurtosis:                       2.077   Cond. No.                         4.81\n",
      "==============================================================================\n",
      "\n",
      "Notes:\n",
      "[1] Standard Errors assume that the covariance matrix of the errors is correctly specified.\n"
     ]
    },
    {
     "name": "stderr",
     "output_type": "stream",
     "text": [
      "C:\\Users\\jqu23\\anaconda3\\envs\\mlenv\\lib\\site-packages\\scipy\\stats\\stats.py:1542: UserWarning: kurtosistest only valid for n>=20 ... continuing anyway, n=17\n",
      "  \"anyway, n=%i\" % int(n))\n"
     ]
    }
   ],
   "source": [
    "X = bhs_df[['normalized_EDPGDP']]\n",
    "X = sm.add_constant(X) # adding a constant\n",
    "\n",
    "olsmod = sm.OLS(bhs_df['inflation_inflation_gdp_deflation'], X).fit()\n",
    "print(olsmod.summary())"
   ]
  },
  {
   "cell_type": "code",
   "execution_count": 43,
   "id": "7aa11b6c",
   "metadata": {},
   "outputs": [
    {
     "name": "stdout",
     "output_type": "stream",
     "text": [
      "const                0.000646\n",
      "normalized_EDPGDP    0.496313\n",
      "dtype: float64\n"
     ]
    }
   ],
   "source": [
    "print(olsmod.pvalues)"
   ]
  },
  {
   "cell_type": "markdown",
   "id": "dba44c0e",
   "metadata": {},
   "source": [
    "## Encoding"
   ]
  },
  {
   "cell_type": "code",
   "execution_count": 44,
   "id": "48d14ae7",
   "metadata": {},
   "outputs": [
    {
     "data": {
      "text/html": [
       "<div>\n",
       "<style scoped>\n",
       "    .dataframe tbody tr th:only-of-type {\n",
       "        vertical-align: middle;\n",
       "    }\n",
       "\n",
       "    .dataframe tbody tr th {\n",
       "        vertical-align: top;\n",
       "    }\n",
       "\n",
       "    .dataframe thead th {\n",
       "        text-align: right;\n",
       "    }\n",
       "</style>\n",
       "<table border=\"1\" class=\"dataframe\">\n",
       "  <thead>\n",
       "    <tr style=\"text-align: right;\">\n",
       "      <th></th>\n",
       "      <th>agriculture_value_added_constants</th>\n",
       "      <th>agriculture_value_added_percentage_gdp</th>\n",
       "      <th>annual_co2_emissions_tons</th>\n",
       "      <th>inflation_inflation_gdp_deflation</th>\n",
       "      <th>economic_damages_as_a_share_of_gdp</th>\n",
       "      <th>people_affected_per_100k</th>\n",
       "      <th>number_of_deaths</th>\n",
       "      <th>population_population_growth_annual_percentage</th>\n",
       "      <th>population_population_total</th>\n",
       "      <th>temperature_change_temp_change_celsius</th>\n",
       "      <th>normalized_ND_2</th>\n",
       "      <th>normalized_EDPGDP</th>\n",
       "    </tr>\n",
       "    <tr>\n",
       "      <th>year</th>\n",
       "      <th></th>\n",
       "      <th></th>\n",
       "      <th></th>\n",
       "      <th></th>\n",
       "      <th></th>\n",
       "      <th></th>\n",
       "      <th></th>\n",
       "      <th></th>\n",
       "      <th></th>\n",
       "      <th></th>\n",
       "      <th></th>\n",
       "      <th></th>\n",
       "    </tr>\n",
       "  </thead>\n",
       "  <tbody>\n",
       "    <tr>\n",
       "      <th>1988</th>\n",
       "      <td>NaN</td>\n",
       "      <td>NaN</td>\n",
       "      <td>1538880</td>\n",
       "      <td>1.484311</td>\n",
       "      <td>0.000000</td>\n",
       "      <td>0.0</td>\n",
       "      <td>0.0</td>\n",
       "      <td>1.706120</td>\n",
       "      <td>247451</td>\n",
       "      <td>0.490</td>\n",
       "      <td>0.000000</td>\n",
       "      <td>0.000000</td>\n",
       "    </tr>\n",
       "    <tr>\n",
       "      <th>1990</th>\n",
       "      <td>124755975.2</td>\n",
       "      <td>2.208528</td>\n",
       "      <td>2022528</td>\n",
       "      <td>5.073711</td>\n",
       "      <td>0.000000</td>\n",
       "      <td>0.0</td>\n",
       "      <td>0.0</td>\n",
       "      <td>1.767491</td>\n",
       "      <td>256227</td>\n",
       "      <td>0.832</td>\n",
       "      <td>0.000000</td>\n",
       "      <td>0.000000</td>\n",
       "    </tr>\n",
       "    <tr>\n",
       "      <th>1992</th>\n",
       "      <td>133825895.0</td>\n",
       "      <td>2.663011</td>\n",
       "      <td>1868640</td>\n",
       "      <td>3.905565</td>\n",
       "      <td>2.010293</td>\n",
       "      <td>0.0</td>\n",
       "      <td>4.0</td>\n",
       "      <td>1.905434</td>\n",
       "      <td>266028</td>\n",
       "      <td>0.349</td>\n",
       "      <td>0.011181</td>\n",
       "      <td>0.247199</td>\n",
       "    </tr>\n",
       "    <tr>\n",
       "      <th>1995</th>\n",
       "      <td>145640936.8</td>\n",
       "      <td>2.834150</td>\n",
       "      <td>1839328</td>\n",
       "      <td>0.802435</td>\n",
       "      <td>0.002916</td>\n",
       "      <td>0.0</td>\n",
       "      <td>0.0</td>\n",
       "      <td>1.557507</td>\n",
       "      <td>280179</td>\n",
       "      <td>0.736</td>\n",
       "      <td>0.000000</td>\n",
       "      <td>0.000359</td>\n",
       "    </tr>\n",
       "    <tr>\n",
       "      <th>1999</th>\n",
       "      <td>122748871.3</td>\n",
       "      <td>1.267590</td>\n",
       "      <td>2033520</td>\n",
       "      <td>0.223913</td>\n",
       "      <td>1.464106</td>\n",
       "      <td>0.0</td>\n",
       "      <td>1.0</td>\n",
       "      <td>1.184628</td>\n",
       "      <td>294063</td>\n",
       "      <td>0.704</td>\n",
       "      <td>0.002795</td>\n",
       "      <td>0.180036</td>\n",
       "    </tr>\n",
       "  </tbody>\n",
       "</table>\n",
       "</div>"
      ],
      "text/plain": [
       "      agriculture_value_added_constants  \\\n",
       "year                                      \n",
       "1988                                NaN   \n",
       "1990                        124755975.2   \n",
       "1992                        133825895.0   \n",
       "1995                        145640936.8   \n",
       "1999                        122748871.3   \n",
       "\n",
       "      agriculture_value_added_percentage_gdp  annual_co2_emissions_tons  \\\n",
       "year                                                                      \n",
       "1988                                     NaN                    1538880   \n",
       "1990                                2.208528                    2022528   \n",
       "1992                                2.663011                    1868640   \n",
       "1995                                2.834150                    1839328   \n",
       "1999                                1.267590                    2033520   \n",
       "\n",
       "      inflation_inflation_gdp_deflation  economic_damages_as_a_share_of_gdp  \\\n",
       "year                                                                          \n",
       "1988                           1.484311                            0.000000   \n",
       "1990                           5.073711                            0.000000   \n",
       "1992                           3.905565                            2.010293   \n",
       "1995                           0.802435                            0.002916   \n",
       "1999                           0.223913                            1.464106   \n",
       "\n",
       "      people_affected_per_100k  number_of_deaths  \\\n",
       "year                                               \n",
       "1988                       0.0               0.0   \n",
       "1990                       0.0               0.0   \n",
       "1992                       0.0               4.0   \n",
       "1995                       0.0               0.0   \n",
       "1999                       0.0               1.0   \n",
       "\n",
       "      population_population_growth_annual_percentage  \\\n",
       "year                                                   \n",
       "1988                                        1.706120   \n",
       "1990                                        1.767491   \n",
       "1992                                        1.905434   \n",
       "1995                                        1.557507   \n",
       "1999                                        1.184628   \n",
       "\n",
       "      population_population_total  temperature_change_temp_change_celsius  \\\n",
       "year                                                                        \n",
       "1988                       247451                                   0.490   \n",
       "1990                       256227                                   0.832   \n",
       "1992                       266028                                   0.349   \n",
       "1995                       280179                                   0.736   \n",
       "1999                       294063                                   0.704   \n",
       "\n",
       "      normalized_ND_2  normalized_EDPGDP  \n",
       "year                                      \n",
       "1988         0.000000           0.000000  \n",
       "1990         0.000000           0.000000  \n",
       "1992         0.011181           0.247199  \n",
       "1995         0.000000           0.000359  \n",
       "1999         0.002795           0.180036  "
      ]
     },
     "execution_count": 44,
     "metadata": {},
     "output_type": "execute_result"
    }
   ],
   "source": [
    "bhs_df.head()"
   ]
  },
  {
   "cell_type": "code",
   "execution_count": 45,
   "id": "3594a9fb",
   "metadata": {},
   "outputs": [
    {
     "data": {
      "text/html": [
       "<div>\n",
       "<style scoped>\n",
       "    .dataframe tbody tr th:only-of-type {\n",
       "        vertical-align: middle;\n",
       "    }\n",
       "\n",
       "    .dataframe tbody tr th {\n",
       "        vertical-align: top;\n",
       "    }\n",
       "\n",
       "    .dataframe thead th {\n",
       "        text-align: right;\n",
       "    }\n",
       "</style>\n",
       "<table border=\"1\" class=\"dataframe\">\n",
       "  <thead>\n",
       "    <tr style=\"text-align: right;\">\n",
       "      <th></th>\n",
       "      <th>agriculture_value_added_constants</th>\n",
       "      <th>agriculture_value_added_percentage_gdp</th>\n",
       "      <th>annual_co2_emissions_tons</th>\n",
       "      <th>inflation_inflation_gdp_deflation</th>\n",
       "      <th>economic_damages_as_a_share_of_gdp</th>\n",
       "      <th>people_affected_per_100k</th>\n",
       "      <th>number_of_deaths</th>\n",
       "      <th>population_population_growth_annual_percentage</th>\n",
       "      <th>population_population_total</th>\n",
       "      <th>temperature_change_temp_change_celsius</th>\n",
       "    </tr>\n",
       "    <tr>\n",
       "      <th>year</th>\n",
       "      <th></th>\n",
       "      <th></th>\n",
       "      <th></th>\n",
       "      <th></th>\n",
       "      <th></th>\n",
       "      <th></th>\n",
       "      <th></th>\n",
       "      <th></th>\n",
       "      <th></th>\n",
       "      <th></th>\n",
       "    </tr>\n",
       "  </thead>\n",
       "  <tbody>\n",
       "    <tr>\n",
       "      <th>1988</th>\n",
       "      <td>NaN</td>\n",
       "      <td>NaN</td>\n",
       "      <td>1538880</td>\n",
       "      <td>1.484311</td>\n",
       "      <td>0.000000</td>\n",
       "      <td>0.0</td>\n",
       "      <td>0.0</td>\n",
       "      <td>1.706120</td>\n",
       "      <td>247451</td>\n",
       "      <td>0.490</td>\n",
       "    </tr>\n",
       "    <tr>\n",
       "      <th>1990</th>\n",
       "      <td>124755975.2</td>\n",
       "      <td>2.208528</td>\n",
       "      <td>2022528</td>\n",
       "      <td>5.073711</td>\n",
       "      <td>0.000000</td>\n",
       "      <td>0.0</td>\n",
       "      <td>0.0</td>\n",
       "      <td>1.767491</td>\n",
       "      <td>256227</td>\n",
       "      <td>0.832</td>\n",
       "    </tr>\n",
       "    <tr>\n",
       "      <th>1992</th>\n",
       "      <td>133825895.0</td>\n",
       "      <td>2.663011</td>\n",
       "      <td>1868640</td>\n",
       "      <td>3.905565</td>\n",
       "      <td>2.010293</td>\n",
       "      <td>0.0</td>\n",
       "      <td>4.0</td>\n",
       "      <td>1.905434</td>\n",
       "      <td>266028</td>\n",
       "      <td>0.349</td>\n",
       "    </tr>\n",
       "    <tr>\n",
       "      <th>1995</th>\n",
       "      <td>145640936.8</td>\n",
       "      <td>2.834150</td>\n",
       "      <td>1839328</td>\n",
       "      <td>0.802435</td>\n",
       "      <td>0.002916</td>\n",
       "      <td>0.0</td>\n",
       "      <td>0.0</td>\n",
       "      <td>1.557507</td>\n",
       "      <td>280179</td>\n",
       "      <td>0.736</td>\n",
       "    </tr>\n",
       "    <tr>\n",
       "      <th>1999</th>\n",
       "      <td>122748871.3</td>\n",
       "      <td>1.267590</td>\n",
       "      <td>2033520</td>\n",
       "      <td>0.223913</td>\n",
       "      <td>1.464106</td>\n",
       "      <td>0.0</td>\n",
       "      <td>1.0</td>\n",
       "      <td>1.184628</td>\n",
       "      <td>294063</td>\n",
       "      <td>0.704</td>\n",
       "    </tr>\n",
       "  </tbody>\n",
       "</table>\n",
       "</div>"
      ],
      "text/plain": [
       "      agriculture_value_added_constants  \\\n",
       "year                                      \n",
       "1988                                NaN   \n",
       "1990                        124755975.2   \n",
       "1992                        133825895.0   \n",
       "1995                        145640936.8   \n",
       "1999                        122748871.3   \n",
       "\n",
       "      agriculture_value_added_percentage_gdp  annual_co2_emissions_tons  \\\n",
       "year                                                                      \n",
       "1988                                     NaN                    1538880   \n",
       "1990                                2.208528                    2022528   \n",
       "1992                                2.663011                    1868640   \n",
       "1995                                2.834150                    1839328   \n",
       "1999                                1.267590                    2033520   \n",
       "\n",
       "      inflation_inflation_gdp_deflation  economic_damages_as_a_share_of_gdp  \\\n",
       "year                                                                          \n",
       "1988                           1.484311                            0.000000   \n",
       "1990                           5.073711                            0.000000   \n",
       "1992                           3.905565                            2.010293   \n",
       "1995                           0.802435                            0.002916   \n",
       "1999                           0.223913                            1.464106   \n",
       "\n",
       "      people_affected_per_100k  number_of_deaths  \\\n",
       "year                                               \n",
       "1988                       0.0               0.0   \n",
       "1990                       0.0               0.0   \n",
       "1992                       0.0               4.0   \n",
       "1995                       0.0               0.0   \n",
       "1999                       0.0               1.0   \n",
       "\n",
       "      population_population_growth_annual_percentage  \\\n",
       "year                                                   \n",
       "1988                                        1.706120   \n",
       "1990                                        1.767491   \n",
       "1992                                        1.905434   \n",
       "1995                                        1.557507   \n",
       "1999                                        1.184628   \n",
       "\n",
       "      population_population_total  temperature_change_temp_change_celsius  \n",
       "year                                                                       \n",
       "1988                       247451                                   0.490  \n",
       "1990                       256227                                   0.832  \n",
       "1992                       266028                                   0.349  \n",
       "1995                       280179                                   0.736  \n",
       "1999                       294063                                   0.704  "
      ]
     },
     "execution_count": 45,
     "metadata": {},
     "output_type": "execute_result"
    }
   ],
   "source": [
    "bhs_df = bhs_df.drop(['normalized_ND_2','normalized_EDPGDP'],axis=1)\n",
    "bhs_df.head()"
   ]
  },
  {
   "cell_type": "code",
   "execution_count": 46,
   "id": "6290a120",
   "metadata": {},
   "outputs": [
    {
     "name": "stdout",
     "output_type": "stream",
     "text": [
      "Scaled Dataset Using StandardScaler\n"
     ]
    },
    {
     "data": {
      "text/html": [
       "<div>\n",
       "<style scoped>\n",
       "    .dataframe tbody tr th:only-of-type {\n",
       "        vertical-align: middle;\n",
       "    }\n",
       "\n",
       "    .dataframe tbody tr th {\n",
       "        vertical-align: top;\n",
       "    }\n",
       "\n",
       "    .dataframe thead th {\n",
       "        text-align: right;\n",
       "    }\n",
       "</style>\n",
       "<table border=\"1\" class=\"dataframe\">\n",
       "  <thead>\n",
       "    <tr style=\"text-align: right;\">\n",
       "      <th></th>\n",
       "      <th>agriculture_value_added_constants</th>\n",
       "      <th>agriculture_value_added_percentage_gdp</th>\n",
       "      <th>annual_co2_emissions_tons</th>\n",
       "      <th>inflation_inflation_gdp_deflation</th>\n",
       "      <th>economic_damages_as_a_share_of_gdp</th>\n",
       "      <th>people_affected_per_100k</th>\n",
       "      <th>number_of_deaths</th>\n",
       "      <th>population_population_growth_annual_percentage</th>\n",
       "      <th>population_population_total</th>\n",
       "      <th>temperature_change_temp_change_celsius</th>\n",
       "    </tr>\n",
       "  </thead>\n",
       "  <tbody>\n",
       "    <tr>\n",
       "      <th>0</th>\n",
       "      <td>NaN</td>\n",
       "      <td>NaN</td>\n",
       "      <td>-1.887706</td>\n",
       "      <td>-0.319997</td>\n",
       "      <td>-0.568778</td>\n",
       "      <td>-0.710655</td>\n",
       "      <td>-0.288592</td>\n",
       "      <td>0.729006</td>\n",
       "      <td>-1.784962</td>\n",
       "      <td>-0.730484</td>\n",
       "    </tr>\n",
       "    <tr>\n",
       "      <th>1</th>\n",
       "      <td>0.199965</td>\n",
       "      <td>1.416858</td>\n",
       "      <td>-0.125584</td>\n",
       "      <td>1.694824</td>\n",
       "      <td>-0.568778</td>\n",
       "      <td>-0.710655</td>\n",
       "      <td>-0.288592</td>\n",
       "      <td>0.894457</td>\n",
       "      <td>-1.591764</td>\n",
       "      <td>0.155607</td>\n",
       "    </tr>\n",
       "    <tr>\n",
       "      <th>2</th>\n",
       "      <td>0.605159</td>\n",
       "      <td>2.117414</td>\n",
       "      <td>-0.686259</td>\n",
       "      <td>1.039115</td>\n",
       "      <td>0.603781</td>\n",
       "      <td>-0.710655</td>\n",
       "      <td>-0.240611</td>\n",
       "      <td>1.266342</td>\n",
       "      <td>-1.376002</td>\n",
       "      <td>-1.095802</td>\n",
       "    </tr>\n",
       "    <tr>\n",
       "      <th>3</th>\n",
       "      <td>1.132990</td>\n",
       "      <td>2.381215</td>\n",
       "      <td>-0.793054</td>\n",
       "      <td>-0.702750</td>\n",
       "      <td>-0.567077</td>\n",
       "      <td>-0.710655</td>\n",
       "      <td>-0.288592</td>\n",
       "      <td>0.328356</td>\n",
       "      <td>-1.064477</td>\n",
       "      <td>-0.093120</td>\n",
       "    </tr>\n",
       "    <tr>\n",
       "      <th>4</th>\n",
       "      <td>0.110298</td>\n",
       "      <td>-0.033538</td>\n",
       "      <td>-0.085535</td>\n",
       "      <td>-1.027489</td>\n",
       "      <td>0.285202</td>\n",
       "      <td>-0.710655</td>\n",
       "      <td>-0.276597</td>\n",
       "      <td>-0.676898</td>\n",
       "      <td>-0.758830</td>\n",
       "      <td>-0.176029</td>\n",
       "    </tr>\n",
       "  </tbody>\n",
       "</table>\n",
       "</div>"
      ],
      "text/plain": [
       "   agriculture_value_added_constants  agriculture_value_added_percentage_gdp  \\\n",
       "0                                NaN                                     NaN   \n",
       "1                           0.199965                                1.416858   \n",
       "2                           0.605159                                2.117414   \n",
       "3                           1.132990                                2.381215   \n",
       "4                           0.110298                               -0.033538   \n",
       "\n",
       "   annual_co2_emissions_tons  inflation_inflation_gdp_deflation  \\\n",
       "0                  -1.887706                          -0.319997   \n",
       "1                  -0.125584                           1.694824   \n",
       "2                  -0.686259                           1.039115   \n",
       "3                  -0.793054                          -0.702750   \n",
       "4                  -0.085535                          -1.027489   \n",
       "\n",
       "   economic_damages_as_a_share_of_gdp  people_affected_per_100k  \\\n",
       "0                           -0.568778                 -0.710655   \n",
       "1                           -0.568778                 -0.710655   \n",
       "2                            0.603781                 -0.710655   \n",
       "3                           -0.567077                 -0.710655   \n",
       "4                            0.285202                 -0.710655   \n",
       "\n",
       "   number_of_deaths  population_population_growth_annual_percentage  \\\n",
       "0         -0.288592                                        0.729006   \n",
       "1         -0.288592                                        0.894457   \n",
       "2         -0.240611                                        1.266342   \n",
       "3         -0.288592                                        0.328356   \n",
       "4         -0.276597                                       -0.676898   \n",
       "\n",
       "   population_population_total  temperature_change_temp_change_celsius  \n",
       "0                    -1.784962                               -0.730484  \n",
       "1                    -1.591764                                0.155607  \n",
       "2                    -1.376002                               -1.095802  \n",
       "3                    -1.064477                               -0.093120  \n",
       "4                    -0.758830                               -0.176029  "
      ]
     },
     "execution_count": 46,
     "metadata": {},
     "output_type": "execute_result"
    }
   ],
   "source": [
    "from sklearn.preprocessing import StandardScaler\n",
    " \n",
    "std_scaler = StandardScaler()\n",
    " \n",
    "df_scaled = std_scaler.fit_transform(bhs_df.to_numpy())\n",
    "df_scaled = pd.DataFrame(df_scaled, columns=[\n",
    " 'agriculture_value_added_constants',\n",
    " 'agriculture_value_added_percentage_gdp',\n",
    " 'annual_co2_emissions_tons',\n",
    " 'inflation_inflation_gdp_deflation',\n",
    " 'economic_damages_as_a_share_of_gdp',\n",
    " 'people_affected_per_100k',\n",
    " 'number_of_deaths',\n",
    " 'population_population_growth_annual_percentage',\n",
    " 'population_population_total',\n",
    " 'temperature_change_temp_change_celsius',\n",
    "])\n",
    " \n",
    "print(\"Scaled Dataset Using StandardScaler\")\n",
    "df_scaled.head()"
   ]
  },
  {
   "cell_type": "code",
   "execution_count": 47,
   "id": "dfacf95d",
   "metadata": {},
   "outputs": [
    {
     "name": "stdout",
     "output_type": "stream",
     "text": [
      "<class 'pandas.core.frame.DataFrame'>\n",
      "RangeIndex: 17 entries, 0 to 16\n",
      "Data columns (total 10 columns):\n",
      " #   Column                                          Non-Null Count  Dtype  \n",
      "---  ------                                          --------------  -----  \n",
      " 0   agriculture_value_added_constants               16 non-null     float64\n",
      " 1   agriculture_value_added_percentage_gdp          16 non-null     float64\n",
      " 2   annual_co2_emissions_tons                       17 non-null     float64\n",
      " 3   inflation_inflation_gdp_deflation               17 non-null     float64\n",
      " 4   economic_damages_as_a_share_of_gdp              17 non-null     float64\n",
      " 5   people_affected_per_100k                        17 non-null     float64\n",
      " 6   number_of_deaths                                17 non-null     float64\n",
      " 7   population_population_growth_annual_percentage  17 non-null     float64\n",
      " 8   population_population_total                     17 non-null     float64\n",
      " 9   temperature_change_temp_change_celsius          17 non-null     float64\n",
      "dtypes: float64(10)\n",
      "memory usage: 1.5 KB\n"
     ]
    }
   ],
   "source": [
    "df_scaled.info()"
   ]
  },
  {
   "cell_type": "markdown",
   "id": "738f0235",
   "metadata": {},
   "source": [
    "### Dependent Variable"
   ]
  },
  {
   "cell_type": "markdown",
   "id": "cb59c064",
   "metadata": {},
   "source": [
    "La variable \"economic_damages_as_a_share_of_gdp\" tiene una distribución asimétrica con una cola positiva. Este tipo de distribución suele visualizarse mejor tras aplicar el logarítmica o la raíz cuadrada."
   ]
  },
  {
   "cell_type": "code",
   "execution_count": 48,
   "id": "e7a26bec",
   "metadata": {},
   "outputs": [
    {
     "name": "stderr",
     "output_type": "stream",
     "text": [
      "C:\\Users\\jqu23\\anaconda3\\envs\\mlenv\\lib\\site-packages\\seaborn\\distributions.py:2619: FutureWarning: `distplot` is a deprecated function and will be removed in a future version. Please adapt your code to use either `displot` (a figure-level function with similar flexibility) or `kdeplot` (an axes-level function for kernel density plots).\n",
      "  warnings.warn(msg, FutureWarning)\n",
      "C:\\Users\\jqu23\\anaconda3\\envs\\mlenv\\lib\\site-packages\\seaborn\\distributions.py:2103: FutureWarning: The `axis` variable is no longer used and will be removed. Instead, assign variables directly to `x` or `y`.\n",
      "  warnings.warn(msg, FutureWarning)\n",
      "C:\\Users\\jqu23\\anaconda3\\envs\\mlenv\\lib\\site-packages\\seaborn\\distributions.py:2619: FutureWarning: `distplot` is a deprecated function and will be removed in a future version. Please adapt your code to use either `displot` (a figure-level function with similar flexibility) or `kdeplot` (an axes-level function for kernel density plots).\n",
      "  warnings.warn(msg, FutureWarning)\n",
      "C:\\Users\\jqu23\\anaconda3\\envs\\mlenv\\lib\\site-packages\\seaborn\\distributions.py:2103: FutureWarning: The `axis` variable is no longer used and will be removed. Instead, assign variables directly to `x` or `y`.\n",
      "  warnings.warn(msg, FutureWarning)\n",
      "C:\\Users\\jqu23\\anaconda3\\envs\\mlenv\\lib\\site-packages\\seaborn\\distributions.py:2619: FutureWarning: `distplot` is a deprecated function and will be removed in a future version. Please adapt your code to use either `displot` (a figure-level function with similar flexibility) or `kdeplot` (an axes-level function for kernel density plots).\n",
      "  warnings.warn(msg, FutureWarning)\n",
      "C:\\Users\\jqu23\\anaconda3\\envs\\mlenv\\lib\\site-packages\\seaborn\\distributions.py:2103: FutureWarning: The `axis` variable is no longer used and will be removed. Instead, assign variables directly to `x` or `y`.\n",
      "  warnings.warn(msg, FutureWarning)\n"
     ]
    },
    {
     "data": {
      "image/png": "[encoded data removed]",
      "text/plain": [
       "<Figure size 432x432 with 3 Axes>"
      ]
     },
     "metadata": {
      "needs_background": "light"
     },
     "output_type": "display_data"
    }
   ],
   "source": [
    "fig, axes = plt.subplots(nrows=3, ncols=1, figsize=(6, 6))\n",
    "sb.distplot(\n",
    "    df_scaled.economic_damages_as_a_share_of_gdp,\n",
    "    hist    = False,\n",
    "    rug     = True,\n",
    "    color   = \"blue\",\n",
    "    kde_kws = {'shade': True, 'linewidth': 1},\n",
    "    ax      = axes[0]\n",
    ")\n",
    "axes[0].set_title(\"Distribución original\", fontsize = 'medium')\n",
    "axes[0].set_xlabel('precio', fontsize='small') \n",
    "axes[0].tick_params(labelsize = 6)\n",
    "\n",
    "sb.distplot(\n",
    "    np.sqrt(df_scaled.economic_damages_as_a_share_of_gdp),\n",
    "    hist    = False,\n",
    "    rug     = True,\n",
    "    color   = \"blue\",\n",
    "    kde_kws = {'shade': True, 'linewidth': 1},\n",
    "    ax      = axes[1]\n",
    ")\n",
    "axes[1].set_title(\"Transformación raíz cuadrada\", fontsize = 'medium')\n",
    "axes[1].set_xlabel('sqrt(economic_damages_as_a_share_of_gdp)', fontsize='small') \n",
    "axes[1].tick_params(labelsize = 6)\n",
    "\n",
    "sb.distplot(\n",
    "    np.log(df_scaled.economic_damages_as_a_share_of_gdp),\n",
    "    hist    = False,\n",
    "    rug     = True,\n",
    "    color   = \"blue\",\n",
    "    kde_kws = {'shade': True, 'linewidth': 1},\n",
    "    ax      = axes[2]\n",
    ")\n",
    "axes[2].set_title(\"Transformación logarítmica\", fontsize = 'medium')\n",
    "axes[2].set_xlabel('log(economic_damages_as_a_share_of_gdp)', fontsize='small') \n",
    "axes[2].tick_params(labelsize = 6)\n",
    "\n",
    "fig.tight_layout()"
   ]
  },
  {
   "cell_type": "code",
   "execution_count": 49,
   "id": "4054b5b6",
   "metadata": {},
   "outputs": [
    {
     "data": {
      "text/html": [
       "<div>\n",
       "<style scoped>\n",
       "    .dataframe tbody tr th:only-of-type {\n",
       "        vertical-align: middle;\n",
       "    }\n",
       "\n",
       "    .dataframe tbody tr th {\n",
       "        vertical-align: top;\n",
       "    }\n",
       "\n",
       "    .dataframe thead th {\n",
       "        text-align: right;\n",
       "    }\n",
       "</style>\n",
       "<table border=\"1\" class=\"dataframe\">\n",
       "  <thead>\n",
       "    <tr style=\"text-align: right;\">\n",
       "      <th></th>\n",
       "      <th>sumsquare_error</th>\n",
       "      <th>aic</th>\n",
       "      <th>bic</th>\n",
       "      <th>kl_div</th>\n",
       "      <th>ks_statistic</th>\n",
       "      <th>ks_pvalue</th>\n",
       "    </tr>\n",
       "  </thead>\n",
       "  <tbody>\n",
       "    <tr>\n",
       "      <th>cauchy</th>\n",
       "      <td>42.845578</td>\n",
       "      <td>1012.974205</td>\n",
       "      <td>21.381041</td>\n",
       "      <td>inf</td>\n",
       "      <td>0.435560</td>\n",
       "      <td>0.001888</td>\n",
       "    </tr>\n",
       "    <tr>\n",
       "      <th>gamma</th>\n",
       "      <td>78.879186</td>\n",
       "      <td>635.812904</td>\n",
       "      <td>34.589609</td>\n",
       "      <td>inf</td>\n",
       "      <td>0.352940</td>\n",
       "      <td>0.021250</td>\n",
       "    </tr>\n",
       "    <tr>\n",
       "      <th>exponpow</th>\n",
       "      <td>96.569409</td>\n",
       "      <td>489.397140</td>\n",
       "      <td>38.029467</td>\n",
       "      <td>inf</td>\n",
       "      <td>0.352881</td>\n",
       "      <td>0.021282</td>\n",
       "    </tr>\n",
       "    <tr>\n",
       "      <th>beta</th>\n",
       "      <td>108.864185</td>\n",
       "      <td>484.928744</td>\n",
       "      <td>42.899945</td>\n",
       "      <td>inf</td>\n",
       "      <td>0.348976</td>\n",
       "      <td>0.023529</td>\n",
       "    </tr>\n",
       "    <tr>\n",
       "      <th>powerlaw</th>\n",
       "      <td>114.918542</td>\n",
       "      <td>356.220874</td>\n",
       "      <td>40.986813</td>\n",
       "      <td>inf</td>\n",
       "      <td>0.377525</td>\n",
       "      <td>0.010980</td>\n",
       "    </tr>\n",
       "    <tr>\n",
       "      <th>chi2</th>\n",
       "      <td>126.879548</td>\n",
       "      <td>408.587441</td>\n",
       "      <td>42.670062</td>\n",
       "      <td>inf</td>\n",
       "      <td>0.445389</td>\n",
       "      <td>0.001361</td>\n",
       "    </tr>\n",
       "    <tr>\n",
       "      <th>lognorm</th>\n",
       "      <td>141.304734</td>\n",
       "      <td>738.418145</td>\n",
       "      <td>44.500633</td>\n",
       "      <td>inf</td>\n",
       "      <td>0.351922</td>\n",
       "      <td>0.021816</td>\n",
       "    </tr>\n",
       "    <tr>\n",
       "      <th>expon</th>\n",
       "      <td>154.236445</td>\n",
       "      <td>533.080696</td>\n",
       "      <td>43.156075</td>\n",
       "      <td>inf</td>\n",
       "      <td>0.484819</td>\n",
       "      <td>0.000334</td>\n",
       "    </tr>\n",
       "    <tr>\n",
       "      <th>logistic</th>\n",
       "      <td>179.587435</td>\n",
       "      <td>573.026859</td>\n",
       "      <td>45.743057</td>\n",
       "      <td>inf</td>\n",
       "      <td>0.316616</td>\n",
       "      <td>0.051575</td>\n",
       "    </tr>\n",
       "    <tr>\n",
       "      <th>norm</th>\n",
       "      <td>183.457142</td>\n",
       "      <td>456.826326</td>\n",
       "      <td>46.105478</td>\n",
       "      <td>inf</td>\n",
       "      <td>0.323120</td>\n",
       "      <td>0.044342</td>\n",
       "    </tr>\n",
       "  </tbody>\n",
       "</table>\n",
       "</div>"
      ],
      "text/plain": [
       "          sumsquare_error          aic        bic  kl_div  ks_statistic  \\\n",
       "cauchy          42.845578  1012.974205  21.381041     inf      0.435560   \n",
       "gamma           78.879186   635.812904  34.589609     inf      0.352940   \n",
       "exponpow        96.569409   489.397140  38.029467     inf      0.352881   \n",
       "beta           108.864185   484.928744  42.899945     inf      0.348976   \n",
       "powerlaw       114.918542   356.220874  40.986813     inf      0.377525   \n",
       "chi2           126.879548   408.587441  42.670062     inf      0.445389   \n",
       "lognorm        141.304734   738.418145  44.500633     inf      0.351922   \n",
       "expon          154.236445   533.080696  43.156075     inf      0.484819   \n",
       "logistic       179.587435   573.026859  45.743057     inf      0.316616   \n",
       "norm           183.457142   456.826326  46.105478     inf      0.323120   \n",
       "\n",
       "          ks_pvalue  \n",
       "cauchy     0.001888  \n",
       "gamma      0.021250  \n",
       "exponpow   0.021282  \n",
       "beta       0.023529  \n",
       "powerlaw   0.010980  \n",
       "chi2       0.001361  \n",
       "lognorm    0.021816  \n",
       "expon      0.000334  \n",
       "logistic   0.051575  \n",
       "norm       0.044342  "
      ]
     },
     "execution_count": 49,
     "metadata": {},
     "output_type": "execute_result"
    }
   ],
   "source": [
    "from fitter import Fitter\n",
    "distribuciones = ['cauchy', 'chi2', 'expon',  'exponpow', 'gamma',\n",
    "                  'norm', 'powerlaw', 'beta', 'logistic', 'lognorm']\n",
    "\n",
    "fitter = Fitter(df_scaled.economic_damages_as_a_share_of_gdp, distributions=distribuciones)\n",
    "fitter.fit()\n",
    "fitter.summary(Nbest=10, plot=False)"
   ]
  },
  {
   "cell_type": "code",
   "execution_count": 50,
   "id": "7ecabdeb",
   "metadata": {},
   "outputs": [
    {
     "data": {
      "image/png": "[encoded data removed]",
      "text/plain": [
       "<Figure size 648x360 with 8 Axes>"
      ]
     },
     "metadata": {
      "needs_background": "light"
     },
     "output_type": "display_data"
    }
   ],
   "source": [
    "# Gráfico de distribución para cada variable numérica\n",
    "# ==============================================================================\n",
    "# Ajustar número de subplots en función del número de columnas\n",
    "fig, axes = plt.subplots(nrows=3, ncols=3, figsize=(9, 5))\n",
    "axes = axes.flat\n",
    "columnas_numeric = df_scaled.select_dtypes(include=['float64', 'int']).columns\n",
    "columnas_numeric = columnas_numeric.drop('economic_damages_as_a_share_of_gdp')\n",
    "\n",
    "for i, colum in enumerate(columnas_numeric):\n",
    "    sb.regplot(\n",
    "        x           = df_scaled[colum],\n",
    "        y           = df_scaled['economic_damages_as_a_share_of_gdp'],\n",
    "        color       = \"gray\",\n",
    "        marker      = '.',\n",
    "        scatter_kws = {\"alpha\":0.4},\n",
    "        line_kws    = {\"color\":\"r\",\"alpha\":0.7},\n",
    "        ax          = axes[i]\n",
    "    )\n",
    "    axes[i].set_title(f\"(economic_damages_as_a_share_of_gdp) vs {colum}\", fontsize = 7, fontweight = \"bold\")\n",
    "    #axes[i].ticklabel_format(style='sci', scilimits=(-4,4), axis='both')\n",
    "    axes[i].yaxis.set_major_formatter(ticker.EngFormatter())\n",
    "    axes[i].xaxis.set_major_formatter(ticker.EngFormatter())\n",
    "    axes[i].tick_params(labelsize = 6)\n",
    "    axes[i].set_xlabel(\"\")\n",
    "    axes[i].set_ylabel(\"\")\n",
    "\n",
    "# Se eliminan los axes vacíos\n",
    "for i in [8]:\n",
    "    fig.delaxes(axes[i])\n",
    "    \n",
    "fig.tight_layout()\n",
    "plt.subplots_adjust(top=0.9)\n",
    "fig.suptitle('Correlación con economic_damages_as_a_share_of_gdp', fontsize = 10, fontweight = \"bold\");"
   ]
  },
  {
   "cell_type": "markdown",
   "id": "2e963d81",
   "metadata": {},
   "source": [
    "-------------------------------------------------------------------------------------------------------------------------------\n",
    "-------------------------------------------------------------------------------------------------------------------------------"
   ]
  },
  {
   "cell_type": "markdown",
   "id": "a820aa09",
   "metadata": {},
   "source": [
    "### ROBUST MODELS"
   ]
  },
  {
   "cell_type": "markdown",
   "id": "a3ec7235",
   "metadata": {},
   "source": [
    "### linear regression on a dataset with outliers"
   ]
  },
  {
   "cell_type": "code",
   "execution_count": 51,
   "id": "9d91bdd1",
   "metadata": {},
   "outputs": [
    {
     "name": "stdout",
     "output_type": "stream",
     "text": [
      "(17, 1) (17,)\n"
     ]
    },
    {
     "data": {
      "image/png": "[encoded data removed]",
      "text/plain": [
       "<Figure size 432x288 with 1 Axes>"
      ]
     },
     "metadata": {
      "needs_background": "light"
     },
     "output_type": "display_data"
    }
   ],
   "source": [
    "# linear regression on a dataset with outliers\n",
    "from random import random\n",
    "from random import randint\n",
    "from random import seed\n",
    "from numpy import arange\n",
    "from numpy import mean\n",
    "from numpy import std\n",
    "from numpy import absolute\n",
    "from sklearn.datasets import make_regression\n",
    "from sklearn.linear_model import LinearRegression\n",
    "from sklearn.model_selection import cross_val_score\n",
    "from sklearn.model_selection import RepeatedKFold\n",
    "from matplotlib import pyplot\n",
    " \n",
    "# prepare the dataset\n",
    "# Set independent and dependent variables\n",
    "X = df_scaled[['people_affected_per_100k']]\n",
    "y = df_scaled['economic_damages_as_a_share_of_gdp']\n",
    "# summarize shape\n",
    "print(X.shape, y.shape)\n",
    "# scatter plot of input vs output\n",
    "pyplot.scatter(X, y)\n",
    "pyplot.show()"
   ]
  },
  {
   "cell_type": "code",
   "execution_count": 52,
   "id": "bd7d999b",
   "metadata": {},
   "outputs": [
    {
     "name": "stdout",
     "output_type": "stream",
     "text": [
      "Mean MAE: 0.760 (0.587)\n",
      "The parameters of the line: [0.61737685]\n"
     ]
    },
    {
     "data": {
      "image/png": "[encoded data removed]",
      "text/plain": [
       "<Figure size 432x288 with 1 Axes>"
      ]
     },
     "metadata": {
      "needs_background": "light"
     },
     "output_type": "display_data"
    }
   ],
   "source": [
    "# evaluate a model\n",
    "def evaluate_model(X, y, model):\n",
    "    # define model evaluation method\n",
    "    cv = RepeatedKFold(n_splits=10, n_repeats=3, random_state=1)\n",
    "    # evaluate model\n",
    "    scores = cross_val_score(model, X, y, scoring='neg_mean_absolute_error', cv=cv, n_jobs=-1)\n",
    "    # force scores to be positive\n",
    "    return absolute(scores)\n",
    "\n",
    "\n",
    "# Set independent and dependent variables\n",
    "X = df_scaled[['people_affected_per_100k']]\n",
    "y = df_scaled['economic_damages_as_a_share_of_gdp']\n",
    "# define the model\n",
    "model = LinearRegression()\n",
    "# evaluate model\n",
    "results = evaluate_model(X, y, model)\n",
    "print('Mean MAE: %.3f (%.3f)' % (mean(results), std(results)))\n",
    "\n",
    "\n",
    "# Calculating the parameters using the least square method\n",
    "theta = np.linalg.inv(X.T.dot(X)).dot(X.T).dot(y)\n",
    "\n",
    "print(f'The parameters of the line: {theta}')\n",
    "\n",
    "# Now, calculating the y-axis values against x-values according to\n",
    "# the parameters theta0 and theta1\n",
    "y_line = X.dot(theta)\n",
    "plt.scatter(X, y)\n",
    "plt.plot(X, y_line, 'r')\n",
    "plt.title('Best fit line using regression method')\n",
    "plt.xlabel('x-axis')\n",
    "plt.ylabel('y-axis')\n",
    "\n",
    "plt.show()"
   ]
  },
  {
   "cell_type": "markdown",
   "id": "2fc02512",
   "metadata": {},
   "source": [
    "### Huber regression on a dataset with outliers - Robust model-\n",
    "La regresión de Huber es un tipo de regresión robusta que es consciente de la posibilidad de valores atípicos en un conjunto de datos y les asigna menos peso que otros ejemplos en el conjunto de datos.\n",
    "\n",
    "Podemos usar la regresión de Huber a través de la clase HuberRegressor en scikit-learn. El argumento \" épsilon \" controla lo que se considera un valor atípico, donde los valores más pequeños consideran más valores atípicos de los datos y, a su vez, hacen que el modelo sea más robusto para los valores atípicos. El valor predeterminado es 1,35."
   ]
  },
  {
   "cell_type": "code",
   "execution_count": 53,
   "id": "fbd4600a",
   "metadata": {},
   "outputs": [
    {
     "name": "stdout",
     "output_type": "stream",
     "text": [
      "Mean MAE: 0.822 (0.615)\n"
     ]
    }
   ],
   "source": [
    "# huber regression on a dataset with outliers\n",
    "from random import random\n",
    "from random import randint\n",
    "from random import seed\n",
    "from numpy import arange\n",
    "from numpy import mean\n",
    "from numpy import std\n",
    "from numpy import absolute\n",
    "from sklearn.datasets import make_regression\n",
    "from sklearn.linear_model import HuberRegressor\n",
    "from sklearn.model_selection import cross_val_score\n",
    "from sklearn.model_selection import RepeatedKFold\n",
    "from matplotlib import pyplot\n",
    "\n",
    "# prepare the dataset\n",
    "# Set independent and dependent variables\n",
    "X = df_scaled[['people_affected_per_100k']]\n",
    "y = df_scaled['economic_damages_as_a_share_of_gdp']\n",
    "\n",
    "# evaluate a model\n",
    "def evaluate_model(X, y, model):\n",
    "    # define model evaluation method\n",
    "    cv = RepeatedKFold(n_splits=10, n_repeats=3, random_state=1)\n",
    "    # evaluate model\n",
    "    scores = cross_val_score(model, X, y, scoring='neg_mean_absolute_error', cv=cv, n_jobs=-1)\n",
    "    # force scores to be positive\n",
    "    return absolute(scores)\n",
    " \n",
    "# load dataset\n",
    "X = df_scaled[['people_affected_per_100k']]\n",
    "y = df_scaled['economic_damages_as_a_share_of_gdp']\n",
    "# define the model\n",
    "model = HuberRegressor()\n",
    "# evaluate model\n",
    "results = evaluate_model(X, y, model)\n",
    "print('Mean MAE: %.3f (%.3f)' % (mean(results), std(results)))\n",
    "\n",
    "\n"
   ]
  },
  {
   "cell_type": "markdown",
   "id": "f4764bb5",
   "metadata": {},
   "source": [
    "### Regresión RANSAC\n",
    "\n",
    "Random Sample Consensus , o RANSAC para abreviar, es otro algoritmo de regresión robusto.\n",
    "\n",
    "RANSAC intenta separar los datos en valores atípicos e internos y ajusta el modelo en los valores internos.\n",
    "\n",
    "La biblioteca scikit-learn proporciona una implementación a través de la clase RANSACRegressor ."
   ]
  },
  {
   "cell_type": "code",
   "execution_count": 54,
   "id": "8f42b1c7",
   "metadata": {},
   "outputs": [
    {
     "name": "stdout",
     "output_type": "stream",
     "text": [
      "Mean MAE: 0.545 (0.708)\n"
     ]
    }
   ],
   "source": [
    "# ransac regression on a dataset with outliers\n",
    "from random import random\n",
    "from random import randint\n",
    "from random import seed\n",
    "from numpy import arange\n",
    "from numpy import mean\n",
    "from numpy import std\n",
    "from numpy import absolute\n",
    "from sklearn.datasets import make_regression\n",
    "from sklearn.linear_model import RANSACRegressor\n",
    "from sklearn.model_selection import cross_val_score\n",
    "from sklearn.model_selection import RepeatedKFold\n",
    "from matplotlib import pyplot\n",
    " \n",
    "# prepare the dataset\n",
    "# Set independent and dependent variables\n",
    "X = df_scaled[['people_affected_per_100k']]\n",
    "y = df_scaled['economic_damages_as_a_share_of_gdp']\n",
    " \n",
    "# evaluate a model\n",
    "def evaluate_model(X, y, model):\n",
    "    # define model evaluation method\n",
    "    cv = RepeatedKFold(n_splits=10, n_repeats=3, random_state=1)\n",
    "    # evaluate model\n",
    "    scores = cross_val_score(model, X, y, scoring='neg_mean_absolute_error', cv=cv, n_jobs=-1)\n",
    "    # force scores to be positive\n",
    "    return absolute(scores)\n",
    "evaluate_model(X, y, model).any()\n",
    " \n",
    "# load dataset\n",
    "X = df_scaled[['people_affected_per_100k']]\n",
    "y = df_scaled['economic_damages_as_a_share_of_gdp']\n",
    "# define the model\n",
    "model = RANSACRegressor()\n",
    "# evaluate model\n",
    "results = evaluate_model(X, y, model)\n",
    "print('Mean MAE: %.3f (%.3f)' % (mean(results), std(results)))\n",
    "# plot the line of best fit\n"
   ]
  },
  {
   "cell_type": "markdown",
   "id": "94f8b7de",
   "metadata": {},
   "source": [
    "### Regresión de Theil Sen\n",
    "La regresión de Theil Sen implica ajustar modelos de regresión múltiple en subconjuntos de los datos de entrenamiento y combinar los coeficientes al final.\n",
    "\n",
    "El scikit-learn proporciona una implementación a través de la clase TheilSenRegressor ."
   ]
  },
  {
   "cell_type": "code",
   "execution_count": 55,
   "id": "7a08e0f1",
   "metadata": {},
   "outputs": [
    {
     "name": "stdout",
     "output_type": "stream",
     "text": [
      "(17, 1)\n",
      "(17,)\n",
      "Mean MAE: 2.541 (7.616)\n"
     ]
    }
   ],
   "source": [
    "# theilsen regression on a dataset with outliers\n",
    "from random import random\n",
    "from random import randint\n",
    "from random import seed\n",
    "from numpy import arange\n",
    "from numpy import mean\n",
    "from numpy import std\n",
    "from numpy import absolute\n",
    "from sklearn.datasets import make_regression\n",
    "from sklearn.linear_model import TheilSenRegressor\n",
    "from sklearn.model_selection import cross_val_score\n",
    "from sklearn.model_selection import RepeatedKFold\n",
    "from matplotlib import pyplot\n",
    " \n",
    "# prepare the dataset\n",
    "# Set independent and dependent variables\n",
    "X = df_scaled[['people_affected_per_100k']]\n",
    "y = df_scaled['economic_damages_as_a_share_of_gdp']\n",
    "\n",
    "print(X.shape)\n",
    "print(y.shape)\n",
    "\n",
    "# evaluate a model\n",
    "def evaluate_model(X, y, model):\n",
    "    # define model evaluation method\n",
    "    cv = RepeatedKFold(n_splits=10, n_repeats=3, random_state=1)\n",
    "    # evaluate model\n",
    "    scores = cross_val_score(model, X, y, scoring='neg_mean_absolute_error', cv=cv, n_jobs=-1)\n",
    "    # force scores to be positive\n",
    "    return absolute(scores)\n",
    " \n",
    "# plot the dataset and the model's line of best fit\n",
    "def plot_best_fit(X, y, model):\n",
    "\t# fit the model on all data\n",
    "\tmodel.fit(X.values.reshape(-1, 1), y)\n",
    "\t# calculate outputs for grid across the domain\n",
    "\ty_pred = model.predict(X.values.reshape(-1, 1))\n",
    "\t# plot the line of best fit\n",
    "\tpyplot.plot(X, y_pred, label=type(model).__name__)\n",
    " \n",
    "# load dataset\n",
    "# Set independent and dependent variables\n",
    "X = df_scaled[['people_affected_per_100k','temperature_change_temp_change_celsius', 'number_of_deaths']]\n",
    "y = df_scaled['economic_damages_as_a_share_of_gdp']\n",
    "# define the model\n",
    "model = TheilSenRegressor()\n",
    "# evaluate model\n",
    "results = evaluate_model(X, y, model)\n",
    "print('Mean MAE: %.3f (%.3f)' % (mean(results), std(results)))\n",
    "#plot the line of best fit\n",
    "#plot_best_fit(X, y_pred, model)"
   ]
  },
  {
   "cell_type": "markdown",
   "id": "835e19d9",
   "metadata": {},
   "source": [
    "### Comparison"
   ]
  },
  {
   "cell_type": "code",
   "execution_count": 56,
   "id": "ba731c1a",
   "metadata": {},
   "outputs": [
    {
     "name": "stdout",
     "output_type": "stream",
     "text": [
      ">Linear 0.760 (0.587)\n",
      ">Huber 0.822 (0.615)\n",
      ">RANSAC 0.541 (0.705)\n",
      ">TheilSen 0.615 (0.617)\n"
     ]
    },
    {
     "data": {
      "image/png": "[encoded data removed]",
      "text/plain": [
       "<Figure size 432x288 with 1 Axes>"
      ]
     },
     "metadata": {
      "needs_background": "light"
     },
     "output_type": "display_data"
    }
   ],
   "source": [
    "\n",
    "# compare robust regression algorithms on a regression dataset with outliers\n",
    "from random import random\n",
    "from random import randint\n",
    "from random import seed\n",
    "from numpy import mean\n",
    "from numpy import std\n",
    "from numpy import absolute\n",
    "from sklearn.datasets import make_regression\n",
    "from sklearn.model_selection import cross_val_score\n",
    "from sklearn.model_selection import RepeatedKFold\n",
    "from sklearn.linear_model import LinearRegression\n",
    "from sklearn.linear_model import HuberRegressor\n",
    "from sklearn.linear_model import RANSACRegressor\n",
    "from sklearn.linear_model import TheilSenRegressor\n",
    "from matplotlib import pyplot\n",
    " \n",
    "# prepare the dataset\n",
    "# Set independent and dependent variables\n",
    "X = df_scaled[['people_affected_per_100k']]\n",
    "y = df_scaled['economic_damages_as_a_share_of_gdp']\n",
    " \n",
    "# dictionary of model names and model objects\n",
    "def get_models():\n",
    "    models = dict()\n",
    "    models['Linear'] = LinearRegression()\n",
    "    models['Huber'] = HuberRegressor()\n",
    "    models['RANSAC'] = RANSACRegressor()\n",
    "    models['TheilSen'] = TheilSenRegressor()\n",
    "    return models\n",
    " \n",
    "# evaluate a model\n",
    "def evalute_model(X, y, model, name):\n",
    "    # define model evaluation method\n",
    "    cv = RepeatedKFold(n_splits=10, n_repeats=3, random_state=1)\n",
    "    # evaluate model\n",
    "    scores = cross_val_score(model, X, y, scoring='neg_mean_absolute_error', cv=cv, n_jobs=-1)\n",
    "    # force scores to be positive\n",
    "    scores = absolute(scores)\n",
    "    return scores\n",
    " \n",
    "# load the dataset\n",
    "# Set independent and dependent variables\n",
    "X = df_scaled[['people_affected_per_100k']]\n",
    "y = df_scaled['economic_damages_as_a_share_of_gdp']\n",
    "# retrieve models\n",
    "models = get_models()\n",
    "results = dict()\n",
    "for name, model in models.items():\n",
    "\t# evaluate the model\n",
    "\tresults[name] = evalute_model(X, y, model, name)\n",
    "\t# summarize progress\n",
    "\tprint('>%s %.3f (%.3f)' % (name, mean(results[name]), std(results[name])))\n",
    "# plot model performance for comparison\n",
    "pyplot.boxplot(results.values(), labels=results.keys(), showmeans=True)\n",
    "pyplot.show()"
   ]
  },
  {
   "cell_type": "code",
   "execution_count": 57,
   "id": "55f09ad1",
   "metadata": {},
   "outputs": [
    {
     "name": "stdout",
     "output_type": "stream",
     "text": [
      "(17, 1)\n"
     ]
    },
    {
     "data": {
      "image/png": "[encoded data removed]",
      "text/plain": [
       "<Figure size 432x288 with 1 Axes>"
      ]
     },
     "metadata": {
      "needs_background": "light"
     },
     "output_type": "display_data"
    }
   ],
   "source": [
    "# plot line of best for multiple robust regression algorithms\n",
    "from random import random\n",
    "from random import randint\n",
    "from random import seed\n",
    "from numpy import arange\n",
    "from sklearn.datasets import make_regression\n",
    "from sklearn.linear_model import LinearRegression\n",
    "from sklearn.linear_model import HuberRegressor\n",
    "from sklearn.linear_model import RANSACRegressor\n",
    "from sklearn.linear_model import TheilSenRegressor\n",
    "from matplotlib import pyplot\n",
    " \n",
    "# prepare the dataset\n",
    "X = df_scaled[['people_affected_per_100k']]\n",
    "y = df_scaled['economic_damages_as_a_share_of_gdp']\n",
    "\n",
    "print (X.shape)\n",
    "\n",
    "# dictionary of model names and model objects\n",
    "def get_models():\n",
    "\tmodels = list()\n",
    "\tmodels.append(LinearRegression())\n",
    "\tmodels.append(HuberRegressor())\n",
    "\tmodels.append(RANSACRegressor())\n",
    "\tmodels.append(TheilSenRegressor())\n",
    "\treturn models\n",
    " \n",
    "# plot the dataset and the model's line of best fit\n",
    "def plot_best_fit(X, y, model):\n",
    "\t# fit the model on all data\n",
    "\tmodel.fit(X.values.reshape(-1, 1), y)\n",
    "\t# calculate outputs for grid across the domain\n",
    "\ty_pred = model.predict(X.values.reshape(-1, 1))\n",
    "\t# plot the line of best fit\n",
    "\tpyplot.plot(X, y_pred, label=type(model).__name__)\n",
    " \n",
    "# load the dataset\n",
    "X = df_scaled['people_affected_per_100k']\n",
    "y = df_scaled['economic_damages_as_a_share_of_gdp']\n",
    "\n",
    "# define a uniform grid across the input domain\n",
    "xaxis = arange(X.min(), X.max(), 0.01)\n",
    "for model in get_models():\n",
    "\n",
    "# plot the line of best fit\n",
    "\tplot_best_fit(X, y_pred, model)\n",
    "# plot the dataset\n",
    "pyplot.scatter(X, y)\n",
    "# show the plot\n",
    "pyplot.title('Robust Regression')\n",
    "pyplot.legend()\n",
    "pyplot.show()\n",
    "\n",
    "\n"
   ]
  },
  {
   "cell_type": "markdown",
   "id": "a6e92ee3",
   "metadata": {},
   "source": [
    "### Training and testing the linear regression model"
   ]
  },
  {
   "cell_type": "code",
   "execution_count": 58,
   "id": "702fff96",
   "metadata": {},
   "outputs": [],
   "source": [
    "# Set independent and dependent variables\n",
    "X = df_scaled[['people_affected_per_100k','temperature_change_temp_change_celsius', 'number_of_deaths']]\n",
    "y = df_scaled['economic_damages_as_a_share_of_gdp']\n",
    "\n",
    "from sklearn.model_selection import train_test_split\n",
    "#Separo los datos de \"train\" en entrenamiento y prueba para probar los algoritmos\n",
    "X_train, X_test, y_train, y_test = train_test_split(X, y, test_size=0.2)\n",
    "\n",
    "# Initialize model from sklearn and fit it into our data\n",
    "regr = linear_model.LinearRegression()\n",
    "#Entreno el modelo\n",
    "model = regr.fit(X_train, y_train)"
   ]
  },
  {
   "cell_type": "code",
   "execution_count": 59,
   "id": "146a41f4",
   "metadata": {},
   "outputs": [],
   "source": [
    "#Realizo una predicción\n",
    "Y_pred_multiple = regr.predict(X_test)"
   ]
  },
  {
   "cell_type": "code",
   "execution_count": 60,
   "id": "cc04e20c",
   "metadata": {},
   "outputs": [
    {
     "name": "stdout",
     "output_type": "stream",
     "text": [
      "[-1.09541547 -0.34083005 -1.49438185 -0.17451364]\n",
      "14    0.164690\n",
      "8    -0.568778\n",
      "15   -0.566443\n",
      "0    -0.568778\n",
      "Name: economic_damages_as_a_share_of_gdp, dtype: float64\n"
     ]
    }
   ],
   "source": [
    "print(Y_pred_multiple)\n",
    "print(y_test)"
   ]
  },
  {
   "cell_type": "code",
   "execution_count": 61,
   "id": "027ae0a3",
   "metadata": {},
   "outputs": [
    {
     "name": "stdout",
     "output_type": "stream",
     "text": [
      "DATOS DEL MODELO REGRESIÓN LINEAL MULTIPLE\n",
      "\n",
      "Valor de las pendientes o coeficientes \"a\":\n",
      "[ 0.28691017 -0.52735275  0.91386752]\n",
      "Valor de la intersección o coeficiente \"b\":\n",
      "-0.09210776241198458\n"
     ]
    }
   ],
   "source": [
    "print('DATOS DEL MODELO REGRESIÓN LINEAL MULTIPLE')\n",
    "print()\n",
    "print('Valor de las pendientes o coeficientes \"a\":')\n",
    "print(regr.coef_)\n",
    "print('Valor de la intersección o coeficiente \"b\":')\n",
    "print(regr.intercept_)"
   ]
  },
  {
   "cell_type": "code",
   "execution_count": 62,
   "id": "a5b6bfea",
   "metadata": {},
   "outputs": [
    {
     "name": "stdout",
     "output_type": "stream",
     "text": [
      "Precisión del modelo:\n",
      "0.7493868309984488\n"
     ]
    }
   ],
   "source": [
    "print('Precisión del modelo:')\n",
    "print(regr.score(X_train, y_train))"
   ]
  },
  {
   "cell_type": "code",
   "execution_count": 63,
   "id": "a7bdc112",
   "metadata": {},
   "outputs": [
    {
     "name": "stdout",
     "output_type": "stream",
     "text": [
      "                                    OLS Regression Results                                    \n",
      "==============================================================================================\n",
      "Dep. Variable:     economic_damages_as_a_share_of_gdp   R-squared:                       0.749\n",
      "Model:                                            OLS   Adj. R-squared:                  0.666\n",
      "Method:                                 Least Squares   F-statistic:                     8.971\n",
      "Date:                                Sat, 27 Aug 2022   Prob (F-statistic):            0.00455\n",
      "Time:                                        17:20:18   Log-Likelihood:                -10.728\n",
      "No. Observations:                                  13   AIC:                             29.46\n",
      "Df Residuals:                                       9   BIC:                             31.72\n",
      "Df Model:                                           3                                         \n",
      "Covariance Type:                            nonrobust                                         \n",
      "==========================================================================================================\n",
      "                                             coef    std err          t      P>|t|      [0.025      0.975]\n",
      "----------------------------------------------------------------------------------------------------------\n",
      "const                                     -0.0921      0.199     -0.463      0.654      -0.542       0.358\n",
      "people_affected_per_100k                   0.2869      0.234      1.227      0.251      -0.242       0.816\n",
      "temperature_change_temp_change_celsius    -0.5274      0.291     -1.811      0.104      -1.186       0.132\n",
      "number_of_deaths                           0.9139      0.284      3.223      0.010       0.272       1.555\n",
      "==============================================================================\n",
      "Omnibus:                        1.683   Durbin-Watson:                   2.899\n",
      "Prob(Omnibus):                  0.431   Jarque-Bera (JB):                0.491\n",
      "Skew:                           0.467   Prob(JB):                        0.782\n",
      "Kurtosis:                       3.187   Cond. No.                         3.30\n",
      "==============================================================================\n",
      "\n",
      "Notes:\n",
      "[1] Standard Errors assume that the covariance matrix of the errors is correctly specified.\n"
     ]
    },
    {
     "name": "stderr",
     "output_type": "stream",
     "text": [
      "C:\\Users\\jqu23\\anaconda3\\envs\\mlenv\\lib\\site-packages\\scipy\\stats\\stats.py:1542: UserWarning: kurtosistest only valid for n>=20 ... continuing anyway, n=13\n",
      "  \"anyway, n=%i\" % int(n))\n"
     ]
    }
   ],
   "source": [
    "X_train = sm.add_constant(X_train, prepend=True)\n",
    "modelo = sm.OLS(endog=y_train, exog=X_train,)\n",
    "modelo = modelo.fit()\n",
    "print(modelo.summary())"
   ]
  },
  {
   "cell_type": "code",
   "execution_count": 64,
   "id": "82f21307",
   "metadata": {},
   "outputs": [
    {
     "name": "stdout",
     "output_type": "stream",
     "text": [
      "const                                     0.654310\n",
      "people_affected_per_100k                  0.250776\n",
      "temperature_change_temp_change_celsius    0.103631\n",
      "number_of_deaths                          0.010447\n",
      "dtype: float64\n"
     ]
    }
   ],
   "source": [
    "print(modelo.pvalues)"
   ]
  },
  {
   "cell_type": "code",
   "execution_count": 65,
   "id": "a4a9de28",
   "metadata": {},
   "outputs": [
    {
     "data": {
      "text/html": [
       "<div>\n",
       "<style scoped>\n",
       "    .dataframe tbody tr th:only-of-type {\n",
       "        vertical-align: middle;\n",
       "    }\n",
       "\n",
       "    .dataframe tbody tr th {\n",
       "        vertical-align: top;\n",
       "    }\n",
       "\n",
       "    .dataframe thead th {\n",
       "        text-align: right;\n",
       "    }\n",
       "</style>\n",
       "<table border=\"1\" class=\"dataframe\">\n",
       "  <thead>\n",
       "    <tr style=\"text-align: right;\">\n",
       "      <th></th>\n",
       "      <th>2.5%</th>\n",
       "      <th>97.5%</th>\n",
       "    </tr>\n",
       "  </thead>\n",
       "  <tbody>\n",
       "    <tr>\n",
       "      <th>const</th>\n",
       "      <td>-0.542070</td>\n",
       "      <td>0.357854</td>\n",
       "    </tr>\n",
       "    <tr>\n",
       "      <th>people_affected_per_100k</th>\n",
       "      <td>-0.241841</td>\n",
       "      <td>0.815661</td>\n",
       "    </tr>\n",
       "    <tr>\n",
       "      <th>temperature_change_temp_change_celsius</th>\n",
       "      <td>-1.186214</td>\n",
       "      <td>0.131508</td>\n",
       "    </tr>\n",
       "    <tr>\n",
       "      <th>number_of_deaths</th>\n",
       "      <td>0.272349</td>\n",
       "      <td>1.555386</td>\n",
       "    </tr>\n",
       "  </tbody>\n",
       "</table>\n",
       "</div>"
      ],
      "text/plain": [
       "                                            2.5%     97.5%\n",
       "const                                  -0.542070  0.357854\n",
       "people_affected_per_100k               -0.241841  0.815661\n",
       "temperature_change_temp_change_celsius -1.186214  0.131508\n",
       "number_of_deaths                        0.272349  1.555386"
      ]
     },
     "execution_count": 65,
     "metadata": {},
     "output_type": "execute_result"
    }
   ],
   "source": [
    "# Intervalos de confianza para los coeficientes del modelo\n",
    "intervalos_ci = modelo.conf_int(alpha=0.05)\n",
    "intervalos_ci.columns = ['2.5%', '97.5%']\n",
    "intervalos_ci"
   ]
  },
  {
   "cell_type": "code",
   "execution_count": null,
   "id": "bfd6ccdd",
   "metadata": {},
   "outputs": [],
   "source": []
  },
  {
   "cell_type": "markdown",
   "id": "613558f5",
   "metadata": {},
   "source": [
    "### Complete model without split"
   ]
  },
  {
   "cell_type": "code",
   "execution_count": 66,
   "id": "fead15bd",
   "metadata": {},
   "outputs": [
    {
     "name": "stdout",
     "output_type": "stream",
     "text": [
      "Intercept: 1.9999444809891664e-17\n",
      "Coefficients: [ 0.099289   -0.15424386  0.19967551  0.74067938  0.08108011 -0.14451363\n",
      " -0.12502166]\n"
     ]
    }
   ],
   "source": [
    "# Set independent and dependent variables\n",
    "X = df_scaled[['annual_co2_emissions_tons',\n",
    " 'inflation_inflation_gdp_deflation',\n",
    " 'people_affected_per_100k',\n",
    " 'number_of_deaths',\n",
    " 'population_population_growth_annual_percentage',\n",
    " 'population_population_total',\n",
    " 'temperature_change_temp_change_celsius']]\n",
    "y = df_scaled['economic_damages_as_a_share_of_gdp']\n",
    "\n",
    "# Initialize model from sklearn and fit it into our data\n",
    "regr = linear_model.LinearRegression()\n",
    "model = regr.fit(X, y)\n",
    "\n",
    "print('Intercept:', model.intercept_)\n",
    "print('Coefficients:', model.coef_)"
   ]
  },
  {
   "cell_type": "code",
   "execution_count": null,
   "id": "9b79038f",
   "metadata": {},
   "outputs": [],
   "source": []
  },
  {
   "cell_type": "markdown",
   "id": "d249a496",
   "metadata": {},
   "source": [
    "## Model Validation"
   ]
  },
  {
   "cell_type": "code",
   "execution_count": 67,
   "id": "c95cd640",
   "metadata": {},
   "outputs": [
    {
     "name": "stdout",
     "output_type": "stream",
     "text": [
      "                                    OLS Regression Results                                    \n",
      "==============================================================================================\n",
      "Dep. Variable:     economic_damages_as_a_share_of_gdp   R-squared:                       0.705\n",
      "Model:                                            OLS   Adj. R-squared:                  0.475\n",
      "Method:                                 Least Squares   F-statistic:                     3.066\n",
      "Date:                                Sat, 27 Aug 2022   Prob (F-statistic):             0.0605\n",
      "Time:                                        17:20:26   Log-Likelihood:                -13.758\n",
      "No. Observations:                                  17   AIC:                             43.52\n",
      "Df Residuals:                                       9   BIC:                             50.18\n",
      "Df Model:                                           7                                         \n",
      "Covariance Type:                            nonrobust                                         \n",
      "==================================================================================================================\n",
      "                                                     coef    std err          t      P>|t|      [0.025      0.975]\n",
      "------------------------------------------------------------------------------------------------------------------\n",
      "const                                           8.327e-17      0.181    4.6e-16      1.000      -0.410       0.410\n",
      "annual_co2_emissions_tons                          0.0993      0.329      0.302      0.770      -0.644       0.843\n",
      "inflation_inflation_gdp_deflation                 -0.1542      0.208     -0.743      0.477      -0.624       0.316\n",
      "people_affected_per_100k                           0.1997      0.301      0.664      0.523      -0.481       0.880\n",
      "number_of_deaths                                   0.7407      0.327      2.266      0.050       0.001       1.480\n",
      "population_population_growth_annual_percentage     0.0811      0.352      0.230      0.823      -0.716       0.878\n",
      "population_population_total                       -0.1445      0.360     -0.402      0.697      -0.958       0.669\n",
      "temperature_change_temp_change_celsius            -0.1250      0.295     -0.424      0.681      -0.791       0.541\n",
      "==============================================================================\n",
      "Omnibus:                        5.868   Durbin-Watson:                   2.002\n",
      "Prob(Omnibus):                  0.053   Jarque-Bera (JB):                3.386\n",
      "Skew:                           1.041   Prob(JB):                        0.184\n",
      "Kurtosis:                       3.667   Cond. No.                         5.42\n",
      "==============================================================================\n",
      "\n",
      "Notes:\n",
      "[1] Standard Errors assume that the covariance matrix of the errors is correctly specified.\n"
     ]
    },
    {
     "name": "stderr",
     "output_type": "stream",
     "text": [
      "C:\\Users\\jqu23\\anaconda3\\envs\\mlenv\\lib\\site-packages\\scipy\\stats\\stats.py:1542: UserWarning: kurtosistest only valid for n>=20 ... continuing anyway, n=17\n",
      "  \"anyway, n=%i\" % int(n))\n"
     ]
    }
   ],
   "source": [
    "X = df_scaled[['annual_co2_emissions_tons',\n",
    " 'inflation_inflation_gdp_deflation',\n",
    " 'people_affected_per_100k',\n",
    " 'number_of_deaths',\n",
    " 'population_population_growth_annual_percentage',\n",
    " 'population_population_total',\n",
    " 'temperature_change_temp_change_celsius']]\n",
    "X = sm.add_constant(X) # adding a constant\n",
    "\n",
    "olsmod_scaled = sm.OLS(df_scaled['economic_damages_as_a_share_of_gdp'], X).fit()\n",
    "print(olsmod_scaled.summary())"
   ]
  },
  {
   "cell_type": "code",
   "execution_count": 68,
   "id": "8560383f",
   "metadata": {},
   "outputs": [
    {
     "name": "stdout",
     "output_type": "stream",
     "text": [
      "R2 score: 0.7045641572962918\n"
     ]
    }
   ],
   "source": [
    "print('R2 score:', olsmod_scaled.rsquared)"
   ]
  },
  {
   "cell_type": "code",
   "execution_count": 69,
   "id": "eb731886",
   "metadata": {},
   "outputs": [
    {
     "name": "stdout",
     "output_type": "stream",
     "text": [
      "F-statistic: 3.066209549755215\n",
      "Probability of observing value at least as high as F-statistic: 0.06046520625122742\n"
     ]
    }
   ],
   "source": [
    "print('F-statistic:', olsmod_scaled.fvalue)\n",
    "print('Probability of observing value at least as high as F-statistic:', olsmod_scaled.f_pvalue)"
   ]
  },
  {
   "cell_type": "code",
   "execution_count": 70,
   "id": "5c2ef0d9",
   "metadata": {},
   "outputs": [
    {
     "name": "stdout",
     "output_type": "stream",
     "text": [
      "const                                             1.000000\n",
      "annual_co2_emissions_tons                         0.769527\n",
      "inflation_inflation_gdp_deflation                 0.476573\n",
      "people_affected_per_100k                          0.523482\n",
      "number_of_deaths                                  0.049659\n",
      "population_population_growth_annual_percentage    0.823115\n",
      "population_population_total                       0.697111\n",
      "temperature_change_temp_change_celsius            0.681263\n",
      "dtype: float64\n"
     ]
    }
   ],
   "source": [
    "print(olsmod_scaled.pvalues)"
   ]
  },
  {
   "cell_type": "markdown",
   "id": "ff6d2d29",
   "metadata": {},
   "source": [
    "-------------------------------------------------------------------------------------------------------------------------------\n",
    "-------------------------------------------------------------------------------------------------------------------------------"
   ]
  },
  {
   "cell_type": "markdown",
   "id": "3ed4fde5",
   "metadata": {},
   "source": [
    "### Modelo OLS"
   ]
  },
  {
   "cell_type": "code",
   "execution_count": 71,
   "id": "22abacb1",
   "metadata": {},
   "outputs": [
    {
     "name": "stdout",
     "output_type": "stream",
     "text": [
      "Intercept: 4.611334330100534e-17\n",
      "Coefficients: [0.61737685]\n"
     ]
    }
   ],
   "source": [
    "# Set independent and dependent variables\n",
    "X = df_scaled[['people_affected_per_100k']]\n",
    "y = df_scaled['economic_damages_as_a_share_of_gdp']\n",
    "\n",
    "# Initialize model from sklearn and fit it into our data\n",
    "regr = linear_model.LinearRegression()\n",
    "model = regr.fit(X, y)\n",
    "\n",
    "print('Intercept:', model.intercept_)\n",
    "print('Coefficients:', model.coef_)"
   ]
  },
  {
   "cell_type": "code",
   "execution_count": 72,
   "id": "88c5c5ff",
   "metadata": {},
   "outputs": [
    {
     "name": "stdout",
     "output_type": "stream",
     "text": [
      "                                    OLS Regression Results                                    \n",
      "==============================================================================================\n",
      "Dep. Variable:     economic_damages_as_a_share_of_gdp   R-squared:                       0.381\n",
      "Model:                                            OLS   Adj. R-squared:                  0.340\n",
      "Method:                                 Least Squares   F-statistic:                     9.239\n",
      "Date:                                Sat, 27 Aug 2022   Prob (F-statistic):            0.00828\n",
      "Time:                                        17:20:29   Log-Likelihood:                -20.043\n",
      "No. Observations:                                  17   AIC:                             44.09\n",
      "Df Residuals:                                      15   BIC:                             45.75\n",
      "Df Model:                                           1                                         \n",
      "Covariance Type:                            nonrobust                                         \n",
      "============================================================================================\n",
      "                               coef    std err          t      P>|t|      [0.025      0.975]\n",
      "--------------------------------------------------------------------------------------------\n",
      "const                     9.714e-17      0.203   4.78e-16      1.000      -0.433       0.433\n",
      "people_affected_per_100k     0.6174      0.203      3.040      0.008       0.184       1.050\n",
      "==============================================================================\n",
      "Omnibus:                        0.071   Durbin-Watson:                   1.478\n",
      "Prob(Omnibus):                  0.965   Jarque-Bera (JB):                0.224\n",
      "Skew:                           0.126   Prob(JB):                        0.894\n",
      "Kurtosis:                       2.497   Cond. No.                         1.00\n",
      "==============================================================================\n",
      "\n",
      "Notes:\n",
      "[1] Standard Errors assume that the covariance matrix of the errors is correctly specified.\n"
     ]
    },
    {
     "name": "stderr",
     "output_type": "stream",
     "text": [
      "C:\\Users\\jqu23\\anaconda3\\envs\\mlenv\\lib\\site-packages\\scipy\\stats\\stats.py:1542: UserWarning: kurtosistest only valid for n>=20 ... continuing anyway, n=17\n",
      "  \"anyway, n=%i\" % int(n))\n"
     ]
    }
   ],
   "source": [
    "X = df_scaled[['people_affected_per_100k',]]\n",
    "X = sm.add_constant(X) # adding a constant\n",
    "\n",
    "olsmod_scaled = sm.OLS(df_scaled['economic_damages_as_a_share_of_gdp'], X).fit()\n",
    "print(olsmod_scaled.summary())"
   ]
  },
  {
   "cell_type": "code",
   "execution_count": 73,
   "id": "5ebc6d69",
   "metadata": {},
   "outputs": [
    {
     "name": "stdout",
     "output_type": "stream",
     "text": [
      "R2 score: 0.38115417274810826\n"
     ]
    }
   ],
   "source": [
    "print('R2 score:', olsmod_scaled.rsquared)"
   ]
  },
  {
   "cell_type": "code",
   "execution_count": 74,
   "id": "8264999a",
   "metadata": {},
   "outputs": [
    {
     "name": "stdout",
     "output_type": "stream",
     "text": [
      "F-statistic: 9.238670343162028\n",
      "Probability of observing value at least as high as F-statistic: 0.008278551558010322\n"
     ]
    }
   ],
   "source": [
    "print('F-statistic:', olsmod_scaled.fvalue)\n",
    "print('Probability of observing value at least as high as F-statistic:', olsmod_scaled.f_pvalue)"
   ]
  },
  {
   "cell_type": "code",
   "execution_count": 75,
   "id": "d0d61fef",
   "metadata": {},
   "outputs": [
    {
     "name": "stdout",
     "output_type": "stream",
     "text": [
      "const                       1.000000\n",
      "people_affected_per_100k    0.008279\n",
      "dtype: float64\n"
     ]
    }
   ],
   "source": [
    "print(olsmod_scaled.pvalues)"
   ]
  },
  {
   "cell_type": "code",
   "execution_count": 76,
   "id": "a5c541d1",
   "metadata": {},
   "outputs": [],
   "source": [
    "df_scaled['residual'] = olsmod_scaled.resid"
   ]
  },
  {
   "cell_type": "markdown",
   "id": "d2f7bc7f",
   "metadata": {},
   "source": [
    "### Assumption Testing"
   ]
  },
  {
   "cell_type": "markdown",
   "id": "f0a11e86",
   "metadata": {},
   "source": [
    "#### Linearity:\n",
    "This assumes that there is a linear relationship between the independent variables and the dependent variable. In our case since we have multiple independent variables, we can do this by using a scatter plot to see our predicted values versus the actual values."
   ]
  },
  {
   "cell_type": "code",
   "execution_count": 77,
   "id": "a3932f47",
   "metadata": {},
   "outputs": [],
   "source": [
    "df_scaled['predictions'] = olsmod.predict(X)"
   ]
  },
  {
   "cell_type": "code",
   "execution_count": 78,
   "id": "0a8c6d8d",
   "metadata": {},
   "outputs": [
    {
     "name": "stderr",
     "output_type": "stream",
     "text": [
      "C:\\Users\\jqu23\\anaconda3\\envs\\mlenv\\lib\\site-packages\\seaborn\\regression.py:581: UserWarning: The `size` parameter has been renamed to `height`; please update your code.\n",
      "  warnings.warn(msg, UserWarning)\n"
     ]
    },
    {
     "data": {
      "image/png": "[encoded data removed]",
      "text/plain": [
       "<Figure size 360x360 with 1 Axes>"
      ]
     },
     "metadata": {
      "needs_background": "light"
     },
     "output_type": "display_data"
    }
   ],
   "source": [
    "# Plotting the observed vs predicted values\n",
    "sb.lmplot(x='economic_damages_as_a_share_of_gdp', y='predictions', data=df_scaled, fit_reg=False, size=5)\n",
    "    \n",
    "# Plotting the diagonal line\n",
    "line_coords = np.arange(df_scaled[['economic_damages_as_a_share_of_gdp', 'predictions']].min().min()-10, \n",
    "                        df_scaled[['economic_damages_as_a_share_of_gdp', 'predictions']].max().max()+10)\n",
    "plt.plot(line_coords, line_coords,  # X and y points\n",
    "         color='darkorange', linestyle='--')\n",
    "\n",
    "plt.ylabel('predictions', fontsize=14)\n",
    "plt.xlabel('economic_damages_as_a_share_of_gdp', fontsize=14)\n",
    "plt.title('Linearity Assumption', fontsize=16)\n",
    "plt.show()"
   ]
  },
  {
   "cell_type": "markdown",
   "id": "a1c847d9",
   "metadata": {},
   "source": [
    "The scatter plots show residual point dont spread around the diagonal line, so we can assume that there isnt linear relationship between our independent and dependent variables."
   ]
  },
  {
   "cell_type": "markdown",
   "id": "3c6f68ed",
   "metadata": {},
   "source": [
    "#### Normality:\n",
    "This assumes that the error terms of the model are normally distributed. We will examine the normality of the residuals by plotting it into histogram and looking at the p-value from the Anderson-Darling test for normality. "
   ]
  },
  {
   "cell_type": "code",
   "execution_count": 79,
   "id": "bb27cf54",
   "metadata": {},
   "outputs": [
    {
     "name": "stdout",
     "output_type": "stream",
     "text": [
      "p-value from the test Anderson-Darling test below 0.05 generally means non-normal: 0.436703584006235\n"
     ]
    },
    {
     "name": "stderr",
     "output_type": "stream",
     "text": [
      "C:\\Users\\jqu23\\anaconda3\\envs\\mlenv\\lib\\site-packages\\seaborn\\distributions.py:2619: FutureWarning: `distplot` is a deprecated function and will be removed in a future version. Please adapt your code to use either `displot` (a figure-level function with similar flexibility) or `histplot` (an axes-level function for histograms).\n",
      "  warnings.warn(msg, FutureWarning)\n"
     ]
    },
    {
     "data": {
      "image/png": "[encoded data removed]",
      "text/plain": [
       "<Figure size 576x288 with 1 Axes>"
      ]
     },
     "metadata": {
      "needs_background": "light"
     },
     "output_type": "display_data"
    },
    {
     "name": "stdout",
     "output_type": "stream",
     "text": [
      "Residuals are normally distributed\n"
     ]
    }
   ],
   "source": [
    "from statsmodels.stats.diagnostic import normal_ad\n",
    "\n",
    "# Performing the test on the residuals\n",
    "p_value = normal_ad(df_scaled['residual'])[1]\n",
    "print('p-value from the test Anderson-Darling test below 0.05 generally means non-normal:', p_value)\n",
    "\n",
    "# Plotting the residuals distribution\n",
    "plt.subplots(figsize=(8, 4))\n",
    "plt.title('Distribution of Residuals', fontsize=18)\n",
    "sb.distplot(df_scaled['residual'])\n",
    "plt.show()\n",
    "\n",
    "# Reporting the normality of the residuals\n",
    "if p_value < 0.05:\n",
    "    print('Residuals are not normally distributed')\n",
    "else:\n",
    "    print('Residuals are normally distributed')"
   ]
  },
  {
   "cell_type": "markdown",
   "id": "b25a8c63",
   "metadata": {},
   "source": [
    "#### Multicollinearity:\n",
    "This assumes that the predictors used in the regression are not correlated with each other. To identify if there are any correlation between our predictors we can calculate the Pearson correlation coefficient between each column in our data"
   ]
  },
  {
   "cell_type": "code",
   "execution_count": 80,
   "id": "96c1f01b",
   "metadata": {},
   "outputs": [
    {
     "name": "stdout",
     "output_type": "stream",
     "text": [
      "Pearson correlation coefficient matrix of each variables:\n",
      "                                     people_affected_per_100k  \\\n",
      "people_affected_per_100k                            1.000000   \n",
      "economic_damages_as_a_share_of_gdp                  0.617377   \n",
      "\n",
      "                                    economic_damages_as_a_share_of_gdp  \n",
      "people_affected_per_100k                                      0.617377  \n",
      "economic_damages_as_a_share_of_gdp                            1.000000  \n"
     ]
    },
    {
     "name": "stderr",
     "output_type": "stream",
     "text": [
      "C:\\Users\\jqu23\\anaconda3\\envs\\mlenv\\lib\\site-packages\\ipykernel_launcher.py:5: DeprecationWarning: `np.bool` is a deprecated alias for the builtin `bool`. To silence this warning, use `bool` by itself. Doing this will not modify any behavior and is safe. If you specifically wanted the numpy scalar type, use `np.bool_` here.\n",
      "Deprecated in NumPy 1.20; for more details and guidance: https://numpy.org/devdocs/release/1.20.0-notes.html#deprecations\n",
      "  \"\"\"\n"
     ]
    },
    {
     "data": {
      "image/png": "[encoded data removed]",
      "text/plain": [
       "<Figure size 288x216 with 2 Axes>"
      ]
     },
     "metadata": {
      "needs_background": "light"
     },
     "output_type": "display_data"
    }
   ],
   "source": [
    "corr = df_scaled[['people_affected_per_100k','economic_damages_as_a_share_of_gdp']].corr()\n",
    "print('Pearson correlation coefficient matrix of each variables:\\n', corr)\n",
    "\n",
    "# Generate a mask for the diagonal cell\n",
    "mask = np.zeros_like(corr, dtype=np.bool)\n",
    "np.fill_diagonal(mask, val=True)\n",
    "\n",
    "# Initialize matplotlib figure\n",
    "fig, ax = plt.subplots(figsize=(4, 3))\n",
    "\n",
    "# Generate a custom diverging colormap\n",
    "cmap = sb.diverging_palette(220, 10, as_cmap=True, sep=100)\n",
    "cmap.set_bad('grey')\n",
    "\n",
    "# Draw the heatmap with the mask and correct aspect ratio\n",
    "sb.heatmap(corr, mask=mask, cmap=cmap, vmin=-1, vmax=1, center=0, linewidths=.5)\n",
    "fig.suptitle('Pearson correlation coefficient matrix', fontsize=14)\n",
    "ax.tick_params(axis='both', which='major', labelsize=10)\n",
    "# fig.tight_layout()"
   ]
  },
  {
   "cell_type": "markdown",
   "id": "b79985c4",
   "metadata": {},
   "source": [
    "#### Autocorrelation\n",
    "Autocorrelation is correlation of the errors (residuals) over time. Used when data are collected over time to detect if autocorrelation is present. Autocorrelation exists if residuals in one time period are related to residuals in another period. We can detect autocorrelation by performing Durbin-Watson test to determine if either positive or negative correlation is present. In this step we will use the durbin_watson () function from statsmodel to calculate our Durbin-Watson score and then assess the value with the following condition:\n",
    "\n",
    "If the Durbin-Watson score is less than 1.5 then there is a positive autocorrelation and the assumption is not satisfied\n",
    "\n",
    "\n",
    "If the Durbin-Watson score is between 1.5 and 2.5 then there is no autocorrelation and the assumption is satisfied\n",
    "\n",
    "\n",
    "If the Durbin-Watson score is more than 2.5 then there is a negative autocorrelation and the assumption is not satisfied"
   ]
  },
  {
   "cell_type": "code",
   "execution_count": 81,
   "id": "00b4188c",
   "metadata": {},
   "outputs": [
    {
     "name": "stdout",
     "output_type": "stream",
     "text": [
      "Durbin-Watson: 1.4782502867288319\n",
      "Signs of positive autocorrelation \n",
      "\n",
      "Assumption not satisfied\n"
     ]
    }
   ],
   "source": [
    "from statsmodels.stats.stattools import durbin_watson\n",
    "\n",
    "durbinWatson = durbin_watson(df_scaled['residual'])\n",
    "\n",
    "print('Durbin-Watson:', durbinWatson)\n",
    "if durbinWatson < 1.5:\n",
    "    print('Signs of positive autocorrelation', '\\n')\n",
    "    print('Assumption not satisfied')\n",
    "elif durbinWatson > 2.5:\n",
    "    print('Signs of negative autocorrelation', '\\n')\n",
    "    print('Assumption not satisfied')\n",
    "else:\n",
    "    print('Little to no autocorrelation', '\\n')\n",
    "    print('Assumption satisfied')"
   ]
  },
  {
   "cell_type": "markdown",
   "id": "07f19d18",
   "metadata": {},
   "source": [
    "#### Homoscedasticity\n",
    "This assumes homoscedasticity, which is the same variance within our error terms. Heteroscedasticity, the violation of homoscedasticity, occurs when we don’t have an even variance across the error terms. To detect homoscedasticity, we can plot our residual and see if the variance appears to be uniform."
   ]
  },
  {
   "cell_type": "code",
   "execution_count": 82,
   "id": "113bf107",
   "metadata": {},
   "outputs": [
    {
     "data": {
      "image/png": "[encoded data removed]",
      "text/plain": [
       "<Figure size 576x288 with 1 Axes>"
      ]
     },
     "metadata": {
      "needs_background": "light"
     },
     "output_type": "display_data"
    }
   ],
   "source": [
    "# Plotting the residuals\n",
    "plt.subplots(figsize=(8, 4))\n",
    "plt.scatter(x=df_scaled.index, y=df_scaled.residual, alpha=0.8)\n",
    "plt.plot(np.repeat(0, len(df_scaled.index)+2), color='darkorange', linestyle='--')\n",
    "\n",
    "plt.ylabel('Residual', fontsize=14)\n",
    "plt.xlabel('year', fontsize=14)\n",
    "plt.title('Homescedasticity Assumption', fontsize=16)\n",
    "plt.show()  "
   ]
  },
  {
   "cell_type": "code",
   "execution_count": null,
   "id": "8a4e6bf1",
   "metadata": {},
   "outputs": [],
   "source": []
  },
  {
   "cell_type": "markdown",
   "id": "8a746708",
   "metadata": {},
   "source": [
    "-------------------------------------------------------------------------------------------------------------------------------\n",
    "-------------------------------------------------------------------------------------------------------------------------------"
   ]
  },
  {
   "cell_type": "markdown",
   "id": "a9aa5215",
   "metadata": {},
   "source": [
    "### Huber Model"
   ]
  },
  {
   "cell_type": "code",
   "execution_count": 83,
   "id": "23286d9b",
   "metadata": {},
   "outputs": [
    {
     "name": "stdout",
     "output_type": "stream",
     "text": [
      "Mean MAE: 0.822 (0.615)\n"
     ]
    }
   ],
   "source": [
    "# huber regression on a dataset with outliers\n",
    "from random import random\n",
    "from random import randint\n",
    "from random import seed\n",
    "from numpy import arange\n",
    "from numpy import mean\n",
    "from numpy import std\n",
    "from numpy import absolute\n",
    "from sklearn.datasets import make_regression\n",
    "from sklearn.linear_model import HuberRegressor\n",
    "from sklearn.model_selection import cross_val_score\n",
    "from sklearn.model_selection import RepeatedKFold\n",
    "from matplotlib import pyplot\n",
    "\n",
    "# prepare the dataset\n",
    "# Set independent and dependent variables\n",
    "X = df_scaled[['people_affected_per_100k']]\n",
    "y = df_scaled['economic_damages_as_a_share_of_gdp']\n",
    "\n",
    "# evaluate a model\n",
    "def evaluate_model(X, y, model):\n",
    "    # define model evaluation method\n",
    "    cv = RepeatedKFold(n_splits=10, n_repeats=3, random_state=1)\n",
    "    # evaluate model\n",
    "    scores = cross_val_score(model, X, y, scoring='neg_mean_absolute_error', cv=cv, n_jobs=-1)\n",
    "    # force scores to be positive\n",
    "    return absolute(scores)\n",
    " \n",
    "# load dataset\n",
    "X = df_scaled[['people_affected_per_100k']]\n",
    "y = df_scaled['economic_damages_as_a_share_of_gdp']\n",
    "\n",
    "from sklearn.model_selection import train_test_split\n",
    "#Separo los datos de \"train\" en entrenamiento y prueba para probar los algoritmos\n",
    "X_train, X_test, y_train, y_test = train_test_split(X, y, test_size=0.2)\n",
    "\n",
    "# define the model\n",
    "model = HuberRegressor()\n",
    "#Entreno el modelo\n",
    "model_hu = model.fit(X_train, y_train)\n",
    "\n",
    "#Realizo una predicción\n",
    "Y_pred = regr.predict(X_test)\n",
    "\n",
    "# evaluate model\n",
    "results = evaluate_model(X, y, model)\n",
    "print('Mean MAE: %.3f (%.3f)' % (mean(results), std(results)))"
   ]
  },
  {
   "cell_type": "code",
   "execution_count": 84,
   "id": "fa490f50",
   "metadata": {},
   "outputs": [
    {
     "name": "stdout",
     "output_type": "stream",
     "text": [
      "[ 0.59984269 -0.30250072 -0.43874164 -0.43874164]\n",
      "8    -0.568778\n",
      "12   -0.506688\n",
      "11   -0.568778\n",
      "4     0.285202\n",
      "Name: economic_damages_as_a_share_of_gdp, dtype: float64\n"
     ]
    }
   ],
   "source": [
    "print(Y_pred)\n",
    "print(y_test)"
   ]
  },
  {
   "cell_type": "code",
   "execution_count": 85,
   "id": "2848ca27",
   "metadata": {},
   "outputs": [
    {
     "name": "stdout",
     "output_type": "stream",
     "text": [
      "Intercept: 0.13569966757830504\n",
      "Coefficients: [0.8467057]\n"
     ]
    }
   ],
   "source": [
    "print('Intercept:', model_hu.intercept_)\n",
    "print('Coefficients:', model_hu.coef_)"
   ]
  },
  {
   "cell_type": "code",
   "execution_count": 86,
   "id": "0a22a44a",
   "metadata": {},
   "outputs": [
    {
     "name": "stdout",
     "output_type": "stream",
     "text": [
      "Precisión del modelo:\n",
      "0.4475665214751937\n"
     ]
    }
   ],
   "source": [
    "print('Precisión del modelo:')\n",
    "print(model_hu.score(X_train, y_train))"
   ]
  },
  {
   "cell_type": "code",
   "execution_count": null,
   "id": "045c9649",
   "metadata": {},
   "outputs": [],
   "source": []
  },
  {
   "cell_type": "code",
   "execution_count": null,
   "id": "ed76c5dc-2e77-452f-9fb5-79226bfbe4bc",
   "metadata": {},
   "outputs": [],
   "source": []
  }
 ],
 "metadata": {
  "kernelspec": {
   "display_name": "mlenv",
   "language": "python",
   "name": "mlenv"
  },
  "language_info": {
   "codemirror_mode": {
    "name": "ipython",
    "version": 3
   },
   "file_extension": ".py",
   "mimetype": "text/x-python",
   "name": "python",
   "nbconvert_exporter": "python",
   "pygments_lexer": "ipython3",
   "version": "3.7.13"
  }
 },
 "nbformat": 4,
 "nbformat_minor": 5
}
