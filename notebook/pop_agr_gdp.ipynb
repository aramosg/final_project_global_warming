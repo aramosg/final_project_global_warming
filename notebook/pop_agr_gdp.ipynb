{
 "cells": [
  {
   "cell_type": "code",
   "execution_count": 1,
   "id": "458f57d6-d8b4-4c1c-9024-da4dcb7fbe37",
   "metadata": {
    "id": "458f57d6-d8b4-4c1c-9024-da4dcb7fbe37"
   },
   "outputs": [],
   "source": [
    "#Dependencies #Cielo\n",
    "import pandas as pd\n",
    "import matplotlib.pyplot as plt\n",
    "import seaborn as sns"
   ]
  },
  {
   "cell_type": "code",
   "execution_count": 2,
   "id": "cefbc526-9609-42f9-bb30-69b0a1896681",
   "metadata": {
    "id": "cefbc526-9609-42f9-bb30-69b0a1896681"
   },
   "outputs": [],
   "source": [
    "#File location\n",
    "population = '../csv/population.csv'\n",
    "agriculture = '../csv/agriculture.csv'\n",
    "gross_domestic_product = '../csv/gdp.csv'"
   ]
  },
  {
   "cell_type": "code",
   "execution_count": 3,
   "id": "8ab5df41-f1fe-49bc-87e0-b2bd38db20f4",
   "metadata": {
    "id": "8ab5df41-f1fe-49bc-87e0-b2bd38db20f4"
   },
   "outputs": [],
   "source": [
    "#Import files into DF\n",
    "pop = pd.read_csv(population)\n",
    "agr = pd.read_csv(agriculture)\n",
    "gdp = pd.read_csv(gross_domestic_product)"
   ]
  },
  {
   "cell_type": "code",
   "execution_count": 4,
   "id": "595811f7-7078-485c-9bf8-f34a0891cd1c",
   "metadata": {
    "id": "595811f7-7078-485c-9bf8-f34a0891cd1c",
    "outputId": "247bd36e-b275-47f5-f875-9b3db2017900"
   },
   "outputs": [
    {
     "name": "stdout",
     "output_type": "stream",
     "text": [
      "Index(['Unnamed: 0', 'Country Name', 'Country Code', 'Year',\n",
      "       'Population Growth_annual_%', 'Population Total'],\n",
      "      dtype='object')\n",
      "Index(['Unnamed: 0', 'Country Name', 'Country Code', 'Year',\n",
      "       'Value added (US$ at constant 2010 prices)', 'Value added (% of GDP)'],\n",
      "      dtype='object')\n",
      "Index(['Unnamed: 0', 'Country Name', 'Country Code', 'Year',\n",
      "       'Inflation, GDP deflation rate (annual %)'],\n",
      "      dtype='object')\n"
     ]
    }
   ],
   "source": [
    "# View columns of each DF\n",
    "print(pop.columns)\n",
    "print(agr.columns)\n",
    "print(gdp.columns)"
   ]
  },
  {
   "cell_type": "code",
   "execution_count": 5,
   "id": "ab000c1b-49df-42df-a026-e576a9d4add0",
   "metadata": {
    "id": "ab000c1b-49df-42df-a026-e576a9d4add0"
   },
   "outputs": [],
   "source": [
    "pop_ctry_code = pop[['Country Name', 'Country Code']]\n",
    "pop_ctry_code = pop_ctry_code.drop_duplicates()\n",
    "agr_ctry_code = agr[['Country Name', 'Country Code']]\n",
    "agr_ctry_code = agr_ctry_code.drop_duplicates()\n",
    "gdp_ctry_code = gdp[['Country Name', 'Country Code']]\n",
    "gdp_ctry_code = gdp_ctry_code.drop_duplicates()"
   ]
  },
  {
   "cell_type": "code",
   "execution_count": 6,
   "id": "c6261d88-9824-4a9c-83e0-3e03b76396a4",
   "metadata": {
    "id": "c6261d88-9824-4a9c-83e0-3e03b76396a4",
    "outputId": "3cff3a3d-b4c9-4444-c769-8e0841e98509"
   },
   "outputs": [
    {
     "data": {
      "text/html": [
       "<div>\n",
       "<style scoped>\n",
       "    .dataframe tbody tr th:only-of-type {\n",
       "        vertical-align: middle;\n",
       "    }\n",
       "\n",
       "    .dataframe tbody tr th {\n",
       "        vertical-align: top;\n",
       "    }\n",
       "\n",
       "    .dataframe thead th {\n",
       "        text-align: right;\n",
       "    }\n",
       "</style>\n",
       "<table border=\"1\" class=\"dataframe\">\n",
       "  <thead>\n",
       "    <tr style=\"text-align: right;\">\n",
       "      <th></th>\n",
       "      <th>Country Name</th>\n",
       "      <th>Country Code</th>\n",
       "    </tr>\n",
       "  </thead>\n",
       "  <tbody>\n",
       "    <tr>\n",
       "      <th>0</th>\n",
       "      <td>Aruba</td>\n",
       "      <td>ABW</td>\n",
       "    </tr>\n",
       "    <tr>\n",
       "      <th>1</th>\n",
       "      <td>Afghanistan</td>\n",
       "      <td>AFG</td>\n",
       "    </tr>\n",
       "    <tr>\n",
       "      <th>2</th>\n",
       "      <td>Angola</td>\n",
       "      <td>AGO</td>\n",
       "    </tr>\n",
       "  </tbody>\n",
       "</table>\n",
       "</div>"
      ],
      "text/plain": [
       "  Country Name Country Code\n",
       "0        Aruba          ABW\n",
       "1  Afghanistan          AFG\n",
       "2       Angola          AGO"
      ]
     },
     "execution_count": 6,
     "metadata": {},
     "output_type": "execute_result"
    }
   ],
   "source": [
    "# Merging Country Name and Country Code\n",
    "ctry_code = pop_ctry_code.merge(agr_ctry_code, on=['Country Code', 'Country Name'], suffixes=('_pop', '_agr'), how='outer')\n",
    "ctry_code_2 = ctry_code.merge(gdp_ctry_code, on=['Country Code', 'Country Name'], suffixes=('_pop_agr', '_gdp'), how='outer')\n",
    "ctry_code_2.head(3)"
   ]
  },
  {
   "cell_type": "code",
   "execution_count": 7,
   "id": "4e136081-60eb-4147-b6b4-09bd1315c5f7",
   "metadata": {
    "id": "4e136081-60eb-4147-b6b4-09bd1315c5f7"
   },
   "outputs": [],
   "source": [
    "pop_df = pop.drop(['Unnamed: 0'], axis=1)\n",
    "agr_df = agr.drop(['Unnamed: 0'], axis=1)\n",
    "gdp_df = gdp.drop(['Unnamed: 0'], axis=1)"
   ]
  },
  {
   "cell_type": "code",
   "execution_count": 8,
   "id": "2a117401-0b01-4288-b8ec-10bb14fe670e",
   "metadata": {
    "id": "2a117401-0b01-4288-b8ec-10bb14fe670e",
    "outputId": "a36cce6c-a60b-4d36-aad6-5b95422bc182"
   },
   "outputs": [
    {
     "data": {
      "text/html": [
       "<div>\n",
       "<style scoped>\n",
       "    .dataframe tbody tr th:only-of-type {\n",
       "        vertical-align: middle;\n",
       "    }\n",
       "\n",
       "    .dataframe tbody tr th {\n",
       "        vertical-align: top;\n",
       "    }\n",
       "\n",
       "    .dataframe thead th {\n",
       "        text-align: right;\n",
       "    }\n",
       "</style>\n",
       "<table border=\"1\" class=\"dataframe\">\n",
       "  <thead>\n",
       "    <tr style=\"text-align: right;\">\n",
       "      <th></th>\n",
       "      <th>Country Name</th>\n",
       "      <th>Country Code</th>\n",
       "      <th>Year</th>\n",
       "      <th>Population Growth_annual_%</th>\n",
       "      <th>Population Total</th>\n",
       "      <th>Value added (US$ at constant 2010 prices)</th>\n",
       "      <th>Value added (% of GDP)</th>\n",
       "      <th>Inflation, GDP deflation rate (annual %)</th>\n",
       "    </tr>\n",
       "  </thead>\n",
       "  <tbody>\n",
       "    <tr>\n",
       "      <th>0</th>\n",
       "      <td>Aruba</td>\n",
       "      <td>ABW</td>\n",
       "      <td>1970</td>\n",
       "      <td>0.570441</td>\n",
       "      <td>59070.0</td>\n",
       "      <td>NaN</td>\n",
       "      <td>NaN</td>\n",
       "      <td>NaN</td>\n",
       "    </tr>\n",
       "    <tr>\n",
       "      <th>1</th>\n",
       "      <td>Afghanistan</td>\n",
       "      <td>AFG</td>\n",
       "      <td>1970</td>\n",
       "      <td>2.536744</td>\n",
       "      <td>11173654.0</td>\n",
       "      <td>NaN</td>\n",
       "      <td>NaN</td>\n",
       "      <td>NaN</td>\n",
       "    </tr>\n",
       "    <tr>\n",
       "      <th>2</th>\n",
       "      <td>Angola</td>\n",
       "      <td>AGO</td>\n",
       "      <td>1970</td>\n",
       "      <td>1.482543</td>\n",
       "      <td>5890360.0</td>\n",
       "      <td>NaN</td>\n",
       "      <td>NaN</td>\n",
       "      <td>NaN</td>\n",
       "    </tr>\n",
       "  </tbody>\n",
       "</table>\n",
       "</div>"
      ],
      "text/plain": [
       "  Country Name Country Code  Year  Population Growth_annual_%  \\\n",
       "0        Aruba          ABW  1970                    0.570441   \n",
       "1  Afghanistan          AFG  1970                    2.536744   \n",
       "2       Angola          AGO  1970                    1.482543   \n",
       "\n",
       "   Population Total  Value added (US$ at constant 2010 prices)  \\\n",
       "0           59070.0                                        NaN   \n",
       "1        11173654.0                                        NaN   \n",
       "2         5890360.0                                        NaN   \n",
       "\n",
       "   Value added (% of GDP)  Inflation, GDP deflation rate (annual %)  \n",
       "0                     NaN                                       NaN  \n",
       "1                     NaN                                       NaN  \n",
       "2                     NaN                                       NaN  "
      ]
     },
     "execution_count": 8,
     "metadata": {},
     "output_type": "execute_result"
    }
   ],
   "source": [
    "pop_agr = pop_df.merge(agr_df, on=['Country Name', 'Country Code', 'Year'], how='outer')\n",
    "pop_agr_gdp = pop_agr.merge(gdp_df, on=['Country Name', 'Country Code', 'Year'], how='outer')\n",
    "pop_agr_gdp.head(3)"
   ]
  },
  {
   "cell_type": "code",
   "execution_count": 9,
   "id": "d58c3fc0-7932-4de6-b3ea-4c4a59fc1242",
   "metadata": {
    "id": "d58c3fc0-7932-4de6-b3ea-4c4a59fc1242",
    "outputId": "0fff8ec6-63b7-4f7a-b86e-e9088fbcd6a1"
   },
   "outputs": [
    {
     "data": {
      "text/plain": [
       "Country Name                                     0\n",
       "Country Code                                     0\n",
       "Year                                             0\n",
       "Population Growth_annual_%                    8909\n",
       "Population Total                              8906\n",
       "Value added (US$ at constant 2010 prices)    13529\n",
       "Value added (% of GDP)                       12971\n",
       "Inflation, GDP deflation rate (annual %)     11400\n",
       "dtype: int64"
      ]
     },
     "execution_count": 9,
     "metadata": {},
     "output_type": "execute_result"
    }
   ],
   "source": [
    "pop_agr_gdp.isna().sum()"
   ]
  },
  {
   "cell_type": "code",
   "execution_count": 10,
   "id": "767e14af-cfef-49de-96b1-46f24c8e7cd1",
   "metadata": {
    "id": "767e14af-cfef-49de-96b1-46f24c8e7cd1",
    "outputId": "9722783c-8cf2-4c3a-f3bd-9b0163e581dc"
   },
   "outputs": [
    {
     "data": {
      "text/html": [
       "<div>\n",
       "<style scoped>\n",
       "    .dataframe tbody tr th:only-of-type {\n",
       "        vertical-align: middle;\n",
       "    }\n",
       "\n",
       "    .dataframe tbody tr th {\n",
       "        vertical-align: top;\n",
       "    }\n",
       "\n",
       "    .dataframe thead th {\n",
       "        text-align: right;\n",
       "    }\n",
       "</style>\n",
       "<table border=\"1\" class=\"dataframe\">\n",
       "  <thead>\n",
       "    <tr style=\"text-align: right;\">\n",
       "      <th></th>\n",
       "      <th>Year</th>\n",
       "      <th>Population Growth_annual_%</th>\n",
       "      <th>Population Total</th>\n",
       "      <th>Value added (US$ at constant 2010 prices)</th>\n",
       "      <th>Value added (% of GDP)</th>\n",
       "      <th>Inflation, GDP deflation rate (annual %)</th>\n",
       "    </tr>\n",
       "  </thead>\n",
       "  <tbody>\n",
       "    <tr>\n",
       "      <th>count</th>\n",
       "      <td>22287.000000</td>\n",
       "      <td>13378.000000</td>\n",
       "      <td>1.338100e+04</td>\n",
       "      <td>8.758000e+03</td>\n",
       "      <td>9316.000000</td>\n",
       "      <td>10887.000000</td>\n",
       "    </tr>\n",
       "    <tr>\n",
       "      <th>mean</th>\n",
       "      <td>1995.000000</td>\n",
       "      <td>1.689334</td>\n",
       "      <td>2.270890e+08</td>\n",
       "      <td>1.078224e+11</td>\n",
       "      <td>14.774857</td>\n",
       "      <td>27.803835</td>\n",
       "    </tr>\n",
       "    <tr>\n",
       "      <th>std</th>\n",
       "      <td>14.719932</td>\n",
       "      <td>1.574439</td>\n",
       "      <td>7.398669e+08</td>\n",
       "      <td>3.226173e+11</td>\n",
       "      <td>12.904644</td>\n",
       "      <td>386.376004</td>\n",
       "    </tr>\n",
       "    <tr>\n",
       "      <th>min</th>\n",
       "      <td>1970.000000</td>\n",
       "      <td>-10.955149</td>\n",
       "      <td>5.707000e+03</td>\n",
       "      <td>1.986763e+05</td>\n",
       "      <td>0.013622</td>\n",
       "      <td>-31.904748</td>\n",
       "    </tr>\n",
       "    <tr>\n",
       "      <th>25%</th>\n",
       "      <td>1982.000000</td>\n",
       "      <td>0.681576</td>\n",
       "      <td>1.057462e+06</td>\n",
       "      <td>8.031106e+08</td>\n",
       "      <td>4.333376</td>\n",
       "      <td>2.390162</td>\n",
       "    </tr>\n",
       "    <tr>\n",
       "      <th>50%</th>\n",
       "      <td>1995.000000</td>\n",
       "      <td>1.600366</td>\n",
       "      <td>7.144774e+06</td>\n",
       "      <td>3.611989e+09</td>\n",
       "      <td>11.088087</td>\n",
       "      <td>5.710729</td>\n",
       "    </tr>\n",
       "    <tr>\n",
       "      <th>75%</th>\n",
       "      <td>2008.000000</td>\n",
       "      <td>2.572482</td>\n",
       "      <td>4.602541e+07</td>\n",
       "      <td>3.379580e+10</td>\n",
       "      <td>22.460473</td>\n",
       "      <td>10.839256</td>\n",
       "    </tr>\n",
       "    <tr>\n",
       "      <th>max</th>\n",
       "      <td>2020.000000</td>\n",
       "      <td>28.041032</td>\n",
       "      <td>7.763933e+09</td>\n",
       "      <td>3.659982e+12</td>\n",
       "      <td>79.042362</td>\n",
       "      <td>26765.858252</td>\n",
       "    </tr>\n",
       "  </tbody>\n",
       "</table>\n",
       "</div>"
      ],
      "text/plain": [
       "               Year  Population Growth_annual_%  Population Total  \\\n",
       "count  22287.000000                13378.000000      1.338100e+04   \n",
       "mean    1995.000000                    1.689334      2.270890e+08   \n",
       "std       14.719932                    1.574439      7.398669e+08   \n",
       "min     1970.000000                  -10.955149      5.707000e+03   \n",
       "25%     1982.000000                    0.681576      1.057462e+06   \n",
       "50%     1995.000000                    1.600366      7.144774e+06   \n",
       "75%     2008.000000                    2.572482      4.602541e+07   \n",
       "max     2020.000000                   28.041032      7.763933e+09   \n",
       "\n",
       "       Value added (US$ at constant 2010 prices)  Value added (% of GDP)  \\\n",
       "count                               8.758000e+03             9316.000000   \n",
       "mean                                1.078224e+11               14.774857   \n",
       "std                                 3.226173e+11               12.904644   \n",
       "min                                 1.986763e+05                0.013622   \n",
       "25%                                 8.031106e+08                4.333376   \n",
       "50%                                 3.611989e+09               11.088087   \n",
       "75%                                 3.379580e+10               22.460473   \n",
       "max                                 3.659982e+12               79.042362   \n",
       "\n",
       "       Inflation, GDP deflation rate (annual %)  \n",
       "count                              10887.000000  \n",
       "mean                                  27.803835  \n",
       "std                                  386.376004  \n",
       "min                                  -31.904748  \n",
       "25%                                    2.390162  \n",
       "50%                                    5.710729  \n",
       "75%                                   10.839256  \n",
       "max                                26765.858252  "
      ]
     },
     "execution_count": 10,
     "metadata": {},
     "output_type": "execute_result"
    }
   ],
   "source": [
    "pop_agr_gdp.describe()"
   ]
  },
  {
   "cell_type": "code",
   "execution_count": 11,
   "id": "1a2f3d8d",
   "metadata": {},
   "outputs": [],
   "source": [
    "#pop_agr_gdp.to_csv('pop_agr_gdp_df.csv')"
   ]
  },
  {
   "cell_type": "code",
   "execution_count": null,
   "id": "341af429",
   "metadata": {},
   "outputs": [],
   "source": []
  }
 ],
 "metadata": {
  "colab": {
   "name": "pop_agr_gdp.ipynb",
   "provenance": []
  },
  "kernelspec": {
   "display_name": "mlenv",
   "language": "python",
   "name": "mlenv"
  },
  "language_info": {
   "codemirror_mode": {
    "name": "ipython",
    "version": 3
   },
   "file_extension": ".py",
   "mimetype": "text/x-python",
   "name": "python",
   "nbconvert_exporter": "python",
   "pygments_lexer": "ipython3",
   "version": "3.9.7"
  }
 },
 "nbformat": 4,
 "nbformat_minor": 5
}
