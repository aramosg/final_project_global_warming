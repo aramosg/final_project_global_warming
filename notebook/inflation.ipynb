{
 "cells": [
  {
   "cell_type": "markdown",
   "id": "1634d1ce",
   "metadata": {},
   "source": [
    "Inflation, GDP deflator (annual %)\n",
    "\n",
    "Inflation as measured by the annual growth rate of the GDP implicit deflator shows the rate of price change in the economy as a whole. The GDP implicit deflator is the ratio of GDP in current local currency to GDP in constant local currency.\n",
    "\n",
    "ID: NY.GDP.DEFL.KD.ZG\n",
    "Source: World Bank national accounts data, and OECD National Accounts data files.\n",
    "\n"
   ]
  },
  {
   "cell_type": "code",
   "execution_count": 1,
   "id": "e311e3ce-5e6c-4621-857e-4bf4d718bd46",
   "metadata": {},
   "outputs": [],
   "source": [
    "# Dependencies\n",
    "import pandas as pd\n",
    "import matplotlib.pyplot as plt\n"
   ]
  },
  {
   "cell_type": "code",
   "execution_count": 2,
   "id": "67adc082-f763-4a57-8ae6-7f9da934c5d2",
   "metadata": {},
   "outputs": [],
   "source": [
    "# Import file\n",
    "inflation = '../Resources/gdp_deflation_annual_rate.csv'\n",
    "inflation_df = pd.read_csv(inflation, skiprows=3)"
   ]
  },
  {
   "cell_type": "code",
   "execution_count": 3,
   "id": "8b80cae2-c880-486a-8976-2255d963e2a7",
   "metadata": {},
   "outputs": [
    {
     "data": {
      "text/html": [
       "<div>\n",
       "<style scoped>\n",
       "    .dataframe tbody tr th:only-of-type {\n",
       "        vertical-align: middle;\n",
       "    }\n",
       "\n",
       "    .dataframe tbody tr th {\n",
       "        vertical-align: top;\n",
       "    }\n",
       "\n",
       "    .dataframe thead th {\n",
       "        text-align: right;\n",
       "    }\n",
       "</style>\n",
       "<table border=\"1\" class=\"dataframe\">\n",
       "  <thead>\n",
       "    <tr style=\"text-align: right;\">\n",
       "      <th></th>\n",
       "      <th>Country Name</th>\n",
       "      <th>Country Code</th>\n",
       "      <th>Indicator Name</th>\n",
       "      <th>Indicator Code</th>\n",
       "      <th>1960</th>\n",
       "      <th>1961</th>\n",
       "      <th>1962</th>\n",
       "      <th>1963</th>\n",
       "      <th>1964</th>\n",
       "      <th>1965</th>\n",
       "      <th>...</th>\n",
       "      <th>2013</th>\n",
       "      <th>2014</th>\n",
       "      <th>2015</th>\n",
       "      <th>2016</th>\n",
       "      <th>2017</th>\n",
       "      <th>2018</th>\n",
       "      <th>2019</th>\n",
       "      <th>2020</th>\n",
       "      <th>2021</th>\n",
       "      <th>Unnamed: 66</th>\n",
       "    </tr>\n",
       "  </thead>\n",
       "  <tbody>\n",
       "    <tr>\n",
       "      <th>0</th>\n",
       "      <td>Aruba</td>\n",
       "      <td>ABW</td>\n",
       "      <td>Inflación, índice de deflación del PIB (% anual)</td>\n",
       "      <td>NY.GDP.DEFL.KD.ZG</td>\n",
       "      <td>NaN</td>\n",
       "      <td>NaN</td>\n",
       "      <td>NaN</td>\n",
       "      <td>NaN</td>\n",
       "      <td>NaN</td>\n",
       "      <td>NaN</td>\n",
       "      <td>...</td>\n",
       "      <td>-1.986755</td>\n",
       "      <td>2.335109</td>\n",
       "      <td>2.531592</td>\n",
       "      <td>-1.389713</td>\n",
       "      <td>-1.753935</td>\n",
       "      <td>2.263271</td>\n",
       "      <td>5.568805</td>\n",
       "      <td>-2.902756</td>\n",
       "      <td>NaN</td>\n",
       "      <td>NaN</td>\n",
       "    </tr>\n",
       "    <tr>\n",
       "      <th>1</th>\n",
       "      <td>NaN</td>\n",
       "      <td>AFE</td>\n",
       "      <td>Inflación, índice de deflación del PIB (% anual)</td>\n",
       "      <td>NY.GDP.DEFL.KD.ZG</td>\n",
       "      <td>NaN</td>\n",
       "      <td>1.861701</td>\n",
       "      <td>0.979878</td>\n",
       "      <td>3.150053</td>\n",
       "      <td>3.726978</td>\n",
       "      <td>3.569951</td>\n",
       "      <td>...</td>\n",
       "      <td>5.844111</td>\n",
       "      <td>5.560736</td>\n",
       "      <td>5.366462</td>\n",
       "      <td>6.400900</td>\n",
       "      <td>5.217431</td>\n",
       "      <td>4.085751</td>\n",
       "      <td>4.387341</td>\n",
       "      <td>4.995507</td>\n",
       "      <td>5.840394</td>\n",
       "      <td>NaN</td>\n",
       "    </tr>\n",
       "    <tr>\n",
       "      <th>2</th>\n",
       "      <td>Afganistán</td>\n",
       "      <td>AFG</td>\n",
       "      <td>Inflación, índice de deflación del PIB (% anual)</td>\n",
       "      <td>NY.GDP.DEFL.KD.ZG</td>\n",
       "      <td>NaN</td>\n",
       "      <td>NaN</td>\n",
       "      <td>NaN</td>\n",
       "      <td>NaN</td>\n",
       "      <td>NaN</td>\n",
       "      <td>NaN</td>\n",
       "      <td>...</td>\n",
       "      <td>4.822785</td>\n",
       "      <td>0.566945</td>\n",
       "      <td>2.447563</td>\n",
       "      <td>-2.197526</td>\n",
       "      <td>2.403656</td>\n",
       "      <td>2.071349</td>\n",
       "      <td>6.521480</td>\n",
       "      <td>7.821667</td>\n",
       "      <td>NaN</td>\n",
       "      <td>NaN</td>\n",
       "    </tr>\n",
       "  </tbody>\n",
       "</table>\n",
       "<p>3 rows × 67 columns</p>\n",
       "</div>"
      ],
      "text/plain": [
       "  Country Name Country Code                                    Indicator Name  \\\n",
       "0        Aruba          ABW  Inflación, índice de deflación del PIB (% anual)   \n",
       "1          NaN          AFE  Inflación, índice de deflación del PIB (% anual)   \n",
       "2   Afganistán          AFG  Inflación, índice de deflación del PIB (% anual)   \n",
       "\n",
       "      Indicator Code  1960      1961      1962      1963      1964      1965  \\\n",
       "0  NY.GDP.DEFL.KD.ZG   NaN       NaN       NaN       NaN       NaN       NaN   \n",
       "1  NY.GDP.DEFL.KD.ZG   NaN  1.861701  0.979878  3.150053  3.726978  3.569951   \n",
       "2  NY.GDP.DEFL.KD.ZG   NaN       NaN       NaN       NaN       NaN       NaN   \n",
       "\n",
       "   ...      2013      2014      2015      2016      2017      2018      2019  \\\n",
       "0  ... -1.986755  2.335109  2.531592 -1.389713 -1.753935  2.263271  5.568805   \n",
       "1  ...  5.844111  5.560736  5.366462  6.400900  5.217431  4.085751  4.387341   \n",
       "2  ...  4.822785  0.566945  2.447563 -2.197526  2.403656  2.071349  6.521480   \n",
       "\n",
       "       2020      2021  Unnamed: 66  \n",
       "0 -2.902756       NaN          NaN  \n",
       "1  4.995507  5.840394          NaN  \n",
       "2  7.821667       NaN          NaN  \n",
       "\n",
       "[3 rows x 67 columns]"
      ]
     },
     "execution_count": 3,
     "metadata": {},
     "output_type": "execute_result"
    }
   ],
   "source": [
    "# Check the DF\n",
    "inflation_df.head(3)"
   ]
  },
  {
   "cell_type": "code",
   "execution_count": 4,
   "id": "01d4595b-ca59-495d-bf21-e7c25dad53ad",
   "metadata": {},
   "outputs": [],
   "source": [
    "# Transposing year columns to column Year\n",
    "inflation_df = inflation_df.melt(id_vars=['Country Name', 'Country Code', 'Indicator Name', 'Indicator Code'],\n",
    "                    var_name='Year', value_name=\"Inflation, GDP deflation rate (annual %)\")"
   ]
  },
  {
   "cell_type": "code",
   "execution_count": 5,
   "id": "9050acd7-5be7-47fb-aba7-b5c272e441a1",
   "metadata": {},
   "outputs": [
    {
     "data": {
      "text/html": [
       "<div>\n",
       "<style scoped>\n",
       "    .dataframe tbody tr th:only-of-type {\n",
       "        vertical-align: middle;\n",
       "    }\n",
       "\n",
       "    .dataframe tbody tr th {\n",
       "        vertical-align: top;\n",
       "    }\n",
       "\n",
       "    .dataframe thead th {\n",
       "        text-align: right;\n",
       "    }\n",
       "</style>\n",
       "<table border=\"1\" class=\"dataframe\">\n",
       "  <thead>\n",
       "    <tr style=\"text-align: right;\">\n",
       "      <th></th>\n",
       "      <th>Country Name</th>\n",
       "      <th>Country Code</th>\n",
       "      <th>Year</th>\n",
       "      <th>Inflation, GDP deflation rate (annual %)</th>\n",
       "    </tr>\n",
       "  </thead>\n",
       "  <tbody>\n",
       "    <tr>\n",
       "      <th>0</th>\n",
       "      <td>Aruba</td>\n",
       "      <td>ABW</td>\n",
       "      <td>1960</td>\n",
       "      <td>NaN</td>\n",
       "    </tr>\n",
       "    <tr>\n",
       "      <th>1</th>\n",
       "      <td>NaN</td>\n",
       "      <td>AFE</td>\n",
       "      <td>1960</td>\n",
       "      <td>NaN</td>\n",
       "    </tr>\n",
       "    <tr>\n",
       "      <th>2</th>\n",
       "      <td>Afganistán</td>\n",
       "      <td>AFG</td>\n",
       "      <td>1960</td>\n",
       "      <td>NaN</td>\n",
       "    </tr>\n",
       "  </tbody>\n",
       "</table>\n",
       "</div>"
      ],
      "text/plain": [
       "  Country Name Country Code  Year  Inflation, GDP deflation rate (annual %)\n",
       "0        Aruba          ABW  1960                                       NaN\n",
       "1          NaN          AFE  1960                                       NaN\n",
       "2   Afganistán          AFG  1960                                       NaN"
      ]
     },
     "execution_count": 5,
     "metadata": {},
     "output_type": "execute_result"
    }
   ],
   "source": [
    "#Dropping unecessary columns\n",
    "inflation_df_c = inflation_df.drop(['Indicator Name', 'Indicator Code'], axis=1)\n",
    "inflation_df_c.head(3)"
   ]
  },
  {
   "cell_type": "code",
   "execution_count": 6,
   "id": "aabc8d8f-3864-46e8-9589-530cf5f7349d",
   "metadata": {},
   "outputs": [],
   "source": [
    "#Filtering data from 1970 to 2020\n",
    "inflation_df_c = inflation_df_c[(inflation_df_c['Year'] >= '1970') & (inflation_df_c['Year'] <= '2020')]"
   ]
  },
  {
   "cell_type": "code",
   "execution_count": 7,
   "id": "660c383f-88aa-4339-b100-684e45450c95",
   "metadata": {},
   "outputs": [
    {
     "data": {
      "text/plain": [
       "Country Name                                 object\n",
       "Country Code                                 object\n",
       "Year                                          int64\n",
       "Inflation, GDP deflation rate (annual %)    float64\n",
       "dtype: object"
      ]
     },
     "execution_count": 7,
     "metadata": {},
     "output_type": "execute_result"
    }
   ],
   "source": [
    "inflation_df_c = inflation_df_c.astype({'Year': 'int64'})\n",
    "inflation_df_c.dtypes"
   ]
  },
  {
   "cell_type": "code",
   "execution_count": 8,
   "id": "18d4fb3e",
   "metadata": {},
   "outputs": [
    {
     "data": {
      "text/html": [
       "<div>\n",
       "<style scoped>\n",
       "    .dataframe tbody tr th:only-of-type {\n",
       "        vertical-align: middle;\n",
       "    }\n",
       "\n",
       "    .dataframe tbody tr th {\n",
       "        vertical-align: top;\n",
       "    }\n",
       "\n",
       "    .dataframe thead th {\n",
       "        text-align: right;\n",
       "    }\n",
       "</style>\n",
       "<table border=\"1\" class=\"dataframe\">\n",
       "  <thead>\n",
       "    <tr style=\"text-align: right;\">\n",
       "      <th></th>\n",
       "      <th>Country Name</th>\n",
       "      <th>Country Code</th>\n",
       "      <th>Year</th>\n",
       "      <th>Inflation, GDP deflation rate (annual %)</th>\n",
       "    </tr>\n",
       "  </thead>\n",
       "  <tbody>\n",
       "    <tr>\n",
       "      <th>2660</th>\n",
       "      <td>Aruba</td>\n",
       "      <td>ABW</td>\n",
       "      <td>1970</td>\n",
       "      <td>NaN</td>\n",
       "    </tr>\n",
       "    <tr>\n",
       "      <th>2661</th>\n",
       "      <td>NaN</td>\n",
       "      <td>AFE</td>\n",
       "      <td>1970</td>\n",
       "      <td>4.937524</td>\n",
       "    </tr>\n",
       "    <tr>\n",
       "      <th>2662</th>\n",
       "      <td>Afganistán</td>\n",
       "      <td>AFG</td>\n",
       "      <td>1970</td>\n",
       "      <td>NaN</td>\n",
       "    </tr>\n",
       "    <tr>\n",
       "      <th>2663</th>\n",
       "      <td>NaN</td>\n",
       "      <td>AFW</td>\n",
       "      <td>1970</td>\n",
       "      <td>3.710455</td>\n",
       "    </tr>\n",
       "    <tr>\n",
       "      <th>2664</th>\n",
       "      <td>Angola</td>\n",
       "      <td>AGO</td>\n",
       "      <td>1970</td>\n",
       "      <td>NaN</td>\n",
       "    </tr>\n",
       "  </tbody>\n",
       "</table>\n",
       "</div>"
      ],
      "text/plain": [
       "     Country Name Country Code  Year  Inflation, GDP deflation rate (annual %)\n",
       "2660        Aruba          ABW  1970                                       NaN\n",
       "2661          NaN          AFE  1970                                  4.937524\n",
       "2662   Afganistán          AFG  1970                                       NaN\n",
       "2663          NaN          AFW  1970                                  3.710455\n",
       "2664       Angola          AGO  1970                                       NaN"
      ]
     },
     "execution_count": 8,
     "metadata": {},
     "output_type": "execute_result"
    }
   ],
   "source": [
    "inflation_df_c.head()"
   ]
  },
  {
   "cell_type": "code",
   "execution_count": 9,
   "id": "dd1d81c3-c28b-4972-97af-c919a2e8b124",
   "metadata": {},
   "outputs": [
    {
     "data": {
      "text/plain": [
       "['AFE', 'AFW']"
      ]
     },
     "execution_count": 9,
     "metadata": {},
     "output_type": "execute_result"
    }
   ],
   "source": [
    "# List of entity names with missing Code\n",
    "missing_country_nm = inflation_df_c[inflation_df_c['Country Name'].isna()]\n",
    "#missing_country_nm\n",
    "list_missing = missing_country_nm['Country Code'].unique().tolist()\n",
    "list_missing\n",
    "# AFE and AFW will be dropped since it is a cluster of countries and we are using only countries\n",
    "# AFE = Africa Eastern and Southern\n",
    "# AFW = Africa Western and Central"
   ]
  },
  {
   "cell_type": "code",
   "execution_count": 10,
   "id": "1146361d-675a-4f25-9d21-455505f48b21",
   "metadata": {},
   "outputs": [
    {
     "name": "stdout",
     "output_type": "stream",
     "text": [
      "<class 'pandas.core.frame.DataFrame'>\n",
      "Int64Index: 13464 entries, 2660 to 16225\n",
      "Data columns (total 4 columns):\n",
      " #   Column                                    Non-Null Count  Dtype  \n",
      "---  ------                                    --------------  -----  \n",
      " 0   Country Name                              13464 non-null  object \n",
      " 1   Country Code                              13464 non-null  object \n",
      " 2   Year                                      13464 non-null  int64  \n",
      " 3   Inflation, GDP deflation rate (annual %)  10887 non-null  float64\n",
      "dtypes: float64(1), int64(1), object(2)\n",
      "memory usage: 525.9+ KB\n"
     ]
    }
   ],
   "source": [
    "# Removing rows with null in Country Name that represent AFE and AFW\n",
    "inflation_df_c = inflation_df_c.dropna(subset=['Country Name'])\n",
    "inflation_df_c.info()"
   ]
  },
  {
   "cell_type": "code",
   "execution_count": 14,
   "id": "06cee208-4032-4dee-8d1f-c397361862a8",
   "metadata": {},
   "outputs": [
    {
     "data": {
      "text/html": [
       "<div>\n",
       "<style scoped>\n",
       "    .dataframe tbody tr th:only-of-type {\n",
       "        vertical-align: middle;\n",
       "    }\n",
       "\n",
       "    .dataframe tbody tr th {\n",
       "        vertical-align: top;\n",
       "    }\n",
       "\n",
       "    .dataframe thead th {\n",
       "        text-align: right;\n",
       "    }\n",
       "</style>\n",
       "<table border=\"1\" class=\"dataframe\">\n",
       "  <thead>\n",
       "    <tr style=\"text-align: right;\">\n",
       "      <th></th>\n",
       "      <th>Country Name</th>\n",
       "      <th>Country Code</th>\n",
       "      <th>Year</th>\n",
       "      <th>Inflation, GDP deflation rate (annual %)</th>\n",
       "    </tr>\n",
       "  </thead>\n",
       "  <tbody>\n",
       "    <tr>\n",
       "      <th>16176</th>\n",
       "      <td>Sudán del Sur</td>\n",
       "      <td>SSD</td>\n",
       "      <td>2020</td>\n",
       "      <td>NaN</td>\n",
       "    </tr>\n",
       "    <tr>\n",
       "      <th>16177</th>\n",
       "      <td>África al sur del Sahara</td>\n",
       "      <td>SSF</td>\n",
       "      <td>2020</td>\n",
       "      <td>3.563040</td>\n",
       "    </tr>\n",
       "    <tr>\n",
       "      <th>16178</th>\n",
       "      <td>Pequeños Estados</td>\n",
       "      <td>SST</td>\n",
       "      <td>2020</td>\n",
       "      <td>0.466179</td>\n",
       "    </tr>\n",
       "    <tr>\n",
       "      <th>16179</th>\n",
       "      <td>Santo Tomé y Príncipe</td>\n",
       "      <td>STP</td>\n",
       "      <td>2020</td>\n",
       "      <td>5.473949</td>\n",
       "    </tr>\n",
       "    <tr>\n",
       "      <th>16180</th>\n",
       "      <td>Suriname</td>\n",
       "      <td>SUR</td>\n",
       "      <td>2020</td>\n",
       "      <td>44.866610</td>\n",
       "    </tr>\n",
       "    <tr>\n",
       "      <th>16181</th>\n",
       "      <td>República Eslovaca</td>\n",
       "      <td>SVK</td>\n",
       "      <td>2020</td>\n",
       "      <td>2.368619</td>\n",
       "    </tr>\n",
       "    <tr>\n",
       "      <th>16182</th>\n",
       "      <td>Eslovenia</td>\n",
       "      <td>SVN</td>\n",
       "      <td>2020</td>\n",
       "      <td>1.225816</td>\n",
       "    </tr>\n",
       "    <tr>\n",
       "      <th>16183</th>\n",
       "      <td>Suecia</td>\n",
       "      <td>SWE</td>\n",
       "      <td>2020</td>\n",
       "      <td>1.761189</td>\n",
       "    </tr>\n",
       "    <tr>\n",
       "      <th>16184</th>\n",
       "      <td>Eswatini</td>\n",
       "      <td>SWZ</td>\n",
       "      <td>2020</td>\n",
       "      <td>3.604196</td>\n",
       "    </tr>\n",
       "    <tr>\n",
       "      <th>16185</th>\n",
       "      <td>Sint Maarten (Dutch part)</td>\n",
       "      <td>SXM</td>\n",
       "      <td>2020</td>\n",
       "      <td>NaN</td>\n",
       "    </tr>\n",
       "    <tr>\n",
       "      <th>16186</th>\n",
       "      <td>Seychelles</td>\n",
       "      <td>SYC</td>\n",
       "      <td>2020</td>\n",
       "      <td>-3.020354</td>\n",
       "    </tr>\n",
       "    <tr>\n",
       "      <th>16187</th>\n",
       "      <td>República Árabe Siria</td>\n",
       "      <td>SYR</td>\n",
       "      <td>2020</td>\n",
       "      <td>NaN</td>\n",
       "    </tr>\n",
       "    <tr>\n",
       "      <th>16188</th>\n",
       "      <td>Islas Turcas y Caicos</td>\n",
       "      <td>TCA</td>\n",
       "      <td>2020</td>\n",
       "      <td>5.460190</td>\n",
       "    </tr>\n",
       "    <tr>\n",
       "      <th>16189</th>\n",
       "      <td>Chad</td>\n",
       "      <td>TCD</td>\n",
       "      <td>2020</td>\n",
       "      <td>-5.454896</td>\n",
       "    </tr>\n",
       "    <tr>\n",
       "      <th>16190</th>\n",
       "      <td>Asia oriental y el Pacífico (BIRF y la AIF)</td>\n",
       "      <td>TEA</td>\n",
       "      <td>2020</td>\n",
       "      <td>1.614917</td>\n",
       "    </tr>\n",
       "    <tr>\n",
       "      <th>16191</th>\n",
       "      <td>Europa y Asia central (BIRF y la AIF)</td>\n",
       "      <td>TEC</td>\n",
       "      <td>2020</td>\n",
       "      <td>3.169603</td>\n",
       "    </tr>\n",
       "    <tr>\n",
       "      <th>16192</th>\n",
       "      <td>Togo</td>\n",
       "      <td>TGO</td>\n",
       "      <td>2020</td>\n",
       "      <td>1.282158</td>\n",
       "    </tr>\n",
       "    <tr>\n",
       "      <th>16193</th>\n",
       "      <td>Tailandia</td>\n",
       "      <td>THA</td>\n",
       "      <td>2020</td>\n",
       "      <td>-1.318658</td>\n",
       "    </tr>\n",
       "    <tr>\n",
       "      <th>16194</th>\n",
       "      <td>Tayikistán</td>\n",
       "      <td>TJK</td>\n",
       "      <td>2020</td>\n",
       "      <td>1.655913</td>\n",
       "    </tr>\n",
       "    <tr>\n",
       "      <th>16195</th>\n",
       "      <td>Turkmenistán</td>\n",
       "      <td>TKM</td>\n",
       "      <td>2020</td>\n",
       "      <td>NaN</td>\n",
       "    </tr>\n",
       "    <tr>\n",
       "      <th>16196</th>\n",
       "      <td>América Latina y el Caribe (BIRF y la AIF)</td>\n",
       "      <td>TLA</td>\n",
       "      <td>2020</td>\n",
       "      <td>1.744986</td>\n",
       "    </tr>\n",
       "    <tr>\n",
       "      <th>16197</th>\n",
       "      <td>Timor-Leste</td>\n",
       "      <td>TLS</td>\n",
       "      <td>2020</td>\n",
       "      <td>-15.846438</td>\n",
       "    </tr>\n",
       "    <tr>\n",
       "      <th>16198</th>\n",
       "      <td>Oriente Medio y Norte de África (BIRF y la AIF)</td>\n",
       "      <td>TMN</td>\n",
       "      <td>2020</td>\n",
       "      <td>1.762288</td>\n",
       "    </tr>\n",
       "    <tr>\n",
       "      <th>16199</th>\n",
       "      <td>Tonga</td>\n",
       "      <td>TON</td>\n",
       "      <td>2020</td>\n",
       "      <td>-3.617421</td>\n",
       "    </tr>\n",
       "    <tr>\n",
       "      <th>16200</th>\n",
       "      <td>Asia meridional (BIRF y la AIF)</td>\n",
       "      <td>TSA</td>\n",
       "      <td>2020</td>\n",
       "      <td>4.780375</td>\n",
       "    </tr>\n",
       "    <tr>\n",
       "      <th>16201</th>\n",
       "      <td>África al sur del Sahara (BIRF y la AIF)</td>\n",
       "      <td>TSS</td>\n",
       "      <td>2020</td>\n",
       "      <td>3.563040</td>\n",
       "    </tr>\n",
       "    <tr>\n",
       "      <th>16202</th>\n",
       "      <td>Trinidad y Tobago</td>\n",
       "      <td>TTO</td>\n",
       "      <td>2020</td>\n",
       "      <td>-3.356472</td>\n",
       "    </tr>\n",
       "    <tr>\n",
       "      <th>16203</th>\n",
       "      <td>Túnez</td>\n",
       "      <td>TUN</td>\n",
       "      <td>2020</td>\n",
       "      <td>6.878976</td>\n",
       "    </tr>\n",
       "    <tr>\n",
       "      <th>16204</th>\n",
       "      <td>Turquía</td>\n",
       "      <td>TUR</td>\n",
       "      <td>2020</td>\n",
       "      <td>14.826411</td>\n",
       "    </tr>\n",
       "    <tr>\n",
       "      <th>16205</th>\n",
       "      <td>Tuvalu</td>\n",
       "      <td>TUV</td>\n",
       "      <td>2020</td>\n",
       "      <td>1.033295</td>\n",
       "    </tr>\n",
       "    <tr>\n",
       "      <th>16206</th>\n",
       "      <td>Tanzanía</td>\n",
       "      <td>TZA</td>\n",
       "      <td>2020</td>\n",
       "      <td>0.343713</td>\n",
       "    </tr>\n",
       "    <tr>\n",
       "      <th>16207</th>\n",
       "      <td>Uganda</td>\n",
       "      <td>UGA</td>\n",
       "      <td>2020</td>\n",
       "      <td>2.721484</td>\n",
       "    </tr>\n",
       "    <tr>\n",
       "      <th>16208</th>\n",
       "      <td>Ucrania</td>\n",
       "      <td>UKR</td>\n",
       "      <td>2020</td>\n",
       "      <td>10.294944</td>\n",
       "    </tr>\n",
       "    <tr>\n",
       "      <th>16209</th>\n",
       "      <td>Ingreso mediano alto</td>\n",
       "      <td>UMC</td>\n",
       "      <td>2020</td>\n",
       "      <td>1.356488</td>\n",
       "    </tr>\n",
       "    <tr>\n",
       "      <th>16210</th>\n",
       "      <td>Uruguay</td>\n",
       "      <td>URY</td>\n",
       "      <td>2020</td>\n",
       "      <td>11.037372</td>\n",
       "    </tr>\n",
       "    <tr>\n",
       "      <th>16211</th>\n",
       "      <td>Estados Unidos</td>\n",
       "      <td>USA</td>\n",
       "      <td>2020</td>\n",
       "      <td>1.205235</td>\n",
       "    </tr>\n",
       "    <tr>\n",
       "      <th>16212</th>\n",
       "      <td>Uzbekistán</td>\n",
       "      <td>UZB</td>\n",
       "      <td>2020</td>\n",
       "      <td>11.646027</td>\n",
       "    </tr>\n",
       "    <tr>\n",
       "      <th>16213</th>\n",
       "      <td>San Vicente y las Granadinas</td>\n",
       "      <td>VCT</td>\n",
       "      <td>2020</td>\n",
       "      <td>1.199575</td>\n",
       "    </tr>\n",
       "    <tr>\n",
       "      <th>16214</th>\n",
       "      <td>Venezuela</td>\n",
       "      <td>VEN</td>\n",
       "      <td>2020</td>\n",
       "      <td>NaN</td>\n",
       "    </tr>\n",
       "    <tr>\n",
       "      <th>16215</th>\n",
       "      <td>Islas Vírgenes Británicas</td>\n",
       "      <td>VGB</td>\n",
       "      <td>2020</td>\n",
       "      <td>NaN</td>\n",
       "    </tr>\n",
       "    <tr>\n",
       "      <th>16216</th>\n",
       "      <td>Islas Vírgenes (EE.UU.)</td>\n",
       "      <td>VIR</td>\n",
       "      <td>2020</td>\n",
       "      <td>4.353670</td>\n",
       "    </tr>\n",
       "    <tr>\n",
       "      <th>16217</th>\n",
       "      <td>Viet Nam</td>\n",
       "      <td>VNM</td>\n",
       "      <td>2020</td>\n",
       "      <td>1.614917</td>\n",
       "    </tr>\n",
       "    <tr>\n",
       "      <th>16218</th>\n",
       "      <td>Vanuatu</td>\n",
       "      <td>VUT</td>\n",
       "      <td>2020</td>\n",
       "      <td>1.800731</td>\n",
       "    </tr>\n",
       "    <tr>\n",
       "      <th>16219</th>\n",
       "      <td>Mundo</td>\n",
       "      <td>WLD</td>\n",
       "      <td>2020</td>\n",
       "      <td>1.761738</td>\n",
       "    </tr>\n",
       "    <tr>\n",
       "      <th>16220</th>\n",
       "      <td>Samoa</td>\n",
       "      <td>WSM</td>\n",
       "      <td>2020</td>\n",
       "      <td>0.218011</td>\n",
       "    </tr>\n",
       "    <tr>\n",
       "      <th>16221</th>\n",
       "      <td>Kosovo</td>\n",
       "      <td>XKX</td>\n",
       "      <td>2020</td>\n",
       "      <td>1.381107</td>\n",
       "    </tr>\n",
       "    <tr>\n",
       "      <th>16222</th>\n",
       "      <td>Yemen, Rep. del</td>\n",
       "      <td>YEM</td>\n",
       "      <td>2020</td>\n",
       "      <td>21.360575</td>\n",
       "    </tr>\n",
       "    <tr>\n",
       "      <th>16223</th>\n",
       "      <td>Sudáfrica</td>\n",
       "      <td>ZAF</td>\n",
       "      <td>2020</td>\n",
       "      <td>5.273230</td>\n",
       "    </tr>\n",
       "    <tr>\n",
       "      <th>16224</th>\n",
       "      <td>Zambia</td>\n",
       "      <td>ZMB</td>\n",
       "      <td>2020</td>\n",
       "      <td>13.743502</td>\n",
       "    </tr>\n",
       "    <tr>\n",
       "      <th>16225</th>\n",
       "      <td>Zimbabwe</td>\n",
       "      <td>ZWE</td>\n",
       "      <td>2020</td>\n",
       "      <td>558.560024</td>\n",
       "    </tr>\n",
       "  </tbody>\n",
       "</table>\n",
       "</div>"
      ],
      "text/plain": [
       "                                          Country Name Country Code  Year  \\\n",
       "16176                                    Sudán del Sur          SSD  2020   \n",
       "16177                         África al sur del Sahara          SSF  2020   \n",
       "16178                                 Pequeños Estados          SST  2020   \n",
       "16179                            Santo Tomé y Príncipe          STP  2020   \n",
       "16180                                         Suriname          SUR  2020   \n",
       "16181                               República Eslovaca          SVK  2020   \n",
       "16182                                        Eslovenia          SVN  2020   \n",
       "16183                                           Suecia          SWE  2020   \n",
       "16184                                         Eswatini          SWZ  2020   \n",
       "16185                        Sint Maarten (Dutch part)          SXM  2020   \n",
       "16186                                       Seychelles          SYC  2020   \n",
       "16187                            República Árabe Siria          SYR  2020   \n",
       "16188                            Islas Turcas y Caicos          TCA  2020   \n",
       "16189                                             Chad          TCD  2020   \n",
       "16190      Asia oriental y el Pacífico (BIRF y la AIF)          TEA  2020   \n",
       "16191            Europa y Asia central (BIRF y la AIF)          TEC  2020   \n",
       "16192                                             Togo          TGO  2020   \n",
       "16193                                        Tailandia          THA  2020   \n",
       "16194                                       Tayikistán          TJK  2020   \n",
       "16195                                     Turkmenistán          TKM  2020   \n",
       "16196       América Latina y el Caribe (BIRF y la AIF)          TLA  2020   \n",
       "16197                                      Timor-Leste          TLS  2020   \n",
       "16198  Oriente Medio y Norte de África (BIRF y la AIF)          TMN  2020   \n",
       "16199                                            Tonga          TON  2020   \n",
       "16200                  Asia meridional (BIRF y la AIF)          TSA  2020   \n",
       "16201         África al sur del Sahara (BIRF y la AIF)          TSS  2020   \n",
       "16202                                Trinidad y Tobago          TTO  2020   \n",
       "16203                                            Túnez          TUN  2020   \n",
       "16204                                          Turquía          TUR  2020   \n",
       "16205                                           Tuvalu          TUV  2020   \n",
       "16206                                         Tanzanía          TZA  2020   \n",
       "16207                                           Uganda          UGA  2020   \n",
       "16208                                          Ucrania          UKR  2020   \n",
       "16209                             Ingreso mediano alto          UMC  2020   \n",
       "16210                                          Uruguay          URY  2020   \n",
       "16211                                   Estados Unidos          USA  2020   \n",
       "16212                                       Uzbekistán          UZB  2020   \n",
       "16213                     San Vicente y las Granadinas          VCT  2020   \n",
       "16214                                        Venezuela          VEN  2020   \n",
       "16215                        Islas Vírgenes Británicas          VGB  2020   \n",
       "16216                          Islas Vírgenes (EE.UU.)          VIR  2020   \n",
       "16217                                         Viet Nam          VNM  2020   \n",
       "16218                                          Vanuatu          VUT  2020   \n",
       "16219                                            Mundo          WLD  2020   \n",
       "16220                                            Samoa          WSM  2020   \n",
       "16221                                           Kosovo          XKX  2020   \n",
       "16222                                  Yemen, Rep. del          YEM  2020   \n",
       "16223                                        Sudáfrica          ZAF  2020   \n",
       "16224                                           Zambia          ZMB  2020   \n",
       "16225                                         Zimbabwe          ZWE  2020   \n",
       "\n",
       "       Inflation, GDP deflation rate (annual %)  \n",
       "16176                                       NaN  \n",
       "16177                                  3.563040  \n",
       "16178                                  0.466179  \n",
       "16179                                  5.473949  \n",
       "16180                                 44.866610  \n",
       "16181                                  2.368619  \n",
       "16182                                  1.225816  \n",
       "16183                                  1.761189  \n",
       "16184                                  3.604196  \n",
       "16185                                       NaN  \n",
       "16186                                 -3.020354  \n",
       "16187                                       NaN  \n",
       "16188                                  5.460190  \n",
       "16189                                 -5.454896  \n",
       "16190                                  1.614917  \n",
       "16191                                  3.169603  \n",
       "16192                                  1.282158  \n",
       "16193                                 -1.318658  \n",
       "16194                                  1.655913  \n",
       "16195                                       NaN  \n",
       "16196                                  1.744986  \n",
       "16197                                -15.846438  \n",
       "16198                                  1.762288  \n",
       "16199                                 -3.617421  \n",
       "16200                                  4.780375  \n",
       "16201                                  3.563040  \n",
       "16202                                 -3.356472  \n",
       "16203                                  6.878976  \n",
       "16204                                 14.826411  \n",
       "16205                                  1.033295  \n",
       "16206                                  0.343713  \n",
       "16207                                  2.721484  \n",
       "16208                                 10.294944  \n",
       "16209                                  1.356488  \n",
       "16210                                 11.037372  \n",
       "16211                                  1.205235  \n",
       "16212                                 11.646027  \n",
       "16213                                  1.199575  \n",
       "16214                                       NaN  \n",
       "16215                                       NaN  \n",
       "16216                                  4.353670  \n",
       "16217                                  1.614917  \n",
       "16218                                  1.800731  \n",
       "16219                                  1.761738  \n",
       "16220                                  0.218011  \n",
       "16221                                  1.381107  \n",
       "16222                                 21.360575  \n",
       "16223                                  5.273230  \n",
       "16224                                 13.743502  \n",
       "16225                                558.560024  "
      ]
     },
     "execution_count": 14,
     "metadata": {},
     "output_type": "execute_result"
    }
   ],
   "source": [
    "inflation_df_c.tail(50)"
   ]
  },
  {
   "cell_type": "code",
   "execution_count": 27,
   "id": "db5c9fb1",
   "metadata": {},
   "outputs": [
    {
     "data": {
      "text/html": [
       "<div>\n",
       "<style scoped>\n",
       "    .dataframe tbody tr th:only-of-type {\n",
       "        vertical-align: middle;\n",
       "    }\n",
       "\n",
       "    .dataframe tbody tr th {\n",
       "        vertical-align: top;\n",
       "    }\n",
       "\n",
       "    .dataframe thead th {\n",
       "        text-align: right;\n",
       "    }\n",
       "</style>\n",
       "<table border=\"1\" class=\"dataframe\">\n",
       "  <thead>\n",
       "    <tr style=\"text-align: right;\">\n",
       "      <th></th>\n",
       "      <th>Country Name</th>\n",
       "      <th>Country Code</th>\n",
       "      <th>Year</th>\n",
       "      <th>Inflation, GDP deflation rate (annual %)</th>\n",
       "    </tr>\n",
       "  </thead>\n",
       "  <tbody>\n",
       "    <tr>\n",
       "      <th>7980</th>\n",
       "      <td>Aruba</td>\n",
       "      <td>ABW</td>\n",
       "      <td>1990</td>\n",
       "      <td>5.769870</td>\n",
       "    </tr>\n",
       "    <tr>\n",
       "      <th>7982</th>\n",
       "      <td>Afganistán</td>\n",
       "      <td>AFG</td>\n",
       "      <td>1990</td>\n",
       "      <td>NaN</td>\n",
       "    </tr>\n",
       "    <tr>\n",
       "      <th>7984</th>\n",
       "      <td>Angola</td>\n",
       "      <td>AGO</td>\n",
       "      <td>1990</td>\n",
       "      <td>14.007440</td>\n",
       "    </tr>\n",
       "    <tr>\n",
       "      <th>7985</th>\n",
       "      <td>Albania</td>\n",
       "      <td>ALB</td>\n",
       "      <td>1990</td>\n",
       "      <td>-0.431369</td>\n",
       "    </tr>\n",
       "    <tr>\n",
       "      <th>7986</th>\n",
       "      <td>Andorra</td>\n",
       "      <td>AND</td>\n",
       "      <td>1990</td>\n",
       "      <td>7.326244</td>\n",
       "    </tr>\n",
       "  </tbody>\n",
       "</table>\n",
       "</div>"
      ],
      "text/plain": [
       "     Country Name Country Code  Year  Inflation, GDP deflation rate (annual %)\n",
       "7980        Aruba          ABW  1990                                  5.769870\n",
       "7982   Afganistán          AFG  1990                                       NaN\n",
       "7984       Angola          AGO  1990                                 14.007440\n",
       "7985      Albania          ALB  1990                                 -0.431369\n",
       "7986      Andorra          AND  1990                                  7.326244"
      ]
     },
     "execution_count": 27,
     "metadata": {},
     "output_type": "execute_result"
    }
   ],
   "source": [
    "in_1970 = inflation_df_c['Year'] == 1970\n",
    "in_1980 = inflation_df_c['Year'] == 1980\n",
    "in_1990 = inflation_df_c['Year'] == 1990\n",
    "#in_1970.head()\n",
    "\n",
    "inflation_1970 = inflation_df_c[in_1970]\n",
    "inflation_1980 = inflation_df_c[in_1980]\n",
    "inflation_1990 = inflation_df_c[in_1990]\n",
    "\n",
    "inflation_1990.head()\n"
   ]
  },
  {
   "cell_type": "code",
   "execution_count": 25,
   "id": "9c9948f0",
   "metadata": {},
   "outputs": [
    {
     "data": {
      "application/vnd.plotly.v1+json": {
       "config": {
        "plotlyServerURL": "https://plot.ly"
       },
       "data": [
        {
         "alignmentgroup": "True",
         "hovertemplate": "Country Name=%{x}<br>Inflation, GDP deflation rate (annual %)=%{y}<extra></extra>",
         "legendgroup": "",
         "marker": {
          "color": "#636efa",
          "pattern": {
           "shape": ""
          }
         },
         "name": "",
         "offsetgroup": "",
         "orientation": "v",
         "showlegend": false,
         "textposition": "auto",
         "type": "bar",
         "x": [
          "Aruba",
          "Afganistán",
          "Angola",
          "Albania",
          "Andorra",
          "El mundo árabe",
          "Emiratos Árabes Unidos",
          "Argentina",
          "Armenia",
          "Samoa Americana",
          "Antigua y Barbuda",
          "Australia",
          "Austria",
          "Azerbaiyán",
          "Burundi",
          "Bélgica",
          "Benin",
          "Burkina Faso",
          "Bangladesh",
          "Bulgaria",
          "Bahrein",
          "Bahamas",
          "Bosnia y Herzegovina",
          "Belarús",
          "Belice",
          "Bermudas",
          "Bolivia",
          "Brasil",
          "Barbados",
          "Brunei Darussalam",
          "Bhután",
          "Botswana",
          "República Centroafricana",
          "Canadá",
          "Europa Central y del Báltico",
          "Suiza",
          "Islas del Canal",
          "Chile",
          "China",
          "Côte d'Ivoire",
          "Camerún",
          "Congo, República Democrática del",
          "Congo, República del",
          "Colombia",
          "Comoras",
          "Cabo Verde",
          "Costa Rica",
          "Estados pequeos del Caribe",
          "Cuba",
          "Curacao",
          "Islas Caimán",
          "Chipre",
          "República Checa",
          "Alemania",
          "Djibouti",
          "Dominica",
          "Dinamarca",
          "República Dominicana",
          "Argelia",
          "Asia oriental y el Pacífico (excluido altos ingresos)",
          "inicial del dividendo demográfico",
          "Asia oriental y el Pacífico",
          "Europa y Asia central (excluido altos ingresos)",
          "Europa y Asia central",
          "Ecuador",
          "Egipto, República Árabe de",
          "Zona del Euro",
          "Eritrea",
          "España",
          "Estonia",
          "Etiopía",
          "Unión Europea",
          "Frágiles y situaciones de conflicto afectados",
          "Finlandia",
          "Fiji",
          "Francia",
          "Islas Feroe",
          "Micronesia (Estados Federados de)",
          "Gabón",
          "Reino Unido",
          "Georgia",
          "Ghana",
          "Gibraltar",
          "Guinea",
          "Gambia",
          "Guinea-Bissau",
          "Guinea Ecuatorial",
          "Grecia",
          "Granada",
          "Groenlandia",
          "Guatemala",
          "Guam",
          "Guyana",
          "Ingreso alto",
          "Hong Kong, Región Administrativa Especial",
          "Honduras",
          "Países pobres muy endeudados (PPME)",
          "Croacia",
          "Haití",
          "Hungría",
          "Sólo BIRF",
          "BIRF y la AIF",
          "total de la AIF",
          "mezcla de la AIF",
          "Indonesia",
          "Sólo AIF",
          "Isla de Man",
          "India",
          "No clasificado",
          "Irlanda",
          "Irán, República Islámica del",
          "Iraq",
          "Islandia",
          "Israel",
          "Italia",
          "Jamaica",
          "Jordania",
          "Japón",
          "Kazajstán",
          "Kenya",
          "Kirguistán",
          "Camboya",
          "Kiribati",
          "Saint Kitts y Nevis",
          "Corea, República de",
          "Kuwait",
          "América Latina y el Caribe (excluido altos ingresos)",
          "República Democrática Popular Lao",
          "Líbano",
          "Liberia",
          "Libia",
          "Santa Lucía",
          "América Latina y el Caribe",
          "Países menos desarrollados: clasificación de las Naciones Unidas",
          "Países de ingreso bajo",
          "Liechtenstein",
          "Sri Lanka",
          "Países de ingreso mediano bajo",
          "Ingreso mediano y bajo",
          "Lesotho",
          "avanzada del dividendo demográfico",
          "Lituania",
          "Luxemburgo",
          "Letonia",
          "Región Administrativa Especial de Macao, China",
          "Isla de San Martín (parte francesa)",
          "Marruecos",
          "Mónaco",
          "República de Moldova",
          "Madagascar",
          "Maldivas",
          "Oriente Medio y Norte de África",
          "México",
          "Islas Marshall",
          " Ingreso mediano",
          "Macedonia del Norte",
          "Malí",
          "Malta",
          "Myanmar",
          "Oriente Medio y Norte de África (excluido altos ingresos)",
          "Montenegro",
          "Mongolia",
          "Mariana",
          "Mozambique",
          "Mauritania",
          "Mauricio",
          "Malawi",
          "Malasia",
          "América del Norte",
          "Namibia",
          "Nueva Caledonia",
          "Níger",
          "Nigeria",
          "Nicaragua",
          "Países Bajos",
          "Noruega",
          "Nepal",
          "Nauru",
          "Nueva Zelandia",
          "Miembros OCDE",
          "Omán",
          "Otros Estados pequeos",
          "Pakistán",
          "Panamá",
          "Perú",
          "Filipinas",
          "Palau",
          "Papua Nueva Guinea",
          "Polonia",
          "previa al dividendo demográfico",
          "Puerto Rico",
          "Corea, República Popular Democrática de",
          "Portugal",
          "Paraguay",
          "Ribera Occidental y Gaza",
          "Estados pequeos de las Islas del Pacfico",
          "posterior al dividendo demográfico",
          "Polinesia Francesa",
          "Qatar",
          "Rumania",
          "Federación de Rusia",
          "Rwanda",
          "Asia meridional",
          "Arabia Saudita",
          "Sudán",
          "Senegal",
          "Singapur",
          "Islas Salomón",
          "Sierra Leona",
          "El Salvador",
          "San Marino",
          "Somalia",
          "Serbia",
          "África al sur del Sahara (excluido altos ingresos)",
          "Sudán del Sur",
          "África al sur del Sahara",
          "Pequeños Estados",
          "Santo Tomé y Príncipe",
          "Suriname",
          "República Eslovaca",
          "Eslovenia",
          "Suecia",
          "Eswatini",
          "Sint Maarten (Dutch part)",
          "Seychelles",
          "República Árabe Siria",
          "Islas Turcas y Caicos",
          "Chad",
          "Asia oriental y el Pacífico (BIRF y la AIF)",
          "Europa y Asia central (BIRF y la AIF)",
          "Togo",
          "Tailandia",
          "Tayikistán",
          "Turkmenistán",
          "América Latina y el Caribe (BIRF y la AIF)",
          "Timor-Leste",
          "Oriente Medio y Norte de África (BIRF y la AIF)",
          "Tonga",
          "Asia meridional (BIRF y la AIF)",
          "África al sur del Sahara (BIRF y la AIF)",
          "Trinidad y Tobago",
          "Túnez",
          "Turquía",
          "Tuvalu",
          "Tanzanía",
          "Uganda",
          "Ucrania",
          "Ingreso mediano alto",
          "Uruguay",
          "Estados Unidos",
          "Uzbekistán",
          "San Vicente y las Granadinas",
          "Venezuela",
          "Islas Vírgenes Británicas",
          "Islas Vírgenes (EE.UU.)",
          "Viet Nam",
          "Vanuatu",
          "Mundo",
          "Samoa",
          "Kosovo",
          "Yemen, Rep. del",
          "Sudáfrica",
          "Zambia",
          "Zimbabwe"
         ],
         "xaxis": "x",
         "y": [
          5.76986990463084,
          null,
          14.0074398272592,
          -0.431368812605911,
          7.32624365834135,
          14.8277926846047,
          3.33590049399268,
          2078.31681806978,
          null,
          null,
          1.65047989818146,
          6.10235276739392,
          2.99968060930622,
          null,
          5.98556154520156,
          2.81240371323102,
          2.17659692554506,
          1.81001541960049,
          6.53273529225511,
          26.188000659147,
          4.82669556670415,
          5.0737110468759,
          null,
          null,
          0.17286616677363,
          6.03357230876908,
          16.2679419846371,
          2736.97067768831,
          3.72830835473781,
          8.40996376629131,
          6.20535307307148,
          6.30001828407151,
          1.83664510564687,
          null,
          null,
          4.60362130952548,
          null,
          22.4709370974082,
          5.71122416868448,
          -4.52327354283084,
          1.64309843091495,
          108.955307114497,
          -1.02906827090958,
          52.3361031682038,
          2.17591230027585,
          2.34531032204426,
          18.547900299178,
          7.47199039979414,
          5.26127457206044,
          null,
          null,
          5.43312495060673,
          null,
          3.39664344990661,
          null,
          3.20835532688079,
          2.60244721924072,
          50.4592630804603,
          30.25959853752,
          7.84295443597471,
          11.9957500830468,
          6.10235276739392,
          11.9393050370707,
          5.40244442726828,
          5.81362920255557,
          17.7430513642445,
          3.27384664392878,
          null,
          7.32625110287677,
          null,
          3.27137460830546,
          3.39664344990661,
          7.60211265142119,
          5.19540242701977,
          6.67946936887009,
          2.65716286284953,
          null,
          4.94965000222929,
          15.3581413902885,
          7.88621804738521,
          22.2444524450987,
          31.1665867346186,
          null,
          17.2791811684893,
          11.9645333920464,
          30.2460376878574,
          10.3525268440096,
          20.6905995833877,
          0.0159321171846898,
          5.0925849637982,
          40.5312590935109,
          null,
          56.4446095646669,
          5.16335208812279,
          7.56480249059017,
          25.0086874853778,
          11.9801417375466,
          null,
          11.9957500830468,
          null,
          15.9029112575078,
          11.9116195809889,
          7.97569881663351,
          4.05896046967128,
          9.11205705320339,
          11.8587057699314,
          9.04935975497641,
          10.6683038500875,
          null,
          -0.729184701569451,
          22.7971969560272,
          73.6453910407236,
          null,
          null,
          8.91406346285557,
          25.1171058836009,
          14.1537369836061,
          2.65598494650376,
          null,
          10.6371987367347,
          7.97569881663351,
          null,
          -1.06275303643724,
          7.60302634203465,
          10.0874657380898,
          null,
          25.0628966844893,
          37.907380761807,
          15.5018483856034,
          null,
          null,
          8.38221708688111,
          16.2679419846371,
          11.9645333920464,
          13.4614689148492,
          5.40244442726828,
          20.0632752884551,
          9.11205705320339,
          11.8587057699314,
          11.9939039078828,
          8.39609042658621,
          null,
          2.51339456630137,
          null,
          10.9434259541124,
          null,
          7.69435962224856,
          2.64056122708294,
          null,
          11.8587057699314,
          null,
          14.8277926846047,
          28.1963805273913,
          4.98987695588573,
          10.6527512934111,
          null,
          7.60211265142119,
          3.15104983795096,
          33.3466499705522,
          17.7430513642445,
          null,
          23.2429253085626,
          null,
          null,
          2.64247754881106,
          10.5836307030068,
          10.6608342841167,
          3.80781497630849,
          4.88845102413607,
          6.38836082654544,
          -4.63560393144327,
          39.3599542768174,
          6.66894186986168,
          5016.10794966852,
          1.55975130923443,
          3.81144938967506,
          10.7158851533008,
          null,
          2.42376458070979,
          5.19540242701977,
          24.8409243752035,
          6.82671508787539,
          6.45199916791344,
          0.565205375241561,
          6261.2395586103,
          12.956838354491,
          null,
          4.13823158649787,
          null,
          10.6371987367347,
          11.8512386196171,
          null,
          13.1446522349531,
          36.607531327035,
          null,
          5.83467316237791,
          4.65052230749503,
          0.764363963567092,
          null,
          null,
          15.9029112575078,
          13.4614689148492,
          8.6005195711713,
          7.10171639369696,
          66.2355883520295,
          -0.166872375317354,
          4.69742330546458,
          34.1069390657287,
          70.5915492458485,
          5.10572833645764,
          null,
          215.466800659658,
          null,
          10.6104147198707,
          null,
          10.5836307030068,
          6.75309222837274,
          null,
          49.9084300342594,
          null,
          null,
          9.47382068413938,
          30.3849073796423,
          null,
          6.82671508787539,
          23.8225663973854,
          null,
          8.01232903488547,
          7.84295443597471,
          null,
          2.97594444266022,
          5.77318216244282,
          6.28991299918663,
          -20.8603561293651,
          23.739812291393,
          null,
          17.7430513642445,
          12.2477472947643,
          8.6005195711713,
          10.5836307030068,
          15.4888864078281,
          4.47650447770722,
          58.2443981066746,
          null,
          22.4491856838922,
          44.3800896723577,
          16.2490856973604,
          14.1537369836061,
          106.836676498035,
          3.74332973950307,
          3.9796893528447,
          7.47199039979414,
          41.7406571272428,
          null,
          null,
          42.0950981322182,
          -0.968104372346147,
          7.79028883481688,
          9.00643950307933,
          null,
          null,
          15.4454404639221,
          106.388920043291,
          -0.920431045366385
         ],
         "yaxis": "y"
        }
       ],
       "layout": {
        "barmode": "relative",
        "legend": {
         "tracegroupgap": 0
        },
        "template": {
         "data": {
          "bar": [
           {
            "error_x": {
             "color": "#2a3f5f"
            },
            "error_y": {
             "color": "#2a3f5f"
            },
            "marker": {
             "line": {
              "color": "#E5ECF6",
              "width": 0.5
             },
             "pattern": {
              "fillmode": "overlay",
              "size": 10,
              "solidity": 0.2
             }
            },
            "type": "bar"
           }
          ],
          "barpolar": [
           {
            "marker": {
             "line": {
              "color": "#E5ECF6",
              "width": 0.5
             },
             "pattern": {
              "fillmode": "overlay",
              "size": 10,
              "solidity": 0.2
             }
            },
            "type": "barpolar"
           }
          ],
          "carpet": [
           {
            "aaxis": {
             "endlinecolor": "#2a3f5f",
             "gridcolor": "white",
             "linecolor": "white",
             "minorgridcolor": "white",
             "startlinecolor": "#2a3f5f"
            },
            "baxis": {
             "endlinecolor": "#2a3f5f",
             "gridcolor": "white",
             "linecolor": "white",
             "minorgridcolor": "white",
             "startlinecolor": "#2a3f5f"
            },
            "type": "carpet"
           }
          ],
          "choropleth": [
           {
            "colorbar": {
             "outlinewidth": 0,
             "ticks": ""
            },
            "type": "choropleth"
           }
          ],
          "contour": [
           {
            "colorbar": {
             "outlinewidth": 0,
             "ticks": ""
            },
            "colorscale": [
             [
              0,
              "#0d0887"
             ],
             [
              0.1111111111111111,
              "#46039f"
             ],
             [
              0.2222222222222222,
              "#7201a8"
             ],
             [
              0.3333333333333333,
              "#9c179e"
             ],
             [
              0.4444444444444444,
              "#bd3786"
             ],
             [
              0.5555555555555556,
              "#d8576b"
             ],
             [
              0.6666666666666666,
              "#ed7953"
             ],
             [
              0.7777777777777778,
              "#fb9f3a"
             ],
             [
              0.8888888888888888,
              "#fdca26"
             ],
             [
              1,
              "#f0f921"
             ]
            ],
            "type": "contour"
           }
          ],
          "contourcarpet": [
           {
            "colorbar": {
             "outlinewidth": 0,
             "ticks": ""
            },
            "type": "contourcarpet"
           }
          ],
          "heatmap": [
           {
            "colorbar": {
             "outlinewidth": 0,
             "ticks": ""
            },
            "colorscale": [
             [
              0,
              "#0d0887"
             ],
             [
              0.1111111111111111,
              "#46039f"
             ],
             [
              0.2222222222222222,
              "#7201a8"
             ],
             [
              0.3333333333333333,
              "#9c179e"
             ],
             [
              0.4444444444444444,
              "#bd3786"
             ],
             [
              0.5555555555555556,
              "#d8576b"
             ],
             [
              0.6666666666666666,
              "#ed7953"
             ],
             [
              0.7777777777777778,
              "#fb9f3a"
             ],
             [
              0.8888888888888888,
              "#fdca26"
             ],
             [
              1,
              "#f0f921"
             ]
            ],
            "type": "heatmap"
           }
          ],
          "heatmapgl": [
           {
            "colorbar": {
             "outlinewidth": 0,
             "ticks": ""
            },
            "colorscale": [
             [
              0,
              "#0d0887"
             ],
             [
              0.1111111111111111,
              "#46039f"
             ],
             [
              0.2222222222222222,
              "#7201a8"
             ],
             [
              0.3333333333333333,
              "#9c179e"
             ],
             [
              0.4444444444444444,
              "#bd3786"
             ],
             [
              0.5555555555555556,
              "#d8576b"
             ],
             [
              0.6666666666666666,
              "#ed7953"
             ],
             [
              0.7777777777777778,
              "#fb9f3a"
             ],
             [
              0.8888888888888888,
              "#fdca26"
             ],
             [
              1,
              "#f0f921"
             ]
            ],
            "type": "heatmapgl"
           }
          ],
          "histogram": [
           {
            "marker": {
             "pattern": {
              "fillmode": "overlay",
              "size": 10,
              "solidity": 0.2
             }
            },
            "type": "histogram"
           }
          ],
          "histogram2d": [
           {
            "colorbar": {
             "outlinewidth": 0,
             "ticks": ""
            },
            "colorscale": [
             [
              0,
              "#0d0887"
             ],
             [
              0.1111111111111111,
              "#46039f"
             ],
             [
              0.2222222222222222,
              "#7201a8"
             ],
             [
              0.3333333333333333,
              "#9c179e"
             ],
             [
              0.4444444444444444,
              "#bd3786"
             ],
             [
              0.5555555555555556,
              "#d8576b"
             ],
             [
              0.6666666666666666,
              "#ed7953"
             ],
             [
              0.7777777777777778,
              "#fb9f3a"
             ],
             [
              0.8888888888888888,
              "#fdca26"
             ],
             [
              1,
              "#f0f921"
             ]
            ],
            "type": "histogram2d"
           }
          ],
          "histogram2dcontour": [
           {
            "colorbar": {
             "outlinewidth": 0,
             "ticks": ""
            },
            "colorscale": [
             [
              0,
              "#0d0887"
             ],
             [
              0.1111111111111111,
              "#46039f"
             ],
             [
              0.2222222222222222,
              "#7201a8"
             ],
             [
              0.3333333333333333,
              "#9c179e"
             ],
             [
              0.4444444444444444,
              "#bd3786"
             ],
             [
              0.5555555555555556,
              "#d8576b"
             ],
             [
              0.6666666666666666,
              "#ed7953"
             ],
             [
              0.7777777777777778,
              "#fb9f3a"
             ],
             [
              0.8888888888888888,
              "#fdca26"
             ],
             [
              1,
              "#f0f921"
             ]
            ],
            "type": "histogram2dcontour"
           }
          ],
          "mesh3d": [
           {
            "colorbar": {
             "outlinewidth": 0,
             "ticks": ""
            },
            "type": "mesh3d"
           }
          ],
          "parcoords": [
           {
            "line": {
             "colorbar": {
              "outlinewidth": 0,
              "ticks": ""
             }
            },
            "type": "parcoords"
           }
          ],
          "pie": [
           {
            "automargin": true,
            "type": "pie"
           }
          ],
          "scatter": [
           {
            "marker": {
             "colorbar": {
              "outlinewidth": 0,
              "ticks": ""
             }
            },
            "type": "scatter"
           }
          ],
          "scatter3d": [
           {
            "line": {
             "colorbar": {
              "outlinewidth": 0,
              "ticks": ""
             }
            },
            "marker": {
             "colorbar": {
              "outlinewidth": 0,
              "ticks": ""
             }
            },
            "type": "scatter3d"
           }
          ],
          "scattercarpet": [
           {
            "marker": {
             "colorbar": {
              "outlinewidth": 0,
              "ticks": ""
             }
            },
            "type": "scattercarpet"
           }
          ],
          "scattergeo": [
           {
            "marker": {
             "colorbar": {
              "outlinewidth": 0,
              "ticks": ""
             }
            },
            "type": "scattergeo"
           }
          ],
          "scattergl": [
           {
            "marker": {
             "colorbar": {
              "outlinewidth": 0,
              "ticks": ""
             }
            },
            "type": "scattergl"
           }
          ],
          "scattermapbox": [
           {
            "marker": {
             "colorbar": {
              "outlinewidth": 0,
              "ticks": ""
             }
            },
            "type": "scattermapbox"
           }
          ],
          "scatterpolar": [
           {
            "marker": {
             "colorbar": {
              "outlinewidth": 0,
              "ticks": ""
             }
            },
            "type": "scatterpolar"
           }
          ],
          "scatterpolargl": [
           {
            "marker": {
             "colorbar": {
              "outlinewidth": 0,
              "ticks": ""
             }
            },
            "type": "scatterpolargl"
           }
          ],
          "scatterternary": [
           {
            "marker": {
             "colorbar": {
              "outlinewidth": 0,
              "ticks": ""
             }
            },
            "type": "scatterternary"
           }
          ],
          "surface": [
           {
            "colorbar": {
             "outlinewidth": 0,
             "ticks": ""
            },
            "colorscale": [
             [
              0,
              "#0d0887"
             ],
             [
              0.1111111111111111,
              "#46039f"
             ],
             [
              0.2222222222222222,
              "#7201a8"
             ],
             [
              0.3333333333333333,
              "#9c179e"
             ],
             [
              0.4444444444444444,
              "#bd3786"
             ],
             [
              0.5555555555555556,
              "#d8576b"
             ],
             [
              0.6666666666666666,
              "#ed7953"
             ],
             [
              0.7777777777777778,
              "#fb9f3a"
             ],
             [
              0.8888888888888888,
              "#fdca26"
             ],
             [
              1,
              "#f0f921"
             ]
            ],
            "type": "surface"
           }
          ],
          "table": [
           {
            "cells": {
             "fill": {
              "color": "#EBF0F8"
             },
             "line": {
              "color": "white"
             }
            },
            "header": {
             "fill": {
              "color": "#C8D4E3"
             },
             "line": {
              "color": "white"
             }
            },
            "type": "table"
           }
          ]
         },
         "layout": {
          "annotationdefaults": {
           "arrowcolor": "#2a3f5f",
           "arrowhead": 0,
           "arrowwidth": 1
          },
          "autotypenumbers": "strict",
          "coloraxis": {
           "colorbar": {
            "outlinewidth": 0,
            "ticks": ""
           }
          },
          "colorscale": {
           "diverging": [
            [
             0,
             "#8e0152"
            ],
            [
             0.1,
             "#c51b7d"
            ],
            [
             0.2,
             "#de77ae"
            ],
            [
             0.3,
             "#f1b6da"
            ],
            [
             0.4,
             "#fde0ef"
            ],
            [
             0.5,
             "#f7f7f7"
            ],
            [
             0.6,
             "#e6f5d0"
            ],
            [
             0.7,
             "#b8e186"
            ],
            [
             0.8,
             "#7fbc41"
            ],
            [
             0.9,
             "#4d9221"
            ],
            [
             1,
             "#276419"
            ]
           ],
           "sequential": [
            [
             0,
             "#0d0887"
            ],
            [
             0.1111111111111111,
             "#46039f"
            ],
            [
             0.2222222222222222,
             "#7201a8"
            ],
            [
             0.3333333333333333,
             "#9c179e"
            ],
            [
             0.4444444444444444,
             "#bd3786"
            ],
            [
             0.5555555555555556,
             "#d8576b"
            ],
            [
             0.6666666666666666,
             "#ed7953"
            ],
            [
             0.7777777777777778,
             "#fb9f3a"
            ],
            [
             0.8888888888888888,
             "#fdca26"
            ],
            [
             1,
             "#f0f921"
            ]
           ],
           "sequentialminus": [
            [
             0,
             "#0d0887"
            ],
            [
             0.1111111111111111,
             "#46039f"
            ],
            [
             0.2222222222222222,
             "#7201a8"
            ],
            [
             0.3333333333333333,
             "#9c179e"
            ],
            [
             0.4444444444444444,
             "#bd3786"
            ],
            [
             0.5555555555555556,
             "#d8576b"
            ],
            [
             0.6666666666666666,
             "#ed7953"
            ],
            [
             0.7777777777777778,
             "#fb9f3a"
            ],
            [
             0.8888888888888888,
             "#fdca26"
            ],
            [
             1,
             "#f0f921"
            ]
           ]
          },
          "colorway": [
           "#636efa",
           "#EF553B",
           "#00cc96",
           "#ab63fa",
           "#FFA15A",
           "#19d3f3",
           "#FF6692",
           "#B6E880",
           "#FF97FF",
           "#FECB52"
          ],
          "font": {
           "color": "#2a3f5f"
          },
          "geo": {
           "bgcolor": "white",
           "lakecolor": "white",
           "landcolor": "#E5ECF6",
           "showlakes": true,
           "showland": true,
           "subunitcolor": "white"
          },
          "hoverlabel": {
           "align": "left"
          },
          "hovermode": "closest",
          "mapbox": {
           "style": "light"
          },
          "paper_bgcolor": "white",
          "plot_bgcolor": "#E5ECF6",
          "polar": {
           "angularaxis": {
            "gridcolor": "white",
            "linecolor": "white",
            "ticks": ""
           },
           "bgcolor": "#E5ECF6",
           "radialaxis": {
            "gridcolor": "white",
            "linecolor": "white",
            "ticks": ""
           }
          },
          "scene": {
           "xaxis": {
            "backgroundcolor": "#E5ECF6",
            "gridcolor": "white",
            "gridwidth": 2,
            "linecolor": "white",
            "showbackground": true,
            "ticks": "",
            "zerolinecolor": "white"
           },
           "yaxis": {
            "backgroundcolor": "#E5ECF6",
            "gridcolor": "white",
            "gridwidth": 2,
            "linecolor": "white",
            "showbackground": true,
            "ticks": "",
            "zerolinecolor": "white"
           },
           "zaxis": {
            "backgroundcolor": "#E5ECF6",
            "gridcolor": "white",
            "gridwidth": 2,
            "linecolor": "white",
            "showbackground": true,
            "ticks": "",
            "zerolinecolor": "white"
           }
          },
          "shapedefaults": {
           "line": {
            "color": "#2a3f5f"
           }
          },
          "ternary": {
           "aaxis": {
            "gridcolor": "white",
            "linecolor": "white",
            "ticks": ""
           },
           "baxis": {
            "gridcolor": "white",
            "linecolor": "white",
            "ticks": ""
           },
           "bgcolor": "#E5ECF6",
           "caxis": {
            "gridcolor": "white",
            "linecolor": "white",
            "ticks": ""
           }
          },
          "title": {
           "x": 0.05
          },
          "xaxis": {
           "automargin": true,
           "gridcolor": "white",
           "linecolor": "white",
           "ticks": "",
           "title": {
            "standoff": 15
           },
           "zerolinecolor": "white",
           "zerolinewidth": 2
          },
          "yaxis": {
           "automargin": true,
           "gridcolor": "white",
           "linecolor": "white",
           "ticks": "",
           "title": {
            "standoff": 15
           },
           "zerolinecolor": "white",
           "zerolinewidth": 2
          }
         }
        },
        "title": {
         "text": "Inflation, GDP deflation rate (annual %)"
        },
        "xaxis": {
         "anchor": "y",
         "domain": [
          0,
          1
         ],
         "title": {
          "text": "Country Name"
         }
        },
        "yaxis": {
         "anchor": "x",
         "domain": [
          0,
          1
         ],
         "title": {
          "text": "Inflation, GDP deflation rate (annual %)"
         }
        }
       }
      },
      "text/html": [
       "<div>                            <div id=\"8a82d370-bbf2-493c-b425-f110f823127c\" class=\"plotly-graph-div\" style=\"height:525px; width:100%;\"></div>            <script type=\"text/javascript\">                require([\"plotly\"], function(Plotly) {                    window.PLOTLYENV=window.PLOTLYENV || {};                                    if (document.getElementById(\"8a82d370-bbf2-493c-b425-f110f823127c\")) {                    Plotly.newPlot(                        \"8a82d370-bbf2-493c-b425-f110f823127c\",                        [{\"alignmentgroup\":\"True\",\"hovertemplate\":\"Country Name=%{x}<br>Inflation, GDP deflation rate (annual %)=%{y}<extra></extra>\",\"legendgroup\":\"\",\"marker\":{\"color\":\"#636efa\",\"pattern\":{\"shape\":\"\"}},\"name\":\"\",\"offsetgroup\":\"\",\"orientation\":\"v\",\"showlegend\":false,\"textposition\":\"auto\",\"x\":[\"Aruba\",\"Afganist\\u00e1n\",\"Angola\",\"Albania\",\"Andorra\",\"El mundo \\u00e1rabe\",\"Emiratos \\u00c1rabes Unidos\",\"Argentina\",\"Armenia\",\"Samoa Americana\",\"Antigua y Barbuda\",\"Australia\",\"Austria\",\"Azerbaiy\\u00e1n\",\"Burundi\",\"B\\u00e9lgica\",\"Benin\",\"Burkina Faso\",\"Bangladesh\",\"Bulgaria\",\"Bahrein\",\"Bahamas\",\"Bosnia y Herzegovina\",\"Belar\\u00fas\",\"Belice\",\"Bermudas\",\"Bolivia\",\"Brasil\",\"Barbados\",\"Brunei Darussalam\",\"Bhut\\u00e1n\",\"Botswana\",\"Rep\\u00fablica Centroafricana\",\"Canad\\u00e1\",\"Europa Central y del B\\u00e1ltico\",\"Suiza\",\"Islas del Canal\",\"Chile\",\"China\",\"C\\u00f4te d'Ivoire\",\"Camer\\u00fan\",\"Congo, Rep\\u00fablica Democr\\u00e1tica del\",\"Congo, Rep\\u00fablica del\",\"Colombia\",\"Comoras\",\"Cabo Verde\",\"Costa Rica\",\"Estados pequeos del Caribe\",\"Cuba\",\"Curacao\",\"Islas Caim\\u00e1n\",\"Chipre\",\"Rep\\u00fablica Checa\",\"Alemania\",\"Djibouti\",\"Dominica\",\"Dinamarca\",\"Rep\\u00fablica Dominicana\",\"Argelia\",\"Asia oriental y el Pac\\u00edfico (excluido altos ingresos)\",\"inicial del dividendo demogr\\u00e1fico\",\"Asia oriental y el Pac\\u00edfico\",\"Europa y Asia central (excluido altos ingresos)\",\"Europa y Asia central\",\"Ecuador\",\"Egipto, Rep\\u00fablica \\u00c1rabe de\",\"Zona del Euro\",\"Eritrea\",\"Espa\\u00f1a\",\"Estonia\",\"Etiop\\u00eda\",\"Uni\\u00f3n Europea\",\"Fr\\u00e1giles y situaciones de conflicto afectados\",\"Finlandia\",\"Fiji\",\"Francia\",\"Islas Feroe\",\"Micronesia (Estados Federados de)\",\"Gab\\u00f3n\",\"Reino Unido\",\"Georgia\",\"Ghana\",\"Gibraltar\",\"Guinea\",\"Gambia\",\"Guinea-Bissau\",\"Guinea Ecuatorial\",\"Grecia\",\"Granada\",\"Groenlandia\",\"Guatemala\",\"Guam\",\"Guyana\",\"Ingreso alto\",\"Hong Kong, Regi\\u00f3n Administrativa Especial\",\"Honduras\",\"Pa\\u00edses pobres muy endeudados (PPME)\",\"Croacia\",\"Hait\\u00ed\",\"Hungr\\u00eda\",\"S\\u00f3lo BIRF\",\"BIRF y la AIF\",\"total de la AIF\",\"mezcla de la AIF\",\"Indonesia\",\"S\\u00f3lo AIF\",\"Isla de Man\",\"India\",\"No clasificado\",\"Irlanda\",\"Ir\\u00e1n, Rep\\u00fablica Isl\\u00e1mica del\",\"Iraq\",\"Islandia\",\"Israel\",\"Italia\",\"Jamaica\",\"Jordania\",\"Jap\\u00f3n\",\"Kazajst\\u00e1n\",\"Kenya\",\"Kirguist\\u00e1n\",\"Camboya\",\"Kiribati\",\"Saint Kitts y Nevis\",\"Corea, Rep\\u00fablica de\",\"Kuwait\",\"Am\\u00e9rica Latina y el Caribe (excluido altos ingresos)\",\"Rep\\u00fablica Democr\\u00e1tica Popular Lao\",\"L\\u00edbano\",\"Liberia\",\"Libia\",\"Santa Luc\\u00eda\",\"Am\\u00e9rica Latina y el Caribe\",\"Pa\\u00edses menos desarrollados: clasificaci\\u00f3n de las Naciones Unidas\",\"Pa\\u00edses de ingreso bajo\",\"Liechtenstein\",\"Sri Lanka\",\"Pa\\u00edses de ingreso mediano bajo\",\"Ingreso mediano y bajo\",\"Lesotho\",\"avanzada del dividendo demogr\\u00e1fico\",\"Lituania\",\"Luxemburgo\",\"Letonia\",\"Regi\\u00f3n Administrativa Especial de Macao, China\",\"Isla de San Mart\\u00edn (parte francesa)\",\"Marruecos\",\"M\\u00f3naco\",\"Rep\\u00fablica de Moldova\",\"Madagascar\",\"Maldivas\",\"Oriente Medio y Norte de \\u00c1frica\",\"M\\u00e9xico\",\"Islas Marshall\",\" Ingreso mediano\",\"Macedonia del Norte\",\"Mal\\u00ed\",\"Malta\",\"Myanmar\",\"Oriente Medio y Norte de \\u00c1frica (excluido altos ingresos)\",\"Montenegro\",\"Mongolia\",\"Mariana\",\"Mozambique\",\"Mauritania\",\"Mauricio\",\"Malawi\",\"Malasia\",\"Am\\u00e9rica del Norte\",\"Namibia\",\"Nueva Caledonia\",\"N\\u00edger\",\"Nigeria\",\"Nicaragua\",\"Pa\\u00edses Bajos\",\"Noruega\",\"Nepal\",\"Nauru\",\"Nueva Zelandia\",\"Miembros OCDE\",\"Om\\u00e1n\",\"Otros Estados pequeos\",\"Pakist\\u00e1n\",\"Panam\\u00e1\",\"Per\\u00fa\",\"Filipinas\",\"Palau\",\"Papua Nueva Guinea\",\"Polonia\",\"previa al dividendo demogr\\u00e1fico\",\"Puerto Rico\",\"Corea, Rep\\u00fablica Popular Democr\\u00e1tica de\",\"Portugal\",\"Paraguay\",\"Ribera Occidental y Gaza\",\"Estados pequeos de las Islas del Pacfico\",\"posterior al dividendo demogr\\u00e1fico\",\"Polinesia Francesa\",\"Qatar\",\"Rumania\",\"Federaci\\u00f3n de Rusia\",\"Rwanda\",\"Asia meridional\",\"Arabia Saudita\",\"Sud\\u00e1n\",\"Senegal\",\"Singapur\",\"Islas Salom\\u00f3n\",\"Sierra Leona\",\"El Salvador\",\"San Marino\",\"Somalia\",\"Serbia\",\"\\u00c1frica al sur del Sahara (excluido altos ingresos)\",\"Sud\\u00e1n del Sur\",\"\\u00c1frica al sur del Sahara\",\"Peque\\u00f1os Estados\",\"Santo Tom\\u00e9 y Pr\\u00edncipe\",\"Suriname\",\"Rep\\u00fablica Eslovaca\",\"Eslovenia\",\"Suecia\",\"Eswatini\",\"Sint Maarten (Dutch part)\",\"Seychelles\",\"Rep\\u00fablica \\u00c1rabe Siria\",\"Islas Turcas y Caicos\",\"Chad\",\"Asia oriental y el Pac\\u00edfico (BIRF y la AIF)\",\"Europa y Asia central (BIRF y la AIF)\",\"Togo\",\"Tailandia\",\"Tayikist\\u00e1n\",\"Turkmenist\\u00e1n\",\"Am\\u00e9rica Latina y el Caribe (BIRF y la AIF)\",\"Timor-Leste\",\"Oriente Medio y Norte de \\u00c1frica (BIRF y la AIF)\",\"Tonga\",\"Asia meridional (BIRF y la AIF)\",\"\\u00c1frica al sur del Sahara (BIRF y la AIF)\",\"Trinidad y Tobago\",\"T\\u00fanez\",\"Turqu\\u00eda\",\"Tuvalu\",\"Tanzan\\u00eda\",\"Uganda\",\"Ucrania\",\"Ingreso mediano alto\",\"Uruguay\",\"Estados Unidos\",\"Uzbekist\\u00e1n\",\"San Vicente y las Granadinas\",\"Venezuela\",\"Islas V\\u00edrgenes Brit\\u00e1nicas\",\"Islas V\\u00edrgenes (EE.UU.)\",\"Viet Nam\",\"Vanuatu\",\"Mundo\",\"Samoa\",\"Kosovo\",\"Yemen, Rep. del\",\"Sud\\u00e1frica\",\"Zambia\",\"Zimbabwe\"],\"xaxis\":\"x\",\"y\":[5.76986990463084,null,14.0074398272592,-0.431368812605911,7.32624365834135,14.8277926846047,3.33590049399268,2078.31681806978,null,null,1.65047989818146,6.10235276739392,2.99968060930622,null,5.98556154520156,2.81240371323102,2.17659692554506,1.81001541960049,6.53273529225511,26.188000659147,4.82669556670415,5.0737110468759,null,null,0.17286616677363,6.03357230876908,16.2679419846371,2736.97067768831,3.72830835473781,8.40996376629131,6.20535307307148,6.30001828407151,1.83664510564687,null,null,4.60362130952548,null,22.4709370974082,5.71122416868448,-4.52327354283084,1.64309843091495,108.955307114497,-1.02906827090958,52.3361031682038,2.17591230027585,2.34531032204426,18.547900299178,7.47199039979414,5.26127457206044,null,null,5.43312495060673,null,3.39664344990661,null,3.20835532688079,2.60244721924072,50.4592630804603,30.25959853752,7.84295443597471,11.9957500830468,6.10235276739392,11.9393050370707,5.40244442726828,5.81362920255557,17.7430513642445,3.27384664392878,null,7.32625110287677,null,3.27137460830546,3.39664344990661,7.60211265142119,5.19540242701977,6.67946936887009,2.65716286284953,null,4.94965000222929,15.3581413902885,7.88621804738521,22.2444524450987,31.1665867346186,null,17.2791811684893,11.9645333920464,30.2460376878574,10.3525268440096,20.6905995833877,0.0159321171846898,5.0925849637982,40.5312590935109,null,56.4446095646669,5.16335208812279,7.56480249059017,25.0086874853778,11.9801417375466,null,11.9957500830468,null,15.9029112575078,11.9116195809889,7.97569881663351,4.05896046967128,9.11205705320339,11.8587057699314,9.04935975497641,10.6683038500875,null,-0.729184701569451,22.7971969560272,73.6453910407236,null,null,8.91406346285557,25.1171058836009,14.1537369836061,2.65598494650376,null,10.6371987367347,7.97569881663351,null,-1.06275303643724,7.60302634203465,10.0874657380898,null,25.0628966844893,37.907380761807,15.5018483856034,null,null,8.38221708688111,16.2679419846371,11.9645333920464,13.4614689148492,5.40244442726828,20.0632752884551,9.11205705320339,11.8587057699314,11.9939039078828,8.39609042658621,null,2.51339456630137,null,10.9434259541124,null,7.69435962224856,2.64056122708294,null,11.8587057699314,null,14.8277926846047,28.1963805273913,4.98987695588573,10.6527512934111,null,7.60211265142119,3.15104983795096,33.3466499705522,17.7430513642445,null,23.2429253085626,null,null,2.64247754881106,10.5836307030068,10.6608342841167,3.80781497630849,4.88845102413607,6.38836082654544,-4.63560393144327,39.3599542768174,6.66894186986168,5016.10794966852,1.55975130923443,3.81144938967506,10.7158851533008,null,2.42376458070979,5.19540242701977,24.8409243752035,6.82671508787539,6.45199916791344,0.565205375241561,6261.2395586103,12.956838354491,null,4.13823158649787,null,10.6371987367347,11.8512386196171,null,13.1446522349531,36.607531327035,null,5.83467316237791,4.65052230749503,0.764363963567092,null,null,15.9029112575078,13.4614689148492,8.6005195711713,7.10171639369696,66.2355883520295,-0.166872375317354,4.69742330546458,34.1069390657287,70.5915492458485,5.10572833645764,null,215.466800659658,null,10.6104147198707,null,10.5836307030068,6.75309222837274,null,49.9084300342594,null,null,9.47382068413938,30.3849073796423,null,6.82671508787539,23.8225663973854,null,8.01232903488547,7.84295443597471,null,2.97594444266022,5.77318216244282,6.28991299918663,-20.8603561293651,23.739812291393,null,17.7430513642445,12.2477472947643,8.6005195711713,10.5836307030068,15.4888864078281,4.47650447770722,58.2443981066746,null,22.4491856838922,44.3800896723577,16.2490856973604,14.1537369836061,106.836676498035,3.74332973950307,3.9796893528447,7.47199039979414,41.7406571272428,null,null,42.0950981322182,-0.968104372346147,7.79028883481688,9.00643950307933,null,null,15.4454404639221,106.388920043291,-0.920431045366385],\"yaxis\":\"y\",\"type\":\"bar\"}],                        {\"template\":{\"data\":{\"bar\":[{\"error_x\":{\"color\":\"#2a3f5f\"},\"error_y\":{\"color\":\"#2a3f5f\"},\"marker\":{\"line\":{\"color\":\"#E5ECF6\",\"width\":0.5},\"pattern\":{\"fillmode\":\"overlay\",\"size\":10,\"solidity\":0.2}},\"type\":\"bar\"}],\"barpolar\":[{\"marker\":{\"line\":{\"color\":\"#E5ECF6\",\"width\":0.5},\"pattern\":{\"fillmode\":\"overlay\",\"size\":10,\"solidity\":0.2}},\"type\":\"barpolar\"}],\"carpet\":[{\"aaxis\":{\"endlinecolor\":\"#2a3f5f\",\"gridcolor\":\"white\",\"linecolor\":\"white\",\"minorgridcolor\":\"white\",\"startlinecolor\":\"#2a3f5f\"},\"baxis\":{\"endlinecolor\":\"#2a3f5f\",\"gridcolor\":\"white\",\"linecolor\":\"white\",\"minorgridcolor\":\"white\",\"startlinecolor\":\"#2a3f5f\"},\"type\":\"carpet\"}],\"choropleth\":[{\"colorbar\":{\"outlinewidth\":0,\"ticks\":\"\"},\"type\":\"choropleth\"}],\"contour\":[{\"colorbar\":{\"outlinewidth\":0,\"ticks\":\"\"},\"colorscale\":[[0.0,\"#0d0887\"],[0.1111111111111111,\"#46039f\"],[0.2222222222222222,\"#7201a8\"],[0.3333333333333333,\"#9c179e\"],[0.4444444444444444,\"#bd3786\"],[0.5555555555555556,\"#d8576b\"],[0.6666666666666666,\"#ed7953\"],[0.7777777777777778,\"#fb9f3a\"],[0.8888888888888888,\"#fdca26\"],[1.0,\"#f0f921\"]],\"type\":\"contour\"}],\"contourcarpet\":[{\"colorbar\":{\"outlinewidth\":0,\"ticks\":\"\"},\"type\":\"contourcarpet\"}],\"heatmap\":[{\"colorbar\":{\"outlinewidth\":0,\"ticks\":\"\"},\"colorscale\":[[0.0,\"#0d0887\"],[0.1111111111111111,\"#46039f\"],[0.2222222222222222,\"#7201a8\"],[0.3333333333333333,\"#9c179e\"],[0.4444444444444444,\"#bd3786\"],[0.5555555555555556,\"#d8576b\"],[0.6666666666666666,\"#ed7953\"],[0.7777777777777778,\"#fb9f3a\"],[0.8888888888888888,\"#fdca26\"],[1.0,\"#f0f921\"]],\"type\":\"heatmap\"}],\"heatmapgl\":[{\"colorbar\":{\"outlinewidth\":0,\"ticks\":\"\"},\"colorscale\":[[0.0,\"#0d0887\"],[0.1111111111111111,\"#46039f\"],[0.2222222222222222,\"#7201a8\"],[0.3333333333333333,\"#9c179e\"],[0.4444444444444444,\"#bd3786\"],[0.5555555555555556,\"#d8576b\"],[0.6666666666666666,\"#ed7953\"],[0.7777777777777778,\"#fb9f3a\"],[0.8888888888888888,\"#fdca26\"],[1.0,\"#f0f921\"]],\"type\":\"heatmapgl\"}],\"histogram\":[{\"marker\":{\"pattern\":{\"fillmode\":\"overlay\",\"size\":10,\"solidity\":0.2}},\"type\":\"histogram\"}],\"histogram2d\":[{\"colorbar\":{\"outlinewidth\":0,\"ticks\":\"\"},\"colorscale\":[[0.0,\"#0d0887\"],[0.1111111111111111,\"#46039f\"],[0.2222222222222222,\"#7201a8\"],[0.3333333333333333,\"#9c179e\"],[0.4444444444444444,\"#bd3786\"],[0.5555555555555556,\"#d8576b\"],[0.6666666666666666,\"#ed7953\"],[0.7777777777777778,\"#fb9f3a\"],[0.8888888888888888,\"#fdca26\"],[1.0,\"#f0f921\"]],\"type\":\"histogram2d\"}],\"histogram2dcontour\":[{\"colorbar\":{\"outlinewidth\":0,\"ticks\":\"\"},\"colorscale\":[[0.0,\"#0d0887\"],[0.1111111111111111,\"#46039f\"],[0.2222222222222222,\"#7201a8\"],[0.3333333333333333,\"#9c179e\"],[0.4444444444444444,\"#bd3786\"],[0.5555555555555556,\"#d8576b\"],[0.6666666666666666,\"#ed7953\"],[0.7777777777777778,\"#fb9f3a\"],[0.8888888888888888,\"#fdca26\"],[1.0,\"#f0f921\"]],\"type\":\"histogram2dcontour\"}],\"mesh3d\":[{\"colorbar\":{\"outlinewidth\":0,\"ticks\":\"\"},\"type\":\"mesh3d\"}],\"parcoords\":[{\"line\":{\"colorbar\":{\"outlinewidth\":0,\"ticks\":\"\"}},\"type\":\"parcoords\"}],\"pie\":[{\"automargin\":true,\"type\":\"pie\"}],\"scatter\":[{\"marker\":{\"colorbar\":{\"outlinewidth\":0,\"ticks\":\"\"}},\"type\":\"scatter\"}],\"scatter3d\":[{\"line\":{\"colorbar\":{\"outlinewidth\":0,\"ticks\":\"\"}},\"marker\":{\"colorbar\":{\"outlinewidth\":0,\"ticks\":\"\"}},\"type\":\"scatter3d\"}],\"scattercarpet\":[{\"marker\":{\"colorbar\":{\"outlinewidth\":0,\"ticks\":\"\"}},\"type\":\"scattercarpet\"}],\"scattergeo\":[{\"marker\":{\"colorbar\":{\"outlinewidth\":0,\"ticks\":\"\"}},\"type\":\"scattergeo\"}],\"scattergl\":[{\"marker\":{\"colorbar\":{\"outlinewidth\":0,\"ticks\":\"\"}},\"type\":\"scattergl\"}],\"scattermapbox\":[{\"marker\":{\"colorbar\":{\"outlinewidth\":0,\"ticks\":\"\"}},\"type\":\"scattermapbox\"}],\"scatterpolar\":[{\"marker\":{\"colorbar\":{\"outlinewidth\":0,\"ticks\":\"\"}},\"type\":\"scatterpolar\"}],\"scatterpolargl\":[{\"marker\":{\"colorbar\":{\"outlinewidth\":0,\"ticks\":\"\"}},\"type\":\"scatterpolargl\"}],\"scatterternary\":[{\"marker\":{\"colorbar\":{\"outlinewidth\":0,\"ticks\":\"\"}},\"type\":\"scatterternary\"}],\"surface\":[{\"colorbar\":{\"outlinewidth\":0,\"ticks\":\"\"},\"colorscale\":[[0.0,\"#0d0887\"],[0.1111111111111111,\"#46039f\"],[0.2222222222222222,\"#7201a8\"],[0.3333333333333333,\"#9c179e\"],[0.4444444444444444,\"#bd3786\"],[0.5555555555555556,\"#d8576b\"],[0.6666666666666666,\"#ed7953\"],[0.7777777777777778,\"#fb9f3a\"],[0.8888888888888888,\"#fdca26\"],[1.0,\"#f0f921\"]],\"type\":\"surface\"}],\"table\":[{\"cells\":{\"fill\":{\"color\":\"#EBF0F8\"},\"line\":{\"color\":\"white\"}},\"header\":{\"fill\":{\"color\":\"#C8D4E3\"},\"line\":{\"color\":\"white\"}},\"type\":\"table\"}]},\"layout\":{\"annotationdefaults\":{\"arrowcolor\":\"#2a3f5f\",\"arrowhead\":0,\"arrowwidth\":1},\"autotypenumbers\":\"strict\",\"coloraxis\":{\"colorbar\":{\"outlinewidth\":0,\"ticks\":\"\"}},\"colorscale\":{\"diverging\":[[0,\"#8e0152\"],[0.1,\"#c51b7d\"],[0.2,\"#de77ae\"],[0.3,\"#f1b6da\"],[0.4,\"#fde0ef\"],[0.5,\"#f7f7f7\"],[0.6,\"#e6f5d0\"],[0.7,\"#b8e186\"],[0.8,\"#7fbc41\"],[0.9,\"#4d9221\"],[1,\"#276419\"]],\"sequential\":[[0.0,\"#0d0887\"],[0.1111111111111111,\"#46039f\"],[0.2222222222222222,\"#7201a8\"],[0.3333333333333333,\"#9c179e\"],[0.4444444444444444,\"#bd3786\"],[0.5555555555555556,\"#d8576b\"],[0.6666666666666666,\"#ed7953\"],[0.7777777777777778,\"#fb9f3a\"],[0.8888888888888888,\"#fdca26\"],[1.0,\"#f0f921\"]],\"sequentialminus\":[[0.0,\"#0d0887\"],[0.1111111111111111,\"#46039f\"],[0.2222222222222222,\"#7201a8\"],[0.3333333333333333,\"#9c179e\"],[0.4444444444444444,\"#bd3786\"],[0.5555555555555556,\"#d8576b\"],[0.6666666666666666,\"#ed7953\"],[0.7777777777777778,\"#fb9f3a\"],[0.8888888888888888,\"#fdca26\"],[1.0,\"#f0f921\"]]},\"colorway\":[\"#636efa\",\"#EF553B\",\"#00cc96\",\"#ab63fa\",\"#FFA15A\",\"#19d3f3\",\"#FF6692\",\"#B6E880\",\"#FF97FF\",\"#FECB52\"],\"font\":{\"color\":\"#2a3f5f\"},\"geo\":{\"bgcolor\":\"white\",\"lakecolor\":\"white\",\"landcolor\":\"#E5ECF6\",\"showlakes\":true,\"showland\":true,\"subunitcolor\":\"white\"},\"hoverlabel\":{\"align\":\"left\"},\"hovermode\":\"closest\",\"mapbox\":{\"style\":\"light\"},\"paper_bgcolor\":\"white\",\"plot_bgcolor\":\"#E5ECF6\",\"polar\":{\"angularaxis\":{\"gridcolor\":\"white\",\"linecolor\":\"white\",\"ticks\":\"\"},\"bgcolor\":\"#E5ECF6\",\"radialaxis\":{\"gridcolor\":\"white\",\"linecolor\":\"white\",\"ticks\":\"\"}},\"scene\":{\"xaxis\":{\"backgroundcolor\":\"#E5ECF6\",\"gridcolor\":\"white\",\"gridwidth\":2,\"linecolor\":\"white\",\"showbackground\":true,\"ticks\":\"\",\"zerolinecolor\":\"white\"},\"yaxis\":{\"backgroundcolor\":\"#E5ECF6\",\"gridcolor\":\"white\",\"gridwidth\":2,\"linecolor\":\"white\",\"showbackground\":true,\"ticks\":\"\",\"zerolinecolor\":\"white\"},\"zaxis\":{\"backgroundcolor\":\"#E5ECF6\",\"gridcolor\":\"white\",\"gridwidth\":2,\"linecolor\":\"white\",\"showbackground\":true,\"ticks\":\"\",\"zerolinecolor\":\"white\"}},\"shapedefaults\":{\"line\":{\"color\":\"#2a3f5f\"}},\"ternary\":{\"aaxis\":{\"gridcolor\":\"white\",\"linecolor\":\"white\",\"ticks\":\"\"},\"baxis\":{\"gridcolor\":\"white\",\"linecolor\":\"white\",\"ticks\":\"\"},\"bgcolor\":\"#E5ECF6\",\"caxis\":{\"gridcolor\":\"white\",\"linecolor\":\"white\",\"ticks\":\"\"}},\"title\":{\"x\":0.05},\"xaxis\":{\"automargin\":true,\"gridcolor\":\"white\",\"linecolor\":\"white\",\"ticks\":\"\",\"title\":{\"standoff\":15},\"zerolinecolor\":\"white\",\"zerolinewidth\":2},\"yaxis\":{\"automargin\":true,\"gridcolor\":\"white\",\"linecolor\":\"white\",\"ticks\":\"\",\"title\":{\"standoff\":15},\"zerolinecolor\":\"white\",\"zerolinewidth\":2}}},\"xaxis\":{\"anchor\":\"y\",\"domain\":[0.0,1.0],\"title\":{\"text\":\"Country Name\"}},\"yaxis\":{\"anchor\":\"x\",\"domain\":[0.0,1.0],\"title\":{\"text\":\"Inflation, GDP deflation rate (annual %)\"}},\"legend\":{\"tracegroupgap\":0},\"title\":{\"text\":\"Inflation, GDP deflation rate (annual %)\"},\"barmode\":\"relative\"},                        {\"responsive\": true}                    ).then(function(){\n",
       "                            \n",
       "var gd = document.getElementById('8a82d370-bbf2-493c-b425-f110f823127c');\n",
       "var x = new MutationObserver(function (mutations, observer) {{\n",
       "        var display = window.getComputedStyle(gd).display;\n",
       "        if (!display || display === 'none') {{\n",
       "            console.log([gd, 'removed!']);\n",
       "            Plotly.purge(gd);\n",
       "            observer.disconnect();\n",
       "        }}\n",
       "}});\n",
       "\n",
       "// Listen for the removal of the full notebook cells\n",
       "var notebookContainer = gd.closest('#notebook-container');\n",
       "if (notebookContainer) {{\n",
       "    x.observe(notebookContainer, {childList: true});\n",
       "}}\n",
       "\n",
       "// Listen for the clearing of the current output cell\n",
       "var outputEl = gd.closest('.output');\n",
       "if (outputEl) {{\n",
       "    x.observe(outputEl, {childList: true});\n",
       "}}\n",
       "\n",
       "                        })                };                });            </script>        </div>"
      ]
     },
     "metadata": {},
     "output_type": "display_data"
    }
   ],
   "source": [
    "import plotly.express as px\n",
    "fig = px.bar(inflation_1990, x=\"Country Name\", y=\"Inflation, GDP deflation rate (annual %)\", title='Inflation, GDP deflation rate (annual %)')\n",
    "fig.show()"
   ]
  },
  {
   "cell_type": "code",
   "execution_count": 28,
   "id": "14d5c1ea-1635-4360-873a-a29e32b1a76c",
   "metadata": {},
   "outputs": [],
   "source": [
    "inflation_df_c.to_csv('../csv/inflation.csv')"
   ]
  },
  {
   "cell_type": "code",
   "execution_count": null,
   "id": "ea940fd2",
   "metadata": {},
   "outputs": [],
   "source": []
  }
 ],
 "metadata": {
  "kernelspec": {
   "display_name": "mlenv",
   "language": "python",
   "name": "mlenv"
  },
  "language_info": {
   "codemirror_mode": {
    "name": "ipython",
    "version": 3
   },
   "file_extension": ".py",
   "mimetype": "text/x-python",
   "name": "python",
   "nbconvert_exporter": "python",
   "pygments_lexer": "ipython3",
   "version": "3.7.13"
  }
 },
 "nbformat": 4,
 "nbformat_minor": 5
}
